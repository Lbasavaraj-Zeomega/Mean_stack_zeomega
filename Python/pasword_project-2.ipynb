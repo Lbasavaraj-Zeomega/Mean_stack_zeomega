{
 "cells": [
  {
   "cell_type": "code",
   "execution_count": 1,
   "metadata": {},
   "outputs": [
    {
     "name": "stdout",
     "output_type": "stream",
     "text": [
      "True\n",
      "basu12\n",
      "2\n",
      "{'Basavaraj': 'basu12', 'laxmi': 'laxmipatil'}\n",
      "password changed successfully\n",
      "{'Basavaraj': 'basavaraj@12', 'laxmi': 'laxmipatil'}\n",
      "basavaraj@12\n"
     ]
    }
   ],
   "source": [
    "class Basepassword :\n",
    "    dict={}\n",
    "    l=[]\n",
    "\n",
    "    def __init__(self,user,password):\n",
    "        self.user=user\n",
    "        self.password=password\n",
    "        Basepassword.dict[self.user]=self.password\n",
    "        Basepassword.l.append(self.password)\n",
    "        #print(Basepassword.a)\n",
    "        #print(Basepassword.b)\n",
    "    def get_password(self,user):\n",
    "        for u in  self.dict:\n",
    "            if u== user:\n",
    "                return self.dict[u]\n",
    "\n",
    "    def iscrct(self, password):\n",
    "        if password == self.password:\n",
    "            return True\n",
    "        else:\n",
    "            return False\n",
    "    def set_level(self,password):\n",
    "        if password.isalpha() or password.isnumeric():\n",
    "            return 0\n",
    "        elif password.isalnum():\n",
    "            return 1\n",
    "        else:\n",
    "            return 2\n",
    "    def set_password(self,new_password):\n",
    "        if len(new_password)<6:\n",
    "            print(\"new password is weaker\")\n",
    "        if self.set_level(new_password) > self.set_level(self.password):\n",
    "\n",
    "\n",
    "            self.password==new_password\n",
    "            Basepassword.dict[self.user]=new_password\n",
    "            #print(self.user)\n",
    "            print(\"password changed successfully\")\n",
    "        else:\n",
    "            print(\"old password is stronger\")\n",
    "\n",
    "\n",
    "\n",
    "a1=Basepassword('Basavaraj','basu12')\n",
    "b1=Basepassword(\"laxmi\",\"laxmipatil\")\n",
    "print(b1.iscrct(\"laxmipatil\"))\n",
    "print(a1.get_password(\"Basavaraj\"))\n",
    "print(a1.set_level(\"Basavaraj@\"))\n",
    "print(Basepassword.dict)\n",
    "a1.set_password('basavaraj@12')\n",
    "print(Basepassword.dict)\n",
    "print(a1.get_password(\"Basavaraj\"))"
   ]
  },
  {
   "cell_type": "code",
   "execution_count": null,
   "metadata": {},
   "outputs": [],
   "source": []
  }
 ],
 "metadata": {
  "kernelspec": {
   "display_name": "Python 3",
   "language": "python",
   "name": "python3"
  },
  "language_info": {
   "codemirror_mode": {
    "name": "ipython",
    "version": 3
   },
   "file_extension": ".py",
   "mimetype": "text/x-python",
   "name": "python",
   "nbconvert_exporter": "python",
   "pygments_lexer": "ipython3",
   "version": "3.7.6"
  }
 },
 "nbformat": 4,
 "nbformat_minor": 4
}
