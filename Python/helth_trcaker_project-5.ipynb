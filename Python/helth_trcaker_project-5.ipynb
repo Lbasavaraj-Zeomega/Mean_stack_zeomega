{
 "cells": [
  {
   "cell_type": "code",
   "execution_count": 10,
   "metadata": {},
   "outputs": [
    {
     "name": "stdin",
     "output_type": "stream",
     "text": [
      "Enter Name:  basavaraj\n",
      "Enter sex:  male\n",
      "Enter age:  er\n"
     ]
    },
    {
     "name": "stdout",
     "output_type": "stream",
     "text": [
      "invalid literal for int() with base 10: 'er'\n"
     ]
    },
    {
     "name": "stdin",
     "output_type": "stream",
     "text": [
      "Enter Name:  basavraj\n",
      "Enter sex:  male\n",
      "Enter age:  23\n",
      "Enter height in centimeter:  167\n",
      "Enter weight in kgs 70\n"
     ]
    },
    {
     "name": "stdout",
     "output_type": "stream",
     "text": [
      "Please enter workout details:\n",
      "\n"
     ]
    },
    {
     "name": "stdin",
     "output_type": "stream",
     "text": [
      "Enter day:  1\n",
      "Enter steps:  176\n",
      "Enter times in HH:MM:SS\n",
      " 02:00:45\n",
      "Enter day:  2\n",
      "Enter steps:  200\n",
      "Enter times in HH:MM:SS\n",
      " 02:04:00\n"
     ]
    },
    {
     "name": "stdout",
     "output_type": "stream",
     "text": [
      "Hi  basavraj\n",
      "Your BMI is:  25.099501595611173\n",
      "Your Weekly achievement is as follows: \n",
      "*****You get a  2 /7 award.*****\n",
      "Your Fastest Speed is:  0.07741935483870967\n",
      "Your Longest Distance is:  0.16\n",
      "Your Slowest Speed is:  0.06996273291925466\n",
      "Your Shortest Distance is: 0.1408\n",
      "Your Weekly Average Speed is: 0.07369104387898216\n",
      "Your Weekly Average Distance is:  0.1504\n"
     ]
    }
   ],
   "source": [
    "i=1\n",
    "while(i!=0):\n",
    "    try:\n",
    "        name=input(\"Enter Name: \")\n",
    "        sex = input(\"Enter sex: \")\n",
    "        age= int(input(\"Enter age: \"))\n",
    "        height= float(input(\"Enter height in centimeter: \"))\n",
    "        weight= int(input(\"Enter weight in kgs\"))\n",
    "        i=0\n",
    "    except ValueError as e :\n",
    "        print(e)\n",
    "\n",
    "print(\"Please enter workout details:\\n\")\n",
    "days=[]\n",
    "steps=[]\n",
    "hr=[]\n",
    "mn=[]\n",
    "sec=[]\n",
    "try:\n",
    "    \n",
    "    for i in range(1,3):\n",
    "        days.append(int(input(\"Enter day: \")))\n",
    "        steps.append(int(input(\"Enter steps: \")))\n",
    "        alltimes = input(\"Enter times in HH:MM:SS\\n\").split()\n",
    "        for time in alltimes:\n",
    "            hour, min, secs = [int(i) for i in time.split(\":\")]\n",
    "            hr.append(int(hour))\n",
    "            mn.append(int(min))\n",
    "            sec.append(int(secs))\n",
    "except ValueError as e:\n",
    "        print(e)\n",
    "\n",
    "h1=(height/100)\n",
    "bmi= (weight/(h1**2))\n",
    "#print(bmi)\n",
    "\n",
    "count =0\n",
    "distance=[]\n",
    "for i in range(len(steps)):\n",
    "    dist = (steps[i] * 0.8) / 1000\n",
    "    distance.append(dist)\n",
    "\n",
    "    if steps[i] != 0:\n",
    "        count =count+1\n",
    "\n",
    "\n",
    "hrsecs=[]\n",
    "mnsecs=[]\n",
    "step_time=[]\n",
    "speed=[]\n",
    "for i in range(len(hr)):\n",
    "    h=hr[i]*3600\n",
    "    hrsecs.append(int(h))\n",
    "    m=mn[i]*60\n",
    "    mnsecs.append(int(m))\n",
    "for i in range(len(hrsecs)):\n",
    "    step_time.append(float((hrsecs[i]+mnsecs[i]+sec[i])/3600))\n",
    "    speed.append(float(distance[i]/step_time[i]))\n",
    "\n",
    "max_speed=max(speed)\n",
    "long_dist=max(distance)\n",
    "speed.sort()\n",
    "min_speed=speed[0]\n",
    "distance.sort()\n",
    "short_dist=distance[0]\n",
    "avg_speed=(sum(speed)/len(speed))\n",
    "avg_dist=(sum(distance)/len(distance))\n",
    "\n",
    "print(\"Hi \",name)\n",
    "print(\"Your BMI is: \",bmi)\n",
    "print(\"Your Weekly achievement is as follows: \")\n",
    "print(\"*****You get a \",count,\"/7 award.*****\")\n",
    "print(\"Your Fastest Speed is: \",max_speed)\n",
    "print(\"Your Longest Distance is: \",long_dist)\n",
    "print(\"Your Slowest Speed is: \",min_speed)\n",
    "print(\"Your Shortest Distance is:\", short_dist)\n",
    "print(\"Your Weekly Average Speed is:\",avg_speed)\n",
    "print(\"Your Weekly Average Distance is: \",avg_dist)"
   ]
  },
  {
   "cell_type": "code",
   "execution_count": null,
   "metadata": {},
   "outputs": [],
   "source": []
  }
 ],
 "metadata": {
  "kernelspec": {
   "display_name": "Python 3",
   "language": "python",
   "name": "python3"
  },
  "language_info": {
   "codemirror_mode": {
    "name": "ipython",
    "version": 3
   },
   "file_extension": ".py",
   "mimetype": "text/x-python",
   "name": "python",
   "nbconvert_exporter": "python",
   "pygments_lexer": "ipython3",
   "version": "3.7.6"
  }
 },
 "nbformat": 4,
 "nbformat_minor": 4
}
