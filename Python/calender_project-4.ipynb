{
 "cells": [
  {
   "cell_type": "code",
   "execution_count": 1,
   "metadata": {},
   "outputs": [
    {
     "name": "stdin",
     "output_type": "stream",
     "text": [
      "Enter the username for log in into Calendar:  gsdf\n",
      "Enter your Password: sdghf\n"
     ]
    },
    {
     "name": "stdout",
     "output_type": "stream",
     "text": [
      "If you need help regarding student credential, simple type help\n"
     ]
    },
    {
     "name": "stdin",
     "output_type": "stream",
     "text": [
      "Enter help: h\n"
     ]
    },
    {
     "name": "stdout",
     "output_type": "stream",
     "text": [
      "Invalid input, Please try again\n"
     ]
    },
    {
     "name": "stdin",
     "output_type": "stream",
     "text": [
      "Enter help: help\n"
     ]
    },
    {
     "name": "stdout",
     "output_type": "stream",
     "text": [
      "Help: This application should be run with the following command line parameters: a positive integer, a negative integer or zero. The positive integer cannot be more than 12 or less than -12.\n",
      "username is Basavaraj\n",
      "password is Basavaraj@12\n"
     ]
    },
    {
     "name": "stdin",
     "output_type": "stream",
     "text": [
      "Enter the username for log in into Calendar:  Basavaraj\n",
      "Enter your Password: Basavaraj@12\n"
     ]
    },
    {
     "data": {
      "text/html": [
       "<table border=\"0\" cellpadding=\"0\" cellspacing=\"0\" class=\"month\">\n",
       "<tr><th colspan=\"7\" class=\"month\">November 2021</th></tr>\n",
       "<tr><th class=\"mon\">Mon</th><th class=\"tue\">Tue</th><th class=\"wed\">Wed</th><th class=\"thu\">Thu</th><th class=\"fri\">Fri</th><th class=\"sat\">Sat</th><th class=\"sun\">Sun</th></tr>\n",
       "<tr><td class=\"mon\">1</td><td class=\"tue\">2</td><td class=\"wed\">3</td><td class=\"thu\">4</td><td class=\"fri\">5</td><td class=\"sat\">6</td><td class=\"sun\">7</td></tr>\n",
       "<tr><td class=\"mon\">8</td><td class=\"tue\">9</td><td class=\"wed\">10</td><td class=\"thu\">11</td><td class=\"fri\">12</td><td class=\"sat\">13</td><td class=\"sun\">14</td></tr>\n",
       "<tr><td class=\"mon\">15</td><td class=\"tue\">16</td><td class=\"wed\">17</td><td class=\"thu\">18</td><td class=\"fri\" bgcolor=\"#66ff66\"><b><u>19</u></b></td><td class=\"sat\">20</td><td class=\"sun\">21</td></tr>\n",
       "<tr><td class=\"mon\">22</td><td class=\"tue\">23</td><td class=\"wed\">24</td><td class=\"thu\">25</td><td class=\"fri\">26</td><td class=\"sat\">27</td><td class=\"sun\">28</td></tr>\n",
       "<tr><td class=\"mon\">29</td><td class=\"tue\">30</td><td class=\"noday\">&nbsp;</td><td class=\"noday\">&nbsp;</td><td class=\"noday\">&nbsp;</td><td class=\"noday\">&nbsp;</td><td class=\"noday\">&nbsp;</td></tr>\n",
       "</table>\n"
      ],
      "text/plain": [
       "<IPython.core.display.HTML object>"
      ]
     },
     "metadata": {},
     "output_type": "display_data"
    },
    {
     "name": "stdin",
     "output_type": "stream",
     "text": [
      "Enter the Month between[-12 to 12]:  -12\n"
     ]
    },
    {
     "data": {
      "text/html": [
       "<table border=\"0\" cellpadding=\"0\" cellspacing=\"0\" class=\"month\">\n",
       "<tr><th colspan=\"7\" class=\"month\">November 2020</th></tr>\n",
       "<tr><th class=\"mon\">Mon</th><th class=\"tue\">Tue</th><th class=\"wed\">Wed</th><th class=\"thu\">Thu</th><th class=\"fri\">Fri</th><th class=\"sat\">Sat</th><th class=\"sun\">Sun</th></tr>\n",
       "<tr><td class=\"noday\">&nbsp;</td><td class=\"noday\">&nbsp;</td><td class=\"noday\">&nbsp;</td><td class=\"noday\">&nbsp;</td><td class=\"noday\">&nbsp;</td><td class=\"noday\">&nbsp;</td><td class=\"sun\">1</td></tr>\n",
       "<tr><td class=\"mon\">2</td><td class=\"tue\">3</td><td class=\"wed\">4</td><td class=\"thu\">5</td><td class=\"fri\">6</td><td class=\"sat\">7</td><td class=\"sun\">8</td></tr>\n",
       "<tr><td class=\"mon\">9</td><td class=\"tue\">10</td><td class=\"wed\">11</td><td class=\"thu\">12</td><td class=\"fri\">13</td><td class=\"sat\">14</td><td class=\"sun\">15</td></tr>\n",
       "<tr><td class=\"mon\">16</td><td class=\"tue\">17</td><td class=\"wed\">18</td><td class=\"thu\" bgcolor=\"#66ff66\"><b><u>19</u></b></td><td class=\"fri\">20</td><td class=\"sat\">21</td><td class=\"sun\">22</td></tr>\n",
       "<tr><td class=\"mon\">23</td><td class=\"tue\">24</td><td class=\"wed\">25</td><td class=\"thu\">26</td><td class=\"fri\">27</td><td class=\"sat\">28</td><td class=\"sun\">29</td></tr>\n",
       "<tr><td class=\"mon\">30</td><td class=\"noday\">&nbsp;</td><td class=\"noday\">&nbsp;</td><td class=\"noday\">&nbsp;</td><td class=\"noday\">&nbsp;</td><td class=\"noday\">&nbsp;</td><td class=\"noday\">&nbsp;</td></tr>\n",
       "</table>\n"
      ],
      "text/plain": [
       "<IPython.core.display.HTML object>"
      ]
     },
     "metadata": {},
     "output_type": "display_data"
    },
    {
     "name": "stdin",
     "output_type": "stream",
     "text": [
      "Do you want to continue, Enter 1 /0:  1\n",
      "Enter the Month between[-12 to 12]:  -13\n"
     ]
    },
    {
     "name": "stdout",
     "output_type": "stream",
     "text": [
      "Invalid Input\n",
      "Enter value between -12 to +12\n"
     ]
    },
    {
     "name": "stdin",
     "output_type": "stream",
     "text": [
      "Enter the Month between[-12 to 12]:  13\n"
     ]
    },
    {
     "name": "stdout",
     "output_type": "stream",
     "text": [
      "Invalid Input\n",
      "Enter value between -12 to +12\n"
     ]
    },
    {
     "name": "stdin",
     "output_type": "stream",
     "text": [
      "Enter the Month between[-12 to 12]:  -6\n"
     ]
    },
    {
     "data": {
      "text/html": [
       "<table border=\"0\" cellpadding=\"0\" cellspacing=\"0\" class=\"month\">\n",
       "<tr><th colspan=\"7\" class=\"month\">May 2021</th></tr>\n",
       "<tr><th class=\"mon\">Mon</th><th class=\"tue\">Tue</th><th class=\"wed\">Wed</th><th class=\"thu\">Thu</th><th class=\"fri\">Fri</th><th class=\"sat\">Sat</th><th class=\"sun\">Sun</th></tr>\n",
       "<tr><td class=\"noday\">&nbsp;</td><td class=\"noday\">&nbsp;</td><td class=\"noday\">&nbsp;</td><td class=\"noday\">&nbsp;</td><td class=\"noday\">&nbsp;</td><td class=\"sat\">1</td><td class=\"sun\">2</td></tr>\n",
       "<tr><td class=\"mon\">3</td><td class=\"tue\">4</td><td class=\"wed\">5</td><td class=\"thu\">6</td><td class=\"fri\">7</td><td class=\"sat\">8</td><td class=\"sun\">9</td></tr>\n",
       "<tr><td class=\"mon\">10</td><td class=\"tue\">11</td><td class=\"wed\">12</td><td class=\"thu\">13</td><td class=\"fri\">14</td><td class=\"sat\">15</td><td class=\"sun\">16</td></tr>\n",
       "<tr><td class=\"mon\">17</td><td class=\"tue\">18</td><td class=\"wed\" bgcolor=\"#66ff66\"><b><u>19</u></b></td><td class=\"thu\">20</td><td class=\"fri\">21</td><td class=\"sat\">22</td><td class=\"sun\">23</td></tr>\n",
       "<tr><td class=\"mon\">24</td><td class=\"tue\">25</td><td class=\"wed\">26</td><td class=\"thu\">27</td><td class=\"fri\">28</td><td class=\"sat\">29</td><td class=\"sun\">30</td></tr>\n",
       "<tr><td class=\"mon\">31</td><td class=\"noday\">&nbsp;</td><td class=\"noday\">&nbsp;</td><td class=\"noday\">&nbsp;</td><td class=\"noday\">&nbsp;</td><td class=\"noday\">&nbsp;</td><td class=\"noday\">&nbsp;</td></tr>\n",
       "</table>\n"
      ],
      "text/plain": [
       "<IPython.core.display.HTML object>"
      ]
     },
     "metadata": {},
     "output_type": "display_data"
    },
    {
     "name": "stdin",
     "output_type": "stream",
     "text": [
      "Do you want to continue, Enter 1 /0:  0\n"
     ]
    },
    {
     "name": "stdout",
     "output_type": "stream",
     "text": [
      "Thank you\n"
     ]
    }
   ],
   "source": [
    "import datetime as dt\n",
    "from IPython.display import display,HTML\n",
    "import calendar\n",
    "import re\n",
    "t = dt.datetime.today()\n",
    "def show(y,m):\n",
    "    s=calendar.HTMLCalendar().formatmonth (y,m)\n",
    "    ss = s.replace('>%i<'%t.day, ' bgcolor=\"#66ff66\"><b><u>%i</u></b><'%t.day)\n",
    "    display(HTML(ss))\n",
    "def cal(number):\n",
    "    year=t.year\n",
    "    if number>=0:\n",
    "        month=t.month+number\n",
    "        if month>12:\n",
    "            year=year+1\n",
    "            month=month-12\n",
    "        show(year,month)\n",
    "    else:\n",
    "        month=t.month+number\n",
    "        if month<=0:\n",
    "            year=year-1\n",
    "            month=month+12\n",
    "        show(year,month)\n",
    "def main():\n",
    "    u1 = 'Basavaraj'\n",
    "    p1 = 'Basavaraj@12'\n",
    "    username = input('Enter the username for log in into Calendar: ')\n",
    "    password = input('Enter your Password:')\n",
    "   \n",
    "    if username==u1 and password==p1:\n",
    "        show(t.year,t.month)\n",
    "        i=1\n",
    "        while(i==1):\n",
    "            try:\n",
    "                number=int(input(\"Enter the Month between[-12 to 12]: \"))\n",
    "                if number>=-12 and number<=12:\n",
    "                    cal(number)\n",
    "                    num=int(input(\"Do you want to continue, Enter 1 /0: \")) \n",
    "                    i=num\n",
    "                else:\n",
    "                    print(\"Invalid Input\\nEnter value between -12 to +12\")\n",
    "            except ValueError as e:\n",
    "                print(e,\"\\nEnter only Integer between -12 to +12\")\n",
    "        else:\n",
    "            print(\"Thank you\")\n",
    "    else:\n",
    "            print('If you need help regarding student credential, simple type help')\n",
    "            i=1\n",
    "            while(i!=0):\n",
    "                h = input('Enter help:')\n",
    "                if h.lower()=='help':\n",
    "                    print('Help: This application should be run with the following',end=' ')\n",
    "                    print('command line parameters: a positive integer, a negative integer or zero.',end=' ')\n",
    "                    print('The positive integer cannot be more than 12 or less than -12.')\n",
    "                    print(f'username is {u1}')\n",
    "                    print(f'password is {p1}')\n",
    "                    i=0\n",
    "                    break\n",
    "                else:\n",
    "                    print(\"Invalid input, Please try again\")\n",
    "            main()\n",
    "main()   "
   ]
  },
  {
   "cell_type": "code",
   "execution_count": null,
   "metadata": {},
   "outputs": [],
   "source": []
  },
  {
   "cell_type": "code",
   "execution_count": null,
   "metadata": {},
   "outputs": [],
   "source": []
  }
 ],
 "metadata": {
  "kernelspec": {
   "display_name": "Python 3",
   "language": "python",
   "name": "python3"
  },
  "language_info": {
   "codemirror_mode": {
    "name": "ipython",
    "version": 3
   },
   "file_extension": ".py",
   "mimetype": "text/x-python",
   "name": "python",
   "nbconvert_exporter": "python",
   "pygments_lexer": "ipython3",
   "version": "3.7.6"
  }
 },
 "nbformat": 4,
 "nbformat_minor": 4
}
