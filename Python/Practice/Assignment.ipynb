{
 "cells": [
  {
   "cell_type": "markdown",
   "metadata": {},
   "source": [
    "# Day2\n",
    "Assignment 1\n",
    "\n",
    "find the second n in course"
   ]
  },
  {
   "cell_type": "code",
   "execution_count": 11,
   "metadata": {},
   "outputs": [],
   "source": [
    "course=\"python for beginners\""
   ]
  },
  {
   "cell_type": "code",
   "execution_count": 12,
   "metadata": {},
   "outputs": [
    {
     "data": {
      "text/plain": [
       "5"
      ]
     },
     "execution_count": 12,
     "metadata": {},
     "output_type": "execute_result"
    }
   ],
   "source": [
    "course.find('n')"
   ]
  },
  {
   "cell_type": "code",
   "execution_count": 13,
   "metadata": {},
   "outputs": [
    {
     "data": {
      "text/plain": [
       "15"
      ]
     },
     "execution_count": 13,
     "metadata": {},
     "output_type": "execute_result"
    }
   ],
   "source": [
    "course.find('n',6)"
   ]
  },
  {
   "cell_type": "code",
   "execution_count": 14,
   "metadata": {},
   "outputs": [
    {
     "data": {
      "text/plain": [
       "15"
      ]
     },
     "execution_count": 14,
     "metadata": {},
     "output_type": "execute_result"
    }
   ],
   "source": [
    "course.index('n',6)"
   ]
  },
  {
   "cell_type": "code",
   "execution_count": 15,
   "metadata": {},
   "outputs": [
    {
     "data": {
      "text/plain": [
       "16"
      ]
     },
     "execution_count": 15,
     "metadata": {},
     "output_type": "execute_result"
    }
   ],
   "source": [
    "course.rfind('n')"
   ]
  },
  {
   "cell_type": "markdown",
   "metadata": {},
   "source": [
    "Assignment 2"
   ]
  },
  {
   "cell_type": "markdown",
   "metadata": {},
   "source": [
    "change the secnond \"for\" to \"to\" from \"python for for beginners\""
   ]
  },
  {
   "cell_type": "code",
   "execution_count": null,
   "metadata": {},
   "outputs": [],
   "source": []
  },
  {
   "cell_type": "markdown",
   "metadata": {},
   "source": [
    " # Day-3"
   ]
  },
  {
   "cell_type": "markdown",
   "metadata": {},
   "source": [
    "Assignment: \n",
    "\n",
    "if  You give input of 1234 it should return \"one two three four\""
   ]
  },
  {
   "cell_type": "code",
   "execution_count": 1,
   "metadata": {},
   "outputs": [
    {
     "name": "stdin",
     "output_type": "stream",
     "text": [
      "enter the number 1356\n"
     ]
    },
    {
     "name": "stdout",
     "output_type": "stream",
     "text": [
      "One Three Five Six "
     ]
    }
   ],
   "source": [
    "num=input(\"enter the number\")\n",
    "dic1={\"0\":\"Zero\",\"1\":\"One\",\"2\":\"Two\",\"3\":\"Three\",\"4\":\"Four\",\"5\":\"Five\",\"6\":\"Six\",\"7\":\"Seven\",\"8\":\"Eight\",\"9\":\"Nine\"}\n",
    "for i in num:\n",
    "    print(dic1.get(i,\"NA\") ,end=\" \")"
   ]
  },
  {
   "cell_type": "code",
   "execution_count": 9,
   "metadata": {},
   "outputs": [
    {
     "name": "stdin",
     "output_type": "stream",
     "text": [
      "enter the number 1276\n"
     ]
    },
    {
     "name": "stdout",
     "output_type": "stream",
     "text": [
      " One Two N.A N.A \n"
     ]
    }
   ],
   "source": [
    "#or\n",
    "num=input(\"enter the number\")\n",
    "output=\" \"\n",
    "dic1={\"1\":\"One\",\"2\":\"Two\",\"3\":\"Three\",\"4\":\"Four\"}\n",
    "for i in num:\n",
    "    output +=dic1.get(i,\"N.A\")+\" \"\n",
    "print(output)"
   ]
  },
  {
   "cell_type": "markdown",
   "metadata": {},
   "source": [
    "# Day4"
   ]
  },
  {
   "cell_type": "markdown",
   "metadata": {},
   "source": [
    "1. Assignment1: \n",
    "\n",
    "    1.Take the username\n",
    "    2.user name sholud be in 3-10 character \n",
    "    3.if not, disply the apprpiate message\n",
    "    4. if okay, reply user by saying \"Looks good"
   ]
  },
  {
   "cell_type": "code",
   "execution_count": 20,
   "metadata": {},
   "outputs": [
    {
     "name": "stdin",
     "output_type": "stream",
     "text": [
      "Enter the name basavaraj\n"
     ]
    },
    {
     "name": "stdout",
     "output_type": "stream",
     "text": [
      "Looks good\n"
     ]
    }
   ],
   "source": [
    "username=input(\"Enter the name\")\n",
    "if  len(username)>10 or len(username)<3:\n",
    "    print(\"user name sholud be in 3-10 charactera\")\n",
    "else:\n",
    "    print(\"Looks good\")"
   ]
  },
  {
   "cell_type": "markdown",
   "metadata": {},
   "source": [
    "2. Assignement 2:\n",
    "    \n",
    "    1. set a price` of a house\n",
    "    2. good_credit=true/false\n",
    "    3. if u have good credit ,you pay 10% of the house amount\n",
    "    4. if not, you pay 20%\n",
    "    5. the amount what user pay gets printed"
   ]
  },
  {
   "cell_type": "code",
   "execution_count": 26,
   "metadata": {},
   "outputs": [
    {
     "name": "stdin",
     "output_type": "stream",
     "text": [
      "Enter 0/ 1: 0\n"
     ]
    },
    {
     "name": "stdout",
     "output_type": "stream",
     "text": [
      "3000.0\n"
     ]
    }
   ],
   "source": [
    "house_rent=15000\n",
    "good_credit=int(input(\"Enter 0/ 1:\"))\n",
    "if good_credit==1:\n",
    "    print(0.1*house_rent)\n",
    "else:\n",
    "    print(0.2*house_rent)\n",
    "    "
   ]
  },
  {
   "cell_type": "markdown",
   "metadata": {},
   "source": [
    "3. Assignment 3\n",
    "\n",
    "req:1 2 3 4 5 6 7 8 9 10\n",
    "\n",
    "    2 34 6 8..........20\n",
    "    \n",
    "    3 6 ...............\n",
    "    \n",
    "    .\n",
    "    \n",
    "    .\n",
    "    \n",
    "    .\n",
    "    \n",
    "    .\n",
    "    \n",
    "    .\n",
    "    \n",
    "    10 20 30 40 50 60 70 80 90 10"
   ]
  },
  {
   "cell_type": "code",
   "execution_count": 3,
   "metadata": {},
   "outputs": [
    {
     "name": "stdout",
     "output_type": "stream",
     "text": [
      "1 2 3 4 5 6 7 8 9 10 \n",
      "2 4 6 8 10 12 14 16 18 20 \n",
      "3 6 9 12 15 18 21 24 27 30 \n",
      "4 8 12 16 20 24 28 32 36 40 \n",
      "5 10 15 20 25 30 35 40 45 50 \n",
      "6 12 18 24 30 36 42 48 54 60 \n",
      "7 14 21 28 35 42 49 56 63 70 \n",
      "8 16 24 32 40 48 56 64 72 80 \n",
      "9 18 27 36 45 54 63 72 81 90 \n",
      "10 20 30 40 50 60 70 80 90 100 \n"
     ]
    }
   ],
   "source": [
    "for i in range(1,11):\n",
    "    for j in range(1,11):\n",
    "        print(i*j,end=\" \")\n",
    "    print()"
   ]
  },
  {
   "cell_type": "markdown",
   "metadata": {},
   "source": [
    "#### or"
   ]
  },
  {
   "cell_type": "code",
   "execution_count": 5,
   "metadata": {},
   "outputs": [
    {
     "name": "stdout",
     "output_type": "stream",
     "text": [
      "1 2 3 4 5 6 7 8 9 10 \n",
      "2 4 6 8 10 12 14 16 18 20 \n",
      "3 6 9 12 15 18 21 24 27 30 \n",
      "4 8 12 16 20 24 28 32 36 40 \n",
      "5 10 15 20 25 30 35 40 45 50 \n",
      "6 12 18 24 30 36 42 48 54 60 \n",
      "7 14 21 28 35 42 49 56 63 70 \n",
      "8 16 24 32 40 48 56 64 72 80 \n",
      "9 18 27 36 45 54 63 72 81 90 \n",
      "10 20 30 40 50 60 70 80 90 100 \n"
     ]
    }
   ],
   "source": [
    "for i in range(1,11):\n",
    "    for j in range(i,i*10+1,i):\n",
    "        print(j,end=\" \")\n",
    "    print()"
   ]
  },
  {
   "cell_type": "markdown",
   "metadata": {},
   "source": [
    "# Day 5"
   ]
  },
  {
   "cell_type": "markdown",
   "metadata": {},
   "source": [
    "1.Assignment\n",
    "\n",
    "Design a pattern for trinagle with uder i/p"
   ]
  },
  {
   "cell_type": "code",
   "execution_count": 1,
   "metadata": {},
   "outputs": [
    {
     "name": "stdout",
     "output_type": "stream",
     "text": [
      "    * \n",
      "   * * \n",
      "  * * * \n",
      " * * * * \n",
      "* * * * * \n"
     ]
    }
   ],
   "source": [
    "n=int(input(\"Enetr the number\"))\n",
    "k = n - 1\n",
    "for i in range(0, n):\n",
    "    for j in range(0, k):\n",
    "            print(end=\" \")\n",
    "    k = k - 1\n",
    "    for j in range(0, i+1):\n",
    "         print(\"* \", end=\"\")\n",
    "    print(\"\\r\")\n",
    "     "
   ]
  },
  {
   "cell_type": "markdown",
   "metadata": {},
   "source": [
    "2.Assignment\n",
    "\n",
    "1.you need to ask for input again if \"help\" didnot found"
   ]
  },
  {
   "cell_type": "code",
   "execution_count": null,
   "metadata": {},
   "outputs": [
    {
     "name": "stdin",
     "output_type": "stream",
     "text": [
      "> h\n"
     ]
    },
    {
     "name": "stdout",
     "output_type": "stream",
     "text": [
      "invalid I/p,please try again\n"
     ]
    }
   ],
   "source": [
    "i=0\n",
    "while i!=1:\n",
    "    help1=input(\">\")\n",
    "    while (help1.lower()==\"help\" ):\n",
    "        print(\"start:To start the car\")\n",
    "        print(\"stop: To stop the car\")\n",
    "        var=input(\":\")\n",
    "        if var.lower()==\"start\":\n",
    "            print(\"car started\")\n",
    "            i=1\n",
    "            break\n",
    "        elif var.lower()==\"stop\":\n",
    "            print(\"car stoped\")\n",
    "            i=1\n",
    "            break\n",
    "        else:\n",
    "            print(\"invalid input,please try again\")\n",
    "    else:\n",
    "        print(\"invalid I/p,please try again\")\n",
    "    \n",
    "    \n",
    "        \n",
    "     \n",
    "\n"
   ]
  },
  {
   "cell_type": "code",
   "execution_count": null,
   "metadata": {},
   "outputs": [],
   "source": []
  },
  {
   "cell_type": "raw",
   "metadata": {},
   "source": []
  },
  {
   "cell_type": "code",
   "execution_count": null,
   "metadata": {},
   "outputs": [],
   "source": []
  },
  {
   "cell_type": "code",
   "execution_count": null,
   "metadata": {},
   "outputs": [],
   "source": []
  },
  {
   "cell_type": "code",
   "execution_count": null,
   "metadata": {},
   "outputs": [
    {
     "name": "stdin",
     "output_type": "stream",
     "text": [
      "Enter the username for log in into Calendar:  hgdf\n",
      "Enter your Password: dgf\n"
     ]
    },
    {
     "name": "stdout",
     "output_type": "stream",
     "text": [
      "If you need help regarding student credential, simple type help\n"
     ]
    },
    {
     "name": "stdin",
     "output_type": "stream",
     "text": [
      "Enter help: help\n"
     ]
    },
    {
     "name": "stdout",
     "output_type": "stream",
     "text": [
      "Help: This application should be run with the following command line parameters: a positive integer, a negative integer or zero. The positive integer cannot be more than 12 or less than -12.\n",
      "username is Basavaraj\n",
      "password is Basavaraj@12\n"
     ]
    }
   ],
   "source": [
    "import datetime as dt\n",
    "from IPython.display import display,HTML\n",
    "import calendar\n",
    "import re\n",
    "def crd():\n",
    "    u1 = 'Basavaraj'\n",
    "    p1 = 'Basavaraj@12'\n",
    "    username = input('Enter the username for log in into Calendar: ')\n",
    "    password = input('Enter your Password:')\n",
    "    t = dt.datetime.today()\n",
    "    if username==u1 and password==p1:\n",
    "            def show(y,m):\n",
    "                s=calendar.HTMLCalendar().formatmonth (y,m)\n",
    "                ss = s.replace('>%i<'%t.day, ' bgcolor=\"#66ff66\"><b><u>%i</u></b><'%t.day)\n",
    "                display(HTML(ss))\n",
    "\n",
    "            def cal(number):\n",
    "                year=t.year\n",
    "                if number>=0:\n",
    "                    month=t.month+number\n",
    "                    if month>12:\n",
    "                        year=year+1\n",
    "                        month=month-12\n",
    "                    show(year,month)\n",
    "                else:\n",
    "                    month=t.month+number\n",
    "                    if month<=0:\n",
    "                        year=year-1\n",
    "                        month=month+12\n",
    "                    show(year,month)\n",
    "            show(t.year,t.month)\n",
    "            i=1\n",
    "            while(i!=0):\n",
    "                try:\n",
    "\n",
    "                    number=int(input(\"Enter the Month between[-12 to 12]: \"))\n",
    "                    if number>=-12 and number<=12:\n",
    "                        cal(number)\n",
    "                        num=int(input(\"Do you want to continue, Enter 1 /0: \")) \n",
    "                        i=num\n",
    "                    else:\n",
    "                         print(\"Invalid Input\\nEnter value between -12 to +12\")\n",
    "                except ValueError as e:\n",
    "                    print(e,\"\\nEnter only Integer between -12 to +12\")\n",
    "            else:\n",
    "                print(\"Thank you\")\n",
    "    else:\n",
    "            print('If you need help regarding student credential, simple type help')\n",
    "            i=1\n",
    "            while(i!=0):\n",
    "                h = input('Enter help:')\n",
    "                if h.lower()=='help':\n",
    "                    print('Help: This application should be run with the following',end=' ')\n",
    "                    print('command line parameters: a positive integer, a negative integer or zero.',end=' ')\n",
    "                    print('The positive integer cannot be more than 12 or less than -12.')\n",
    "                    print(f'username is {u1}')\n",
    "                    print(f'password is {p1}')\n",
    "                    i=i+1\n",
    "                    break\n",
    "                else:\n",
    "                    print(\"Invalid input, Please try again\")\n",
    "            crd()\n",
    "crd()   "
   ]
  },
  {
   "cell_type": "code",
   "execution_count": null,
   "metadata": {},
   "outputs": [],
   "source": []
  }
 ],
 "metadata": {
  "kernelspec": {
   "display_name": "Python 3",
   "language": "python",
   "name": "python3"
  },
  "language_info": {
   "codemirror_mode": {
    "name": "ipython",
    "version": 3
   },
   "file_extension": ".py",
   "mimetype": "text/x-python",
   "name": "python",
   "nbconvert_exporter": "python",
   "pygments_lexer": "ipython3",
   "version": "3.7.6"
  }
 },
 "nbformat": 4,
 "nbformat_minor": 4
}
