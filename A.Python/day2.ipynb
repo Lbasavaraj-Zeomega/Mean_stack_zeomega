{
 "cells": [
  {
   "cell_type": "markdown",
   "id": "4ea1ed27",
   "metadata": {},
   "source": [
    "### Advanced Python Training at ZeOmega - Day 2\n",
    "\n",
    "Feb 07-11, 2022<br>\n",
    "09:30 AM - 01:00 PM\n",
    "\n",
    "[Anand Chitipothu](https://pipal.in/trainers/anand)\n",
    "\n",
    "These notes are available online at https://bit.ly/zeomega-py22\n",
    "\n",
    "© Pipal Academy LLP\n",
    "\n",
    "[Home](.) | [Day 1](day1.html) | **Day 2** | [Day 3](day3.html) | [Day 4](day4.html) | [Day 5](day5.html) \n",
    "\n",
    "[Download this notebook](day2.ipynb)"
   ]
  },
  {
   "cell_type": "markdown",
   "id": "496c7ba4",
   "metadata": {},
   "source": [
    "## Topics for today"
   ]
  },
  {
   "cell_type": "markdown",
   "id": "1bff4a8e",
   "metadata": {},
   "source": [
    "* Conditional Expressions\n",
    "* If Statement\n",
    "* Lists\n",
    "* For Loop\n",
    "* List Comprehensions\n",
    "* Sorting Lists\n",
    "* Working with Files"
   ]
  },
  {
   "cell_type": "markdown",
   "id": "3b779789",
   "metadata": {},
   "source": [
    "## Conditional Expressions"
   ]
  },
  {
   "cell_type": "code",
   "execution_count": 1,
   "id": "90366d0f",
   "metadata": {},
   "outputs": [
    {
     "data": {
      "text/plain": [
       "True"
      ]
     },
     "execution_count": 1,
     "metadata": {},
     "output_type": "execute_result"
    }
   ],
   "source": [
    "True"
   ]
  },
  {
   "cell_type": "code",
   "execution_count": 2,
   "id": "400b3a0c",
   "metadata": {},
   "outputs": [
    {
     "data": {
      "text/plain": [
       "False"
      ]
     },
     "execution_count": 2,
     "metadata": {},
     "output_type": "execute_result"
    }
   ],
   "source": [
    "False"
   ]
  },
  {
   "cell_type": "code",
   "execution_count": 3,
   "id": "8d50c690",
   "metadata": {},
   "outputs": [],
   "source": [
    "loadavg = 40"
   ]
  },
  {
   "cell_type": "code",
   "execution_count": 4,
   "id": "7d026e44",
   "metadata": {},
   "outputs": [
    {
     "data": {
      "text/plain": [
       "True"
      ]
     },
     "execution_count": 4,
     "metadata": {},
     "output_type": "execute_result"
    }
   ],
   "source": [
    "loadavg > 30"
   ]
  },
  {
   "cell_type": "code",
   "execution_count": 5,
   "id": "f1ca2869",
   "metadata": {},
   "outputs": [
    {
     "data": {
      "text/plain": [
       "True"
      ]
     },
     "execution_count": 5,
     "metadata": {},
     "output_type": "execute_result"
    }
   ],
   "source": [
    "loadavg < 70"
   ]
  },
  {
   "cell_type": "code",
   "execution_count": 6,
   "id": "25f7e7fe",
   "metadata": {},
   "outputs": [
    {
     "data": {
      "text/plain": [
       "False"
      ]
     },
     "execution_count": 6,
     "metadata": {},
     "output_type": "execute_result"
    }
   ],
   "source": [
    "loadavg > 70"
   ]
  },
  {
   "cell_type": "code",
   "execution_count": 7,
   "id": "2302fa5e",
   "metadata": {},
   "outputs": [],
   "source": [
    "filename = \"hello.py\""
   ]
  },
  {
   "cell_type": "code",
   "execution_count": 8,
   "id": "9d159a53",
   "metadata": {},
   "outputs": [
    {
     "data": {
      "text/plain": [
       "True"
      ]
     },
     "execution_count": 8,
     "metadata": {},
     "output_type": "execute_result"
    }
   ],
   "source": [
    "filename.startswith(\"hell\")"
   ]
  },
  {
   "cell_type": "code",
   "execution_count": 10,
   "id": "ca183cf5",
   "metadata": {},
   "outputs": [
    {
     "data": {
      "text/plain": [
       "True"
      ]
     },
     "execution_count": 10,
     "metadata": {},
     "output_type": "execute_result"
    }
   ],
   "source": [
    "filename.endswith(\".py\")"
   ]
  },
  {
   "cell_type": "code",
   "execution_count": 11,
   "id": "c071c898",
   "metadata": {},
   "outputs": [
    {
     "data": {
      "text/plain": [
       "True"
      ]
     },
     "execution_count": 11,
     "metadata": {},
     "output_type": "execute_result"
    }
   ],
   "source": [
    "'ll' in filename"
   ]
  },
  {
   "cell_type": "code",
   "execution_count": 12,
   "id": "fef5491d",
   "metadata": {},
   "outputs": [
    {
     "data": {
      "text/plain": [
       "False"
      ]
     },
     "execution_count": 12,
     "metadata": {},
     "output_type": "execute_result"
    }
   ],
   "source": [
    "'x' in filename"
   ]
  },
  {
   "cell_type": "code",
   "execution_count": 13,
   "id": "df221267",
   "metadata": {},
   "outputs": [
    {
     "data": {
      "text/plain": [
       "True"
      ]
     },
     "execution_count": 13,
     "metadata": {},
     "output_type": "execute_result"
    }
   ],
   "source": [
    "'a' in ['a', 'b', 'c']"
   ]
  },
  {
   "cell_type": "code",
   "execution_count": 14,
   "id": "402db013",
   "metadata": {},
   "outputs": [
    {
     "data": {
      "text/plain": [
       "False"
      ]
     },
     "execution_count": 14,
     "metadata": {},
     "output_type": "execute_result"
    }
   ],
   "source": [
    "'a' not in ['a', 'b', 'c']"
   ]
  },
  {
   "cell_type": "markdown",
   "id": "404d7b9b",
   "metadata": {},
   "source": [
    "Let's say we want to write a function `is_vowel` to check if the given character is a vowel or not. "
   ]
  },
  {
   "cell_type": "code",
   "execution_count": 24,
   "id": "336b6fe2",
   "metadata": {},
   "outputs": [],
   "source": [
    "def is_vowel(c):\n",
    "#     return c in ['a', 'e', 'i', 'o', 'u']\n",
    "    return c in 'aeiou'"
   ]
  },
  {
   "cell_type": "code",
   "execution_count": 25,
   "id": "54b0e98a",
   "metadata": {},
   "outputs": [
    {
     "data": {
      "text/plain": [
       "False"
      ]
     },
     "execution_count": 25,
     "metadata": {},
     "output_type": "execute_result"
    }
   ],
   "source": [
    "is_vowel('x')"
   ]
  },
  {
   "cell_type": "markdown",
   "id": "6637dbe4",
   "metadata": {},
   "source": [
    "**Problem:** Write a function `is_python_file` that takes a filename as argument and returns `True` if it is Python file. A python file will have extension `.py`.\n",
    "    \n",
    "```\n",
    ">>> is_python_file(\"hello.py\")\n",
    "True\n",
    ">>> is_python_file(\"hello.java\")\n",
    "False\n",
    ">>> is_python_file(\"python.java\")\n",
    "False\n",
    ">>> is_python_file(\"Makefile\")\n",
    "False\n",
    ">>> is_python_file(\"a.py.gz\")\n",
    "False\n",
    ">> is_python_file(\"py\")\n",
    "False\n",
    "```"
   ]
  },
  {
   "cell_type": "code",
   "execution_count": 26,
   "id": "9dff2e89",
   "metadata": {},
   "outputs": [
    {
     "ename": "IndentationError",
     "evalue": "unexpected indent (262569544.py, line 3)",
     "output_type": "error",
     "traceback": [
      "\u001b[0;36m  Input \u001b[0;32mIn [26]\u001b[0;36m\u001b[0m\n\u001b[0;31m    y = 2 # <---\u001b[0m\n\u001b[0m    ^\u001b[0m\n\u001b[0;31mIndentationError\u001b[0m\u001b[0;31m:\u001b[0m unexpected indent\n"
     ]
    }
   ],
   "source": [
    "# this doesn't work\n",
    "x = 1\n",
    "  y = 2 # <---\n",
    "print(x, y)"
   ]
  },
  {
   "cell_type": "code",
   "execution_count": 29,
   "id": "989d9732",
   "metadata": {},
   "outputs": [
    {
     "ename": "IndentationError",
     "evalue": "unexpected indent (593252654.py, line 3)",
     "output_type": "error",
     "traceback": [
      "\u001b[0;36m  Input \u001b[0;32mIn [29]\u001b[0;36m\u001b[0m\n\u001b[0;31m    return y # <---\u001b[0m\n\u001b[0m    ^\u001b[0m\n\u001b[0;31mIndentationError\u001b[0m\u001b[0;31m:\u001b[0m unexpected indent\n"
     ]
    }
   ],
   "source": [
    "def square(x):\n",
    "    y = x*x\n",
    "     return y # <---\n",
    "\n",
    "n = square(4)\n",
    "print(n)"
   ]
  },
  {
   "cell_type": "code",
   "execution_count": 30,
   "id": "efa992ed",
   "metadata": {},
   "outputs": [
    {
     "ename": "SyntaxError",
     "evalue": "'return' outside function (1876927489.py, line 3)",
     "output_type": "error",
     "traceback": [
      "\u001b[0;36m  Input \u001b[0;32mIn [30]\u001b[0;36m\u001b[0m\n\u001b[0;31m    return y # <---\u001b[0m\n\u001b[0m    ^\u001b[0m\n\u001b[0;31mSyntaxError\u001b[0m\u001b[0;31m:\u001b[0m 'return' outside function\n"
     ]
    }
   ],
   "source": [
    "def square(x):\n",
    "    y = x*x\n",
    "return y # <---\n",
    "\n",
    "n = square(4)\n",
    "print(n)"
   ]
  },
  {
   "cell_type": "code",
   "execution_count": 32,
   "id": "28f0a490",
   "metadata": {},
   "outputs": [
    {
     "name": "stdout",
     "output_type": "stream",
     "text": [
      "16\n"
     ]
    }
   ],
   "source": [
    "def square(x): \n",
    "    y = x*x\n",
    "    return y\n",
    "\n",
    "n = square(4)\n",
    "print(n)"
   ]
  },
  {
   "cell_type": "code",
   "execution_count": 38,
   "id": "97d220fe",
   "metadata": {},
   "outputs": [],
   "source": [
    "def is_vowel(char):\n",
    "    if char == 'a' or 'e' or 'i' or 'o' or 'u' or 'A' or 'E' or 'I' or 'O' or 'U':\n",
    "        return True\n",
    "    else:\n",
    "        return False"
   ]
  },
  {
   "cell_type": "code",
   "execution_count": 36,
   "id": "7937a951",
   "metadata": {},
   "outputs": [
    {
     "data": {
      "text/plain": [
       "'a'"
      ]
     },
     "execution_count": 36,
     "metadata": {},
     "output_type": "execute_result"
    }
   ],
   "source": [
    "'a' or 'e' or 'i' or 'o' or 'u' or 'A' or 'E' or 'I' or 'O' or 'U'"
   ]
  },
  {
   "cell_type": "code",
   "execution_count": 39,
   "id": "0fa5ef0b",
   "metadata": {},
   "outputs": [
    {
     "data": {
      "text/plain": [
       "True"
      ]
     },
     "execution_count": 39,
     "metadata": {},
     "output_type": "execute_result"
    }
   ],
   "source": [
    "is_vowel('a')"
   ]
  },
  {
   "cell_type": "code",
   "execution_count": 40,
   "id": "9550a4fd",
   "metadata": {},
   "outputs": [
    {
     "data": {
      "text/plain": [
       "True"
      ]
     },
     "execution_count": 40,
     "metadata": {},
     "output_type": "execute_result"
    }
   ],
   "source": [
    "is_vowel('e')"
   ]
  },
  {
   "cell_type": "code",
   "execution_count": 42,
   "id": "d1abb4ba",
   "metadata": {},
   "outputs": [
    {
     "data": {
      "text/plain": [
       "True"
      ]
     },
     "execution_count": 42,
     "metadata": {},
     "output_type": "execute_result"
    }
   ],
   "source": [
    "char = 'e'\n",
    "char == 'a' or char == 'e'"
   ]
  },
  {
   "cell_type": "code",
   "execution_count": 43,
   "id": "5e1f90f6",
   "metadata": {},
   "outputs": [
    {
     "data": {
      "text/plain": [
       "True"
      ]
     },
     "execution_count": 43,
     "metadata": {},
     "output_type": "execute_result"
    }
   ],
   "source": [
    "char in ['a', 'e']"
   ]
  },
  {
   "cell_type": "code",
   "execution_count": 44,
   "id": "43c84055",
   "metadata": {},
   "outputs": [
    {
     "data": {
      "text/plain": [
       "True"
      ]
     },
     "execution_count": 44,
     "metadata": {},
     "output_type": "execute_result"
    }
   ],
   "source": [
    "char in 'ae'"
   ]
  },
  {
   "cell_type": "markdown",
   "id": "8c527027",
   "metadata": {},
   "source": [
    "## The `if` statement"
   ]
  },
  {
   "cell_type": "code",
   "execution_count": 46,
   "id": "ab454b34",
   "metadata": {},
   "outputs": [
    {
     "name": "stdout",
     "output_type": "stream",
     "text": [
      "odd\n"
     ]
    }
   ],
   "source": [
    "n = 33\n",
    "\n",
    "if n % 2 == 0:\n",
    "    print(\"even\")\n",
    "else:\n",
    "    print(\"odd\")"
   ]
  },
  {
   "cell_type": "code",
   "execution_count": 47,
   "id": "e8aae8ed",
   "metadata": {},
   "outputs": [],
   "source": [
    "def check_even(n):\n",
    "    if n % 2 == 0:\n",
    "        print(\"even\")\n",
    "    else:\n",
    "        print(\"odd\")    "
   ]
  },
  {
   "cell_type": "code",
   "execution_count": 48,
   "id": "8919289b",
   "metadata": {},
   "outputs": [
    {
     "name": "stdout",
     "output_type": "stream",
     "text": [
      "even\n"
     ]
    }
   ],
   "source": [
    "check_even(40)"
   ]
  },
  {
   "cell_type": "code",
   "execution_count": 49,
   "id": "efcb30a3",
   "metadata": {},
   "outputs": [
    {
     "name": "stdout",
     "output_type": "stream",
     "text": [
      "odd\n"
     ]
    }
   ],
   "source": [
    "check_even(41)"
   ]
  },
  {
   "cell_type": "markdown",
   "id": "b8398a65",
   "metadata": {},
   "source": [
    "Sometimes we want to check for more conditions."
   ]
  },
  {
   "cell_type": "code",
   "execution_count": 51,
   "id": "a34942f4",
   "metadata": {},
   "outputs": [],
   "source": [
    "def check_number(n):\n",
    "    if n < 10:\n",
    "        print(n, \"is a single digit number\")\n",
    "    elif n < 100:\n",
    "        print(n, \"is a two digit number\")\n",
    "    else:\n",
    "        print(n, \"is a big number\")"
   ]
  },
  {
   "cell_type": "code",
   "execution_count": 52,
   "id": "6701c302",
   "metadata": {},
   "outputs": [
    {
     "name": "stdout",
     "output_type": "stream",
     "text": [
      "5 is a single digit number\n"
     ]
    }
   ],
   "source": [
    "check_number(5)"
   ]
  },
  {
   "cell_type": "code",
   "execution_count": 53,
   "id": "422c46eb",
   "metadata": {},
   "outputs": [
    {
     "name": "stdout",
     "output_type": "stream",
     "text": [
      "55 is a two digit number\n"
     ]
    }
   ],
   "source": [
    "check_number(55)"
   ]
  },
  {
   "cell_type": "code",
   "execution_count": 54,
   "id": "32f48c2b",
   "metadata": {},
   "outputs": [
    {
     "name": "stdout",
     "output_type": "stream",
     "text": [
      "555 is a big number\n"
     ]
    }
   ],
   "source": [
    "check_number(555)"
   ]
  },
  {
   "cell_type": "code",
   "execution_count": 55,
   "id": "7c01cb5b",
   "metadata": {},
   "outputs": [
    {
     "data": {
      "text/plain": [
       "3"
      ]
     },
     "execution_count": 55,
     "metadata": {},
     "output_type": "execute_result"
    }
   ],
   "source": [
    "min(3, 4)"
   ]
  },
  {
   "cell_type": "markdown",
   "id": "0cefa912",
   "metadata": {},
   "source": [
    "**Problem:** Write a function `minimum` that computes minimum of two numbers without using built-in function `min` or `max`.\n",
    "\n",
    "```\n",
    ">>> minimum(3, 7)\n",
    "3\n",
    ">>> minimum(33, 7)\n",
    "7\n",
    ">>> 1 + minimum(3, 7)\n",
    "4\n",
    ">>> 1 + minimum(3, 3)\n",
    "4\n",
    "```"
   ]
  },
  {
   "cell_type": "markdown",
   "id": "b3272f08",
   "metadata": {},
   "source": [
    "**Problem:** Write a function `minimum3` that computes minimum of three numbers. Can you do this using the `minimum` function implementd for the above problem?\n",
    "\n",
    "```\n",
    ">>> minimum3(2, 3, 4)\n",
    "2\n",
    ">>> minimum3(12, 3, 4)\n",
    "3\n",
    ">>> minimum3(12, 13, 4)\n",
    "4\n",
    "```"
   ]
  },
  {
   "cell_type": "code",
   "execution_count": 64,
   "id": "ffa079a5",
   "metadata": {},
   "outputs": [],
   "source": [
    "def minimum(x, y):\n",
    "    if x < y:\n",
    "        return x\n",
    "    else:\n",
    "        return y"
   ]
  },
  {
   "cell_type": "code",
   "execution_count": 65,
   "id": "40ea3413",
   "metadata": {},
   "outputs": [
    {
     "data": {
      "text/plain": [
       "3"
      ]
     },
     "execution_count": 65,
     "metadata": {},
     "output_type": "execute_result"
    }
   ],
   "source": [
    "minimum(3, 4)"
   ]
  },
  {
   "cell_type": "code",
   "execution_count": 66,
   "id": "27e44616",
   "metadata": {},
   "outputs": [
    {
     "data": {
      "text/plain": [
       "4"
      ]
     },
     "execution_count": 66,
     "metadata": {},
     "output_type": "execute_result"
    }
   ],
   "source": [
    "1 + minimum(3, 7)"
   ]
  },
  {
   "cell_type": "code",
   "execution_count": 67,
   "id": "1c39eeb6",
   "metadata": {},
   "outputs": [
    {
     "data": {
      "text/plain": [
       "4"
      ]
     },
     "execution_count": 67,
     "metadata": {},
     "output_type": "execute_result"
    }
   ],
   "source": [
    "1 + minimum(3, 3)"
   ]
  },
  {
   "cell_type": "code",
   "execution_count": 68,
   "id": "3d84a97d",
   "metadata": {},
   "outputs": [],
   "source": [
    "def minimum3(x, y, z):\n",
    "    if x < y and x < z:\n",
    "        return x\n",
    "    elif y < x and y < z:\n",
    "        return y\n",
    "    else:\n",
    "        return z"
   ]
  },
  {
   "cell_type": "code",
   "execution_count": 70,
   "id": "3fdbfccc",
   "metadata": {},
   "outputs": [
    {
     "data": {
      "text/plain": [
       "3"
      ]
     },
     "execution_count": 70,
     "metadata": {},
     "output_type": "execute_result"
    }
   ],
   "source": [
    "minimum3(3, 4, 5)"
   ]
  },
  {
   "cell_type": "code",
   "execution_count": 71,
   "id": "bd964bab",
   "metadata": {},
   "outputs": [
    {
     "data": {
      "text/plain": [
       "4"
      ]
     },
     "execution_count": 71,
     "metadata": {},
     "output_type": "execute_result"
    }
   ],
   "source": [
    "minimum3(13, 4, 5)"
   ]
  },
  {
   "cell_type": "code",
   "execution_count": 72,
   "id": "1db519b5",
   "metadata": {},
   "outputs": [],
   "source": [
    "def minimum3(x, y, z):\n",
    "    if minimum(x, y) < z:\n",
    "        return minimum(x, y)\n",
    "    else:\n",
    "        return z"
   ]
  },
  {
   "cell_type": "code",
   "execution_count": null,
   "id": "76643fa2",
   "metadata": {},
   "outputs": [],
   "source": [
    "def minimum(x, y):\n",
    "    if x < y:\n",
    "        return x\n",
    "    else:\n",
    "        return y"
   ]
  },
  {
   "cell_type": "code",
   "execution_count": 73,
   "id": "88ea3ee7",
   "metadata": {},
   "outputs": [],
   "source": [
    "def minimum3(x, y, z):\n",
    "#     xy = minimum(x, y)\n",
    "#     return minimum(xy, z)\n",
    "    return minimum(minimum(x, y), z)"
   ]
  },
  {
   "cell_type": "code",
   "execution_count": 74,
   "id": "46e9dfdf",
   "metadata": {},
   "outputs": [
    {
     "data": {
      "text/plain": [
       "3"
      ]
     },
     "execution_count": 74,
     "metadata": {},
     "output_type": "execute_result"
    }
   ],
   "source": [
    "minimum3(3, 4, 5)"
   ]
  },
  {
   "cell_type": "code",
   "execution_count": 75,
   "id": "fc5bd468",
   "metadata": {},
   "outputs": [
    {
     "data": {
      "text/plain": [
       "4"
      ]
     },
     "execution_count": 75,
     "metadata": {},
     "output_type": "execute_result"
    }
   ],
   "source": [
    "minimum3(13, 4, 5)"
   ]
  },
  {
   "cell_type": "code",
   "execution_count": 76,
   "id": "e6ad56f3",
   "metadata": {},
   "outputs": [
    {
     "data": {
      "text/plain": [
       "5"
      ]
     },
     "execution_count": 76,
     "metadata": {},
     "output_type": "execute_result"
    }
   ],
   "source": [
    "minimum3(13, 14, 5)"
   ]
  },
  {
   "cell_type": "code",
   "execution_count": 77,
   "id": "61e5958d",
   "metadata": {},
   "outputs": [],
   "source": [
    "def minimum4(a, b, c, d):\n",
    "    return minimum(\n",
    "        minimum(a, b), \n",
    "        minimum(c, d))"
   ]
  },
  {
   "cell_type": "markdown",
   "id": "384d1404",
   "metadata": {},
   "source": [
    "## Lists"
   ]
  },
  {
   "cell_type": "code",
   "execution_count": 78,
   "id": "e1ed2729",
   "metadata": {},
   "outputs": [],
   "source": [
    "x = [\"a\", \"b\", \"c\", \"d\"]"
   ]
  },
  {
   "cell_type": "code",
   "execution_count": 79,
   "id": "e5d74950",
   "metadata": {},
   "outputs": [
    {
     "data": {
      "text/plain": [
       "['a', 'b', 'c', 'd']"
      ]
     },
     "execution_count": 79,
     "metadata": {},
     "output_type": "execute_result"
    }
   ],
   "source": [
    "x"
   ]
  },
  {
   "cell_type": "code",
   "execution_count": 80,
   "id": "0045c015",
   "metadata": {},
   "outputs": [
    {
     "data": {
      "text/plain": [
       "4"
      ]
     },
     "execution_count": 80,
     "metadata": {},
     "output_type": "execute_result"
    }
   ],
   "source": [
    "len(x)"
   ]
  },
  {
   "cell_type": "code",
   "execution_count": 81,
   "id": "8d9632bc",
   "metadata": {},
   "outputs": [
    {
     "data": {
      "text/plain": [
       "'a'"
      ]
     },
     "execution_count": 81,
     "metadata": {},
     "output_type": "execute_result"
    }
   ],
   "source": [
    "x[0]"
   ]
  },
  {
   "cell_type": "code",
   "execution_count": 82,
   "id": "b747499f",
   "metadata": {},
   "outputs": [
    {
     "data": {
      "text/plain": [
       "'b'"
      ]
     },
     "execution_count": 82,
     "metadata": {},
     "output_type": "execute_result"
    }
   ],
   "source": [
    "x[1]"
   ]
  },
  {
   "cell_type": "code",
   "execution_count": 83,
   "id": "bcd09015",
   "metadata": {},
   "outputs": [],
   "source": [
    "x[0] = 'aa'"
   ]
  },
  {
   "cell_type": "code",
   "execution_count": 84,
   "id": "e1365b77",
   "metadata": {},
   "outputs": [
    {
     "data": {
      "text/plain": [
       "['aa', 'b', 'c', 'd']"
      ]
     },
     "execution_count": 84,
     "metadata": {},
     "output_type": "execute_result"
    }
   ],
   "source": [
    "x"
   ]
  },
  {
   "cell_type": "markdown",
   "id": "d1b3f3d0",
   "metadata": {},
   "source": [
    "### For loop"
   ]
  },
  {
   "cell_type": "markdown",
   "id": "85098740",
   "metadata": {},
   "source": [
    "The `for` loop is used to iterate over a list of elements."
   ]
  },
  {
   "cell_type": "code",
   "execution_count": 85,
   "id": "0c5df3a9",
   "metadata": {},
   "outputs": [],
   "source": [
    "names = [\"alice\", \"bob\", \"charlie\", \"dave\"]"
   ]
  },
  {
   "cell_type": "code",
   "execution_count": 86,
   "id": "8d7fa5f5",
   "metadata": {},
   "outputs": [
    {
     "name": "stdout",
     "output_type": "stream",
     "text": [
      "hello alice\n",
      "hello bob\n",
      "hello charlie\n",
      "hello dave\n"
     ]
    }
   ],
   "source": [
    "for name in names:\n",
    "    print(\"hello\", name)"
   ]
  },
  {
   "cell_type": "code",
   "execution_count": 87,
   "id": "98a26aec",
   "metadata": {},
   "outputs": [],
   "source": [
    "def welcome_all(names):\n",
    "    for name in names:\n",
    "        print(\"Hello\", name)"
   ]
  },
  {
   "cell_type": "code",
   "execution_count": 88,
   "id": "33b466c2",
   "metadata": {},
   "outputs": [
    {
     "name": "stdout",
     "output_type": "stream",
     "text": [
      "Hello alice\n",
      "Hello bob\n",
      "Hello charlie\n",
      "Hello dave\n"
     ]
    }
   ],
   "source": [
    "welcome_all(names)"
   ]
  },
  {
   "cell_type": "markdown",
   "id": "647b01c4",
   "metadata": {},
   "source": [
    "How to print each word of a sentence in a separate line?"
   ]
  },
  {
   "cell_type": "code",
   "execution_count": 89,
   "id": "b726c2c7",
   "metadata": {},
   "outputs": [],
   "source": [
    "sentence = \"when in doubt, use brute force\""
   ]
  },
  {
   "cell_type": "code",
   "execution_count": 127,
   "id": "c5859102",
   "metadata": {},
   "outputs": [],
   "source": [
    "words = sentence.split()"
   ]
  },
  {
   "cell_type": "code",
   "execution_count": 128,
   "id": "1b1c30ad",
   "metadata": {},
   "outputs": [
    {
     "data": {
      "text/plain": [
       "['when', 'in', 'doubt,', 'use', 'brute', 'force']"
      ]
     },
     "execution_count": 128,
     "metadata": {},
     "output_type": "execute_result"
    }
   ],
   "source": [
    "words"
   ]
  },
  {
   "cell_type": "code",
   "execution_count": 129,
   "id": "f9f271ea",
   "metadata": {},
   "outputs": [
    {
     "name": "stdout",
     "output_type": "stream",
     "text": [
      "when\n",
      "in\n",
      "doubt,\n",
      "use\n",
      "brute\n",
      "force\n"
     ]
    }
   ],
   "source": [
    "for word in words:\n",
    "    print(word)"
   ]
  },
  {
   "cell_type": "code",
   "execution_count": 93,
   "id": "61e1adae",
   "metadata": {},
   "outputs": [
    {
     "name": "stdout",
     "output_type": "stream",
     "text": [
      "when\n",
      "in\n",
      "doubt,\n",
      "use\n",
      "brute\n",
      "force\n"
     ]
    }
   ],
   "source": [
    "for word in sentence.split():\n",
    "    print(word)"
   ]
  },
  {
   "cell_type": "code",
   "execution_count": 95,
   "id": "883a4258",
   "metadata": {},
   "outputs": [],
   "source": [
    "names = ['a', 'b', 'c', 'd']"
   ]
  },
  {
   "cell_type": "code",
   "execution_count": 96,
   "id": "348064b9",
   "metadata": {},
   "outputs": [
    {
     "data": {
      "text/plain": [
       "['a', 'b', 'c', 'd']"
      ]
     },
     "execution_count": 96,
     "metadata": {},
     "output_type": "execute_result"
    }
   ],
   "source": [
    "names"
   ]
  },
  {
   "cell_type": "code",
   "execution_count": 97,
   "id": "b95e7fb2",
   "metadata": {},
   "outputs": [
    {
     "name": "stdout",
     "output_type": "stream",
     "text": [
      "a\n",
      "b\n",
      "c\n",
      "d\n"
     ]
    }
   ],
   "source": [
    "for name in names:\n",
    "    print(name)"
   ]
  },
  {
   "cell_type": "code",
   "execution_count": 98,
   "id": "31a8b0cd",
   "metadata": {},
   "outputs": [
    {
     "data": {
      "text/plain": [
       "'when in doubt, use brute force'"
      ]
     },
     "execution_count": 98,
     "metadata": {},
     "output_type": "execute_result"
    }
   ],
   "source": [
    "sentence"
   ]
  },
  {
   "cell_type": "code",
   "execution_count": 99,
   "id": "26a946e8",
   "metadata": {},
   "outputs": [
    {
     "data": {
      "text/plain": [
       "['when', 'in', 'doubt,', 'use', 'brute', 'force']"
      ]
     },
     "execution_count": 99,
     "metadata": {},
     "output_type": "execute_result"
    }
   ],
   "source": [
    "sentence.split()"
   ]
  },
  {
   "cell_type": "code",
   "execution_count": 100,
   "id": "7a460869",
   "metadata": {},
   "outputs": [
    {
     "data": {
      "text/plain": [
       "['when in doubt', ' use brute force']"
      ]
     },
     "execution_count": 100,
     "metadata": {},
     "output_type": "execute_result"
    }
   ],
   "source": [
    "sentence.split(\",\")"
   ]
  },
  {
   "cell_type": "code",
   "execution_count": 101,
   "id": "01225f29",
   "metadata": {},
   "outputs": [
    {
     "name": "stdout",
     "output_type": "stream",
     "text": [
      "Makefile\r\n",
      "Untitled.html\r\n",
      "Untitled.ipynb\r\n",
      "Untitled1.html\r\n",
      "args.py\r\n",
      "cat.py\r\n",
      "date.py\r\n",
      "day1.html\r\n",
      "day1.ipynb\r\n",
      "day2.html\r\n",
      "day2.ipynb\r\n",
      "echo.py\r\n",
      "hello.py\r\n",
      "index.html\r\n",
      "index.ipynb\r\n",
      "\u001b[34mnotes\u001b[m\u001b[m\r\n",
      "push\r\n",
      "square.py\r\n"
     ]
    }
   ],
   "source": [
    "!ls -1"
   ]
  },
  {
   "cell_type": "markdown",
   "id": "8c6b64bf",
   "metadata": {},
   "source": [
    "**Problem:** Write a program `ls.py` that takes path to a directory as a command-line argument and prints all the files in that directory. The output should have one filename per line.\n",
    "\n",
    "\n",
    "```\n",
    "$ python ls.py .\n",
    "day1.ipynb\n",
    "day1.html\n",
    "day2.ipynb\n",
    "day1.html\n",
    "square.py\n",
    "\n",
    "$ mkdir files\n",
    "$ touch files/a.txt files/b.txt\n",
    "$ python ls.py files\n",
    "a.txt\n",
    "b.txt\n",
    "```\n",
    "\n",
    "Hint: use `os.listdir`"
   ]
  },
  {
   "cell_type": "code",
   "execution_count": 102,
   "id": "0524f15c",
   "metadata": {},
   "outputs": [],
   "source": [
    "import os"
   ]
  },
  {
   "cell_type": "code",
   "execution_count": 103,
   "id": "b5b992b1",
   "metadata": {},
   "outputs": [
    {
     "data": {
      "text/plain": [
       "['hello.py',\n",
       " 'Untitled.html',\n",
       " 'index.html',\n",
       " 'Untitled.ipynb',\n",
       " 'Makefile',\n",
       " 'cat.py',\n",
       " 'day2.html',\n",
       " 'Untitled1.html',\n",
       " 'push',\n",
       " 'day2.ipynb',\n",
       " 'notes',\n",
       " 'day1.html',\n",
       " 'args.py',\n",
       " '.ipynb_checkpoints',\n",
       " 'square.py',\n",
       " 'day1.ipynb',\n",
       " 'echo.py',\n",
       " 'date.py',\n",
       " 'index.ipynb']"
      ]
     },
     "execution_count": 103,
     "metadata": {},
     "output_type": "execute_result"
    }
   ],
   "source": [
    "os.listdir(\".\")"
   ]
  },
  {
   "cell_type": "markdown",
   "id": "2ed6352f",
   "metadata": {},
   "source": [
    "**Problem:** Improve the above program to print the files in the current directory when no arguments are provided.\n",
    "\n",
    "```\n",
    "$ python ls.py\n",
    "day1.html\n",
    "day1.ipynb\n",
    "day2.html\n",
    "day2.ipynb\n",
    "...\n",
    "\n",
    "$ mkdir files\n",
    "$ touch files/a.txt files/b.txt\n",
    "$ python ls.py files\n",
    "a.txt\n",
    "b.txt\n",
    "```"
   ]
  },
  {
   "cell_type": "code",
   "execution_count": 110,
   "id": "dc5d85f9",
   "metadata": {},
   "outputs": [
    {
     "name": "stdout",
     "output_type": "stream",
     "text": [
      "Overwriting echo.py\n"
     ]
    }
   ],
   "source": [
    "%%file echo.py \n",
    "import sys\n",
    "arg = sys.argv[1]\n",
    "print(arg)"
   ]
  },
  {
   "cell_type": "code",
   "execution_count": 111,
   "id": "ad8bbeaf",
   "metadata": {},
   "outputs": [
    {
     "name": "stdout",
     "output_type": "stream",
     "text": [
      "hello\r\n"
     ]
    }
   ],
   "source": [
    "!python echo.py hello"
   ]
  },
  {
   "cell_type": "code",
   "execution_count": 112,
   "id": "ac94d2a1",
   "metadata": {},
   "outputs": [],
   "source": [
    "!mkdir files"
   ]
  },
  {
   "cell_type": "code",
   "execution_count": 113,
   "id": "617262dd",
   "metadata": {},
   "outputs": [],
   "source": [
    "!touch files/a.txt files/b.txt"
   ]
  },
  {
   "cell_type": "code",
   "execution_count": 114,
   "id": "830a5d49",
   "metadata": {},
   "outputs": [
    {
     "name": "stdout",
     "output_type": "stream",
     "text": [
      "a.txt b.txt\r\n"
     ]
    }
   ],
   "source": [
    "!ls files"
   ]
  },
  {
   "cell_type": "code",
   "execution_count": 116,
   "id": "0d5fad88",
   "metadata": {},
   "outputs": [
    {
     "name": "stdout",
     "output_type": "stream",
     "text": [
      "Makefile\r\n",
      "Untitled.html\r\n",
      "Untitled.ipynb\r\n",
      "Untitled1.html\r\n",
      "args.py\r\n",
      "cat.py\r\n",
      "date.py\r\n",
      "day1.html\r\n",
      "day1.ipynb\r\n",
      "day2.html\r\n",
      "day2.ipynb\r\n",
      "echo.py\r\n",
      "\u001b[34mfiles\u001b[m\u001b[m\r\n",
      "hello.py\r\n",
      "index.html\r\n",
      "index.ipynb\r\n",
      "\u001b[34mnotes\u001b[m\u001b[m\r\n",
      "push\r\n",
      "square.py\r\n"
     ]
    }
   ],
   "source": [
    "!ls -1 ."
   ]
  },
  {
   "cell_type": "code",
   "execution_count": 117,
   "id": "d90ce9a5",
   "metadata": {},
   "outputs": [
    {
     "name": "stdout",
     "output_type": "stream",
     "text": [
      "Makefile\r\n",
      "Untitled.html\r\n",
      "Untitled.ipynb\r\n",
      "Untitled1.html\r\n",
      "args.py\r\n",
      "cat.py\r\n",
      "date.py\r\n",
      "day1.html\r\n",
      "day1.ipynb\r\n",
      "day2.html\r\n",
      "day2.ipynb\r\n",
      "echo.py\r\n",
      "\u001b[34mfiles\u001b[m\u001b[m\r\n",
      "hello.py\r\n",
      "index.html\r\n",
      "index.ipynb\r\n",
      "\u001b[34mnotes\u001b[m\u001b[m\r\n",
      "push\r\n",
      "square.py\r\n"
     ]
    }
   ],
   "source": [
    "!ls -1 "
   ]
  },
  {
   "cell_type": "code",
   "execution_count": 122,
   "id": "8c427ae4",
   "metadata": {},
   "outputs": [
    {
     "name": "stdout",
     "output_type": "stream",
     "text": [
      "Overwriting ls.py\n"
     ]
    }
   ],
   "source": [
    "%%file ls.py\n",
    "import sys\n",
    "path = sys.argv[1]\n",
    "print(\"TODO: contents of directory\", path)"
   ]
  },
  {
   "cell_type": "code",
   "execution_count": 123,
   "id": "43e7c4c0",
   "metadata": {},
   "outputs": [
    {
     "name": "stdout",
     "output_type": "stream",
     "text": [
      "TODO: contents of directory files\r\n"
     ]
    }
   ],
   "source": [
    "!python ls.py files"
   ]
  },
  {
   "cell_type": "code",
   "execution_count": 124,
   "id": "503662a8",
   "metadata": {},
   "outputs": [
    {
     "name": "stdout",
     "output_type": "stream",
     "text": [
      "TODO: contents of directory .\r\n"
     ]
    }
   ],
   "source": [
    "!python ls.py ."
   ]
  },
  {
   "cell_type": "code",
   "execution_count": 125,
   "id": "a57d7cc1",
   "metadata": {},
   "outputs": [
    {
     "name": "stdout",
     "output_type": "stream",
     "text": [
      "Traceback (most recent call last):\r\n",
      "  File \"/Users/anand/trainings/2022/zeomega-python/ls.py\", line 2, in <module>\r\n",
      "    path = sys.argv[1]\r\n",
      "IndexError: list index out of range\r\n"
     ]
    }
   ],
   "source": [
    "!python ls.py"
   ]
  },
  {
   "cell_type": "code",
   "execution_count": 130,
   "id": "1a157418",
   "metadata": {},
   "outputs": [
    {
     "name": "stdout",
     "output_type": "stream",
     "text": [
      "import sys\r\n",
      "print(sys.argv)\r\n"
     ]
    }
   ],
   "source": [
    "!cat args.py"
   ]
  },
  {
   "cell_type": "code",
   "execution_count": 131,
   "id": "64e999bc",
   "metadata": {},
   "outputs": [
    {
     "name": "stdout",
     "output_type": "stream",
     "text": [
      "['args.py', 'hello']\r\n"
     ]
    }
   ],
   "source": [
    "!python args.py hello"
   ]
  },
  {
   "cell_type": "code",
   "execution_count": 132,
   "id": "f9f30ce6",
   "metadata": {},
   "outputs": [
    {
     "name": "stdout",
     "output_type": "stream",
     "text": [
      "['args.py', 'hello', 'world']\r\n"
     ]
    }
   ],
   "source": [
    "!python args.py hello world"
   ]
  },
  {
   "cell_type": "code",
   "execution_count": 133,
   "id": "6258746c",
   "metadata": {},
   "outputs": [
    {
     "name": "stdout",
     "output_type": "stream",
     "text": [
      "['args.py']\r\n"
     ]
    }
   ],
   "source": [
    "!python args.py"
   ]
  },
  {
   "cell_type": "code",
   "execution_count": 149,
   "id": "89acb322",
   "metadata": {},
   "outputs": [
    {
     "name": "stdout",
     "output_type": "stream",
     "text": [
      "Overwriting args2.py\n"
     ]
    }
   ],
   "source": [
    "%%file args2.py\n",
    "import sys\n",
    "print(sys.argv)\n",
    "# n = len(sys.argv)-1\n",
    "# print(\"provided\", n, \"arguments\")\n",
    "\n",
    "# if n > 0:\n",
    "#     print(\"argument provided\")\n",
    "# else:\n",
    "#     print(\"no argument provided\")\n",
    "\n",
    "if len(sys.argv) > 1:\n",
    "    print(\"argument provided\")\n",
    "else:\n",
    "    print(\"no argument provided\")"
   ]
  },
  {
   "cell_type": "code",
   "execution_count": 150,
   "id": "e582a33b",
   "metadata": {},
   "outputs": [
    {
     "name": "stdout",
     "output_type": "stream",
     "text": [
      "['args2.py', 'hello']\r\n",
      "argument provided\r\n"
     ]
    }
   ],
   "source": [
    "!python args2.py hello"
   ]
  },
  {
   "cell_type": "code",
   "execution_count": 151,
   "id": "cb7823e6",
   "metadata": {},
   "outputs": [
    {
     "name": "stdout",
     "output_type": "stream",
     "text": [
      "['args2.py']\r\n",
      "no argument provided\r\n"
     ]
    }
   ],
   "source": [
    "!python args2.py"
   ]
  },
  {
   "cell_type": "markdown",
   "id": "4211ca3c",
   "metadata": {},
   "source": [
    "**range**"
   ]
  },
  {
   "cell_type": "markdown",
   "id": "66f5c766",
   "metadata": {},
   "source": [
    "The `range` is used to create a sequence of numbers."
   ]
  },
  {
   "cell_type": "code",
   "execution_count": 152,
   "id": "7266f59b",
   "metadata": {},
   "outputs": [
    {
     "name": "stdout",
     "output_type": "stream",
     "text": [
      "0\n",
      "1\n",
      "2\n",
      "3\n",
      "4\n"
     ]
    }
   ],
   "source": [
    "for i in range(5):\n",
    "    print(i)"
   ]
  },
  {
   "cell_type": "code",
   "execution_count": 153,
   "id": "0eed6cad",
   "metadata": {},
   "outputs": [
    {
     "data": {
      "text/plain": [
       "range(0, 5)"
      ]
     },
     "execution_count": 153,
     "metadata": {},
     "output_type": "execute_result"
    }
   ],
   "source": [
    "range(5) # numbers from 0 to 4 (n-1, the number n is not included)"
   ]
  },
  {
   "cell_type": "code",
   "execution_count": 154,
   "id": "eb870f8a",
   "metadata": {},
   "outputs": [
    {
     "data": {
      "text/plain": [
       "[0, 1, 2, 3, 4]"
      ]
     },
     "execution_count": 154,
     "metadata": {},
     "output_type": "execute_result"
    }
   ],
   "source": [
    "list(range(5))"
   ]
  },
  {
   "cell_type": "code",
   "execution_count": 155,
   "id": "26cd32ef",
   "metadata": {},
   "outputs": [
    {
     "data": {
      "text/plain": [
       "[2, 3, 4]"
      ]
     },
     "execution_count": 155,
     "metadata": {},
     "output_type": "execute_result"
    }
   ],
   "source": [
    "list(range(2, 5)) # number from 2 to 4"
   ]
  },
  {
   "cell_type": "code",
   "execution_count": 156,
   "id": "fc19c77e",
   "metadata": {},
   "outputs": [
    {
     "data": {
      "text/plain": [
       "[2, 5, 8, 11, 14, 17]"
      ]
     },
     "execution_count": 156,
     "metadata": {},
     "output_type": "execute_result"
    }
   ],
   "source": [
    "list(range(2, 20, 3)) # number from 2 to 20 in steps of 3"
   ]
  },
  {
   "cell_type": "markdown",
   "id": "e68146bc",
   "metadata": {},
   "source": [
    "Let's say we want to print a message n times. "
   ]
  },
  {
   "cell_type": "code",
   "execution_count": 157,
   "id": "6b92294d",
   "metadata": {},
   "outputs": [
    {
     "name": "stdout",
     "output_type": "stream",
     "text": [
      "hello\n",
      "hello\n",
      "hello\n"
     ]
    }
   ],
   "source": [
    "for i in range(3):\n",
    "    print(\"hello\")"
   ]
  },
  {
   "cell_type": "markdown",
   "id": "c06754a8",
   "metadata": {},
   "source": [
    "Python has a built-in function `sum`."
   ]
  },
  {
   "cell_type": "code",
   "execution_count": 159,
   "id": "94f49bed",
   "metadata": {},
   "outputs": [
    {
     "data": {
      "text/plain": [
       "10"
      ]
     },
     "execution_count": 159,
     "metadata": {},
     "output_type": "execute_result"
    }
   ],
   "source": [
    "sum([1, 2, 3, 4])"
   ]
  },
  {
   "cell_type": "code",
   "execution_count": 160,
   "id": "68901dc0",
   "metadata": {},
   "outputs": [
    {
     "data": {
      "text/plain": [
       "4950"
      ]
     },
     "execution_count": 160,
     "metadata": {},
     "output_type": "execute_result"
    }
   ],
   "source": [
    "sum(range(100))"
   ]
  },
  {
   "cell_type": "code",
   "execution_count": 161,
   "id": "4f0677eb",
   "metadata": {},
   "outputs": [
    {
     "data": {
      "text/plain": [
       "499999500000"
      ]
     },
     "execution_count": 161,
     "metadata": {},
     "output_type": "execute_result"
    }
   ],
   "source": [
    "sum(range(1000000))"
   ]
  },
  {
   "cell_type": "markdown",
   "id": "38f532a7",
   "metadata": {},
   "source": [
    "Let's try to implement our own sum function."
   ]
  },
  {
   "cell_type": "code",
   "execution_count": 162,
   "id": "ff82ee9a",
   "metadata": {},
   "outputs": [],
   "source": [
    "def my_sum(numbers):\n",
    "    # initialize the result to the initial value\n",
    "    result = 0\n",
    "\n",
    "    # update the result in every iteration of the loop\n",
    "    for n in numbers:\n",
    "        result = result + n\n",
    "        \n",
    "    # finally, return the result \n",
    "    return result"
   ]
  },
  {
   "cell_type": "code",
   "execution_count": 163,
   "id": "b2bd3911",
   "metadata": {},
   "outputs": [
    {
     "data": {
      "text/plain": [
       "10"
      ]
     },
     "execution_count": 163,
     "metadata": {},
     "output_type": "execute_result"
    }
   ],
   "source": [
    "my_sum([1, 2, 3, 4])"
   ]
  },
  {
   "cell_type": "code",
   "execution_count": 164,
   "id": "225fdd28",
   "metadata": {},
   "outputs": [
    {
     "data": {
      "text/plain": [
       "4950"
      ]
     },
     "execution_count": 164,
     "metadata": {},
     "output_type": "execute_result"
    }
   ],
   "source": [
    "my_sum(range(100))"
   ]
  },
  {
   "cell_type": "code",
   "execution_count": 166,
   "id": "0bc5a392",
   "metadata": {},
   "outputs": [
    {
     "name": "stdout",
     "output_type": "stream",
     "text": [
      "begin\n",
      "loop 1\n"
     ]
    },
    {
     "data": {
      "text/plain": [
       "1"
      ]
     },
     "execution_count": 166,
     "metadata": {},
     "output_type": "execute_result"
    }
   ],
   "source": [
    "# this is incorrect\n",
    "def my_sum(numbers):\n",
    "    print(\"begin\")\n",
    "    result = 0\n",
    "    for n in numbers:\n",
    "        print(\"loop\", n)\n",
    "        result = result + n\n",
    "        return result\n",
    "    print(\"end\")\n",
    "\n",
    "    \n",
    "my_sum([1, 2, 3, 4]) # what will be the output of this?"
   ]
  },
  {
   "cell_type": "markdown",
   "id": "09da7df6",
   "metadata": {},
   "source": [
    "**Problem:** Write a function `product` to compute product of given numbers.\n",
    "\n",
    "```\n",
    ">>> product([1, 2, 3, 4])\n",
    "24\n",
    ">>> product([2, 3])\n",
    "6\n",
    "```"
   ]
  },
  {
   "cell_type": "markdown",
   "id": "3fee28ec",
   "metadata": {},
   "source": [
    "**Problem:** Can you implement a function `factorial` to compute factorial of a number using the above `product` function?\n",
    "\n",
    "Factorial is defined as:\n",
    "`factorial(n) = 1*2*3...*n`\n",
    "\n",
    "```\n",
    ">>> factorial(1)\n",
    "1\n",
    ">>> factorial(4)\n",
    "24\n",
    ">>> factorial(5)\n",
    "120\n",
    "```"
   ]
  },
  {
   "cell_type": "markdown",
   "id": "98bca884",
   "metadata": {},
   "source": [
    "### Modifying and Growing Lists"
   ]
  },
  {
   "cell_type": "code",
   "execution_count": 173,
   "id": "534776d7",
   "metadata": {},
   "outputs": [],
   "source": [
    "x = ['a', 'b', 'c', 'd']"
   ]
  },
  {
   "cell_type": "code",
   "execution_count": 174,
   "id": "85fb72d9",
   "metadata": {},
   "outputs": [],
   "source": [
    "x[0] = 'aa'"
   ]
  },
  {
   "cell_type": "code",
   "execution_count": 175,
   "id": "a3566341",
   "metadata": {},
   "outputs": [
    {
     "data": {
      "text/plain": [
       "['aa', 'b', 'c', 'd']"
      ]
     },
     "execution_count": 175,
     "metadata": {},
     "output_type": "execute_result"
    }
   ],
   "source": [
    "x"
   ]
  },
  {
   "cell_type": "markdown",
   "id": "6cfedefa",
   "metadata": {},
   "source": [
    "How to add a new element to a list?"
   ]
  },
  {
   "cell_type": "code",
   "execution_count": 176,
   "id": "7d2419a5",
   "metadata": {},
   "outputs": [],
   "source": [
    "x.append('e') # this modified the list in-place. nothing is returned"
   ]
  },
  {
   "cell_type": "code",
   "execution_count": 177,
   "id": "286c0b5c",
   "metadata": {},
   "outputs": [
    {
     "data": {
      "text/plain": [
       "['aa', 'b', 'c', 'd', 'e']"
      ]
     },
     "execution_count": 177,
     "metadata": {},
     "output_type": "execute_result"
    }
   ],
   "source": [
    "x"
   ]
  },
  {
   "cell_type": "markdown",
   "id": "3e0ac445",
   "metadata": {},
   "source": [
    "#### Example: squares"
   ]
  },
  {
   "cell_type": "markdown",
   "id": "b12f3e96",
   "metadata": {},
   "source": [
    "Let's write a function `squares`, that takes a list of numbers as argument and computes squares of each one of them.\n",
    "\n",
    "```\n",
    ">>> squares([1, 2, 3, 4])\n",
    "[1, 4, 9, 16]\n",
    ">>> squares([2, 3])\n",
    "[4, 9]\n",
    "```"
   ]
  },
  {
   "cell_type": "code",
   "execution_count": 178,
   "id": "6db6a070",
   "metadata": {},
   "outputs": [
    {
     "data": {
      "text/plain": [
       "[1, 4, 9, 16]"
      ]
     },
     "execution_count": 178,
     "metadata": {},
     "output_type": "execute_result"
    }
   ],
   "source": [
    "def squares(numbers):\n",
    "    result = []\n",
    "    for n in numbers:\n",
    "        result.append(n*n)\n",
    "    return result\n",
    "    \n",
    "squares([1, 2, 3, 4])"
   ]
  },
  {
   "cell_type": "code",
   "execution_count": 179,
   "id": "a7945370",
   "metadata": {},
   "outputs": [
    {
     "data": {
      "text/plain": [
       "[0, 1, 4, 9, 16, 25, 36, 49, 64, 81]"
      ]
     },
     "execution_count": 179,
     "metadata": {},
     "output_type": "execute_result"
    }
   ],
   "source": [
    "squares(range(10))"
   ]
  },
  {
   "cell_type": "code",
   "execution_count": 180,
   "id": "f6adf1e3",
   "metadata": {},
   "outputs": [
    {
     "data": {
      "text/plain": [
       "333332833333500000"
      ]
     },
     "execution_count": 180,
     "metadata": {},
     "output_type": "execute_result"
    }
   ],
   "source": [
    "sum(squares(range(1000000)))"
   ]
  },
  {
   "cell_type": "markdown",
   "id": "2d156bf0",
   "metadata": {},
   "source": [
    "**Problem:** Write a function `evens` that takes a list of numbers as argument and returns a new list containing only the even numbers out of it.\n",
    "\n",
    "```\n",
    ">>> evens([1, 2, 3, 4, 5, 6])\n",
    "[2, 4, 6]\n",
    "```"
   ]
  },
  {
   "cell_type": "code",
   "execution_count": 184,
   "id": "abe20b0d",
   "metadata": {},
   "outputs": [],
   "source": [
    "def evens(numbers):\n",
    "    result = []\n",
    "    for n in numbers:\n",
    "        if n % 2 == 0:\n",
    "            result.append(n)\n",
    "    return result"
   ]
  },
  {
   "cell_type": "code",
   "execution_count": 185,
   "id": "7d640ffa",
   "metadata": {},
   "outputs": [
    {
     "data": {
      "text/plain": [
       "[2, 4, 6]"
      ]
     },
     "execution_count": 185,
     "metadata": {},
     "output_type": "execute_result"
    }
   ],
   "source": [
    "evens([1, 2, 3, 4, 5, 6])"
   ]
  },
  {
   "cell_type": "markdown",
   "id": "7c7b4e7a",
   "metadata": {},
   "source": [
    "### List Comprehensions"
   ]
  },
  {
   "cell_type": "markdown",
   "id": "243407e0",
   "metadata": {},
   "source": [
    "List comprehensions are very expressive way to transform a list into another. "
   ]
  },
  {
   "cell_type": "code",
   "execution_count": 187,
   "id": "125869ef",
   "metadata": {},
   "outputs": [],
   "source": [
    "numbers = [1, 2, 3, 4, 5, 6]"
   ]
  },
  {
   "cell_type": "code",
   "execution_count": 188,
   "id": "37ba49a0",
   "metadata": {},
   "outputs": [
    {
     "data": {
      "text/plain": [
       "[1, 4, 9, 16, 25, 36]"
      ]
     },
     "execution_count": 188,
     "metadata": {},
     "output_type": "execute_result"
    }
   ],
   "source": [
    "[n*n for n in numbers]"
   ]
  },
  {
   "cell_type": "code",
   "execution_count": 189,
   "id": "db896d69",
   "metadata": {},
   "outputs": [
    {
     "data": {
      "text/plain": [
       "[4, 16, 36]"
      ]
     },
     "execution_count": 189,
     "metadata": {},
     "output_type": "execute_result"
    }
   ],
   "source": [
    "[n*n for n in numbers if n %2 == 0]"
   ]
  },
  {
   "cell_type": "code",
   "execution_count": 192,
   "id": "8e7eedf8",
   "metadata": {},
   "outputs": [
    {
     "data": {
      "text/plain": [
       "166666166667000000"
      ]
     },
     "execution_count": 192,
     "metadata": {},
     "output_type": "execute_result"
    }
   ],
   "source": [
    "# sum of squares of all even numbers below one million\n",
    "sum([n*n for n in range(1000000) if n % 2 == 0])"
   ]
  },
  {
   "cell_type": "markdown",
   "id": "ed5d86fc",
   "metadata": {},
   "source": [
    "Let's try to understand the pattern clearly:\n",
    "\n",
    "    [expr for a_var in a_list]\n",
    "    [expr for a_var in a_list if some_condition]\n",
    "   \n",
    "Let's see the same as for loop:\n",
    "\n",
    "```\n",
    "result = []\n",
    "for a_var in a_list:\n",
    "    result.append(expr)\n",
    "\n",
    "result = []\n",
    "for a_var in a_list:\n",
    "    if some_condition:\n",
    "        result.append(expr)\n",
    "```        "
   ]
  },
  {
   "cell_type": "markdown",
   "id": "21309f8a",
   "metadata": {},
   "source": [
    "How to find all the python files in the current directory?"
   ]
  },
  {
   "cell_type": "code",
   "execution_count": 193,
   "id": "ff43d180",
   "metadata": {},
   "outputs": [],
   "source": [
    "import os"
   ]
  },
  {
   "cell_type": "code",
   "execution_count": 195,
   "id": "08814860",
   "metadata": {},
   "outputs": [
    {
     "data": {
      "text/plain": [
       "['hello.py',\n",
       " 'cat.py',\n",
       " 'ls.py',\n",
       " 'args.py',\n",
       " 'square.py',\n",
       " 'echo.py',\n",
       " 'date.py',\n",
       " 'args2.py']"
      ]
     },
     "execution_count": 195,
     "metadata": {},
     "output_type": "execute_result"
    }
   ],
   "source": [
    "[f for f in os.listdir(\".\") if f.endswith(\".py\")]"
   ]
  },
  {
   "cell_type": "markdown",
   "id": "4891a178",
   "metadata": {},
   "source": [
    "How to find the total size of all the python files in the current directory?"
   ]
  },
  {
   "cell_type": "code",
   "execution_count": 196,
   "id": "95d4f359",
   "metadata": {},
   "outputs": [
    {
     "data": {
      "text/plain": [
       "[15, 32, 73, 27, 19, 40, 34, 269]"
      ]
     },
     "execution_count": 196,
     "metadata": {},
     "output_type": "execute_result"
    }
   ],
   "source": [
    "[os.path.getsize(f) for f in os.listdir(\".\") if f.endswith(\".py\")]"
   ]
  },
  {
   "cell_type": "code",
   "execution_count": 198,
   "id": "e048ea93",
   "metadata": {},
   "outputs": [
    {
     "data": {
      "text/plain": [
       "509"
      ]
     },
     "execution_count": 198,
     "metadata": {},
     "output_type": "execute_result"
    }
   ],
   "source": [
    "sum([os.path.getsize(f) for f in os.listdir(\".\") if f.endswith(\".py\")])"
   ]
  },
  {
   "cell_type": "markdown",
   "id": "64aa5f2b",
   "metadata": {},
   "source": [
    "**Problem:** Write a function `vowel_count` that takes any text as argument and returns the number of vowels it has.\n",
    "\n",
    "```\n",
    ">>> vowel_count(\"python\")\n",
    "1\n",
    ">>> vowel_count(\"when in doubt, use brute force\")\n",
    "10\n",
    "```"
   ]
  },
  {
   "cell_type": "code",
   "execution_count": 199,
   "id": "ee7905d1",
   "metadata": {},
   "outputs": [
    {
     "name": "stdout",
     "output_type": "stream",
     "text": [
      "p\n",
      "y\n",
      "t\n",
      "h\n",
      "o\n",
      "n\n"
     ]
    }
   ],
   "source": [
    "for c in \"python\":\n",
    "    print(c)"
   ]
  },
  {
   "cell_type": "markdown",
   "id": "c5a2df3c",
   "metadata": {},
   "source": [
    "### List comprehensions - recap"
   ]
  },
  {
   "cell_type": "code",
   "execution_count": 203,
   "id": "2fdd35bb",
   "metadata": {},
   "outputs": [],
   "source": [
    "def squares(numbers):\n",
    "    result = []\n",
    "    for n in numbers:\n",
    "        result.append(n*n)\n",
    "    return result"
   ]
  },
  {
   "cell_type": "code",
   "execution_count": 204,
   "id": "762309f8",
   "metadata": {},
   "outputs": [
    {
     "data": {
      "text/plain": [
       "[1, 4, 9, 16]"
      ]
     },
     "execution_count": 204,
     "metadata": {},
     "output_type": "execute_result"
    }
   ],
   "source": [
    "squares([1, 2, 3, 4])"
   ]
  },
  {
   "cell_type": "markdown",
   "id": "a0009242",
   "metadata": {},
   "source": [
    "List comprehensions are used to generate new lists. "
   ]
  },
  {
   "cell_type": "code",
   "execution_count": 205,
   "id": "9357daab",
   "metadata": {},
   "outputs": [
    {
     "data": {
      "text/plain": [
       "[1, 4, 9, 16, 25, 36]"
      ]
     },
     "execution_count": 205,
     "metadata": {},
     "output_type": "execute_result"
    }
   ],
   "source": [
    "[n*n for n in numbers]"
   ]
  },
  {
   "cell_type": "code",
   "execution_count": 207,
   "id": "4a5bfa27",
   "metadata": {},
   "outputs": [],
   "source": [
    "# name and marks for every student\n",
    "records = [\n",
    "    (\"A\", 98),\n",
    "    (\"B\", 56),\n",
    "    (\"C\", 78)\n",
    "]"
   ]
  },
  {
   "cell_type": "markdown",
   "id": "4ddf48ea",
   "metadata": {},
   "source": [
    "How to find the average marks of all the students?"
   ]
  },
  {
   "cell_type": "code",
   "execution_count": 208,
   "id": "29f70748",
   "metadata": {},
   "outputs": [
    {
     "name": "stdout",
     "output_type": "stream",
     "text": [
      "77.33333333333333\n"
     ]
    }
   ],
   "source": [
    "total = 0\n",
    "for r in records:\n",
    "    total = total + r[1]\n",
    "avg = total / len(records)\n",
    "print(avg)"
   ]
  },
  {
   "cell_type": "code",
   "execution_count": 209,
   "id": "faca4c5f",
   "metadata": {},
   "outputs": [
    {
     "data": {
      "text/plain": [
       "[98, 56, 78]"
      ]
     },
     "execution_count": 209,
     "metadata": {},
     "output_type": "execute_result"
    }
   ],
   "source": [
    "[r[1] for r in records]"
   ]
  },
  {
   "cell_type": "code",
   "execution_count": 210,
   "id": "9952bb0e",
   "metadata": {},
   "outputs": [
    {
     "data": {
      "text/plain": [
       "232"
      ]
     },
     "execution_count": 210,
     "metadata": {},
     "output_type": "execute_result"
    }
   ],
   "source": [
    "sum([r[1] for r in records])"
   ]
  },
  {
   "cell_type": "code",
   "execution_count": 211,
   "id": "e71bf078",
   "metadata": {},
   "outputs": [
    {
     "data": {
      "text/plain": [
       "77.33333333333333"
      ]
     },
     "execution_count": 211,
     "metadata": {},
     "output_type": "execute_result"
    }
   ],
   "source": [
    "sum([r[1] for r in records]) / len(records)"
   ]
  },
  {
   "cell_type": "code",
   "execution_count": 212,
   "id": "5fbf0976",
   "metadata": {},
   "outputs": [],
   "source": [
    "def vowel_count(text):\n",
    "    vowels = [c for c in text.lower() if c in 'aeiou']\n",
    "    return len(vowels)"
   ]
  },
  {
   "cell_type": "code",
   "execution_count": 213,
   "id": "7f91177b",
   "metadata": {},
   "outputs": [
    {
     "data": {
      "text/plain": [
       "1"
      ]
     },
     "execution_count": 213,
     "metadata": {},
     "output_type": "execute_result"
    }
   ],
   "source": [
    "vowel_count(\"python\")"
   ]
  },
  {
   "cell_type": "code",
   "execution_count": 214,
   "id": "4144be74",
   "metadata": {},
   "outputs": [
    {
     "data": {
      "text/plain": [
       "10"
      ]
     },
     "execution_count": 214,
     "metadata": {},
     "output_type": "execute_result"
    }
   ],
   "source": [
    "vowel_count(\"when in doubt, use brute force\")"
   ]
  },
  {
   "cell_type": "markdown",
   "id": "862c1277",
   "metadata": {},
   "source": [
    "How to find average word length in the given sentence."
   ]
  },
  {
   "cell_type": "code",
   "execution_count": 215,
   "id": "65cc79fa",
   "metadata": {},
   "outputs": [],
   "source": [
    "def average(numbers):\n",
    "    return sum(numbers) / len(numbers)"
   ]
  },
  {
   "cell_type": "code",
   "execution_count": 216,
   "id": "84e9f24c",
   "metadata": {},
   "outputs": [
    {
     "data": {
      "text/plain": [
       "4.166666666666667"
      ]
     },
     "execution_count": 216,
     "metadata": {},
     "output_type": "execute_result"
    }
   ],
   "source": [
    "sentence = \"when in doubt, use brute force\"\n",
    "average([len(w) for w in sentence.split()])"
   ]
  },
  {
   "cell_type": "code",
   "execution_count": 217,
   "id": "e456ebc3",
   "metadata": {},
   "outputs": [
    {
     "name": "stdout",
     "output_type": "stream",
     "text": [
      "4.166666666666667\n"
     ]
    }
   ],
   "source": [
    "# traditional approach\n",
    "total = 0\n",
    "words = sentence.split()\n",
    "for w in words:\n",
    "    total = total + len(w)\n",
    "avg = total / len(words)\n",
    "print(avg)"
   ]
  },
  {
   "cell_type": "markdown",
   "id": "6bc16862",
   "metadata": {},
   "source": [
    "How to compute average vowels per word in a sentence?"
   ]
  },
  {
   "cell_type": "code",
   "execution_count": 218,
   "id": "c83c0894",
   "metadata": {},
   "outputs": [
    {
     "data": {
      "text/plain": [
       "1.6666666666666667"
      ]
     },
     "execution_count": 218,
     "metadata": {},
     "output_type": "execute_result"
    }
   ],
   "source": [
    "average([vowel_count(w) for w in sentence.split()])"
   ]
  },
  {
   "cell_type": "markdown",
   "id": "87c371ea",
   "metadata": {},
   "source": [
    "**Q:** clarificatin about triplets.\n",
    "    \n",
    "Write a function triplets that takes a number n as argument and returns a list of triplets such that sum of first two elements of the triplet equals the third element using numbers below n. Please note that (a, b, c) and (b, a, c) represent the same triplet.\n",
    "\n",
    "The exepected answer is:\n",
    "\n",
    "```\n",
    ">>> triplets(5)\n",
    "[(1, 1, 2), (1, 2, 3), (1, 3, 4), (2, 2, 4)]\n",
    "```\n",
    "\n",
    "Not this:\n",
    "```\n",
    ">>> triplets(5)\n",
    "[(1, 1, 2), (1, 2, 3), (2, 1, 3), (1, 3, 4), (3, 1, 4), (2, 2, 4)]\n",
    "```"
   ]
  },
  {
   "cell_type": "markdown",
   "id": "b94c1f79",
   "metadata": {},
   "source": [
    "### Iteration Patterns"
   ]
  },
  {
   "cell_type": "markdown",
   "id": "eed02a2f",
   "metadata": {},
   "source": [
    "**Iterating over a list**"
   ]
  },
  {
   "cell_type": "code",
   "execution_count": 219,
   "id": "a6788b55",
   "metadata": {},
   "outputs": [],
   "source": [
    "x = ['a', 'b', 'c', 'd']"
   ]
  },
  {
   "cell_type": "code",
   "execution_count": 220,
   "id": "b1a5a094",
   "metadata": {},
   "outputs": [
    {
     "name": "stdout",
     "output_type": "stream",
     "text": [
      "a A\n",
      "b B\n",
      "c C\n",
      "d D\n"
     ]
    }
   ],
   "source": [
    "for a in x:\n",
    "    print(a, a.upper())"
   ]
  },
  {
   "cell_type": "code",
   "execution_count": 221,
   "id": "1d90f6f9",
   "metadata": {},
   "outputs": [
    {
     "data": {
      "text/plain": [
       "['A', 'B', 'C', 'D']"
      ]
     },
     "execution_count": 221,
     "metadata": {},
     "output_type": "execute_result"
    }
   ],
   "source": [
    "[a.upper() for a in x]"
   ]
  },
  {
   "cell_type": "markdown",
   "id": "d8ec7a60",
   "metadata": {},
   "source": [
    "**Iterate over a sequence of numbers**"
   ]
  },
  {
   "cell_type": "code",
   "execution_count": 222,
   "id": "864ae996",
   "metadata": {},
   "outputs": [
    {
     "name": "stdout",
     "output_type": "stream",
     "text": [
      "0 0\n",
      "1 1\n",
      "2 4\n",
      "3 9\n",
      "4 16\n"
     ]
    }
   ],
   "source": [
    "for i in range(5):\n",
    "    print(i, i*i)"
   ]
  },
  {
   "cell_type": "code",
   "execution_count": 223,
   "id": "d53611a4",
   "metadata": {},
   "outputs": [
    {
     "data": {
      "text/plain": [
       "[0, 1, 4, 9, 16]"
      ]
     },
     "execution_count": 223,
     "metadata": {},
     "output_type": "execute_result"
    }
   ],
   "source": [
    "[i*i for i in range(5)]"
   ]
  },
  {
   "cell_type": "markdown",
   "id": "6e845177",
   "metadata": {},
   "source": [
    "**Iterating over two lists at the same time**"
   ]
  },
  {
   "cell_type": "code",
   "execution_count": 224,
   "id": "01987d3b",
   "metadata": {},
   "outputs": [],
   "source": [
    "names = ['A', 'B', 'C', 'D']\n",
    "scores = [10, 20, 30, 40]"
   ]
  },
  {
   "cell_type": "code",
   "execution_count": 226,
   "id": "d58c18e0",
   "metadata": {},
   "outputs": [
    {
     "ename": "ValueError",
     "evalue": "too many values to unpack (expected 2)",
     "output_type": "error",
     "traceback": [
      "\u001b[0;31m---------------------------------------------------------------------------\u001b[0m",
      "\u001b[0;31mValueError\u001b[0m                                Traceback (most recent call last)",
      "Input \u001b[0;32mIn [226]\u001b[0m, in \u001b[0;36m<module>\u001b[0;34m\u001b[0m\n\u001b[0;32m----> 1\u001b[0m \u001b[38;5;28;01mfor\u001b[39;00m name, score \u001b[38;5;129;01min\u001b[39;00m names, scores:\n\u001b[1;32m      2\u001b[0m         \u001b[38;5;28mprint\u001b[39m(name, score)\n",
      "\u001b[0;31mValueError\u001b[0m: too many values to unpack (expected 2)"
     ]
    }
   ],
   "source": [
    "for name, score in names, scores:\n",
    "        print(name, score)"
   ]
  },
  {
   "cell_type": "code",
   "execution_count": 227,
   "id": "41075122",
   "metadata": {},
   "outputs": [
    {
     "name": "stdout",
     "output_type": "stream",
     "text": [
      "['A', 'B', 'C', 'D']\n",
      "[10, 20, 30, 40]\n"
     ]
    }
   ],
   "source": [
    "for x in names, scores:\n",
    "    print(x)"
   ]
  },
  {
   "cell_type": "code",
   "execution_count": 228,
   "id": "1bc10023",
   "metadata": {},
   "outputs": [
    {
     "name": "stdout",
     "output_type": "stream",
     "text": [
      "A 10\n",
      "B 20\n",
      "C 30\n",
      "D 40\n"
     ]
    }
   ],
   "source": [
    "for i in range(len(names)):\n",
    "    print(names[i], scores[i])"
   ]
  },
  {
   "cell_type": "code",
   "execution_count": 229,
   "id": "6f719874",
   "metadata": {},
   "outputs": [
    {
     "name": "stdout",
     "output_type": "stream",
     "text": [
      "('A', 10)\n",
      "('B', 20)\n",
      "('C', 30)\n",
      "('D', 40)\n"
     ]
    }
   ],
   "source": [
    "for x in zip(names, scores):\n",
    "    print(x)"
   ]
  },
  {
   "cell_type": "code",
   "execution_count": 230,
   "id": "5841894d",
   "metadata": {},
   "outputs": [
    {
     "name": "stdout",
     "output_type": "stream",
     "text": [
      "A 10\n",
      "B 20\n",
      "C 30\n",
      "D 40\n"
     ]
    }
   ],
   "source": [
    "for name, score in zip(names, scores):\n",
    "    print(name, score)"
   ]
  },
  {
   "cell_type": "markdown",
   "id": "9a9bc31a",
   "metadata": {},
   "source": [
    "**Problem:** write a function `vector_add` to add two vectors.\n",
    "    \n",
    "```    \n",
    ">>> vector_add([1, 2, 3, 4], [10, 20, 30, 40])\n",
    "[11, 22, 33, 44]\n",
    "```"
   ]
  },
  {
   "cell_type": "markdown",
   "id": "c4a8f5c9",
   "metadata": {},
   "source": [
    "**Iterating over the index and the elements together**"
   ]
  },
  {
   "cell_type": "code",
   "execution_count": 233,
   "id": "049215ef",
   "metadata": {},
   "outputs": [],
   "source": [
    "chapters = [\n",
    "    \"Getting Started\",\n",
    "    \"Functions\",\n",
    "    \"Lists\",\n",
    "    \"Dictionaries\"\n",
    "]"
   ]
  },
  {
   "cell_type": "markdown",
   "id": "8550d77c",
   "metadata": {},
   "source": [
    "How to print chapter number and title together?"
   ]
  },
  {
   "cell_type": "code",
   "execution_count": 234,
   "id": "9d5d122a",
   "metadata": {},
   "outputs": [
    {
     "name": "stdout",
     "output_type": "stream",
     "text": [
      "0 Getting Started\n",
      "1 Functions\n",
      "2 Lists\n",
      "3 Dictionaries\n"
     ]
    }
   ],
   "source": [
    "for i, title in enumerate(chapters):\n",
    "    print(i, title)"
   ]
  },
  {
   "cell_type": "code",
   "execution_count": 236,
   "id": "52836f8f",
   "metadata": {},
   "outputs": [
    {
     "name": "stdout",
     "output_type": "stream",
     "text": [
      "Chapter 1 Getting Started\n",
      "Chapter 2 Functions\n",
      "Chapter 3 Lists\n",
      "Chapter 4 Dictionaries\n"
     ]
    }
   ],
   "source": [
    "for i, title in enumerate(chapters):\n",
    "    print(\"Chapter\", i+1, title)"
   ]
  },
  {
   "cell_type": "code",
   "execution_count": 238,
   "id": "e114614c",
   "metadata": {},
   "outputs": [
    {
     "name": "stdout",
     "output_type": "stream",
     "text": [
      "Chapter 1: Getting Started\n",
      "Chapter 2: Functions\n",
      "Chapter 3: Lists\n",
      "Chapter 4: Dictionaries\n"
     ]
    }
   ],
   "source": [
    "for i, title in enumerate(chapters):\n",
    "    print(f\"Chapter {i+1}: {title}\")"
   ]
  },
  {
   "cell_type": "code",
   "execution_count": 239,
   "id": "c8ff8f23",
   "metadata": {},
   "outputs": [
    {
     "name": "stdout",
     "output_type": "stream",
     "text": [
      "Chapter 1: Getting Started\n",
      "Chapter 2: Functions\n",
      "Chapter 3: Lists\n",
      "Chapter 4: Dictionaries\n"
     ]
    }
   ],
   "source": [
    "for i, title in enumerate(chapters, start=1):\n",
    "    print(f\"Chapter {i}: {title}\")"
   ]
  },
  {
   "cell_type": "markdown",
   "id": "c57d25fc",
   "metadata": {},
   "source": [
    "### List Indexing"
   ]
  },
  {
   "cell_type": "code",
   "execution_count": 240,
   "id": "4c966606",
   "metadata": {},
   "outputs": [],
   "source": [
    "x = ['a', 'b', 'c', 'd']"
   ]
  },
  {
   "cell_type": "code",
   "execution_count": 241,
   "id": "de7798ae",
   "metadata": {},
   "outputs": [
    {
     "data": {
      "text/plain": [
       "'a'"
      ]
     },
     "execution_count": 241,
     "metadata": {},
     "output_type": "execute_result"
    }
   ],
   "source": [
    "x[0]"
   ]
  },
  {
   "cell_type": "markdown",
   "id": "3164bfcf",
   "metadata": {},
   "source": [
    "How to get the last element?"
   ]
  },
  {
   "cell_type": "code",
   "execution_count": 242,
   "id": "92d0e553",
   "metadata": {},
   "outputs": [
    {
     "data": {
      "text/plain": [
       "'d'"
      ]
     },
     "execution_count": 242,
     "metadata": {},
     "output_type": "execute_result"
    }
   ],
   "source": [
    "x[-1] # last element"
   ]
  },
  {
   "cell_type": "markdown",
   "id": "437d49a7",
   "metadata": {},
   "source": [
    "```\n",
    "+----+----+----+----+\n",
    "|  a |  b |  c |  d |\n",
    "+----+----+----+----+\n",
    "|  0 |  1 |  2 |  3 | --> regular index\n",
    "+----+----+----+----+\n",
    "| -4 | -3 | -2 | -1 | <-- negative index\n",
    "+----+----+----+----+\n",
    "```"
   ]
  },
  {
   "cell_type": "code",
   "execution_count": 243,
   "id": "a1b4bfc1",
   "metadata": {},
   "outputs": [],
   "source": [
    "def get_last_word(sentence):\n",
    "    return sentence.split()[-1]"
   ]
  },
  {
   "cell_type": "code",
   "execution_count": 244,
   "id": "912cd2a0",
   "metadata": {},
   "outputs": [
    {
     "data": {
      "text/plain": [
       "'three'"
      ]
     },
     "execution_count": 244,
     "metadata": {},
     "output_type": "execute_result"
    }
   ],
   "source": [
    "get_last_word(\"one two three\")"
   ]
  },
  {
   "cell_type": "markdown",
   "id": "42f98857",
   "metadata": {},
   "source": [
    "### List Slicing"
   ]
  },
  {
   "cell_type": "code",
   "execution_count": 245,
   "id": "e9935528",
   "metadata": {},
   "outputs": [],
   "source": [
    "x = ['a', 'b', 'c', 'd', 'e', 'f', 'g', 'h']"
   ]
  },
  {
   "cell_type": "code",
   "execution_count": 246,
   "id": "fffc359c",
   "metadata": {},
   "outputs": [
    {
     "data": {
      "text/plain": [
       "['a', 'b']"
      ]
     },
     "execution_count": 246,
     "metadata": {},
     "output_type": "execute_result"
    }
   ],
   "source": [
    "x[0:2] # from index 0 unto index 2 (end is not included)"
   ]
  },
  {
   "cell_type": "code",
   "execution_count": 247,
   "id": "722b615e",
   "metadata": {},
   "outputs": [
    {
     "data": {
      "text/plain": [
       "['a', 'b']"
      ]
     },
     "execution_count": 247,
     "metadata": {},
     "output_type": "execute_result"
    }
   ],
   "source": [
    "x[:2] # upto index 2"
   ]
  },
  {
   "cell_type": "code",
   "execution_count": 248,
   "id": "ee0d42b0",
   "metadata": {},
   "outputs": [
    {
     "data": {
      "text/plain": [
       "['b', 'c', 'd', 'e', 'f']"
      ]
     },
     "execution_count": 248,
     "metadata": {},
     "output_type": "execute_result"
    }
   ],
   "source": [
    "x[1:6] # from index 1 upto 6"
   ]
  },
  {
   "cell_type": "code",
   "execution_count": 249,
   "id": "2930c899",
   "metadata": {},
   "outputs": [
    {
     "data": {
      "text/plain": [
       "['c', 'd', 'e', 'f', 'g', 'h']"
      ]
     },
     "execution_count": 249,
     "metadata": {},
     "output_type": "execute_result"
    }
   ],
   "source": [
    "x[2:] # from index 2 onwards"
   ]
  },
  {
   "cell_type": "markdown",
   "id": "f0bb64ea",
   "metadata": {},
   "source": [
    "How to take alternative elements?"
   ]
  },
  {
   "cell_type": "code",
   "execution_count": 250,
   "id": "5f374ffb",
   "metadata": {},
   "outputs": [
    {
     "data": {
      "text/plain": [
       "['b', 'd', 'f']"
      ]
     },
     "execution_count": 250,
     "metadata": {},
     "output_type": "execute_result"
    }
   ],
   "source": [
    "x[1:6:2] # from index 1 upto 6, take every 2nd element"
   ]
  },
  {
   "cell_type": "code",
   "execution_count": 251,
   "id": "9d497534",
   "metadata": {},
   "outputs": [
    {
     "data": {
      "text/plain": [
       "['a', 'b', 'c', 'd', 'e', 'f', 'g']"
      ]
     },
     "execution_count": 251,
     "metadata": {},
     "output_type": "execute_result"
    }
   ],
   "source": [
    "x[:-1] # all except the last element"
   ]
  },
  {
   "cell_type": "markdown",
   "id": "90e9f846",
   "metadata": {},
   "source": [
    "How to get the last two elements?"
   ]
  },
  {
   "cell_type": "code",
   "execution_count": 252,
   "id": "041ce1a3",
   "metadata": {},
   "outputs": [
    {
     "data": {
      "text/plain": [
       "['g', 'h']"
      ]
     },
     "execution_count": 252,
     "metadata": {},
     "output_type": "execute_result"
    }
   ],
   "source": [
    "x[-2:]"
   ]
  },
  {
   "cell_type": "code",
   "execution_count": 253,
   "id": "ae0027d7",
   "metadata": {},
   "outputs": [
    {
     "data": {
      "text/plain": [
       "['a', 'b', 'c', 'd', 'e', 'f', 'g', 'h']"
      ]
     },
     "execution_count": 253,
     "metadata": {},
     "output_type": "execute_result"
    }
   ],
   "source": [
    "x[:] # copy of x"
   ]
  },
  {
   "cell_type": "markdown",
   "id": "da3fceca",
   "metadata": {},
   "source": [
    "how to get the list in reverse order?"
   ]
  },
  {
   "cell_type": "code",
   "execution_count": 254,
   "id": "92fce623",
   "metadata": {},
   "outputs": [
    {
     "data": {
      "text/plain": [
       "['h', 'g', 'f', 'e', 'd', 'c', 'b', 'a']"
      ]
     },
     "execution_count": 254,
     "metadata": {},
     "output_type": "execute_result"
    }
   ],
   "source": [
    "x[::-1]"
   ]
  },
  {
   "cell_type": "markdown",
   "id": "b82517b8",
   "metadata": {},
   "source": [
    "#### Example: echo v2"
   ]
  },
  {
   "cell_type": "markdown",
   "id": "b87bffe9",
   "metadata": {},
   "source": [
    "We've written an echo.py that printed only the first argument. Let's improve that to print all the arguments."
   ]
  },
  {
   "cell_type": "code",
   "execution_count": 258,
   "id": "eaf7d8b8",
   "metadata": {},
   "outputs": [
    {
     "name": "stdout",
     "output_type": "stream",
     "text": [
      "Overwriting echo2.py\n"
     ]
    }
   ],
   "source": [
    "%%file echo2.py\n",
    "import sys\n",
    "\n",
    "args = sys.argv[1:]\n",
    "print(\" \".join(args))"
   ]
  },
  {
   "cell_type": "code",
   "execution_count": 259,
   "id": "5a1e69d3",
   "metadata": {},
   "outputs": [
    {
     "name": "stdout",
     "output_type": "stream",
     "text": [
      "hello world\r\n"
     ]
    }
   ],
   "source": [
    "!python echo2.py hello world"
   ]
  },
  {
   "cell_type": "code",
   "execution_count": 257,
   "id": "fd7f44fc",
   "metadata": {},
   "outputs": [
    {
     "name": "stdout",
     "output_type": "stream",
     "text": [
      "hello world\r\n"
     ]
    }
   ],
   "source": [
    "!echo hello world"
   ]
  },
  {
   "cell_type": "markdown",
   "id": "17cd20da",
   "metadata": {},
   "source": [
    "#### Sorting Lists"
   ]
  },
  {
   "cell_type": "code",
   "execution_count": 260,
   "id": "5d11cd13",
   "metadata": {},
   "outputs": [],
   "source": [
    "names = [\"alice\", \"dave\", \"charlie\", \"bob\"]"
   ]
  },
  {
   "cell_type": "code",
   "execution_count": 261,
   "id": "ad288838",
   "metadata": {},
   "outputs": [],
   "source": [
    "names.sort() # sorts in-place"
   ]
  },
  {
   "cell_type": "code",
   "execution_count": 262,
   "id": "16697e41",
   "metadata": {},
   "outputs": [
    {
     "data": {
      "text/plain": [
       "['alice', 'bob', 'charlie', 'dave']"
      ]
     },
     "execution_count": 262,
     "metadata": {},
     "output_type": "execute_result"
    }
   ],
   "source": [
    "names"
   ]
  },
  {
   "cell_type": "code",
   "execution_count": 263,
   "id": "7fb64546",
   "metadata": {},
   "outputs": [],
   "source": [
    "names = [\"alice\", \"dave\", \"charlie\", \"bob\"]"
   ]
  },
  {
   "cell_type": "code",
   "execution_count": 265,
   "id": "9b3cd13b",
   "metadata": {},
   "outputs": [
    {
     "data": {
      "text/plain": [
       "['alice', 'bob', 'charlie', 'dave']"
      ]
     },
     "execution_count": 265,
     "metadata": {},
     "output_type": "execute_result"
    }
   ],
   "source": [
    "# returns a new sorted list, without modifying the original\n",
    "sorted(names) "
   ]
  },
  {
   "cell_type": "code",
   "execution_count": 266,
   "id": "a7486a77",
   "metadata": {},
   "outputs": [
    {
     "data": {
      "text/plain": [
       "['bob', 'dave', 'alice', 'charlie']"
      ]
     },
     "execution_count": 266,
     "metadata": {},
     "output_type": "execute_result"
    }
   ],
   "source": [
    "sorted(names, key=len)"
   ]
  },
  {
   "cell_type": "code",
   "execution_count": 270,
   "id": "3aea505f",
   "metadata": {},
   "outputs": [
    {
     "data": {
      "text/plain": [
       "['charlie', 'alice', 'dave', 'bob']"
      ]
     },
     "execution_count": 270,
     "metadata": {},
     "output_type": "execute_result"
    }
   ],
   "source": [
    "sorted(names, key=len, reverse=True)"
   ]
  },
  {
   "cell_type": "markdown",
   "id": "83cef46e",
   "metadata": {},
   "source": [
    "Let's list all files in a directory sorted by size."
   ]
  },
  {
   "cell_type": "code",
   "execution_count": 271,
   "id": "51d0b30d",
   "metadata": {},
   "outputs": [
    {
     "name": "stdout",
     "output_type": "stream",
     "text": [
      "total 6936\r\n",
      "-rw-r--r--   1 anand  staff  813950 Feb  8 16:56 day2.html\r\n",
      "-rw-r--r--   1 anand  staff  799312 Feb  8 09:37 day1.html\r\n",
      "-rw-r--r--   1 anand  staff  577240 Feb  5 07:40 index.html\r\n",
      "-rw-r--r--   1 anand  staff  575955 Feb  8 09:31 Untitled1.html\r\n",
      "-rw-r--r--   1 anand  staff  575899 Feb  7 09:25 Untitled.html\r\n",
      "-rw-r--r--   1 anand  staff   74983 Feb  8 16:56 day2.ipynb\r\n",
      "-rw-r--r--   1 anand  staff   71390 Feb  8 09:37 day1.ipynb\r\n",
      "-rw-r--r--   1 anand  staff    1751 Feb  5 07:40 index.ipynb\r\n",
      "-rw-r--r--   1 anand  staff    1128 Feb  7 09:25 Untitled.ipynb\r\n",
      "-rw-r--r--   1 anand  staff     495 Feb  5 06:40 Makefile\r\n",
      "drwxr-xr-x  13 anand  staff     416 Feb  7 03:07 \u001b[34mnotes\u001b[m\u001b[m\r\n",
      "-rw-r--r--   1 anand  staff     269 Feb  8 11:52 args2.py\r\n",
      "drwxr-xr-x   4 anand  staff     128 Feb  8 11:40 \u001b[34mfiles\u001b[m\u001b[m\r\n",
      "-rw-r--r--   1 anand  staff      73 Feb  8 11:43 ls.py\r\n",
      "-rw-r--r--   1 anand  staff      54 Feb  8 16:53 echo2.py\r\n",
      "-rw-r--r--   1 anand  staff      40 Feb  8 11:31 echo.py\r\n",
      "-rw-r--r--   1 anand  staff      34 Feb  7 12:54 date.py\r\n",
      "-rw-r--r--   1 anand  staff      32 Feb  7 10:58 cat.py\r\n",
      "-rw-r--r--   1 anand  staff      27 Feb  7 13:01 args.py\r\n",
      "-rw-r--r--   1 anand  staff      19 Feb  7 13:05 square.py\r\n",
      "-rw-r--r--   1 anand  staff      15 Feb  7 10:14 hello.py\r\n",
      "-rw-r--r--   1 anand  staff       0 Feb  8 16:56 push\r\n"
     ]
    }
   ],
   "source": [
    "!ls -lS"
   ]
  },
  {
   "cell_type": "code",
   "execution_count": 272,
   "id": "5e7391ef",
   "metadata": {},
   "outputs": [],
   "source": [
    "import os"
   ]
  },
  {
   "cell_type": "code",
   "execution_count": 273,
   "id": "9a6d01a5",
   "metadata": {},
   "outputs": [],
   "source": [
    "files = os.listdir(\".\")"
   ]
  },
  {
   "cell_type": "code",
   "execution_count": 276,
   "id": "040535b5",
   "metadata": {},
   "outputs": [
    {
     "name": "stdout",
     "output_type": "stream",
     "text": [
      "day2.html\n",
      "day1.html\n",
      "index.html\n",
      "Untitled1.html\n",
      "Untitled.html\n",
      "day2.ipynb\n",
      "day1.ipynb\n",
      "index.ipynb\n",
      "Untitled.ipynb\n",
      "Makefile\n",
      "notes\n",
      "args2.py\n",
      ".ipynb_checkpoints\n",
      "files\n",
      "ls.py\n",
      "echo2.py\n",
      "echo.py\n",
      "date.py\n",
      "cat.py\n",
      "args.py\n",
      "square.py\n",
      "hello.py\n",
      "push\n"
     ]
    }
   ],
   "source": [
    "for f in sorted(files, key=os.path.getsize, reverse=True):\n",
    "    print(f)"
   ]
  },
  {
   "cell_type": "markdown",
   "id": "bd65d8d7",
   "metadata": {},
   "source": [
    "How to find the top 5 largest files in the current directory?"
   ]
  },
  {
   "cell_type": "code",
   "execution_count": 277,
   "id": "08f38656",
   "metadata": {},
   "outputs": [
    {
     "data": {
      "text/plain": [
       "['day2.html', 'day1.html', 'index.html', 'Untitled1.html', 'Untitled.html']"
      ]
     },
     "execution_count": 277,
     "metadata": {},
     "output_type": "execute_result"
    }
   ],
   "source": [
    "files = os.listdir(\".\")\n",
    "sorted(files, key=os.path.getsize, reverse=True)[:5]"
   ]
  },
  {
   "cell_type": "markdown",
   "id": "06ae1492",
   "metadata": {},
   "source": [
    "How to find the top 3 largest python files in the current directory?"
   ]
  },
  {
   "cell_type": "code",
   "execution_count": 278,
   "id": "9f79f9f2",
   "metadata": {},
   "outputs": [
    {
     "ename": "AttributeError",
     "evalue": "'list' object has no attribute 'endswith'",
     "output_type": "error",
     "traceback": [
      "\u001b[0;31m---------------------------------------------------------------------------\u001b[0m",
      "\u001b[0;31mAttributeError\u001b[0m                            Traceback (most recent call last)",
      "Input \u001b[0;32mIn [278]\u001b[0m, in \u001b[0;36m<module>\u001b[0;34m\u001b[0m\n\u001b[0;32m----> 1\u001b[0m \u001b[43m[\u001b[49m\u001b[38;5;124;43m\"\u001b[39;49m\u001b[38;5;124;43ma.py\u001b[39;49m\u001b[38;5;124;43m\"\u001b[39;49m\u001b[43m,\u001b[49m\u001b[43m \u001b[49m\u001b[38;5;124;43m\"\u001b[39;49m\u001b[38;5;124;43mb.c\u001b[39;49m\u001b[38;5;124;43m\"\u001b[39;49m\u001b[43m]\u001b[49m\u001b[38;5;241;43m.\u001b[39;49m\u001b[43mendswith\u001b[49m(\u001b[38;5;124m\"\u001b[39m\u001b[38;5;124m.py\u001b[39m\u001b[38;5;124m\"\u001b[39m)\n",
      "\u001b[0;31mAttributeError\u001b[0m: 'list' object has no attribute 'endswith'"
     ]
    }
   ],
   "source": [
    "[\"a.py\", \"b.c\"].endswith(\".py\")"
   ]
  },
  {
   "cell_type": "code",
   "execution_count": 283,
   "id": "615d6bcc",
   "metadata": {},
   "outputs": [],
   "source": [
    "files = os.listdir(\".\")"
   ]
  },
  {
   "cell_type": "code",
   "execution_count": 284,
   "id": "42d20bea",
   "metadata": {},
   "outputs": [],
   "source": [
    "top_files = sorted(files, key=os.path.getsize, reverse=True)"
   ]
  },
  {
   "cell_type": "code",
   "execution_count": 285,
   "id": "70235040",
   "metadata": {},
   "outputs": [],
   "source": [
    "result = []\n",
    "for f in top_files:\n",
    "    if f.endswith(\".py\"):\n",
    "        result.append(f)"
   ]
  },
  {
   "cell_type": "code",
   "execution_count": 288,
   "id": "d259e421",
   "metadata": {},
   "outputs": [],
   "source": [
    "result = [f for f in top_files if f.endswith(\".py\")]"
   ]
  },
  {
   "cell_type": "code",
   "execution_count": 289,
   "id": "6363f63a",
   "metadata": {},
   "outputs": [
    {
     "data": {
      "text/plain": [
       "['args2.py', 'ls.py', 'echo2.py']"
      ]
     },
     "execution_count": 289,
     "metadata": {},
     "output_type": "execute_result"
    }
   ],
   "source": [
    "result[:3]"
   ]
  },
  {
   "cell_type": "code",
   "execution_count": 290,
   "id": "9f63f9e8",
   "metadata": {},
   "outputs": [],
   "source": [
    "files = [f for f in os.listdir(\".\") if f.endswith(\".py\")]"
   ]
  },
  {
   "cell_type": "code",
   "execution_count": 291,
   "id": "2a6ffb48",
   "metadata": {},
   "outputs": [
    {
     "data": {
      "text/plain": [
       "['hello.py',\n",
       " 'cat.py',\n",
       " 'ls.py',\n",
       " 'echo2.py',\n",
       " 'args.py',\n",
       " 'square.py',\n",
       " 'echo.py',\n",
       " 'date.py',\n",
       " 'args2.py']"
      ]
     },
     "execution_count": 291,
     "metadata": {},
     "output_type": "execute_result"
    }
   ],
   "source": [
    "files"
   ]
  },
  {
   "cell_type": "code",
   "execution_count": 292,
   "id": "f0fc8b2b",
   "metadata": {},
   "outputs": [
    {
     "data": {
      "text/plain": [
       "['args2.py', 'ls.py', 'echo2.py']"
      ]
     },
     "execution_count": 292,
     "metadata": {},
     "output_type": "execute_result"
    }
   ],
   "source": [
    "sorted(files, key=os.path.getsize, reverse=True)[:3]"
   ]
  },
  {
   "cell_type": "code",
   "execution_count": null,
   "id": "da32c3a4",
   "metadata": {},
   "outputs": [],
   "source": []
  }
 ],
 "metadata": {
  "kernelspec": {
   "display_name": "Python 3 (ipykernel)",
   "language": "python",
   "name": "python3"
  },
  "language_info": {
   "codemirror_mode": {
    "name": "ipython",
    "version": 3
   },
   "file_extension": ".py",
   "mimetype": "text/x-python",
   "name": "python",
   "nbconvert_exporter": "python",
   "pygments_lexer": "ipython3",
   "version": "3.10.2"
  }
 },
 "nbformat": 4,
 "nbformat_minor": 5
}
