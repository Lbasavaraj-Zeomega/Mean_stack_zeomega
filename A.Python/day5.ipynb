{
 "cells": [
  {
   "cell_type": "markdown",
   "id": "9de7a10f",
   "metadata": {},
   "source": [
    "### Advanced Python Training at ZeOmega - Day 5\n",
    "\n",
    "Feb 07-11, 2022<br>\n",
    "09:30 AM - 01:00 PM\n",
    "\n",
    "[Anand Chitipothu](https://pipal.in/trainers/anand)\n",
    "\n",
    "These notes are available online at https://bit.ly/zeomega-py22\n",
    "\n",
    "© Pipal Academy LLP\n",
    "\n",
    "[Home](.) | [Day 1](day1.html) | [Day 2](day2.html) | [Day 3](day3.html) | [Day 4](day4.html) | **Day 5**\n",
    "\n",
    "[Download this notebook](day5.ipynb)"
   ]
  },
  {
   "cell_type": "markdown",
   "id": "d09a9340",
   "metadata": {},
   "source": [
    "## Topics\n",
    "\n",
    "* Working with APIs\n",
    "* SQLAlchemy"
   ]
  },
  {
   "cell_type": "markdown",
   "id": "f53892fc",
   "metadata": {},
   "source": [
    "## Working with Web & APIs"
   ]
  },
  {
   "cell_type": "code",
   "execution_count": 1,
   "id": "9440c7dc",
   "metadata": {},
   "outputs": [],
   "source": [
    "from urllib.request import urlopen"
   ]
  },
  {
   "cell_type": "code",
   "execution_count": 2,
   "id": "e987d096",
   "metadata": {},
   "outputs": [],
   "source": [
    "url = \"https://anandology.com/tmp/hello.txt\""
   ]
  },
  {
   "cell_type": "code",
   "execution_count": 4,
   "id": "fc8bf982",
   "metadata": {},
   "outputs": [
    {
     "data": {
      "text/plain": [
       "b'Hello, world!\\n'"
      ]
     },
     "execution_count": 4,
     "metadata": {},
     "output_type": "execute_result"
    }
   ],
   "source": [
    "urlopen(url).read()"
   ]
  },
  {
   "cell_type": "code",
   "execution_count": 5,
   "id": "a5afc392",
   "metadata": {},
   "outputs": [
    {
     "data": {
      "text/plain": [
       "'Hello, world!\\n'"
      ]
     },
     "execution_count": 5,
     "metadata": {},
     "output_type": "execute_result"
    }
   ],
   "source": [
    "urlopen(url).read().decode('utf-8')"
   ]
  },
  {
   "cell_type": "code",
   "execution_count": 6,
   "id": "1a18d599",
   "metadata": {},
   "outputs": [],
   "source": [
    "response = urlopen(url)"
   ]
  },
  {
   "cell_type": "code",
   "execution_count": 7,
   "id": "c5d615ea",
   "metadata": {},
   "outputs": [
    {
     "data": {
      "text/plain": [
       "<http.client.HTTPResponse at 0x10a606da0>"
      ]
     },
     "execution_count": 7,
     "metadata": {},
     "output_type": "execute_result"
    }
   ],
   "source": [
    "response"
   ]
  },
  {
   "cell_type": "code",
   "execution_count": 8,
   "id": "afc023b2",
   "metadata": {},
   "outputs": [
    {
     "name": "stdout",
     "output_type": "stream",
     "text": [
      "200\n"
     ]
    }
   ],
   "source": [
    "print(response.status)"
   ]
  },
  {
   "cell_type": "code",
   "execution_count": 9,
   "id": "9b6e0402",
   "metadata": {},
   "outputs": [
    {
     "name": "stdout",
     "output_type": "stream",
     "text": [
      "Server: nginx/1.10.3 (Ubuntu)\n",
      "Date: Fri, 11 Feb 2022 04:11:29 GMT\n",
      "Content-Type: text/plain\n",
      "Content-Length: 14\n",
      "Last-Modified: Sat, 30 Nov 2019 10:26:32 GMT\n",
      "Connection: close\n",
      "ETag: \"5de243d8-e\"\n",
      "Access-Control-Allow-Origin: *\n",
      "Accept-Ranges: bytes\n",
      "\n",
      "\n"
     ]
    }
   ],
   "source": [
    "print(response.headers)"
   ]
  },
  {
   "cell_type": "code",
   "execution_count": 10,
   "id": "130f6980",
   "metadata": {},
   "outputs": [
    {
     "name": "stdout",
     "output_type": "stream",
     "text": [
      "Hello, world!\r\n"
     ]
    }
   ],
   "source": [
    "!curl https://anandology.com/tmp/hello.txt"
   ]
  },
  {
   "cell_type": "code",
   "execution_count": 11,
   "id": "dd2d44fe",
   "metadata": {},
   "outputs": [
    {
     "name": "stdout",
     "output_type": "stream",
     "text": [
      "HTTP/1.1 200 OK\r",
      "\r\n",
      "\u001b[1mServer\u001b[0m: nginx/1.10.3 (Ubuntu)\r",
      "\r\n",
      "\u001b[1mDate\u001b[0m: Fri, 11 Feb 2022 04:12:34 GMT\r",
      "\r\n",
      "\u001b[1mContent-Type\u001b[0m: text/plain\r",
      "\r\n",
      "\u001b[1mContent-Length\u001b[0m: 14\r",
      "\r\n",
      "\u001b[1mLast-Modified\u001b[0m: Sat, 30 Nov 2019 10:26:32 GMT\r",
      "\r\n",
      "\u001b[1mConnection\u001b[0m: keep-alive\r",
      "\r\n",
      "\u001b[1mETag\u001b[0m: \"5de243d8-e\"\r",
      "\r\n",
      "\u001b[1mAccess-Control-Allow-Origin\u001b[0m: *\r",
      "\r\n",
      "\u001b[1mAccept-Ranges\u001b[0m: bytes\r",
      "\r\n",
      "\r",
      "\r\n",
      "Hello, world!\r\n"
     ]
    }
   ],
   "source": [
    "!curl -i https://anandology.com/tmp/hello.txt"
   ]
  },
  {
   "cell_type": "markdown",
   "id": "dc25a226",
   "metadata": {},
   "source": [
    "### The `requests` Module"
   ]
  },
  {
   "cell_type": "markdown",
   "id": "f21e638c",
   "metadata": {},
   "source": [
    "There is a very popular third-party library called `requests` for handling HTTP requests. "
   ]
  },
  {
   "cell_type": "markdown",
   "id": "0272190d",
   "metadata": {},
   "source": [
    "To install it, use:\n",
    "    \n",
    "```\n",
    "$ pip install requests\n",
    "```\n",
    "\n",
    "This is already installed in your lab. You don't need to do this."
   ]
  },
  {
   "cell_type": "code",
   "execution_count": 12,
   "id": "1d3eb5e4",
   "metadata": {},
   "outputs": [],
   "source": [
    "import requests"
   ]
  },
  {
   "cell_type": "code",
   "execution_count": 13,
   "id": "3553932e",
   "metadata": {},
   "outputs": [],
   "source": [
    "url = \"https://anandology.com/tmp/hello.txt\""
   ]
  },
  {
   "cell_type": "code",
   "execution_count": 14,
   "id": "2783ff94",
   "metadata": {},
   "outputs": [],
   "source": [
    "response = requests.get(url)"
   ]
  },
  {
   "cell_type": "code",
   "execution_count": 15,
   "id": "47a5104f",
   "metadata": {},
   "outputs": [
    {
     "data": {
      "text/plain": [
       "200"
      ]
     },
     "execution_count": 15,
     "metadata": {},
     "output_type": "execute_result"
    }
   ],
   "source": [
    "response.status_code"
   ]
  },
  {
   "cell_type": "code",
   "execution_count": 16,
   "id": "2af75b62",
   "metadata": {},
   "outputs": [
    {
     "data": {
      "text/plain": [
       "{'Server': 'nginx/1.10.3 (Ubuntu)', 'Date': 'Fri, 11 Feb 2022 04:17:18 GMT', 'Content-Type': 'text/plain', 'Content-Length': '14', 'Last-Modified': 'Sat, 30 Nov 2019 10:26:32 GMT', 'Connection': 'keep-alive', 'ETag': '\"5de243d8-e\"', 'Access-Control-Allow-Origin': '*', 'Accept-Ranges': 'bytes'}"
      ]
     },
     "execution_count": 16,
     "metadata": {},
     "output_type": "execute_result"
    }
   ],
   "source": [
    "response.headers"
   ]
  },
  {
   "cell_type": "code",
   "execution_count": 17,
   "id": "2c729a04",
   "metadata": {},
   "outputs": [
    {
     "data": {
      "text/plain": [
       "b'Hello, world!\\n'"
      ]
     },
     "execution_count": 17,
     "metadata": {},
     "output_type": "execute_result"
    }
   ],
   "source": [
    "# read the response as bytes\n",
    "response.content "
   ]
  },
  {
   "cell_type": "code",
   "execution_count": 18,
   "id": "dae4c3ec",
   "metadata": {},
   "outputs": [
    {
     "data": {
      "text/plain": [
       "'Hello, world!\\n'"
      ]
     },
     "execution_count": 18,
     "metadata": {},
     "output_type": "execute_result"
    }
   ],
   "source": [
    "# read the response as text\n",
    "response.text "
   ]
  },
  {
   "cell_type": "markdown",
   "id": "2f3e1b13",
   "metadata": {},
   "source": [
    "**Problem:** Write a program `wget.py` that takes a URL as command-line argument and downloands that into the current directory.\n",
    "\n",
    "```\n",
    "$ python wget.py https://anandology.com/tmp/hello.txt\n",
    "Downloaded to hello.txt\n",
    "\n",
    "$ python wget.py https://anandology.com/tmp/python.png\n",
    "Downloaded to python.png\n",
    "```"
   ]
  },
  {
   "cell_type": "code",
   "execution_count": 21,
   "id": "d4c8d983",
   "metadata": {},
   "outputs": [
    {
     "name": "stdout",
     "output_type": "stream",
     "text": [
      "--2022-02-11 09:49:17--  https://anandology.com/tmp/python.png\n",
      "Resolving anandology.com (anandology.com)... 139.59.87.96\n",
      "Connecting to anandology.com (anandology.com)|139.59.87.96|:443... connected.\n",
      "HTTP request sent, awaiting response... 200 OK\n",
      "Length: 11155 (11K) [image/png]\n",
      "Saving to: ‘python.png’\n",
      "\n",
      "python.png          100%[===================>]  10.89K  --.-KB/s    in 0s      \n",
      "\n",
      "2022-02-11 09:49:17 (70.9 MB/s) - ‘python.png’ saved [11155/11155]\n",
      "\n"
     ]
    }
   ],
   "source": [
    "!wget https://anandology.com/tmp/python.png"
   ]
  },
  {
   "cell_type": "code",
   "execution_count": 22,
   "id": "19827d49",
   "metadata": {},
   "outputs": [
    {
     "data": {
      "image/png": "[encoded data removed]",
      "text/plain": [
       "<IPython.core.display.Image object>"
      ]
     },
     "execution_count": 22,
     "metadata": {},
     "output_type": "execute_result"
    }
   ],
   "source": [
    "from IPython.display import Image\n",
    "Image(filename='python.png')"
   ]
  },
  {
   "cell_type": "code",
   "execution_count": 23,
   "id": "3a92dc44",
   "metadata": {},
   "outputs": [],
   "source": [
    "url = \"https://anandology.com/tmp/hello.txt\""
   ]
  },
  {
   "cell_type": "code",
   "execution_count": 24,
   "id": "edd3160c",
   "metadata": {},
   "outputs": [
    {
     "data": {
      "text/plain": [
       "['https:', '', 'anandology.com', 'tmp', 'hello.txt']"
      ]
     },
     "execution_count": 24,
     "metadata": {},
     "output_type": "execute_result"
    }
   ],
   "source": [
    "url.split(\"/\")"
   ]
  },
  {
   "cell_type": "code",
   "execution_count": 25,
   "id": "41ce03e0",
   "metadata": {},
   "outputs": [
    {
     "data": {
      "text/plain": [
       "'hello.txt'"
      ]
     },
     "execution_count": 25,
     "metadata": {},
     "output_type": "execute_result"
    }
   ],
   "source": [
    "url.split(\"/\")[-1]"
   ]
  },
  {
   "cell_type": "code",
   "execution_count": 26,
   "id": "745d1c24",
   "metadata": {},
   "outputs": [],
   "source": [
    "url = \"https://anandology.com/tmp/python.png\""
   ]
  },
  {
   "cell_type": "code",
   "execution_count": 30,
   "id": "6ef1eb3c",
   "metadata": {},
   "outputs": [],
   "source": [
    "# this doesn't work because the image is not text\n",
    "text = requests.get(url).text\n",
    "with open(\"python.png\", \"w\") as f:\n",
    "    f.write(text)"
   ]
  },
  {
   "cell_type": "code",
   "execution_count": 31,
   "id": "7edb479f",
   "metadata": {},
   "outputs": [
    {
     "data": {
      "image/png": "[encoded data removed]",
      "text/plain": [
       "<IPython.core.display.Image object>"
      ]
     },
     "execution_count": 31,
     "metadata": {},
     "output_type": "execute_result"
    }
   ],
   "source": [
    "Image(filename='python.png')"
   ]
  },
  {
   "cell_type": "code",
   "execution_count": 32,
   "id": "ab46523d",
   "metadata": {},
   "outputs": [
    {
     "name": "stdout",
     "output_type": "stream",
     "text": [
      "-rw-r--r--  1 anand  staff  20265 Feb 11 10:23 python.png\r\n"
     ]
    }
   ],
   "source": [
    "!ls -l python.png"
   ]
  },
  {
   "cell_type": "code",
   "execution_count": 35,
   "id": "60312b44",
   "metadata": {},
   "outputs": [
    {
     "name": "stdout",
     "output_type": "stream",
     "text": [
      "2022-02-11 10:24:26 URL:https://anandology.com/tmp/python.png [11155/11155] -> \"py.png\" [1]\r\n"
     ]
    }
   ],
   "source": [
    "!wget -nv https://anandology.com/tmp/python.png -O py.png"
   ]
  },
  {
   "cell_type": "code",
   "execution_count": 36,
   "id": "0debb2fc",
   "metadata": {},
   "outputs": [
    {
     "name": "stdout",
     "output_type": "stream",
     "text": [
      "-rw-r--r--  1 anand  staff  11155 Dec  7 21:47 py.png\r\n",
      "-rw-r--r--  1 anand  staff  20265 Feb 11 10:23 python.png\r\n"
     ]
    }
   ],
   "source": [
    "!ls -l *.png"
   ]
  },
  {
   "cell_type": "code",
   "execution_count": 37,
   "id": "fbfa0755",
   "metadata": {},
   "outputs": [],
   "source": [
    "data = requests.get(url).content\n",
    "with open(\"python.png\", \"wb\") as f:\n",
    "    f.write(data)"
   ]
  },
  {
   "cell_type": "code",
   "execution_count": 38,
   "id": "f43c6c98",
   "metadata": {},
   "outputs": [
    {
     "name": "stdout",
     "output_type": "stream",
     "text": [
      "-rw-r--r--  1 anand  staff  11155 Dec  7 21:47 py.png\r\n",
      "-rw-r--r--  1 anand  staff  11155 Feb 11 10:25 python.png\r\n"
     ]
    }
   ],
   "source": [
    "!ls -l *.png"
   ]
  },
  {
   "cell_type": "code",
   "execution_count": 39,
   "id": "01135e08",
   "metadata": {},
   "outputs": [
    {
     "data": {
      "image/png": "[encoded data removed]",
      "text/plain": [
       "<IPython.core.display.Image object>"
      ]
     },
     "execution_count": 39,
     "metadata": {},
     "output_type": "execute_result"
    }
   ],
   "source": [
    "Image(filename='python.png')"
   ]
  },
  {
   "cell_type": "markdown",
   "id": "7b421a10",
   "metadata": {},
   "source": [
    "## Working with APIs"
   ]
  },
  {
   "cell_type": "markdown",
   "id": "3f663172",
   "metadata": {},
   "source": [
    "### JSON"
   ]
  },
  {
   "cell_type": "code",
   "execution_count": 44,
   "id": "fbdf9ba7",
   "metadata": {},
   "outputs": [],
   "source": [
    "training = {\n",
    "    \"title\": \"Advanced Python Training\",\n",
    "    'num_participants': 38,\n",
    "    \"online\": True,\n",
    "    \"participants\": [\n",
    "        {\"name\": \"Alice\", \"email\": \"alice@example.com\"},\n",
    "        {\"name\": \"Bob\", \"email\": \"bob@example.com\"},        \n",
    "    ]\n",
    "}"
   ]
  },
  {
   "cell_type": "code",
   "execution_count": 45,
   "id": "6d73f654",
   "metadata": {},
   "outputs": [],
   "source": [
    "import json"
   ]
  },
  {
   "cell_type": "code",
   "execution_count": 46,
   "id": "36f6df0a",
   "metadata": {},
   "outputs": [
    {
     "name": "stdout",
     "output_type": "stream",
     "text": [
      "{\n",
      " \"title\": \"Advanced Python Training\",\n",
      " \"num_participants\": 38,\n",
      " \"online\": true,\n",
      " \"participants\": [\n",
      "  {\n",
      "   \"name\": \"Alice\",\n",
      "   \"email\": \"alice@example.com\"\n",
      "  },\n",
      "  {\n",
      "   \"name\": \"Bob\",\n",
      "   \"email\": \"bob@example.com\"\n",
      "  }\n",
      " ]\n",
      "}\n"
     ]
    }
   ],
   "source": [
    "print(json.dumps(training, indent=True))"
   ]
  },
  {
   "cell_type": "code",
   "execution_count": 47,
   "id": "99cf007b",
   "metadata": {},
   "outputs": [],
   "source": [
    "jsontext = json.dumps(training)"
   ]
  },
  {
   "cell_type": "code",
   "execution_count": 48,
   "id": "120e630b",
   "metadata": {},
   "outputs": [
    {
     "data": {
      "text/plain": [
       "'{\"title\": \"Advanced Python Training\", \"num_participants\": 38, \"online\": true, \"participants\": [{\"name\": \"Alice\", \"email\": \"alice@example.com\"}, {\"name\": \"Bob\", \"email\": \"bob@example.com\"}]}'"
      ]
     },
     "execution_count": 48,
     "metadata": {},
     "output_type": "execute_result"
    }
   ],
   "source": [
    "jsontext"
   ]
  },
  {
   "cell_type": "code",
   "execution_count": 49,
   "id": "094420dd",
   "metadata": {},
   "outputs": [],
   "source": [
    "t = json.loads(jsontext)"
   ]
  },
  {
   "cell_type": "code",
   "execution_count": 50,
   "id": "5b48274d",
   "metadata": {},
   "outputs": [
    {
     "data": {
      "text/plain": [
       "{'title': 'Advanced Python Training',\n",
       " 'num_participants': 38,\n",
       " 'online': True,\n",
       " 'participants': [{'name': 'Alice', 'email': 'alice@example.com'},\n",
       "  {'name': 'Bob', 'email': 'bob@example.com'}]}"
      ]
     },
     "execution_count": 50,
     "metadata": {},
     "output_type": "execute_result"
    }
   ],
   "source": [
    "t"
   ]
  },
  {
   "cell_type": "code",
   "execution_count": 51,
   "id": "0faef8e0",
   "metadata": {},
   "outputs": [
    {
     "data": {
      "text/plain": [
       "True"
      ]
     },
     "execution_count": 51,
     "metadata": {},
     "output_type": "execute_result"
    }
   ],
   "source": [
    "t == training"
   ]
  },
  {
   "cell_type": "markdown",
   "id": "8b683129",
   "metadata": {},
   "source": [
    "### Working with APIs"
   ]
  },
  {
   "cell_type": "markdown",
   "id": "24d2e1c6",
   "metadata": {},
   "source": [
    "#### Example: Find popular repositories on github"
   ]
  },
  {
   "cell_type": "markdown",
   "id": "a2ba0237",
   "metadata": {},
   "source": [
    "Github has very beautiful API.\n",
    "\n",
    "https://developer.github.com/"
   ]
  },
  {
   "cell_type": "code",
   "execution_count": 52,
   "id": "7e8955fd",
   "metadata": {},
   "outputs": [],
   "source": [
    "import requests\n",
    "\n",
    "url = \"https://api.github.com/search/repositories\"\n",
    "\n",
    "params = {\n",
    "    \"q\": \"language:python\",\n",
    "    \"sort\": \"star\",\n",
    "    \"order\": \"desc\"\n",
    "}"
   ]
  },
  {
   "cell_type": "code",
   "execution_count": 65,
   "id": "16a09830",
   "metadata": {},
   "outputs": [],
   "source": [
    "d = requests.get(url, params=params).json()"
   ]
  },
  {
   "cell_type": "code",
   "execution_count": 66,
   "id": "56b2ec86",
   "metadata": {},
   "outputs": [
    {
     "data": {
      "text/plain": [
       "dict"
      ]
     },
     "execution_count": 66,
     "metadata": {},
     "output_type": "execute_result"
    }
   ],
   "source": [
    "type(d)"
   ]
  },
  {
   "cell_type": "code",
   "execution_count": 67,
   "id": "8dae337c",
   "metadata": {},
   "outputs": [
    {
     "data": {
      "text/plain": [
       "dict_keys(['total_count', 'incomplete_results', 'items'])"
      ]
     },
     "execution_count": 67,
     "metadata": {},
     "output_type": "execute_result"
    }
   ],
   "source": [
    "d.keys()"
   ]
  },
  {
   "cell_type": "code",
   "execution_count": 68,
   "id": "2c43e8df",
   "metadata": {},
   "outputs": [
    {
     "data": {
      "text/plain": [
       "8359020"
      ]
     },
     "execution_count": 68,
     "metadata": {},
     "output_type": "execute_result"
    }
   ],
   "source": [
    "d['total_count']"
   ]
  },
  {
   "cell_type": "code",
   "execution_count": 70,
   "id": "fe53d500",
   "metadata": {},
   "outputs": [
    {
     "data": {
      "text/plain": [
       "dict_keys(['id', 'node_id', 'name', 'full_name', 'private', 'owner', 'html_url', 'description', 'fork', 'url', 'forks_url', 'keys_url', 'collaborators_url', 'teams_url', 'hooks_url', 'issue_events_url', 'events_url', 'assignees_url', 'branches_url', 'tags_url', 'blobs_url', 'git_tags_url', 'git_refs_url', 'trees_url', 'statuses_url', 'languages_url', 'stargazers_url', 'contributors_url', 'subscribers_url', 'subscription_url', 'commits_url', 'git_commits_url', 'comments_url', 'issue_comment_url', 'contents_url', 'compare_url', 'merges_url', 'archive_url', 'downloads_url', 'issues_url', 'pulls_url', 'milestones_url', 'notifications_url', 'labels_url', 'releases_url', 'deployments_url', 'created_at', 'updated_at', 'pushed_at', 'git_url', 'ssh_url', 'clone_url', 'svn_url', 'homepage', 'size', 'stargazers_count', 'watchers_count', 'language', 'has_issues', 'has_projects', 'has_downloads', 'has_wiki', 'has_pages', 'forks_count', 'mirror_url', 'archived', 'disabled', 'open_issues_count', 'license', 'allow_forking', 'is_template', 'topics', 'visibility', 'forks', 'open_issues', 'watchers', 'default_branch', 'score'])"
      ]
     },
     "execution_count": 70,
     "metadata": {},
     "output_type": "execute_result"
    }
   ],
   "source": [
    "d['items'][0].keys()"
   ]
  },
  {
   "cell_type": "code",
   "execution_count": 71,
   "id": "2d115310",
   "metadata": {},
   "outputs": [],
   "source": [
    "repo = d['items'][0]"
   ]
  },
  {
   "cell_type": "code",
   "execution_count": 72,
   "id": "a09ae521",
   "metadata": {},
   "outputs": [],
   "source": [
    "keys = ['name', 'full_name', 'description', 'forks_count', 'stargazers_count', 'size']\n",
    "\n",
    "repo = {k: v for k, v in repo.items() if k in keys}"
   ]
  },
  {
   "cell_type": "code",
   "execution_count": 73,
   "id": "348d7b2b",
   "metadata": {},
   "outputs": [
    {
     "data": {
      "text/plain": [
       "{'name': 'public-apis',\n",
       " 'full_name': 'public-apis/public-apis',\n",
       " 'description': 'A collective list of free APIs',\n",
       " 'size': 5159,\n",
       " 'stargazers_count': 179803,\n",
       " 'forks_count': 20715}"
      ]
     },
     "execution_count": 73,
     "metadata": {},
     "output_type": "execute_result"
    }
   ],
   "source": [
    "repo"
   ]
  },
  {
   "cell_type": "code",
   "execution_count": 81,
   "id": "3fe4459e",
   "metadata": {},
   "outputs": [
    {
     "name": "stdout",
     "output_type": "stream",
     "text": [
      "public-apis/public-apis 20715 179803\n",
      "A collective list of free APIs\n",
      "---\n",
      "donnemartin/system-design-primer 29957 161805\n",
      "Learn how to design large-scale systems. Prep for the system design interview.  Includes Anki flashc\n",
      "---\n",
      "tensorflow/models 45451 72733\n",
      "Models and examples built with TensorFlow\n",
      "---\n",
      "nvbn/thefuck 3067 66703\n",
      "Magnificent app which corrects your previous console command.\n",
      "---\n",
      "pallets/flask 14841 57900\n",
      "The Python micro framework for building web applications.\n",
      "---\n",
      "josephmisiti/awesome-machine-learning 13070 53147\n",
      "A curated list of awesome Machine Learning frameworks, libraries and software.\n",
      "---\n",
      "home-assistant/core 17091 49765\n",
      ":house_with_garden: Open source home automation that puts local control and privacy first.\n",
      "---\n",
      "scikit-learn/scikit-learn 22610 48987\n",
      "scikit-learn: machine learning in Python\n",
      "---\n",
      "soimort/you-get 8762 43083\n",
      ":arrow_double_down: Dumb downloader that scrapes the web\n",
      "---\n",
      "ageitgey/face_recognition 11978 43075\n",
      "The world's simplest facial recognition api for Python and the command line\n",
      "---\n",
      "scrapy/scrapy 9506 42755\n",
      "Scrapy, a fast high-level web crawling & scraping framework for Python.\n",
      "---\n",
      "tiangolo/fastapi 3158 41607\n",
      "FastAPI framework, high performance, easy to learn, fast to code, ready for production\n",
      "---\n",
      "deepfakes/faceswap 11495 40304\n",
      "Deepfakes Software For All\n",
      "---\n",
      "localstack/localstack 2919 38636\n",
      "💻  A fully functional local AWS cloud stack. Develop and test your cloud & Serverless apps offline!\n",
      "---\n",
      "fighting41love/funNLP 10556 36462\n",
      "中英文敏感词、语言检测、中外手机/电话归属地/运营商查询、名字推断性别、手机号抽取、身份证抽取、邮箱抽取、中日文人名库、中文缩写库、拆字词典、词汇情感值、停用词、反动词表、暴恐词表、繁简体转换、英文模\n",
      "---\n",
      "swisskyrepo/PayloadsAllTheThings 9421 34186\n",
      "A list of useful payloads and bypass for Web Application Security and Pentest/CTF\n",
      "---\n",
      "0voice/interview_internal_reference 9021 33318\n",
      "2021年最新总结，阿里，腾讯，百度，美团，头条等技术面试题目，以及答案，专家出题人分析汇总。\n",
      "---\n",
      "CorentinJ/Real-Time-Voice-Cloning 6123 33314\n",
      "Clone a voice in 5 seconds to generate arbitrary speech in real-time\n",
      "---\n",
      "isocpp/CppCoreGuidelines 4515 33175\n",
      "The C++ Core Guidelines are a set of tried-and-true guidelines, rules, and best practices about codi\n",
      "---\n",
      "apachecn/ailearning 10737 32673\n",
      "AiLearning：数据分析+机器学习实战+线性代数+PyTorch+NLTK+TF2\n",
      "---\n",
      "iperov/DeepFaceLab 7078 31165\n",
      "DeepFaceLab is the leading software for creating deepfakes.\n",
      "---\n",
      "testerSunshine/12306 9490 30568\n",
      "12306智能刷票，订票\n",
      "---\n",
      "faif/python-patterns 6151 30221\n",
      "A collection of design patterns/idioms in Python\n",
      "---\n",
      "d2l-ai/d2l-zh 7129 30110\n",
      "《动手学深度学习》：面向中文读者、能运行、可讨论。中英文版被55个国家的300所大学用于教学。\n",
      "---\n",
      "chubin/cheat.sh 1420 28156\n",
      "the only cheat sheet you need\n",
      "---\n",
      "mitmproxy/mitmproxy 3209 25962\n",
      "An interactive TLS-capable intercepting HTTP proxy for penetration testers and software developers.\n",
      "---\n",
      "facebookresearch/Detectron 5425 24958\n",
      "FAIR's research platform for object detection research, implementing popular algorithms like Mask R-\n",
      "---\n",
      "donnemartin/interactive-coding-challenges 4009 24709\n",
      "120+ interactive Python coding interview challenges (algorithms and data structures).  Includes Anki\n",
      "---\n",
      "geekcomputers/Python 10692 24684\n",
      "My Python Examples\n",
      "---\n",
      "0xAX/linux-insides 2831 24185\n",
      "A little bit about a linux kernel\n",
      "---\n"
     ]
    }
   ],
   "source": [
    "for repo in d['items']:\n",
    "    print(f\"{repo['full_name']} {repo['forks_count']} {repo['stargazers_count']}\")\n",
    "    print(f\"{repo['description'][:100]}\")\n",
    "    print(\"---\")"
   ]
  },
  {
   "cell_type": "markdown",
   "id": "8e6ffcde",
   "metadata": {},
   "source": [
    "#### Example: count repos per language"
   ]
  },
  {
   "cell_type": "code",
   "execution_count": 82,
   "id": "2bd3b909",
   "metadata": {},
   "outputs": [],
   "source": [
    "def count_repos(language):\n",
    "    url = \"https://api.github.com/search/repositories\"\n",
    "    params = {\n",
    "        \"q\": f\"language:{language}\",\n",
    "        \"sort\": \"star\",\n",
    "        \"order\": \"desc\"\n",
    "    }\n",
    "    d = requests.get(url, params=params).json()\n",
    "    return d['total_count']"
   ]
  },
  {
   "cell_type": "code",
   "execution_count": 83,
   "id": "6efb03d4",
   "metadata": {},
   "outputs": [],
   "source": [
    "languages = ['python', 'javascript', 'java', 'rust']"
   ]
  },
  {
   "cell_type": "code",
   "execution_count": 84,
   "id": "7084c1f1",
   "metadata": {},
   "outputs": [
    {
     "name": "stdout",
     "output_type": "stream",
     "text": [
      "python 8430154\n",
      "javascript 15953354\n",
      "java 10686332\n",
      "rust 290865\n"
     ]
    }
   ],
   "source": [
    "for lang in languages:\n",
    "    print(lang, count_repos(lang))"
   ]
  },
  {
   "cell_type": "markdown",
   "id": "a4996d67",
   "metadata": {},
   "source": [
    "## SQLAlchemy"
   ]
  },
  {
   "cell_type": "markdown",
   "id": "4343a086",
   "metadata": {},
   "source": [
    "It is a query builder and an ORM. "
   ]
  },
  {
   "cell_type": "markdown",
   "id": "6749b7a0",
   "metadata": {},
   "source": [
    "First, let's see how to work with databases without using SQLAlchemy."
   ]
  },
  {
   "cell_type": "markdown",
   "id": "1a44afe5",
   "metadata": {},
   "source": [
    "We are using to use a sqlite database for this."
   ]
  },
  {
   "cell_type": "code",
   "execution_count": 85,
   "id": "ff2f46b1",
   "metadata": {},
   "outputs": [
    {
     "name": "stdout",
     "output_type": "stream",
     "text": [
      "trains.db\r\n"
     ]
    }
   ],
   "source": [
    "!ls *.db"
   ]
  },
  {
   "cell_type": "markdown",
   "id": "7e109e01",
   "metadata": {},
   "source": [
    "###  working with sqlite"
   ]
  },
  {
   "cell_type": "code",
   "execution_count": 86,
   "id": "245c2a66",
   "metadata": {},
   "outputs": [],
   "source": [
    "import sqlite3"
   ]
  },
  {
   "cell_type": "code",
   "execution_count": 87,
   "id": "30f4a9fe",
   "metadata": {},
   "outputs": [],
   "source": [
    "conn = sqlite3.connect(\"trains.db\")"
   ]
  },
  {
   "cell_type": "code",
   "execution_count": 88,
   "id": "87986c66",
   "metadata": {},
   "outputs": [],
   "source": [
    "cursor = conn.cursor()"
   ]
  },
  {
   "cell_type": "code",
   "execution_count": 91,
   "id": "a13cdabb",
   "metadata": {},
   "outputs": [
    {
     "data": {
      "text/plain": [
       "<sqlite3.Cursor at 0x1100b32c0>"
      ]
     },
     "execution_count": 91,
     "metadata": {},
     "output_type": "execute_result"
    }
   ],
   "source": [
    "cursor.execute(\"select number, name, from_station_code, to_station_code from train limit 5\")"
   ]
  },
  {
   "cell_type": "code",
   "execution_count": 92,
   "id": "a31eecf8",
   "metadata": {},
   "outputs": [
    {
     "data": {
      "text/plain": [
       "[('04601', 'Jammu Tawi Udhampur Special', 'JAT', 'UHP'),\n",
       " ('04602', 'UDHAMPUR JAMMUTAWI DMU', 'UHP', 'JAT'),\n",
       " ('04603', 'JAT UDAHMPUR DMU', 'JAT', 'UHP'),\n",
       " ('04604', 'UDHAMPUR JAMMUTAWI DMU', 'UHP', 'JAT'),\n",
       " ('04728', 'Mumbai BandraT-Bikaner SF Special', 'BDTS', 'BKN')]"
      ]
     },
     "execution_count": 92,
     "metadata": {},
     "output_type": "execute_result"
    }
   ],
   "source": [
    "cursor.fetchall()"
   ]
  },
  {
   "cell_type": "code",
   "execution_count": 93,
   "id": "e16dcc0f",
   "metadata": {},
   "outputs": [],
   "source": [
    "cursor.close()\n",
    "conn.close()"
   ]
  },
  {
   "cell_type": "markdown",
   "id": "a7d323e8",
   "metadata": {},
   "source": [
    "### Introduction to SQLAlchemy"
   ]
  },
  {
   "cell_type": "code",
   "execution_count": 94,
   "id": "4dfdb520",
   "metadata": {},
   "outputs": [],
   "source": [
    "from sqlalchemy import create_engine"
   ]
  },
  {
   "cell_type": "code",
   "execution_count": 96,
   "id": "a1882b25",
   "metadata": {},
   "outputs": [],
   "source": [
    "# created an engine with database url as input\n",
    "engine = create_engine(\"sqlite:///trains.db\")"
   ]
  },
  {
   "cell_type": "markdown",
   "id": "47795c56",
   "metadata": {},
   "source": [
    "We can work with raw queries using the engine as follows.\n",
    "\n",
    "But usually, we don't run raw queries. We construct a query using sqlalchemy expressions."
   ]
  },
  {
   "cell_type": "code",
   "execution_count": 100,
   "id": "f5c8c556",
   "metadata": {},
   "outputs": [
    {
     "name": "stdout",
     "output_type": "stream",
     "text": [
      "[(1,)]\n"
     ]
    }
   ],
   "source": [
    "with engine.connect() as conn:\n",
    "    result = conn.execute(\"select 1\")\n",
    "    print(result.all())"
   ]
  },
  {
   "cell_type": "code",
   "execution_count": 99,
   "id": "cd0bd04f",
   "metadata": {},
   "outputs": [
    {
     "name": "stdout",
     "output_type": "stream",
     "text": [
      "('04601', 'Jammu Tawi Udhampur Special', 'JAT', 'UHP')\n",
      "('04602', 'UDHAMPUR JAMMUTAWI DMU', 'UHP', 'JAT')\n",
      "('04603', 'JAT UDAHMPUR DMU', 'JAT', 'UHP')\n",
      "('04604', 'UDHAMPUR JAMMUTAWI DMU', 'UHP', 'JAT')\n",
      "('04728', 'Mumbai BandraT-Bikaner SF Special', 'BDTS', 'BKN')\n"
     ]
    }
   ],
   "source": [
    "q = \"\"\"\n",
    "    select \n",
    "        number, \n",
    "        name, \n",
    "        from_station_code, \n",
    "        to_station_code \n",
    "    from train \n",
    "    limit 5\n",
    "    \"\"\"\n",
    "with engine.connect() as conn:\n",
    "    result = conn.execute(q)\n",
    "#     print(result.all()) # read all rows\n",
    "    for row in result:\n",
    "        print(row)"
   ]
  },
  {
   "cell_type": "code",
   "execution_count": 103,
   "id": "dc15534f",
   "metadata": {},
   "outputs": [
    {
     "name": "stdout",
     "output_type": "stream",
     "text": [
      "RMKeyView(['number', 'name', 'from_station_code', 'to_station_code'])\n",
      "('04601', 'Jammu Tawi Udhampur Special', 'JAT', 'UHP')\n",
      "('04602', 'UDHAMPUR JAMMUTAWI DMU', 'UHP', 'JAT')\n",
      "('04603', 'JAT UDAHMPUR DMU', 'JAT', 'UHP')\n",
      "('04604', 'UDHAMPUR JAMMUTAWI DMU', 'UHP', 'JAT')\n",
      "('04728', 'Mumbai BandraT-Bikaner SF Special', 'BDTS', 'BKN')\n"
     ]
    }
   ],
   "source": [
    "with engine.connect() as conn:\n",
    "    result = conn.execute(q)\n",
    "#     print(result.all()) # read all rows\n",
    "    print(result.keys())\n",
    "    for row in result:\n",
    "        print(row)\n"
   ]
  },
  {
   "cell_type": "code",
   "execution_count": 105,
   "id": "8e76b7fd",
   "metadata": {},
   "outputs": [
    {
     "name": "stdout",
     "output_type": "stream",
     "text": [
      "RMKeyView(['number', 'name', 'from_station_code', 'to_station_code'])\n",
      "04601 (Jammu Tawi Udhampur Special): JAT -> UHP\n",
      "04602 (UDHAMPUR JAMMUTAWI DMU): UHP -> JAT\n",
      "04603 (JAT UDAHMPUR DMU): JAT -> UHP\n",
      "04604 (UDHAMPUR JAMMUTAWI DMU): UHP -> JAT\n",
      "04728 (Mumbai BandraT-Bikaner SF Special): BDTS -> BKN\n"
     ]
    }
   ],
   "source": [
    "with engine.connect() as conn:\n",
    "    result = conn.execute(q)\n",
    "#     print(result.all()) # read all rows\n",
    "    print(result.keys())\n",
    "    for row in result:\n",
    "        print(f\"{row.number} ({row.name}): {row.from_station_code} -> {row.to_station_code}\")\n"
   ]
  },
  {
   "cell_type": "code",
   "execution_count": 119,
   "id": "b76c7bfb",
   "metadata": {},
   "outputs": [
    {
     "name": "stdout",
     "output_type": "stream",
     "text": [
      "station\n",
      "train\n"
     ]
    }
   ],
   "source": [
    "q = \"\"\"\n",
    "SELECT name FROM sqlite_master\n",
    "WHERE type='table'\n",
    "ORDER BY name\n",
    "\"\"\"\n",
    "with engine.connect() as conn:\n",
    "    result = conn.execute(q)\n",
    "    for row in result:\n",
    "        print(row.name)"
   ]
  },
  {
   "cell_type": "markdown",
   "id": "de690093",
   "metadata": {},
   "source": [
    "### Working with Database Metadata"
   ]
  },
  {
   "cell_type": "code",
   "execution_count": 110,
   "id": "8e45adb2",
   "metadata": {},
   "outputs": [],
   "source": [
    "from sqlalchemy import create_engine\n",
    "from sqlalchemy import MetaData, Table"
   ]
  },
  {
   "cell_type": "code",
   "execution_count": 107,
   "id": "c9d7c175",
   "metadata": {},
   "outputs": [],
   "source": [
    "engine = create_engine(\"sqlite:///trains.db\")"
   ]
  },
  {
   "cell_type": "code",
   "execution_count": 108,
   "id": "5285cd39",
   "metadata": {},
   "outputs": [],
   "source": [
    "metadata = MetaData(bind=engine)"
   ]
  },
  {
   "cell_type": "code",
   "execution_count": 111,
   "id": "6cadfcaf",
   "metadata": {},
   "outputs": [],
   "source": [
    "train_table = Table('train', metadata, autoload=True)\n",
    "station_table = Table('station', metadata, autoload=True)"
   ]
  },
  {
   "cell_type": "code",
   "execution_count": 115,
   "id": "de04566f",
   "metadata": {},
   "outputs": [
    {
     "name": "stdout",
     "output_type": "stream",
     "text": [
      "train.number\n",
      "train.name\n",
      "train.type\n",
      "train.zone\n",
      "train.from_station_code\n",
      "train.from_station_name\n",
      "train.to_station_code\n",
      "train.to_station_name\n",
      "train.departure\n",
      "train.arrival\n",
      "train.duration_h\n",
      "train.duration_m\n",
      "train.distance\n",
      "train.return_train\n",
      "train.sleeper\n",
      "train.third_ac\n",
      "train.second_ac\n",
      "train.first_ac\n",
      "train.first_class\n",
      "train.chair_car\n"
     ]
    }
   ],
   "source": [
    "for c in train_table.columns:\n",
    "    print(c)"
   ]
  },
  {
   "cell_type": "code",
   "execution_count": 120,
   "id": "353d0d97",
   "metadata": {},
   "outputs": [
    {
     "name": "stdout",
     "output_type": "stream",
     "text": [
      "station.code\n",
      "station.name\n",
      "station.zone\n",
      "station.state\n",
      "station.address\n",
      "station.latitude\n",
      "station.longitude\n"
     ]
    }
   ],
   "source": [
    "for c in station_table.columns:\n",
    "    print(c)"
   ]
  },
  {
   "cell_type": "markdown",
   "id": "dea00f73",
   "metadata": {},
   "source": [
    "**Show 5 trains**"
   ]
  },
  {
   "cell_type": "code",
   "execution_count": 121,
   "id": "2eb5baa8",
   "metadata": {},
   "outputs": [],
   "source": [
    "from sqlalchemy import select"
   ]
  },
  {
   "cell_type": "code",
   "execution_count": 122,
   "id": "625e7e9a",
   "metadata": {},
   "outputs": [
    {
     "name": "stdout",
     "output_type": "stream",
     "text": [
      "SELECT train.number, train.name, train.from_station_code, train.to_station_code \n",
      "FROM train\n",
      " LIMIT ? OFFSET ?\n"
     ]
    }
   ],
   "source": [
    "t = train_table\n",
    "\n",
    "q = select(\n",
    "        t.c.number,\n",
    "        t.c.name,\n",
    "        t.c.from_station_code,\n",
    "        t.c.to_station_code\n",
    "    ).limit(5)\n",
    "print(q)"
   ]
  },
  {
   "cell_type": "code",
   "execution_count": 123,
   "id": "dc11bb24",
   "metadata": {},
   "outputs": [
    {
     "name": "stdout",
     "output_type": "stream",
     "text": [
      "('04601', 'Jammu Tawi Udhampur Special', 'JAT', 'UHP')\n",
      "('04602', 'UDHAMPUR JAMMUTAWI DMU', 'UHP', 'JAT')\n",
      "('04603', 'JAT UDAHMPUR DMU', 'JAT', 'UHP')\n",
      "('04604', 'UDHAMPUR JAMMUTAWI DMU', 'UHP', 'JAT')\n",
      "('04728', 'Mumbai BandraT-Bikaner SF Special', 'BDTS', 'BKN')\n"
     ]
    }
   ],
   "source": [
    "trains = q.execute()\n",
    "for train in trains:\n",
    "    print(train)"
   ]
  },
  {
   "cell_type": "markdown",
   "id": "2bfc897e",
   "metadata": {},
   "source": [
    "**Problem:** List 5 stations"
   ]
  },
  {
   "cell_type": "code",
   "execution_count": 124,
   "id": "bdef0582",
   "metadata": {},
   "outputs": [
    {
     "data": {
      "text/plain": [
       "'1.4.31'"
      ]
     },
     "execution_count": 124,
     "metadata": {},
     "output_type": "execute_result"
    }
   ],
   "source": [
    "import sqlalchemy\n",
    "sqlalchemy.__version__"
   ]
  },
  {
   "cell_type": "markdown",
   "id": "3bbc8ee7",
   "metadata": {},
   "source": [
    "**List all trains starting from bangalore to chennai**"
   ]
  },
  {
   "cell_type": "code",
   "execution_count": 129,
   "id": "bed2b27b",
   "metadata": {},
   "outputs": [
    {
     "name": "stdout",
     "output_type": "stream",
     "text": [
      "SELECT train.number, train.name, train.from_station_code, train.to_station_code \n",
      "FROM train \n",
      "WHERE train.from_station_code = ? AND train.to_station_code = ?\n"
     ]
    }
   ],
   "source": [
    "t = train_table\n",
    "\n",
    "q = (select(\n",
    "        t.c.number,\n",
    "        t.c.name,\n",
    "        t.c.from_station_code,\n",
    "        t.c.to_station_code)\n",
    "     .where(\n",
    "         t.c.from_station_code == 'SBC', \n",
    "         t.c.to_station_code == 'MAS'))     \n",
    "print(q)"
   ]
  },
  {
   "cell_type": "code",
   "execution_count": 130,
   "id": "4b63b6c7",
   "metadata": {},
   "outputs": [
    {
     "name": "stdout",
     "output_type": "stream",
     "text": [
      "('12028', 'BANGALORE CITY - CHENNAI CENT Shatabdi Exp', 'SBC', 'MAS')\n",
      "('12608', 'BANGALORE - CHENNAI CENTRAL Lalbagh Exp', 'SBC', 'MAS')\n",
      "('12640', 'BANGALORE - CHENNAI CENT Brindavan Exp', 'SBC', 'MAS')\n",
      "('12658', 'BANGALORE - CHENNAI Mail', 'SBC', 'MAS')\n",
      "('12610', 'BANGALORE - CHENNAI CENT SF Intercity Exp', 'SBC', 'MAS')\n"
     ]
    }
   ],
   "source": [
    "trains = q.execute()\n",
    "for train in trains:\n",
    "    print(train)"
   ]
  },
  {
   "cell_type": "markdown",
   "id": "f3d0fd35",
   "metadata": {},
   "source": [
    "**Problem:** List 10 stations in Karnataka."
   ]
  },
  {
   "cell_type": "code",
   "execution_count": 131,
   "id": "e627eab8",
   "metadata": {},
   "outputs": [
    {
     "name": "stdout",
     "output_type": "stream",
     "text": [
      "SELECT station.code, station.name, station.zone, station.state, station.address, station.latitude, station.longitude \n",
      "FROM station\n",
      " LIMIT ? OFFSET ?\n"
     ]
    }
   ],
   "source": [
    "q = station_table.select().limit(5)\n",
    "print(q)"
   ]
  },
  {
   "cell_type": "code",
   "execution_count": 132,
   "id": "4209ae20",
   "metadata": {},
   "outputs": [
    {
     "name": "stdout",
     "output_type": "stream",
     "text": [
      "('BDHL', 'Badhal', 'NWR', 'Rajasthan', 'Kishangarh Renwal, Rajasthan', 75.4516454, 27.2520587)\n",
      "('KHH', 'KICHHA', 'NER', 'Uttar Pradesh', 'Kichha, Uttar Pradesh', 79.519746, 28.913427)\n",
      "('SRKN', 'Sherekan', 'NWR', 'Rajasthan', 'MDR 89, Rajasthan', 74.43499088287354, 29.55519806064484)\n",
      "('BKKA', 'Bhukarka', 'NWR', 'Rajasthan', 'Bhukarka, Rajasthan', 74.75103096105158, 29.238227312503696)\n",
      "('NHR', 'Nohar', 'NWR', 'Rajasthan', 'State Highway 36, Rajasthan', 74.77362781763077, 29.192562738768984)\n"
     ]
    }
   ],
   "source": [
    "result = q.execute()\n",
    "for row in result:\n",
    "    print(row)"
   ]
  },
  {
   "cell_type": "markdown",
   "id": "59d468c2",
   "metadata": {},
   "source": [
    "### Using count function"
   ]
  },
  {
   "cell_type": "code",
   "execution_count": 133,
   "id": "23dc6bfc",
   "metadata": {},
   "outputs": [],
   "source": [
    "from sqlalchemy import func"
   ]
  },
  {
   "cell_type": "markdown",
   "id": "25e3c446",
   "metadata": {},
   "source": [
    "**How many trains are there?**"
   ]
  },
  {
   "cell_type": "code",
   "execution_count": 134,
   "id": "90a7af2e",
   "metadata": {},
   "outputs": [
    {
     "name": "stdout",
     "output_type": "stream",
     "text": [
      "SELECT count(train.number) AS count_1 \n",
      "FROM train\n"
     ]
    }
   ],
   "source": [
    "t = train_table\n",
    "\n",
    "q = select(func.count(t.c.number))\n",
    "print(q)"
   ]
  },
  {
   "cell_type": "code",
   "execution_count": 135,
   "id": "6fa19e69",
   "metadata": {},
   "outputs": [
    {
     "name": "stdout",
     "output_type": "stream",
     "text": [
      "(5208,)\n"
     ]
    }
   ],
   "source": [
    "result = q.execute()\n",
    "for row in result:\n",
    "    print(row)"
   ]
  },
  {
   "cell_type": "code",
   "execution_count": 136,
   "id": "e34bd1b8",
   "metadata": {},
   "outputs": [
    {
     "name": "stdout",
     "output_type": "stream",
     "text": [
      "SELECT count(train.number) AS count \n",
      "FROM train\n"
     ]
    }
   ],
   "source": [
    "q = select(\n",
    "        func.count(t.c.number).label('count'))\n",
    "print(q)"
   ]
  },
  {
   "cell_type": "code",
   "execution_count": 138,
   "id": "0be9fabb",
   "metadata": {},
   "outputs": [
    {
     "data": {
      "text/plain": [
       "(5208,)"
      ]
     },
     "execution_count": 138,
     "metadata": {},
     "output_type": "execute_result"
    }
   ],
   "source": [
    "q.execute().first()"
   ]
  },
  {
   "cell_type": "code",
   "execution_count": 139,
   "id": "6c94e73f",
   "metadata": {},
   "outputs": [
    {
     "data": {
      "text/plain": [
       "5208"
      ]
     },
     "execution_count": 139,
     "metadata": {},
     "output_type": "execute_result"
    }
   ],
   "source": [
    "q.execute().first().count"
   ]
  },
  {
   "cell_type": "markdown",
   "id": "6cffdfa4",
   "metadata": {},
   "source": [
    "**How many trains are stating from Bangalore?**"
   ]
  },
  {
   "cell_type": "code",
   "execution_count": 140,
   "id": "e893e156",
   "metadata": {},
   "outputs": [
    {
     "name": "stdout",
     "output_type": "stream",
     "text": [
      "SELECT count(train.number) AS count \n",
      "FROM train \n",
      "WHERE train.from_station_code = ?\n"
     ]
    }
   ],
   "source": [
    "q = (select(\n",
    "        func.count(t.c.number).label('count'))\n",
    "     .where(t.c.from_station_code == 'SBC'))\n",
    "print(q)"
   ]
  },
  {
   "cell_type": "code",
   "execution_count": 141,
   "id": "06224ff1",
   "metadata": {},
   "outputs": [
    {
     "data": {
      "text/plain": [
       "57"
      ]
     },
     "execution_count": 141,
     "metadata": {},
     "output_type": "execute_result"
    }
   ],
   "source": [
    "q.execute().first().count"
   ]
  },
  {
   "cell_type": "markdown",
   "id": "7026cc34",
   "metadata": {},
   "source": [
    "**Problem:** How many stations are there in Karnataka?"
   ]
  },
  {
   "cell_type": "markdown",
   "id": "4eadf227",
   "metadata": {},
   "source": [
    "**What the are the trains covering longest distance?**"
   ]
  },
  {
   "cell_type": "code",
   "execution_count": 148,
   "id": "5b015385",
   "metadata": {},
   "outputs": [
    {
     "name": "stdout",
     "output_type": "stream",
     "text": [
      "SELECT train.number, train.name, train.from_station_code, train.to_station_code, train.distance \n",
      "FROM train \n",
      "WHERE train.distance != ? ORDER BY train.distance DESC\n",
      " LIMIT ? OFFSET ?\n"
     ]
    }
   ],
   "source": [
    "t = train_table\n",
    "\n",
    "q = (select(\n",
    "        t.c.number,\n",
    "        t.c.name,\n",
    "        t.c.from_station_code,\n",
    "        t.c.to_station_code,\n",
    "        t.c.distance)\n",
    "     .where(t.c.distance != '')\n",
    "     .order_by(t.c.distance.desc())\n",
    "     .limit(10))     \n",
    "print(q)"
   ]
  },
  {
   "cell_type": "code",
   "execution_count": 149,
   "id": "38bffd8e",
   "metadata": {},
   "outputs": [
    {
     "name": "stdout",
     "output_type": "stream",
     "text": [
      "('15905', 'KANNIYAKUMARI - DIBRUGARH Vivek Exp', 'CAPE', 'DBRG', 4279.0)\n",
      "('15906', 'DIBRUGARH - KANNIYAKUMARI Vivek Exp', 'DBRG', 'CAPE', 4278.0)\n",
      "('16317', 'Himsagar Express', 'CAPE', 'JAT', 3715.0)\n",
      "('16318', 'Himsagar Express', 'JAT', 'CAPE', 3715.0)\n",
      "('16687', 'Navyug Express', 'MAQ', 'JAT', 3609.0)\n",
      "('16688', 'Navyug Express', 'JAT', 'MAQ', 3609.0)\n",
      "('16688-Slip', 'Navyug Express Slip', 'JAT', 'TEN', 3601.0)\n",
      "('12484', 'AMRITSAR - KOCHUVELI SF Exp', 'ASR', 'KCVL', 3597.0)\n",
      "('12483', 'KOCHUVELI - AMRITSAR SF Exp', 'KCVL', 'ASR', 3597.0)\n",
      "('15902', 'DIBRUGARH - BENGALURU CITY Weekly Exp', 'DBRG', 'SBC', 3578.0)\n"
     ]
    }
   ],
   "source": [
    "result = q.execute()\n",
    "for row in result:\n",
    "    print(row)"
   ]
  },
  {
   "cell_type": "markdown",
   "id": "49d3fbb0",
   "metadata": {},
   "source": [
    "**What the are the trains that has the longest journey?**"
   ]
  },
  {
   "cell_type": "code",
   "execution_count": 154,
   "id": "87e3b203",
   "metadata": {},
   "outputs": [
    {
     "name": "stdout",
     "output_type": "stream",
     "text": [
      "SELECT train.number, train.name, train.from_station_code, train.to_station_code, train.duration_h, train.duration_m \n",
      "FROM train \n",
      "WHERE train.duration_h != ? ORDER BY train.duration_h DESC, train.duration_m DESC\n",
      " LIMIT ? OFFSET ?\n"
     ]
    }
   ],
   "source": [
    "t = train_table\n",
    "\n",
    "q = (select(\n",
    "        t.c.number,\n",
    "        t.c.name,\n",
    "        t.c.from_station_code,\n",
    "        t.c.to_station_code,\n",
    "        t.c.duration_h,\n",
    "        t.c.duration_m)\n",
    "     .where(t.c.duration_h != '')\n",
    "     .order_by(t.c.duration_h.desc(), t.c.duration_m.desc())\n",
    "     .limit(10))     \n",
    "print(q)"
   ]
  },
  {
   "cell_type": "code",
   "execution_count": 155,
   "id": "7162fc75",
   "metadata": {},
   "outputs": [
    {
     "name": "stdout",
     "output_type": "stream",
     "text": [
      "('15905', 'KANNIYAKUMARI - DIBRUGARH Vivek Exp', 'CAPE', 'DBRG', 85.0, 30.0)\n",
      "('15906', 'DIBRUGARH - KANNIYAKUMARI Vivek Exp', 'DBRG', 'CAPE', 82.0, 40.0)\n",
      "('16317', 'Himsagar Express', 'CAPE', 'JAT', 71.0, 10.0)\n",
      "('16318', 'Himsagar Express', 'JAT', 'CAPE', 70.0, 15.0)\n",
      "('16787', 'TIRUNELVELI - KATRA Exp', 'TEN', 'SVDK', 69.0, 25.0)\n",
      "('15930', 'DIBRUGARH - CHENNAI EGMORE Weekly Exp', 'DBRG', 'MS', 68.0, 30.0)\n",
      "('15901', 'BENGALURU - NEW TINSUKIA Weekly Exp', 'SBC', 'NTSK', 68.0, 15.0)\n",
      "('16687', 'Navyug Express', 'MAQ', 'JAT', 68.0, 5.0)\n",
      "('15635', 'OKHA - GUWAHATI EXP', 'OKHA', 'GHY', 67.0, 40.0)\n",
      "('15929', 'CHENNAI EGMORE - DIBRUGARH Weekly Exp', 'MS', 'DBRG', 67.0, 30.0)\n"
     ]
    }
   ],
   "source": [
    "result = q.execute()\n",
    "for row in result:\n",
    "    print(row)"
   ]
  },
  {
   "cell_type": "markdown",
   "id": "a3b00b55",
   "metadata": {},
   "source": [
    "**Which stations have the most number of trains starting from there?**"
   ]
  },
  {
   "cell_type": "code",
   "execution_count": 164,
   "id": "95ee4318",
   "metadata": {},
   "outputs": [
    {
     "name": "stdout",
     "output_type": "stream",
     "text": [
      "SELECT train.from_station_code, train.from_station_name, count(*) AS count \n",
      "FROM train GROUP BY train.from_station_code, train.from_station_name ORDER BY count DESC\n",
      " LIMIT ? OFFSET ?\n"
     ]
    }
   ],
   "source": [
    "from sqlalchemy import desc\n",
    "\n",
    "t = train_table\n",
    "\n",
    "q = (select(\n",
    "        t.c.from_station_code,\n",
    "        t.c.from_station_name,\n",
    "        func.count().label('count'))\n",
    "     .group_by(t.c.from_station_code, t.c.from_station_name)\n",
    "#      .order_by(func.count().desc())\n",
    "     .order_by(desc('count'))\n",
    "     .limit(10))     \n",
    "print(q)"
   ]
  },
  {
   "cell_type": "code",
   "execution_count": 165,
   "id": "e00d594b",
   "metadata": {},
   "outputs": [
    {
     "name": "stdout",
     "output_type": "stream",
     "text": [
      "('HWH', 'HOWRAH JN', 136)\n",
      "('MSB', 'CHENNAI BEACH', 122)\n",
      "('NDLS', 'NEW DELHI', 80)\n",
      "('DLI', 'OLD DELHI', 70)\n",
      "('MAS', 'CHENNAI CENTRAL', 68)\n",
      "('SBC', 'BANGALORE CITY JN', 57)\n",
      "('ADI', 'AHMEDABAD JN', 55)\n",
      "('LPI', 'LINGAMPALLI', 54)\n",
      "('HYB', 'HYDERABAD DECCAN', 53)\n",
      "('NZM', 'DELHI H NIZAMUDDIN', 51)\n"
     ]
    }
   ],
   "source": [
    "result = q.execute()\n",
    "for row in result:\n",
    "    print(row)"
   ]
  },
  {
   "cell_type": "markdown",
   "id": "9409c6d7",
   "metadata": {},
   "source": [
    "**Problem:** Which states have the most number of railway stations?"
   ]
  },
  {
   "cell_type": "markdown",
   "id": "177193b7",
   "metadata": {},
   "source": [
    "**How many trains are starting from karnataka?**"
   ]
  },
  {
   "cell_type": "code",
   "execution_count": 168,
   "id": "c3ccbc9d",
   "metadata": {},
   "outputs": [
    {
     "name": "stdout",
     "output_type": "stream",
     "text": [
      "SELECT station.state, count(*) AS count \n",
      "FROM station, train \n",
      "WHERE train.from_station_code = station.code AND station.state = ?\n"
     ]
    }
   ],
   "source": [
    "t = train_table\n",
    "s = station_table\n",
    "\n",
    "q = (select(\n",
    "        s.c.state,\n",
    "        func.count().label('count'))\n",
    "     .where(t.c.from_station_code==s.c.code, s.c.state=='Karnataka'))     \n",
    "print(q)"
   ]
  },
  {
   "cell_type": "code",
   "execution_count": 169,
   "id": "a36e97ba",
   "metadata": {},
   "outputs": [
    {
     "data": {
      "text/plain": [
       "('Karnataka', 201)"
      ]
     },
     "execution_count": 169,
     "metadata": {},
     "output_type": "execute_result"
    }
   ],
   "source": [
    "q.execute().first()"
   ]
  },
  {
   "cell_type": "markdown",
   "id": "b44b12e3",
   "metadata": {},
   "source": [
    "**Which states have the most number of traing starting from there?**"
   ]
  },
  {
   "cell_type": "code",
   "execution_count": 172,
   "id": "5f5bd678",
   "metadata": {},
   "outputs": [
    {
     "name": "stdout",
     "output_type": "stream",
     "text": [
      "SELECT station.state, count(*) AS count \n",
      "FROM station, train \n",
      "WHERE train.from_station_code = station.code GROUP BY station.state ORDER BY count DESC\n",
      " LIMIT ? OFFSET ?\n"
     ]
    }
   ],
   "source": [
    "t = train_table\n",
    "s = station_table\n",
    "\n",
    "q = (select(\n",
    "        s.c.state,\n",
    "        func.count().label('count'))\n",
    "     .where(t.c.from_station_code==s.c.code)\n",
    "     .group_by(s.c.state)\n",
    "     .order_by(desc('count'))\n",
    "     .limit(10))\n",
    "print(q)"
   ]
  },
  {
   "cell_type": "code",
   "execution_count": 173,
   "id": "96aa16b1",
   "metadata": {},
   "outputs": [
    {
     "name": "stdout",
     "output_type": "stream",
     "text": [
      "('', 3124)\n",
      "('Maharashtra', 228)\n",
      "('Karnataka', 201)\n",
      "('Gujarat', 179)\n",
      "('Madhya Pradesh', 163)\n",
      "('Uttar Pradesh', 151)\n",
      "('Rajasthan', 125)\n",
      "('Tamil Nadu', 116)\n",
      "('Bihar', 110)\n",
      "('Andhra Pradesh', 110)\n"
     ]
    }
   ],
   "source": [
    "result = q.execute()\n",
    "for row in result:\n",
    "    print(row)"
   ]
  },
  {
   "cell_type": "markdown",
   "id": "9ec1cdb4",
   "metadata": {},
   "source": [
    "**From which state are the longest trains starting from?**"
   ]
  },
  {
   "cell_type": "code",
   "execution_count": 177,
   "id": "17644000",
   "metadata": {},
   "outputs": [
    {
     "name": "stdout",
     "output_type": "stream",
     "text": [
      "SELECT station.state, count(*) AS count \n",
      "FROM station, train \n",
      "WHERE train.from_station_code = station.code AND train.distance > ? GROUP BY station.state ORDER BY count DESC\n"
     ]
    }
   ],
   "source": [
    "t = train_table\n",
    "s = station_table\n",
    "\n",
    "q = (select(\n",
    "        s.c.state,\n",
    "        func.count().label('count'))\n",
    "     .where(\n",
    "        t.c.from_station_code==s.c.code,\n",
    "        t.c.distance > 3000)\n",
    "     .group_by(s.c.state)\n",
    "     .order_by(desc('count')))\n",
    "print(q)"
   ]
  },
  {
   "cell_type": "code",
   "execution_count": 178,
   "id": "813b8235",
   "metadata": {},
   "outputs": [
    {
     "name": "stdout",
     "output_type": "stream",
     "text": [
      "('', 41)\n",
      "('Tamil Nadu', 4)\n",
      "('Jammu and Kashmir', 4)\n",
      "('Assam', 3)\n",
      "('Karnataka', 2)\n",
      "('Gujarat', 2)\n",
      "('Uttarakhand', 1)\n",
      "('Chandigarh', 1)\n"
     ]
    }
   ],
   "source": [
    "result = q.execute()\n",
    "for row in result:\n",
    "    print(row)"
   ]
  },
  {
   "cell_type": "markdown",
   "id": "996c467d",
   "metadata": {},
   "source": [
    "## Feedback"
   ]
  },
  {
   "cell_type": "markdown",
   "id": "1fc0f93f",
   "metadata": {},
   "source": [
    "Please take sometime to let me know how you felt about the training.\n",
    "\n",
    "[View Feedback Form &rarr;](https://forms.gle/1xD1bVJC8Vwe8qQJ9)"
   ]
  },
  {
   "cell_type": "markdown",
   "id": "a28e03d6",
   "metadata": {},
   "source": [
    "## Q & A"
   ]
  },
  {
   "cell_type": "markdown",
   "id": "d509a890",
   "metadata": {},
   "source": [
    "How to query for both Bangalore and Mysore?"
   ]
  },
  {
   "cell_type": "code",
   "execution_count": 184,
   "id": "9d6fb194",
   "metadata": {},
   "outputs": [
    {
     "name": "stdout",
     "output_type": "stream",
     "text": [
      "SELECT train.number, train.name, train.from_station_code, train.to_station_code \n",
      "FROM train \n",
      "WHERE train.from_station_code = ? AND train.to_station_code = ?\n"
     ]
    }
   ],
   "source": [
    "# trains from bangalore to chennai\n",
    "t = train_table\n",
    "\n",
    "q = (select(\n",
    "        t.c.number,\n",
    "        t.c.name,\n",
    "        t.c.from_station_code,\n",
    "        t.c.to_station_code)\n",
    "     .where(\n",
    "         t.c.from_station_code == 'SBC', \n",
    "         t.c.to_station_code == 'MAS'))     \n",
    "print(q)"
   ]
  },
  {
   "cell_type": "code",
   "execution_count": 183,
   "id": "1f5c4173",
   "metadata": {},
   "outputs": [
    {
     "name": "stdout",
     "output_type": "stream",
     "text": [
      "('12028', 'BANGALORE CITY - CHENNAI CENT Shatabdi Exp', 'SBC', 'MAS')\n",
      "('12608', 'BANGALORE - CHENNAI CENTRAL Lalbagh Exp', 'SBC', 'MAS')\n",
      "('12640', 'BANGALORE - CHENNAI CENT Brindavan Exp', 'SBC', 'MAS')\n",
      "('12658', 'BANGALORE - CHENNAI Mail', 'SBC', 'MAS')\n",
      "('12610', 'BANGALORE - CHENNAI CENT SF Intercity Exp', 'SBC', 'MAS')\n"
     ]
    }
   ],
   "source": [
    "result = q.execute()\n",
    "for row in result:\n",
    "    print(row)"
   ]
  },
  {
   "cell_type": "markdown",
   "id": "4646f056",
   "metadata": {},
   "source": [
    "How to include trains from Yeswantpur as well?"
   ]
  },
  {
   "cell_type": "code",
   "execution_count": 187,
   "id": "d6655894",
   "metadata": {},
   "outputs": [
    {
     "name": "stdout",
     "output_type": "stream",
     "text": [
      "SELECT train.number, train.name, train.from_station_code, train.to_station_code \n",
      "FROM train \n",
      "WHERE train.from_station_code IN (__[POSTCOMPILE_from_station_code_1]) AND train.to_station_code = ?\n"
     ]
    }
   ],
   "source": [
    "# trains from bangalore to chennai\n",
    "t = train_table\n",
    "\n",
    "q = (select(\n",
    "        t.c.number,\n",
    "        t.c.name,\n",
    "        t.c.from_station_code,\n",
    "        t.c.to_station_code)\n",
    "     .where(\n",
    "         t.c.from_station_code.in_(['SBC', 'YPR']),\n",
    "         t.c.to_station_code == 'MAS'))     \n",
    "print(q)"
   ]
  },
  {
   "cell_type": "code",
   "execution_count": 188,
   "id": "5651601b",
   "metadata": {},
   "outputs": [
    {
     "name": "stdout",
     "output_type": "stream",
     "text": [
      "('12028', 'BANGALORE CITY - CHENNAI CENT Shatabdi Exp', 'SBC', 'MAS')\n",
      "('12291', 'YESVANTPUR - CHENNAI SF Exp', 'YPR', 'MAS')\n",
      "('12608', 'BANGALORE - CHENNAI CENTRAL Lalbagh Exp', 'SBC', 'MAS')\n",
      "('12640', 'BANGALORE - CHENNAI CENT Brindavan Exp', 'SBC', 'MAS')\n",
      "('12658', 'BANGALORE - CHENNAI Mail', 'SBC', 'MAS')\n",
      "('12610', 'BANGALORE - CHENNAI CENT SF Intercity Exp', 'SBC', 'MAS')\n"
     ]
    }
   ],
   "source": [
    "result = q.execute()\n",
    "for row in result:\n",
    "    print(row)"
   ]
  },
  {
   "cell_type": "markdown",
   "id": "7bf58bf8",
   "metadata": {},
   "source": [
    "The other way is to use the OR operator."
   ]
  },
  {
   "cell_type": "code",
   "execution_count": 189,
   "id": "bbe1434d",
   "metadata": {},
   "outputs": [],
   "source": [
    "from sqlalchemy import or_"
   ]
  },
  {
   "cell_type": "code",
   "execution_count": 190,
   "id": "f5366e0d",
   "metadata": {},
   "outputs": [
    {
     "name": "stdout",
     "output_type": "stream",
     "text": [
      "SELECT train.number, train.name, train.from_station_code, train.to_station_code \n",
      "FROM train \n",
      "WHERE (train.from_station_code = ? OR train.from_station_code = ?) AND train.to_station_code = ?\n"
     ]
    }
   ],
   "source": [
    "# trains from bangalore to chennai\n",
    "t = train_table\n",
    "\n",
    "q = (select(\n",
    "        t.c.number,\n",
    "        t.c.name,\n",
    "        t.c.from_station_code,\n",
    "        t.c.to_station_code)\n",
    "     .where(\n",
    "         or_(\n",
    "             t.c.from_station_code == 'SBC', \n",
    "             t.c.from_station_code == 'YPR'),\n",
    "         t.c.to_station_code == 'MAS'))     \n",
    "print(q)"
   ]
  },
  {
   "cell_type": "code",
   "execution_count": 191,
   "id": "5d5135b6",
   "metadata": {},
   "outputs": [
    {
     "name": "stdout",
     "output_type": "stream",
     "text": [
      "('12028', 'BANGALORE CITY - CHENNAI CENT Shatabdi Exp', 'SBC', 'MAS')\n",
      "('12291', 'YESVANTPUR - CHENNAI SF Exp', 'YPR', 'MAS')\n",
      "('12608', 'BANGALORE - CHENNAI CENTRAL Lalbagh Exp', 'SBC', 'MAS')\n",
      "('12640', 'BANGALORE - CHENNAI CENT Brindavan Exp', 'SBC', 'MAS')\n",
      "('12658', 'BANGALORE - CHENNAI Mail', 'SBC', 'MAS')\n",
      "('12610', 'BANGALORE - CHENNAI CENT SF Intercity Exp', 'SBC', 'MAS')\n"
     ]
    }
   ],
   "source": [
    "result = q.execute()\n",
    "for row in result:\n",
    "    print(row)"
   ]
  },
  {
   "cell_type": "markdown",
   "id": "9790c271",
   "metadata": {},
   "source": [
    "**Q:** One more example of Group By"
   ]
  },
  {
   "cell_type": "code",
   "execution_count": 193,
   "id": "063c5839",
   "metadata": {},
   "outputs": [
    {
     "data": {
      "text/plain": [
       "[('04601', 'Jammu Tawi Udhampur Special', 'DEMU', 'NR', 'JAT', 'JAMMU TAWI', 'UHP', 'UDHAMPUR', '10:40:00', '12:15:00', 1.0, 35.0, 53.0, '04602', 0, 0, 0, 0, 0, 0),\n",
       " ('04602', 'UDHAMPUR JAMMUTAWI DMU', 'DEMU', 'NR', 'UHP', 'UDHAMPUR', 'JAT', 'JAMMU TAWI', '06:45:00', '08:35:00', 1.0, 50.0, 53.0, '04601', 0, 0, 0, 0, 0, 0),\n",
       " ('04603', 'JAT UDAHMPUR DMU', 'DEMU', 'NR', 'JAT', 'JAMMU TAWI', 'UHP', 'UDHAMPUR', '16:15:00', '17:50:00', 1.0, 35.0, 53.0, '04604', 0, 0, 0, 0, 0, 0),\n",
       " ('04604', 'UDHAMPUR JAMMUTAWI DMU', 'DEMU', 'NR', 'UHP', 'UDHAMPUR', 'JAT', 'JAMMU TAWI', '18:20:00', '19:50:00', 1.0, 30.0, 53.0, '04603', 0, 0, 0, 0, 0, 0),\n",
       " ('04728', 'Mumbai BandraT-Bikaner SF Special', 'SF', 'NWR', 'BDTS', 'MUMBAI BANDRA TERMINUS', 'BKN', 'BIKANER JN', '14:35:00', '12:30:00', 21.0, 55.0, 1212.0, '04727', 1, 1, 1, 0, 0, 0)]"
      ]
     },
     "execution_count": 193,
     "metadata": {},
     "output_type": "execute_result"
    }
   ],
   "source": [
    "t.select().limit(5).execute().all()"
   ]
  },
  {
   "cell_type": "markdown",
   "id": "0ee502ca",
   "metadata": {},
   "source": [
    "Let's say we want to find the number of trains by their type."
   ]
  },
  {
   "cell_type": "code",
   "execution_count": 197,
   "id": "3186c1c8",
   "metadata": {},
   "outputs": [
    {
     "name": "stdout",
     "output_type": "stream",
     "text": [
      "SELECT train.type, count(*) AS count \n",
      "FROM train GROUP BY train.type ORDER BY count DESC\n"
     ]
    }
   ],
   "source": [
    "q = (select(t.c.type, func.count().label('count'))\n",
    "     .group_by(t.c.type)\n",
    "     .order_by(desc('count')))\n",
    "print(q)"
   ]
  },
  {
   "cell_type": "code",
   "execution_count": 198,
   "id": "d2c7e5e9",
   "metadata": {},
   "outputs": [
    {
     "name": "stdout",
     "output_type": "stream",
     "text": [
      "('Pass', 2459)\n",
      "('Exp', 1288)\n",
      "('SF', 719)\n",
      "('MEMU', 297)\n",
      "('Hyd', 121)\n",
      "('GR', 52)\n",
      "('Raj', 48)\n",
      "('Drnt', 48)\n",
      "('SKr', 42)\n",
      "('JShtb', 40)\n",
      "('Shtb', 31)\n",
      "('Mail', 19)\n",
      "('', 15)\n",
      "('Toy', 14)\n",
      "('Del', 8)\n",
      "('DEMU', 4)\n",
      "('Klkt', 3)\n"
     ]
    }
   ],
   "source": [
    "result = q.execute()\n",
    "for row in result:\n",
    "    print(row)"
   ]
  },
  {
   "cell_type": "markdown",
   "id": "d79d779b",
   "metadata": {},
   "source": [
    "We can even write this as a function."
   ]
  },
  {
   "cell_type": "code",
   "execution_count": 199,
   "id": "39edeaeb",
   "metadata": {},
   "outputs": [],
   "source": [
    "def train_counts(by):\n",
    "    q = (select(t.c[by], func.count().label('count'))\n",
    "         .group_by(t.c[by])\n",
    "         .order_by(desc('count')))\n",
    "    print(q)   \n",
    "    result = q.execute()\n",
    "    for row in result:\n",
    "        print(row)    "
   ]
  },
  {
   "cell_type": "code",
   "execution_count": 200,
   "id": "bc6ccee0",
   "metadata": {
    "scrolled": true
   },
   "outputs": [
    {
     "name": "stdout",
     "output_type": "stream",
     "text": [
      "SELECT train.type, count(*) AS count \n",
      "FROM train GROUP BY train.type ORDER BY count DESC\n",
      "('Pass', 2459)\n",
      "('Exp', 1288)\n",
      "('SF', 719)\n",
      "('MEMU', 297)\n",
      "('Hyd', 121)\n",
      "('GR', 52)\n",
      "('Raj', 48)\n",
      "('Drnt', 48)\n",
      "('SKr', 42)\n",
      "('JShtb', 40)\n",
      "('Shtb', 31)\n",
      "('Mail', 19)\n",
      "('', 15)\n",
      "('Toy', 14)\n",
      "('Del', 8)\n",
      "('DEMU', 4)\n",
      "('Klkt', 3)\n"
     ]
    }
   ],
   "source": [
    "train_counts('type')"
   ]
  },
  {
   "cell_type": "code",
   "execution_count": 204,
   "id": "920db5ef",
   "metadata": {},
   "outputs": [
    {
     "name": "stdout",
     "output_type": "stream",
     "text": [
      "SELECT train.zone, count(*) AS count \n",
      "FROM train GROUP BY train.zone ORDER BY count DESC\n",
      "('NR', 628)\n",
      "('SR', 606)\n",
      "('WR', 470)\n",
      "('SCR', 437)\n",
      "('NER', 394)\n",
      "('ER', 369)\n",
      "('CR', 359)\n",
      "('?', 275)\n",
      "('ECR', 258)\n",
      "('SER', 251)\n",
      "('NWR', 232)\n",
      "('SWR', 227)\n",
      "('NFR', 219)\n",
      "('NCR', 135)\n",
      "('ECoR', 120)\n",
      "('SECR', 118)\n",
      "('WCR', 74)\n",
      "('KR', 21)\n",
      "('', 15)\n"
     ]
    }
   ],
   "source": [
    "train_counts('zone')"
   ]
  },
  {
   "cell_type": "markdown",
   "id": "987ea9db",
   "metadata": {},
   "source": [
    "**Group by multiple columns**"
   ]
  },
  {
   "cell_type": "code",
   "execution_count": 208,
   "id": "78bddeb0",
   "metadata": {},
   "outputs": [
    {
     "name": "stdout",
     "output_type": "stream",
     "text": [
      "SELECT train.zone, train.type, count(*) AS count \n",
      "FROM train GROUP BY train.zone, train.type\n",
      "------------------------\n",
      "zone\ttype\tcount\n",
      "------------------------\n",
      "\t\t15\n",
      "?\tExp\t15\n",
      "?\tMEMU\t100\n",
      "?\tPass\t160\n",
      "CR\tDrnt\t3\n",
      "CR\tExp\t111\n",
      "CR\tGR\t2\n",
      "CR\tMEMU\t1\n",
      "CR\tMail\t3\n",
      "CR\tPass\t137\n",
      "CR\tSF\t90\n",
      "CR\tShtb\t2\n",
      "CR\tToy\t10\n",
      "ECR\tExp\t69\n",
      "ECR\tGR\t3\n",
      "ECR\tJShtb\t2\n",
      "ECR\tMEMU\t36\n",
      "ECR\tPass\t130\n",
      "ECR\tRaj\t2\n",
      "ECR\tSF\t14\n",
      "ECR\tSKr\t2\n",
      "ECoR\tDrnt\t4\n",
      "ECoR\tExp\t54\n",
      "ECoR\tGR\t2\n",
      "ECoR\tJShtb\t2\n",
      "ECoR\tPass\t34\n",
      "ECoR\tRaj\t4\n",
      "ECoR\tSF\t18\n",
      "ECoR\tSKr\t2\n",
      "ER\tDrnt\t4\n",
      "ER\tExp\t110\n",
      "ER\tGR\t2\n",
      "ER\tJShtb\t4\n",
      "ER\tKlkt\t2\n",
      "ER\tMEMU\t49\n",
      "ER\tMail\t3\n",
      "ER\tPass\t112\n",
      "ER\tRaj\t6\n",
      "ER\tSF\t73\n",
      "ER\tSKr\t2\n",
      "ER\tShtb\t2\n",
      "KR\tExp\t6\n",
      "KR\tJShtb\t2\n",
      "KR\tPass\t13\n",
      "NCR\tDrnt\t2\n",
      "NCR\tExp\t23\n",
      "NCR\tGR\t2\n",
      "NCR\tMail\t2\n",
      "NCR\tPass\t94\n",
      "NCR\tSF\t9\n",
      "NCR\tSKr\t1\n",
      "NCR\tShtb\t2\n",
      "NER\tExp\t91\n",
      "NER\tGR\t6\n",
      "NER\tPass\t270\n",
      "NER\tSF\t23\n",
      "NER\tSKr\t4\n",
      "NFR\tExp\t94\n",
      "NFR\tJShtb\t4\n",
      "NFR\tPass\t93\n",
      "NFR\tSF\t23\n",
      "NFR\tSKr\t1\n",
      "NFR\tToy\t4\n",
      "NR\tDEMU\t4\n",
      "NR\tDel\t8\n",
      "NR\tDrnt\t12\n",
      "NR\tExp\t133\n",
      "NR\tGR\t13\n",
      "NR\tJShtb\t8\n",
      "NR\tMEMU\t3\n",
      "NR\tMail\t6\n",
      "NR\tPass\t307\n",
      "NR\tRaj\t30\n",
      "NR\tSF\t73\n",
      "NR\tSKr\t12\n",
      "NR\tShtb\t19\n",
      "NWR\tExp\t62\n",
      "NWR\tGR\t2\n",
      "NWR\tPass\t132\n",
      "NWR\tSF\t36\n",
      "SCR\tDrnt\t4\n",
      "SCR\tExp\t95\n",
      "SCR\tGR\t2\n",
      "SCR\tHyd\t121\n",
      "SCR\tJShtb\t2\n",
      "SCR\tPass\t163\n",
      "SCR\tSF\t48\n",
      "SCR\tSKr\t2\n",
      "SECR\tExp\t27\n",
      "SECR\tJShtb\t2\n",
      "SECR\tPass\t83\n",
      "SECR\tSF\t6\n",
      "SER\tDrnt\t8\n",
      "SER\tExp\t66\n",
      "SER\tGR\t6\n",
      "SER\tKlkt\t1\n",
      "SER\tMEMU\t11\n",
      "SER\tPass\t77\n",
      "SER\tSF\t78\n",
      "SER\tSKr\t4\n",
      "SR\tDrnt\t5\n",
      "SR\tExp\t133\n",
      "SR\tGR\t4\n",
      "SR\tJShtb\t8\n",
      "SR\tMEMU\t97\n",
      "SR\tPass\t240\n",
      "SR\tSF\t115\n",
      "SR\tSKr\t2\n",
      "SR\tShtb\t2\n",
      "SWR\tExp\t78\n",
      "SWR\tGR\t4\n",
      "SWR\tJShtb\t2\n",
      "SWR\tPass\t103\n",
      "SWR\tSF\t34\n",
      "SWR\tSKr\t4\n",
      "SWR\tShtb\t2\n",
      "WCR\tExp\t12\n",
      "WCR\tGR\t2\n",
      "WCR\tJShtb\t4\n",
      "WCR\tPass\t45\n",
      "WCR\tSF\t9\n",
      "WCR\tSKr\t2\n",
      "WR\tDrnt\t6\n",
      "WR\tExp\t109\n",
      "WR\tGR\t2\n",
      "WR\tMail\t5\n",
      "WR\tPass\t266\n",
      "WR\tRaj\t6\n",
      "WR\tSF\t70\n",
      "WR\tSKr\t4\n",
      "WR\tShtb\t2\n",
      "------------------------\n"
     ]
    }
   ],
   "source": [
    "q = (select(t.c.zone, t.c.type, func.count().label('count'))\n",
    "     .group_by(t.c.zone, t.c.type)\n",
    ")\n",
    "print(q)   \n",
    "result = q.execute()\n",
    "\n",
    "def print_row(row):\n",
    "    print(\"\\t\".join([str(x) for x in row]))\n",
    "\n",
    "print(\"-\" * 24)\n",
    "print_row(result.keys())\n",
    "print(\"-\" * 24)\n",
    "for row in result:\n",
    "    print_row(row)  \n",
    "print(\"-\" * 24)    "
   ]
  },
  {
   "cell_type": "code",
   "execution_count": null,
   "id": "ec142050",
   "metadata": {},
   "outputs": [],
   "source": []
  },
  {
   "cell_type": "markdown",
   "id": "aa55e85a",
   "metadata": {},
   "source": [
    "**Q:** Real use-case of exceptions."
   ]
  },
  {
   "cell_type": "code",
   "execution_count": 225,
   "id": "52a8f5e5",
   "metadata": {},
   "outputs": [],
   "source": [
    "import requests\n",
    "def wget(url):\n",
    "    filename = url.split(\"/\")[-1]\n",
    "    \n",
    "    try:\n",
    "        res = requests.get(url)\n",
    "    except ValueError as e:\n",
    "        print(f\"Invalid URL: {url}\\n\\n{e}\")\n",
    "        return\n",
    "    \n",
    "    with open(filename, \"wb\") as f:\n",
    "        f.write(res.content)\n",
    "    print(\"written\", filename)"
   ]
  },
  {
   "cell_type": "code",
   "execution_count": 226,
   "id": "b8992341",
   "metadata": {},
   "outputs": [],
   "source": [
    "url = \"https://anandology.com/tmp/hello.txt\""
   ]
  },
  {
   "cell_type": "code",
   "execution_count": 227,
   "id": "e2e8a180",
   "metadata": {},
   "outputs": [
    {
     "name": "stdout",
     "output_type": "stream",
     "text": [
      "written hello.txt\n"
     ]
    }
   ],
   "source": [
    "wget(url)"
   ]
  },
  {
   "cell_type": "code",
   "execution_count": 228,
   "id": "20d68449",
   "metadata": {},
   "outputs": [
    {
     "name": "stdout",
     "output_type": "stream",
     "text": [
      "Invalid URL: htt://anandology.com/tmp/bad-name.txt\n",
      "\n",
      "No connection adapters were found for 'htt://anandology.com/tmp/bad-name.txt'\n"
     ]
    }
   ],
   "source": [
    "url = \"htt://anandology.com/tmp/bad-name.txt\"\n",
    "wget(url)"
   ]
  },
  {
   "cell_type": "code",
   "execution_count": 218,
   "id": "5353d524",
   "metadata": {},
   "outputs": [
    {
     "name": "stdout",
     "output_type": "stream",
     "text": [
      "htt://anandology.com/tmp/bad-name.txt: Unsupported scheme ‘htt’.\r\n"
     ]
    }
   ],
   "source": [
    "!wget \"htt://anandology.com/tmp/bad-name.txt\""
   ]
  },
  {
   "cell_type": "code",
   "execution_count": 222,
   "id": "0e182a07",
   "metadata": {},
   "outputs": [
    {
     "name": "stdout",
     "output_type": "stream",
     "text": [
      "Help on class InvalidSchema in module requests.exceptions:\n",
      "\n",
      "class InvalidSchema(RequestException, builtins.ValueError)\n",
      " |  InvalidSchema(*args, **kwargs)\n",
      " |  \n",
      " |  The URL scheme provided is either invalid or unsupported.\n",
      " |  \n",
      " |  Method resolution order:\n",
      " |      InvalidSchema\n",
      " |      RequestException\n",
      " |      builtins.OSError\n",
      " |      builtins.ValueError\n",
      " |      builtins.Exception\n",
      " |      builtins.BaseException\n",
      " |      builtins.object\n",
      " |  \n",
      " |  Methods inherited from RequestException:\n",
      " |  \n",
      " |  __init__(self, *args, **kwargs)\n",
      " |      Initialize RequestException with `request` and `response` objects.\n",
      " |  \n",
      " |  ----------------------------------------------------------------------\n",
      " |  Data descriptors inherited from RequestException:\n",
      " |  \n",
      " |  __weakref__\n",
      " |      list of weak references to the object (if defined)\n",
      " |  \n",
      " |  ----------------------------------------------------------------------\n",
      " |  Methods inherited from builtins.OSError:\n",
      " |  \n",
      " |  __reduce__(...)\n",
      " |      Helper for pickle.\n",
      " |  \n",
      " |  __str__(self, /)\n",
      " |      Return str(self).\n",
      " |  \n",
      " |  ----------------------------------------------------------------------\n",
      " |  Static methods inherited from builtins.OSError:\n",
      " |  \n",
      " |  __new__(*args, **kwargs) from builtins.type\n",
      " |      Create and return a new object.  See help(type) for accurate signature.\n",
      " |  \n",
      " |  ----------------------------------------------------------------------\n",
      " |  Data descriptors inherited from builtins.OSError:\n",
      " |  \n",
      " |  characters_written\n",
      " |  \n",
      " |  errno\n",
      " |      POSIX exception code\n",
      " |  \n",
      " |  filename\n",
      " |      exception filename\n",
      " |  \n",
      " |  filename2\n",
      " |      second exception filename\n",
      " |  \n",
      " |  strerror\n",
      " |      exception strerror\n",
      " |  \n",
      " |  ----------------------------------------------------------------------\n",
      " |  Methods inherited from builtins.BaseException:\n",
      " |  \n",
      " |  __delattr__(self, name, /)\n",
      " |      Implement delattr(self, name).\n",
      " |  \n",
      " |  __getattribute__(self, name, /)\n",
      " |      Return getattr(self, name).\n",
      " |  \n",
      " |  __repr__(self, /)\n",
      " |      Return repr(self).\n",
      " |  \n",
      " |  __setattr__(self, name, value, /)\n",
      " |      Implement setattr(self, name, value).\n",
      " |  \n",
      " |  __setstate__(...)\n",
      " |  \n",
      " |  with_traceback(...)\n",
      " |      Exception.with_traceback(tb) --\n",
      " |      set self.__traceback__ to tb and return self.\n",
      " |  \n",
      " |  ----------------------------------------------------------------------\n",
      " |  Data descriptors inherited from builtins.BaseException:\n",
      " |  \n",
      " |  __cause__\n",
      " |      exception cause\n",
      " |  \n",
      " |  __context__\n",
      " |      exception context\n",
      " |  \n",
      " |  __dict__\n",
      " |  \n",
      " |  __suppress_context__\n",
      " |  \n",
      " |  __traceback__\n",
      " |  \n",
      " |  args\n",
      "\n"
     ]
    }
   ],
   "source": [
    "help(requests.exceptions.InvalidSchema)"
   ]
  },
  {
   "cell_type": "markdown",
   "id": "f7d74b2c",
   "metadata": {},
   "source": [
    "## SQLAlchemy ORM"
   ]
  },
  {
   "cell_type": "code",
   "execution_count": 314,
   "id": "6fd4d8cc",
   "metadata": {},
   "outputs": [],
   "source": [
    "from sqlalchemy.orm import declarative_base, relationship, Session\n",
    "from sqlalchemy import (\n",
    "    create_engine,\n",
    "    Column, String,\n",
    "    ForeignKey)"
   ]
  },
  {
   "cell_type": "code",
   "execution_count": 315,
   "id": "b13265da",
   "metadata": {},
   "outputs": [],
   "source": [
    "engine = create_engine(\"sqlite:///trains.db\", echo=True)"
   ]
  },
  {
   "cell_type": "code",
   "execution_count": 316,
   "id": "e805865f",
   "metadata": {},
   "outputs": [],
   "source": [
    "Base = declarative_base(bind=engine)"
   ]
  },
  {
   "cell_type": "code",
   "execution_count": null,
   "id": "606ea49f",
   "metadata": {},
   "outputs": [],
   "source": [
    "class Station(Base):\n",
    "    __tablename__ = \"station\"\n",
    "    \n",
    "    code = Column(String, primary_key=True)\n",
    "    name = Column(String)\n",
    "    zone = Column(String)\n",
    "    state = Column(String)\n",
    "    \n",
    "    def get_trains_to(self, to_station):\n",
    "        pass\n",
    "    \n",
    "    def __repr__(self):\n",
    "        return f\"<Station:{self.code} ({self.name})>\"\n",
    "    \n",
    "class Train(Base):\n",
    "    __tablename__ = \"train\"\n",
    "    \n",
    "    number = Column(String, primary_key=True)\n",
    "    name = Column(String)\n",
    "    from_station_code = Column(String, ForeignKey(Station.code))\n",
    "    to_station_code = Column(String, ForeignKey(Station.code)) \n",
    "    \n",
    "    from_station = relationship(\"Station\", foreign_keys=[from_station_code])\n",
    "    to_station = relationship(\"Station\", foreign_keys=[to_station_code])\n",
    "\n",
    "    def __repr__(self):\n",
    "        return f\"<Train:{self.number} ({self.name})>\""
   ]
  },
  {
   "cell_type": "code",
   "execution_count": 318,
   "id": "ce3afbe4",
   "metadata": {},
   "outputs": [
    {
     "name": "stdout",
     "output_type": "stream",
     "text": [
      "SELECT train.number, train.name, train.from_station_code, train.to_station_code \n",
      "FROM train\n",
      " LIMIT ? OFFSET ?\n"
     ]
    }
   ],
   "source": [
    "q = select(Train).limit(5)\n",
    "print(q)"
   ]
  },
  {
   "cell_type": "code",
   "execution_count": 319,
   "id": "6f23b7fe",
   "metadata": {},
   "outputs": [
    {
     "name": "stdout",
     "output_type": "stream",
     "text": [
      "2022-02-11 16:53:13,532 INFO sqlalchemy.engine.Engine SELECT train.number, train.name, train.from_station_code, train.to_station_code \n",
      "FROM train\n",
      " LIMIT ? OFFSET ?\n",
      "2022-02-11 16:53:13,533 INFO sqlalchemy.engine.Engine [generated in 0.00104s] (5, 0)\n",
      "('04601', 'Jammu Tawi Udhampur Special', 'JAT', 'UHP')\n",
      "('04602', 'UDHAMPUR JAMMUTAWI DMU', 'UHP', 'JAT')\n",
      "('04603', 'JAT UDAHMPUR DMU', 'JAT', 'UHP')\n",
      "('04604', 'UDHAMPUR JAMMUTAWI DMU', 'UHP', 'JAT')\n",
      "('04728', 'Mumbai BandraT-Bikaner SF Special', 'BDTS', 'BKN')\n"
     ]
    }
   ],
   "source": [
    "# old way\n",
    "result = q.execute()\n",
    "for row in result:\n",
    "    print(row)"
   ]
  },
  {
   "cell_type": "code",
   "execution_count": 320,
   "id": "4e5d441f",
   "metadata": {},
   "outputs": [],
   "source": [
    "# new way\n",
    "session = Session()"
   ]
  },
  {
   "cell_type": "code",
   "execution_count": 321,
   "id": "a58b3975",
   "metadata": {},
   "outputs": [
    {
     "name": "stdout",
     "output_type": "stream",
     "text": [
      "2022-02-11 16:53:19,489 INFO sqlalchemy.engine.Engine BEGIN (implicit)\n",
      "2022-02-11 16:53:19,490 INFO sqlalchemy.engine.Engine SELECT train.number, train.name, train.from_station_code, train.to_station_code \n",
      "FROM train\n",
      " LIMIT ? OFFSET ?\n",
      "2022-02-11 16:53:19,492 INFO sqlalchemy.engine.Engine [cached since 5.96s ago] (5, 0)\n",
      "<Train:04601 (Jammu Tawi Udhampur Special)>\n",
      "<Train:04602 (UDHAMPUR JAMMUTAWI DMU)>\n",
      "<Train:04603 (JAT UDAHMPUR DMU)>\n",
      "<Train:04604 (UDHAMPUR JAMMUTAWI DMU)>\n",
      "<Train:04728 (Mumbai BandraT-Bikaner SF Special)>\n"
     ]
    }
   ],
   "source": [
    "result = session.execute(q)\n",
    "for row in result:\n",
    "    print(row.Train)"
   ]
  },
  {
   "cell_type": "code",
   "execution_count": 322,
   "id": "723688d3",
   "metadata": {},
   "outputs": [
    {
     "name": "stdout",
     "output_type": "stream",
     "text": [
      "2022-02-11 16:53:20,868 INFO sqlalchemy.engine.Engine SELECT train.number, train.name, train.from_station_code, train.to_station_code \n",
      "FROM train\n",
      " LIMIT ? OFFSET ?\n",
      "2022-02-11 16:53:20,870 INFO sqlalchemy.engine.Engine [cached since 7.338s ago] (5, 0)\n"
     ]
    }
   ],
   "source": [
    "train = session.execute(q).first().Train"
   ]
  },
  {
   "cell_type": "code",
   "execution_count": 323,
   "id": "5d15debd",
   "metadata": {},
   "outputs": [
    {
     "data": {
      "text/plain": [
       "<Train:04601 (Jammu Tawi Udhampur Special)>"
      ]
     },
     "execution_count": 323,
     "metadata": {},
     "output_type": "execute_result"
    }
   ],
   "source": [
    "train"
   ]
  },
  {
   "cell_type": "code",
   "execution_count": 324,
   "id": "6199c9c1",
   "metadata": {},
   "outputs": [
    {
     "data": {
      "text/plain": [
       "'04601'"
      ]
     },
     "execution_count": 324,
     "metadata": {},
     "output_type": "execute_result"
    }
   ],
   "source": [
    "train.number"
   ]
  },
  {
   "cell_type": "code",
   "execution_count": 325,
   "id": "3c31a578",
   "metadata": {},
   "outputs": [
    {
     "name": "stdout",
     "output_type": "stream",
     "text": [
      "2022-02-11 16:53:23,542 INFO sqlalchemy.engine.Engine SELECT station.code AS station_code, station.name AS station_name, station.zone AS station_zone, station.state AS station_state \n",
      "FROM station \n",
      "WHERE station.code = ?\n",
      "2022-02-11 16:53:23,543 INFO sqlalchemy.engine.Engine [generated in 0.00154s] ('JAT',)\n"
     ]
    },
    {
     "data": {
      "text/plain": [
       "<Station:JAT (JAMMU TAWI)>"
      ]
     },
     "execution_count": 325,
     "metadata": {},
     "output_type": "execute_result"
    }
   ],
   "source": [
    "train.from_station"
   ]
  },
  {
   "cell_type": "code",
   "execution_count": 326,
   "id": "a1c450eb",
   "metadata": {},
   "outputs": [
    {
     "data": {
      "text/plain": [
       "<Station:JAT (JAMMU TAWI)>"
      ]
     },
     "execution_count": 326,
     "metadata": {},
     "output_type": "execute_result"
    }
   ],
   "source": [
    "train.from_station"
   ]
  },
  {
   "cell_type": "markdown",
   "id": "1aa14898",
   "metadata": {},
   "source": [
    "**Find the number of trains starting from bangalore**"
   ]
  },
  {
   "cell_type": "code",
   "execution_count": 329,
   "id": "c66cd361",
   "metadata": {},
   "outputs": [
    {
     "name": "stdout",
     "output_type": "stream",
     "text": [
      "SELECT count(train.number) AS count \n",
      "FROM train \n",
      "WHERE train.from_station_code = ?\n"
     ]
    }
   ],
   "source": [
    "q = (select(func.count(Train.number).label('count'))\n",
    "     .where(Train.from_station_code == 'SBC'))\n",
    "print(q)"
   ]
  },
  {
   "cell_type": "code",
   "execution_count": 331,
   "id": "edbcf821",
   "metadata": {},
   "outputs": [
    {
     "name": "stdout",
     "output_type": "stream",
     "text": [
      "2022-02-11 16:55:48,623 INFO sqlalchemy.engine.Engine SELECT count(train.number) AS count \n",
      "FROM train \n",
      "WHERE train.from_station_code = ?\n",
      "2022-02-11 16:55:48,627 INFO sqlalchemy.engine.Engine [cached since 5.47s ago] ('SBC',)\n"
     ]
    },
    {
     "data": {
      "text/plain": [
       "57"
      ]
     },
     "execution_count": 331,
     "metadata": {},
     "output_type": "execute_result"
    }
   ],
   "source": [
    "q.execute().first().count"
   ]
  },
  {
   "cell_type": "code",
   "execution_count": null,
   "id": "fbd8b71c",
   "metadata": {},
   "outputs": [],
   "source": []
  },
  {
   "cell_type": "code",
   "execution_count": null,
   "id": "5db53f16",
   "metadata": {},
   "outputs": [],
   "source": []
  }
 ],
 "metadata": {
  "kernelspec": {
   "display_name": "Python 3 (ipykernel)",
   "language": "python",
   "name": "python3"
  },
  "language_info": {
   "codemirror_mode": {
    "name": "ipython",
    "version": 3
   },
   "file_extension": ".py",
   "mimetype": "text/x-python",
   "name": "python",
   "nbconvert_exporter": "python",
   "pygments_lexer": "ipython3",
   "version": "3.10.2"
  }
 },
 "nbformat": 4,
 "nbformat_minor": 5
}
