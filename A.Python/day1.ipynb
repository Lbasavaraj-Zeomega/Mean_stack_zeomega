{
 "cells": [
  {
   "cell_type": "markdown",
   "id": "2b9b3213",
   "metadata": {},
   "source": [
    "### Advanced Python Training at ZeOmega - Day 1\n",
    "\n",
    "Feb 07-11, 2022<br>\n",
    "09:30 AM - 01:00 PM\n",
    "\n",
    "[Anand Chitipothu](https://pipal.in/trainers/anand)\n",
    "\n",
    "These notes are available online at https://bit.ly/zeomega-py22\n",
    "\n",
    "© Pipal Academy LLP\n",
    "\n",
    "[Home](.) | **Day 1** | [Day 2](day2.html) | [Day 3](day3.html) | [Day 4](day4.html) | [Day 5](day5.html) \n",
    "\n",
    "[Download this notebook](day1.ipynb)"
   ]
  },
  {
   "cell_type": "code",
   "execution_count": 2,
   "id": "585bd869",
   "metadata": {},
   "outputs": [
    {
     "data": {
      "text/plain": [
       "3"
      ]
     },
     "execution_count": 2,
     "metadata": {},
     "output_type": "execute_result"
    }
   ],
   "source": [
    "# this is code cell\n",
    "1 + 2"
   ]
  },
  {
   "cell_type": "markdown",
   "id": "b9951657",
   "metadata": {},
   "source": [
    "This is text cell. \n",
    "\n",
    "You use `**bold**`, `*italic*` and \\`code\\`.\n",
    "\n",
    "**bold**, *italic* and `code`"
   ]
  },
  {
   "cell_type": "markdown",
   "id": "c56f36a0",
   "metadata": {},
   "source": [
    "### Executing external command"
   ]
  },
  {
   "cell_type": "code",
   "execution_count": 3,
   "id": "1d376115",
   "metadata": {},
   "outputs": [
    {
     "name": "stdout",
     "output_type": "stream",
     "text": [
      "Mon Feb  7 10:12:39 IST 2022\r\n"
     ]
    }
   ],
   "source": [
    "!date"
   ]
  },
  {
   "cell_type": "code",
   "execution_count": 4,
   "id": "cbf2744f",
   "metadata": {},
   "outputs": [
    {
     "name": "stdout",
     "output_type": "stream",
     "text": [
      "Makefile       Untitled.ipynb day1.ipynb     index.ipynb    push\r\n",
      "Untitled.html  day1.html      index.html     \u001b[34mnotes\u001b[m\u001b[m\r\n"
     ]
    }
   ],
   "source": [
    "!ls"
   ]
  },
  {
   "cell_type": "code",
   "execution_count": 5,
   "id": "12d13e50",
   "metadata": {},
   "outputs": [
    {
     "name": "stdout",
     "output_type": "stream",
     "text": [
      "Python 3.10.2\r\n"
     ]
    }
   ],
   "source": [
    "!python --version"
   ]
  },
  {
   "cell_type": "markdown",
   "id": "be13acb8",
   "metadata": {},
   "source": [
    "The jupyter notebook/lab also allows us to create files right from here. "
   ]
  },
  {
   "cell_type": "code",
   "execution_count": 6,
   "id": "611f9e2d",
   "metadata": {},
   "outputs": [
    {
     "name": "stdout",
     "output_type": "stream",
     "text": [
      "Writing hello.py\n"
     ]
    }
   ],
   "source": [
    "%%file hello.py\n",
    "print(\"hello\")"
   ]
  },
  {
   "cell_type": "code",
   "execution_count": 7,
   "id": "6d876312",
   "metadata": {},
   "outputs": [
    {
     "name": "stdout",
     "output_type": "stream",
     "text": [
      "print(\"hello\")\r\n"
     ]
    }
   ],
   "source": [
    "!cat hello.py"
   ]
  },
  {
   "cell_type": "code",
   "execution_count": 8,
   "id": "27c90997",
   "metadata": {},
   "outputs": [
    {
     "name": "stdout",
     "output_type": "stream",
     "text": [
      "hello\r\n"
     ]
    }
   ],
   "source": [
    "!python hello.py"
   ]
  },
  {
   "cell_type": "markdown",
   "id": "ff4a937d",
   "metadata": {},
   "source": [
    "**Summary**\n",
    "    \n",
    "Jupyter lab can be used to:\n",
    "    \n",
    "1. run code in a cell\n",
    "2. write text/markdown in a cell\n",
    "3. run external commands\n",
    "4. create files"
   ]
  },
  {
   "cell_type": "markdown",
   "id": "9858f312",
   "metadata": {},
   "source": [
    "## Datatypes"
   ]
  },
  {
   "cell_type": "markdown",
   "id": "e1dad84c",
   "metadata": {},
   "source": [
    "Python has integers."
   ]
  },
  {
   "cell_type": "code",
   "execution_count": 10,
   "id": "c1c3814d",
   "metadata": {},
   "outputs": [
    {
     "data": {
      "text/plain": [
       "3"
      ]
     },
     "execution_count": 10,
     "metadata": {},
     "output_type": "execute_result"
    }
   ],
   "source": [
    "1 + 2"
   ]
  },
  {
   "cell_type": "code",
   "execution_count": 13,
   "id": "91582870",
   "metadata": {},
   "outputs": [
    {
     "data": {
      "text/plain": [
       "10715086071862673209484250490600018105614048117055336074437503883703510511249361224931983788156958581275946729175531468251871452856923140435984577574698574803934567774824230985421074605062371141877954182153046474983581941267398767559165543946077062914571196477686542167660429831652624386837205668069376"
      ]
     },
     "execution_count": 13,
     "metadata": {},
     "output_type": "execute_result"
    }
   ],
   "source": [
    "2 ** 1000"
   ]
  },
  {
   "cell_type": "markdown",
   "id": "3f88d9a4",
   "metadata": {},
   "source": [
    "Python has floating point numbers."
   ]
  },
  {
   "cell_type": "code",
   "execution_count": 14,
   "id": "6a5dff23",
   "metadata": {},
   "outputs": [
    {
     "data": {
      "text/plain": [
       "3.5"
      ]
     },
     "execution_count": 14,
     "metadata": {},
     "output_type": "execute_result"
    }
   ],
   "source": [
    "1.2 + 2.3"
   ]
  },
  {
   "cell_type": "code",
   "execution_count": 15,
   "id": "04b1f0ed",
   "metadata": {},
   "outputs": [
    {
     "data": {
      "text/plain": [
       "0.30000000000000004"
      ]
     },
     "execution_count": 15,
     "metadata": {},
     "output_type": "execute_result"
    }
   ],
   "source": [
    "0.1 + 0.2"
   ]
  },
  {
   "cell_type": "markdown",
   "id": "243433ea",
   "metadata": {},
   "source": [
    "Python has strings."
   ]
  },
  {
   "cell_type": "code",
   "execution_count": 16,
   "id": "3dc97b77",
   "metadata": {},
   "outputs": [
    {
     "data": {
      "text/plain": [
       "'hello'"
      ]
     },
     "execution_count": 16,
     "metadata": {},
     "output_type": "execute_result"
    }
   ],
   "source": [
    "\"hello\""
   ]
  },
  {
   "cell_type": "code",
   "execution_count": 17,
   "id": "ff07829c",
   "metadata": {},
   "outputs": [
    {
     "data": {
      "text/plain": [
       "'hello'"
      ]
     },
     "execution_count": 17,
     "metadata": {},
     "output_type": "execute_result"
    }
   ],
   "source": [
    "'hello'"
   ]
  },
  {
   "cell_type": "code",
   "execution_count": 18,
   "id": "f0246924",
   "metadata": {},
   "outputs": [
    {
     "data": {
      "text/plain": [
       "'helloworld'"
      ]
     },
     "execution_count": 18,
     "metadata": {},
     "output_type": "execute_result"
    }
   ],
   "source": [
    "# concatenate two strings\n",
    "\"hello\" + \"world\""
   ]
  },
  {
   "cell_type": "code",
   "execution_count": 19,
   "id": "d4b8ef5b",
   "metadata": {},
   "outputs": [
    {
     "data": {
      "text/plain": [
       "'hellohellohellohellohello'"
      ]
     },
     "execution_count": 19,
     "metadata": {},
     "output_type": "execute_result"
    }
   ],
   "source": [
    "\"hello\" * 5"
   ]
  },
  {
   "cell_type": "code",
   "execution_count": 20,
   "id": "b99f04ab",
   "metadata": {},
   "outputs": [
    {
     "name": "stdout",
     "output_type": "stream",
     "text": [
      "hellohellohellohello\n",
      "====================\n"
     ]
    }
   ],
   "source": [
    "print(\"hello\" * 4)\n",
    "print(\"=\" * 20)"
   ]
  },
  {
   "cell_type": "markdown",
   "id": "b426a830",
   "metadata": {},
   "source": [
    "Python also has support for multi-line strings."
   ]
  },
  {
   "cell_type": "code",
   "execution_count": 22,
   "id": "77892d90",
   "metadata": {},
   "outputs": [],
   "source": [
    "message = \"\"\"\n",
    "Hello everyone,\n",
    "\n",
    "Welcome to the python training!\n",
    "\"\"\""
   ]
  },
  {
   "cell_type": "code",
   "execution_count": 44,
   "id": "26b92d97",
   "metadata": {},
   "outputs": [
    {
     "data": {
      "text/plain": [
       "'\\na\\nb\\nc\\n'"
      ]
     },
     "execution_count": 44,
     "metadata": {},
     "output_type": "execute_result"
    }
   ],
   "source": [
    "\"\"\"\n",
    "a\n",
    "b\n",
    "c\n",
    "\"\"\""
   ]
  },
  {
   "cell_type": "code",
   "execution_count": 23,
   "id": "b9ea166a",
   "metadata": {},
   "outputs": [
    {
     "data": {
      "text/plain": [
       "'\\nHello everyone,\\n\\nWelcome to the python training!\\n'"
      ]
     },
     "execution_count": 23,
     "metadata": {},
     "output_type": "execute_result"
    }
   ],
   "source": [
    "message"
   ]
  },
  {
   "cell_type": "code",
   "execution_count": 24,
   "id": "2657e2cb",
   "metadata": {},
   "outputs": [
    {
     "name": "stdout",
     "output_type": "stream",
     "text": [
      "\n",
      "Hello everyone,\n",
      "\n",
      "Welcome to the python training!\n",
      "\n"
     ]
    }
   ],
   "source": [
    "print(message)"
   ]
  },
  {
   "cell_type": "code",
   "execution_count": 25,
   "id": "1b27e699",
   "metadata": {},
   "outputs": [
    {
     "name": "stdout",
     "output_type": "stream",
     "text": [
      "a\n",
      "b\n",
      "c\n"
     ]
    }
   ],
   "source": [
    "print(\"a\\nb\\nc\")"
   ]
  },
  {
   "cell_type": "code",
   "execution_count": 27,
   "id": "380ce99a",
   "metadata": {},
   "outputs": [
    {
     "name": "stdout",
     "output_type": "stream",
     "text": [
      "a\tb\tc\n",
      "hello\tworld\tc\n"
     ]
    }
   ],
   "source": [
    "print(\"a\\tb\\tc\") # string with tabs\n",
    "print(\"hello\\tworld\\tc\") # string with tabs"
   ]
  },
  {
   "cell_type": "markdown",
   "id": "e4e71119",
   "metadata": {},
   "source": [
    "Python strings support unicode as well."
   ]
  },
  {
   "cell_type": "code",
   "execution_count": 28,
   "id": "136b2d4d",
   "metadata": {},
   "outputs": [
    {
     "name": "stdout",
     "output_type": "stream",
     "text": [
      "అ ఆ ఇ ఈ\n",
      "ಅ ಆ ಇ ಈ\n",
      "அ ஆ இ ஈ\n",
      "അ ആ ഇ ഈ\n",
      "अ आ इ ई\n"
     ]
    }
   ],
   "source": [
    "print(\"అ ఆ ఇ ఈ\") # Telugu\n",
    "print(\"ಅ ಆ ಇ ಈ\") # Kannada\n",
    "print(\"அ ஆ இ ஈ\") # Tamil\n",
    "print(\"അ ആ ഇ ഈ\") # Malayalam\n",
    "print(\"अ आ इ ई\") # Hindi"
   ]
  },
  {
   "cell_type": "markdown",
   "id": "1de003c4",
   "metadata": {},
   "source": [
    "We can also write these using the unicode code points."
   ]
  },
  {
   "cell_type": "code",
   "execution_count": 29,
   "id": "98b638ee",
   "metadata": {},
   "outputs": [
    {
     "name": "stdout",
     "output_type": "stream",
     "text": [
      "అ ఆ ఇ ఈ\n",
      "ಅ ಆ ಇ ಈ\n",
      "அ ஆ இ ஈ\n",
      "അ ആ ഇ ഈ\n",
      "अ आ इ ई\n"
     ]
    }
   ],
   "source": [
    "print(\"\\u0c05 \\u0c06 \\u0c07 \\u0c08\") # Telugu\n",
    "print(\"\\u0c85 \\u0c86 \\u0c87 \\u0c88\") # Kannada\n",
    "print(\"\\u0b85 \\u0b86 \\u0b87 \\u0b88\") # Tamil\n",
    "print(\"\\u0d05 \\u0d06 \\u0d07 \\u0d08\") # Malayalam\n",
    "print(\"\\u0905 \\u0906 \\u0907 \\u0908\") # Hindi"
   ]
  },
  {
   "cell_type": "code",
   "execution_count": 45,
   "id": "9744c6a5",
   "metadata": {},
   "outputs": [
    {
     "name": "stdout",
     "output_type": "stream",
     "text": [
      "😸\n"
     ]
    }
   ],
   "source": [
    "print(\"\\U0001f638\")"
   ]
  },
  {
   "cell_type": "markdown",
   "id": "f115647a",
   "metadata": {},
   "source": [
    "### Bytes"
   ]
  },
  {
   "cell_type": "markdown",
   "id": "f49f7879",
   "metadata": {},
   "source": [
    "Python has a `bytes` data type to represent binary data.\n",
    "\n",
    "bytes are written just like string with a `b` prefix."
   ]
  },
  {
   "cell_type": "code",
   "execution_count": 30,
   "id": "607761bc",
   "metadata": {},
   "outputs": [],
   "source": [
    "data = b'abcd \\x01\\x02\\x03\\x04'"
   ]
  },
  {
   "cell_type": "code",
   "execution_count": 31,
   "id": "506519fe",
   "metadata": {},
   "outputs": [
    {
     "data": {
      "text/plain": [
       "b'abcd \\x01\\x02\\x03\\x04'"
      ]
     },
     "execution_count": 31,
     "metadata": {},
     "output_type": "execute_result"
    }
   ],
   "source": [
    "data"
   ]
  },
  {
   "cell_type": "code",
   "execution_count": 32,
   "id": "5327973e",
   "metadata": {},
   "outputs": [
    {
     "data": {
      "text/plain": [
       "9"
      ]
     },
     "execution_count": 32,
     "metadata": {},
     "output_type": "execute_result"
    }
   ],
   "source": [
    "len(data)"
   ]
  },
  {
   "cell_type": "markdown",
   "id": "1c217b54",
   "metadata": {},
   "source": [
    "### Lists"
   ]
  },
  {
   "cell_type": "markdown",
   "id": "3298b5ac",
   "metadata": {},
   "source": [
    "Python has `list` type to represent a collection of values."
   ]
  },
  {
   "cell_type": "code",
   "execution_count": 33,
   "id": "889c7c48",
   "metadata": {},
   "outputs": [],
   "source": [
    "x = ['a', 'b', 'c']"
   ]
  },
  {
   "cell_type": "code",
   "execution_count": 34,
   "id": "d808ebaf",
   "metadata": {},
   "outputs": [
    {
     "data": {
      "text/plain": [
       "['a', 'b', 'c']"
      ]
     },
     "execution_count": 34,
     "metadata": {},
     "output_type": "execute_result"
    }
   ],
   "source": [
    "x"
   ]
  },
  {
   "cell_type": "code",
   "execution_count": 35,
   "id": "a4f658d5",
   "metadata": {},
   "outputs": [],
   "source": [
    "x = ['a', 'b', 1, 2, ['p', 10]]"
   ]
  },
  {
   "cell_type": "code",
   "execution_count": 36,
   "id": "627dc0b8",
   "metadata": {},
   "outputs": [
    {
     "data": {
      "text/plain": [
       "['a', 'b', 1, 2, ['p', 10]]"
      ]
     },
     "execution_count": 36,
     "metadata": {},
     "output_type": "execute_result"
    }
   ],
   "source": [
    "x"
   ]
  },
  {
   "cell_type": "code",
   "execution_count": 37,
   "id": "f4917987",
   "metadata": {},
   "outputs": [],
   "source": [
    "x = ['a', 'b', 'c']"
   ]
  },
  {
   "cell_type": "code",
   "execution_count": 38,
   "id": "5b471a6f",
   "metadata": {},
   "outputs": [
    {
     "data": {
      "text/plain": [
       "'a'"
      ]
     },
     "execution_count": 38,
     "metadata": {},
     "output_type": "execute_result"
    }
   ],
   "source": [
    "x[0]"
   ]
  },
  {
   "cell_type": "code",
   "execution_count": 39,
   "id": "649edd37",
   "metadata": {},
   "outputs": [
    {
     "data": {
      "text/plain": [
       "'b'"
      ]
     },
     "execution_count": 39,
     "metadata": {},
     "output_type": "execute_result"
    }
   ],
   "source": [
    "x[1]"
   ]
  },
  {
   "cell_type": "code",
   "execution_count": 40,
   "id": "905d477c",
   "metadata": {},
   "outputs": [
    {
     "data": {
      "text/plain": [
       "'c'"
      ]
     },
     "execution_count": 40,
     "metadata": {},
     "output_type": "execute_result"
    }
   ],
   "source": [
    "x[2]"
   ]
  },
  {
   "cell_type": "code",
   "execution_count": 41,
   "id": "51c96df3",
   "metadata": {},
   "outputs": [
    {
     "data": {
      "text/plain": [
       "3"
      ]
     },
     "execution_count": 41,
     "metadata": {},
     "output_type": "execute_result"
    }
   ],
   "source": [
    "len(x)"
   ]
  },
  {
   "cell_type": "markdown",
   "id": "2b761cee",
   "metadata": {},
   "source": [
    "### Dictionaries"
   ]
  },
  {
   "cell_type": "markdown",
   "id": "fd1df8fc",
   "metadata": {},
   "source": [
    "Dictionaries are used to represent name-value pairs."
   ]
  },
  {
   "cell_type": "code",
   "execution_count": 51,
   "id": "fd4b3206",
   "metadata": {},
   "outputs": [],
   "source": [
    "person = {\n",
    "    \"name\": \"Alice\",\n",
    "    \"email\": \"alice@example.com\",\n",
    "    \"phone\": 1234,\n",
    "    \"verified\": True\n",
    "}"
   ]
  },
  {
   "cell_type": "code",
   "execution_count": 52,
   "id": "df0eb1de",
   "metadata": {},
   "outputs": [
    {
     "data": {
      "text/plain": [
       "{'name': 'Alice',\n",
       " 'email': 'alice@example.com',\n",
       " 'phone': 1234,\n",
       " 'verified': True}"
      ]
     },
     "execution_count": 52,
     "metadata": {},
     "output_type": "execute_result"
    }
   ],
   "source": [
    "person"
   ]
  },
  {
   "cell_type": "code",
   "execution_count": 53,
   "id": "3e32eb86",
   "metadata": {},
   "outputs": [
    {
     "data": {
      "text/plain": [
       "'Alice'"
      ]
     },
     "execution_count": 53,
     "metadata": {},
     "output_type": "execute_result"
    }
   ],
   "source": [
    "person['name']"
   ]
  },
  {
   "cell_type": "code",
   "execution_count": 54,
   "id": "84819652",
   "metadata": {},
   "outputs": [
    {
     "data": {
      "text/plain": [
       "'alice@example.com'"
      ]
     },
     "execution_count": 54,
     "metadata": {},
     "output_type": "execute_result"
    }
   ],
   "source": [
    "person['email']"
   ]
  },
  {
   "cell_type": "markdown",
   "id": "2b081d59",
   "metadata": {},
   "source": [
    "### Boolean Values"
   ]
  },
  {
   "cell_type": "code",
   "execution_count": 55,
   "id": "b566872b",
   "metadata": {},
   "outputs": [
    {
     "data": {
      "text/plain": [
       "True"
      ]
     },
     "execution_count": 55,
     "metadata": {},
     "output_type": "execute_result"
    }
   ],
   "source": [
    "True"
   ]
  },
  {
   "cell_type": "code",
   "execution_count": 56,
   "id": "8c86becf",
   "metadata": {},
   "outputs": [
    {
     "data": {
      "text/plain": [
       "False"
      ]
     },
     "execution_count": 56,
     "metadata": {},
     "output_type": "execute_result"
    }
   ],
   "source": [
    "False"
   ]
  },
  {
   "cell_type": "code",
   "execution_count": 57,
   "id": "d7842478",
   "metadata": {},
   "outputs": [],
   "source": [
    "filesize = 100"
   ]
  },
  {
   "cell_type": "code",
   "execution_count": 58,
   "id": "0b2aaaa6",
   "metadata": {},
   "outputs": [
    {
     "data": {
      "text/plain": [
       "True"
      ]
     },
     "execution_count": 58,
     "metadata": {},
     "output_type": "execute_result"
    }
   ],
   "source": [
    "filesize > 50"
   ]
  },
  {
   "cell_type": "code",
   "execution_count": 59,
   "id": "90d2e2bd",
   "metadata": {},
   "outputs": [
    {
     "data": {
      "text/plain": [
       "False"
      ]
     },
     "execution_count": 59,
     "metadata": {},
     "output_type": "execute_result"
    }
   ],
   "source": [
    "filesize > 200"
   ]
  },
  {
   "cell_type": "markdown",
   "id": "2617d483",
   "metadata": {},
   "source": [
    "### Other Datatypes"
   ]
  },
  {
   "cell_type": "markdown",
   "id": "933b79db",
   "metadata": {},
   "source": [
    "Python has a `None` datatype to represent nothing."
   ]
  },
  {
   "cell_type": "code",
   "execution_count": 60,
   "id": "227b1ad0",
   "metadata": {},
   "outputs": [],
   "source": [
    "x = None"
   ]
  },
  {
   "cell_type": "code",
   "execution_count": 61,
   "id": "064746d3",
   "metadata": {},
   "outputs": [
    {
     "name": "stdout",
     "output_type": "stream",
     "text": [
      "None\n"
     ]
    }
   ],
   "source": [
    "print(x)"
   ]
  },
  {
   "cell_type": "code",
   "execution_count": 62,
   "id": "5e7d5a7c",
   "metadata": {},
   "outputs": [],
   "source": [
    "x"
   ]
  },
  {
   "cell_type": "markdown",
   "id": "59858184",
   "metadata": {},
   "source": [
    "Python has a tuple datatype to represent fixed-width records"
   ]
  },
  {
   "cell_type": "code",
   "execution_count": 63,
   "id": "499a0847",
   "metadata": {},
   "outputs": [],
   "source": [
    "point = (2, 3)"
   ]
  },
  {
   "cell_type": "code",
   "execution_count": 64,
   "id": "e8f9d21a",
   "metadata": {},
   "outputs": [
    {
     "name": "stdout",
     "output_type": "stream",
     "text": [
      "(2, 3)\n"
     ]
    }
   ],
   "source": [
    "print(point)"
   ]
  },
  {
   "cell_type": "code",
   "execution_count": 65,
   "id": "bc100e13",
   "metadata": {},
   "outputs": [
    {
     "data": {
      "text/plain": [
       "2"
      ]
     },
     "execution_count": 65,
     "metadata": {},
     "output_type": "execute_result"
    }
   ],
   "source": [
    "point[0]"
   ]
  },
  {
   "cell_type": "code",
   "execution_count": 66,
   "id": "561e892e",
   "metadata": {},
   "outputs": [
    {
     "data": {
      "text/plain": [
       "3"
      ]
     },
     "execution_count": 66,
     "metadata": {},
     "output_type": "execute_result"
    }
   ],
   "source": [
    "point[1]"
   ]
  },
  {
   "cell_type": "code",
   "execution_count": 67,
   "id": "4bf179b6",
   "metadata": {},
   "outputs": [],
   "source": [
    "x, y = point"
   ]
  },
  {
   "cell_type": "code",
   "execution_count": 68,
   "id": "c33c013a",
   "metadata": {},
   "outputs": [
    {
     "data": {
      "text/plain": [
       "2"
      ]
     },
     "execution_count": 68,
     "metadata": {},
     "output_type": "execute_result"
    }
   ],
   "source": [
    "x"
   ]
  },
  {
   "cell_type": "code",
   "execution_count": 70,
   "id": "f3750e08",
   "metadata": {},
   "outputs": [
    {
     "data": {
      "text/plain": [
       "3"
      ]
     },
     "execution_count": 70,
     "metadata": {},
     "output_type": "execute_result"
    }
   ],
   "source": [
    "y"
   ]
  },
  {
   "cell_type": "code",
   "execution_count": 71,
   "id": "f1dbf192",
   "metadata": {},
   "outputs": [],
   "source": [
    "yellow = 255, 255, 0 # r, g, b"
   ]
  },
  {
   "cell_type": "code",
   "execution_count": 72,
   "id": "a2d7529b",
   "metadata": {},
   "outputs": [
    {
     "data": {
      "text/plain": [
       "(255, 255, 0)"
      ]
     },
     "execution_count": 72,
     "metadata": {},
     "output_type": "execute_result"
    }
   ],
   "source": [
    "yellow"
   ]
  },
  {
   "cell_type": "markdown",
   "id": "05a794b7",
   "metadata": {},
   "source": [
    "Python also has a `set` datatype. A set is an unordered collection of unique elements."
   ]
  },
  {
   "cell_type": "code",
   "execution_count": 73,
   "id": "f20622de",
   "metadata": {},
   "outputs": [
    {
     "data": {
      "text/plain": [
       "{1, 2, 3}"
      ]
     },
     "execution_count": 73,
     "metadata": {},
     "output_type": "execute_result"
    }
   ],
   "source": [
    "{1, 2, 3}"
   ]
  },
  {
   "cell_type": "code",
   "execution_count": 74,
   "id": "4d83dd62",
   "metadata": {},
   "outputs": [
    {
     "data": {
      "text/plain": [
       "{1, 2, 3}"
      ]
     },
     "execution_count": 74,
     "metadata": {},
     "output_type": "execute_result"
    }
   ],
   "source": [
    "{1, 2, 3, 2, 1}"
   ]
  },
  {
   "cell_type": "code",
   "execution_count": 75,
   "id": "b4364549",
   "metadata": {},
   "outputs": [
    {
     "data": {
      "text/plain": [
       "{1, 2, 3}"
      ]
     },
     "execution_count": 75,
     "metadata": {},
     "output_type": "execute_result"
    }
   ],
   "source": [
    "{3, 1, 2}"
   ]
  },
  {
   "cell_type": "markdown",
   "id": "0810cd2d",
   "metadata": {},
   "source": [
    "## Functions"
   ]
  },
  {
   "cell_type": "markdown",
   "id": "32f3c4e3",
   "metadata": {},
   "source": [
    "Python has many built-in functions."
   ]
  },
  {
   "cell_type": "code",
   "execution_count": 76,
   "id": "2c7a9678",
   "metadata": {},
   "outputs": [
    {
     "name": "stdout",
     "output_type": "stream",
     "text": [
      "hello\n"
     ]
    }
   ],
   "source": [
    "print(\"hello\")"
   ]
  },
  {
   "cell_type": "code",
   "execution_count": 77,
   "id": "64a4d33e",
   "metadata": {},
   "outputs": [
    {
     "data": {
      "text/plain": [
       "5"
      ]
     },
     "execution_count": 77,
     "metadata": {},
     "output_type": "execute_result"
    }
   ],
   "source": [
    "len(\"hello\")"
   ]
  },
  {
   "cell_type": "code",
   "execution_count": 78,
   "id": "b36e308e",
   "metadata": {},
   "outputs": [
    {
     "data": {
      "text/plain": [
       "str"
      ]
     },
     "execution_count": 78,
     "metadata": {},
     "output_type": "execute_result"
    }
   ],
   "source": [
    "type(\"hello\")"
   ]
  },
  {
   "cell_type": "markdown",
   "id": "4531c6c9",
   "metadata": {},
   "source": [
    "You may have noticed that Python doesn't allow operations on incompatible data types."
   ]
  },
  {
   "cell_type": "code",
   "execution_count": 79,
   "id": "d6997dfd",
   "metadata": {},
   "outputs": [
    {
     "ename": "TypeError",
     "evalue": "unsupported operand type(s) for +: 'int' and 'str'",
     "output_type": "error",
     "traceback": [
      "\u001b[0;31m---------------------------------------------------------------------------\u001b[0m",
      "\u001b[0;31mTypeError\u001b[0m                                 Traceback (most recent call last)",
      "Input \u001b[0;32mIn [79]\u001b[0m, in \u001b[0;36m<module>\u001b[0;34m\u001b[0m\n\u001b[0;32m----> 1\u001b[0m \u001b[38;5;241;43m1\u001b[39;49m\u001b[43m \u001b[49m\u001b[38;5;241;43m+\u001b[39;49m\u001b[43m \u001b[49m\u001b[38;5;124;43m'\u001b[39;49m\u001b[38;5;124;43m2\u001b[39;49m\u001b[38;5;124;43m'\u001b[39;49m\n",
      "\u001b[0;31mTypeError\u001b[0m: unsupported operand type(s) for +: 'int' and 'str'"
     ]
    }
   ],
   "source": [
    "1 + '2'"
   ]
  },
  {
   "cell_type": "markdown",
   "id": "4103defb",
   "metadata": {},
   "source": [
    "If you want to add an integer to a string, you need to either convert the integer to a string or convert the string to an integer and then add."
   ]
  },
  {
   "cell_type": "code",
   "execution_count": 80,
   "id": "9b66cde6",
   "metadata": {},
   "outputs": [
    {
     "data": {
      "text/plain": [
       "3"
      ]
     },
     "execution_count": 80,
     "metadata": {},
     "output_type": "execute_result"
    }
   ],
   "source": [
    "1 + int('2')"
   ]
  },
  {
   "cell_type": "code",
   "execution_count": 82,
   "id": "3d4de8f3",
   "metadata": {},
   "outputs": [
    {
     "data": {
      "text/plain": [
       "'12'"
      ]
     },
     "execution_count": 82,
     "metadata": {},
     "output_type": "execute_result"
    }
   ],
   "source": [
    "str(1) + '2'"
   ]
  },
  {
   "cell_type": "markdown",
   "id": "ff9ebbde",
   "metadata": {},
   "source": [
    "#### Example: Counting the number of digits in a number"
   ]
  },
  {
   "cell_type": "markdown",
   "id": "fd4725f9",
   "metadata": {},
   "source": [
    "How to count the number of digits in a number?"
   ]
  },
  {
   "cell_type": "code",
   "execution_count": 83,
   "id": "d4e3d33a",
   "metadata": {},
   "outputs": [
    {
     "data": {
      "text/plain": [
       "12345"
      ]
     },
     "execution_count": 83,
     "metadata": {},
     "output_type": "execute_result"
    }
   ],
   "source": [
    "12345"
   ]
  },
  {
   "cell_type": "code",
   "execution_count": 85,
   "id": "e66bab6e",
   "metadata": {},
   "outputs": [
    {
     "data": {
      "text/plain": [
       "1267650600228229401496703205376"
      ]
     },
     "execution_count": 85,
     "metadata": {},
     "output_type": "execute_result"
    }
   ],
   "source": [
    "2 ** 100"
   ]
  },
  {
   "cell_type": "code",
   "execution_count": 89,
   "id": "86ebfc85",
   "metadata": {},
   "outputs": [
    {
     "data": {
      "text/plain": [
       "10715086071862673209484250490600018105614048117055336074437503883703510511249361224931983788156958581275946729175531468251871452856923140435984577574698574803934567774824230985421074605062371141877954182153046474983581941267398767559165543946077062914571196477686542167660429831652624386837205668069376"
      ]
     },
     "execution_count": 89,
     "metadata": {},
     "output_type": "execute_result"
    }
   ],
   "source": [
    "2 ** 1000"
   ]
  },
  {
   "cell_type": "code",
   "execution_count": 90,
   "id": "02462141",
   "metadata": {},
   "outputs": [],
   "source": [
    "n = 2 ** 1000"
   ]
  },
  {
   "cell_type": "code",
   "execution_count": 91,
   "id": "08b40620",
   "metadata": {},
   "outputs": [
    {
     "data": {
      "text/plain": [
       "10715086071862673209484250490600018105614048117055336074437503883703510511249361224931983788156958581275946729175531468251871452856923140435984577574698574803934567774824230985421074605062371141877954182153046474983581941267398767559165543946077062914571196477686542167660429831652624386837205668069376"
      ]
     },
     "execution_count": 91,
     "metadata": {},
     "output_type": "execute_result"
    }
   ],
   "source": [
    "n"
   ]
  },
  {
   "cell_type": "code",
   "execution_count": 92,
   "id": "fd281e90",
   "metadata": {},
   "outputs": [
    {
     "data": {
      "text/plain": [
       "'10715086071862673209484250490600018105614048117055336074437503883703510511249361224931983788156958581275946729175531468251871452856923140435984577574698574803934567774824230985421074605062371141877954182153046474983581941267398767559165543946077062914571196477686542167660429831652624386837205668069376'"
      ]
     },
     "execution_count": 92,
     "metadata": {},
     "output_type": "execute_result"
    }
   ],
   "source": [
    "str(n)"
   ]
  },
  {
   "cell_type": "code",
   "execution_count": 93,
   "id": "c5fd9f3f",
   "metadata": {},
   "outputs": [
    {
     "data": {
      "text/plain": [
       "302"
      ]
     },
     "execution_count": 93,
     "metadata": {},
     "output_type": "execute_result"
    }
   ],
   "source": [
    "len(str(n))"
   ]
  },
  {
   "cell_type": "code",
   "execution_count": 94,
   "id": "b4aeaf52",
   "metadata": {},
   "outputs": [
    {
     "data": {
      "text/plain": [
       "3011"
      ]
     },
     "execution_count": 94,
     "metadata": {},
     "output_type": "execute_result"
    }
   ],
   "source": [
    "len(str(2 ** 10000))"
   ]
  },
  {
   "cell_type": "code",
   "execution_count": 95,
   "id": "c6f50d83",
   "metadata": {},
   "outputs": [],
   "source": [
    "str = 1"
   ]
  },
  {
   "cell_type": "code",
   "execution_count": 96,
   "id": "3dcb478b",
   "metadata": {},
   "outputs": [
    {
     "data": {
      "text/plain": [
       "1"
      ]
     },
     "execution_count": 96,
     "metadata": {},
     "output_type": "execute_result"
    }
   ],
   "source": [
    "str"
   ]
  },
  {
   "cell_type": "code",
   "execution_count": 98,
   "id": "cf86dab6",
   "metadata": {},
   "outputs": [],
   "source": [
    "del str"
   ]
  },
  {
   "cell_type": "code",
   "execution_count": 99,
   "id": "b2ba8d45",
   "metadata": {},
   "outputs": [
    {
     "data": {
      "text/plain": [
       "str"
      ]
     },
     "execution_count": 99,
     "metadata": {},
     "output_type": "execute_result"
    }
   ],
   "source": [
    "str"
   ]
  },
  {
   "cell_type": "markdown",
   "id": "2e91fcfe",
   "metadata": {},
   "source": [
    "#### Writing Our Own Functions"
   ]
  },
  {
   "cell_type": "code",
   "execution_count": 100,
   "id": "453d6f2a",
   "metadata": {},
   "outputs": [],
   "source": [
    "def square(x):\n",
    "    return x*x"
   ]
  },
  {
   "cell_type": "code",
   "execution_count": 101,
   "id": "f1fb8fa2",
   "metadata": {},
   "outputs": [
    {
     "data": {
      "text/plain": [
       "16"
      ]
     },
     "execution_count": 101,
     "metadata": {},
     "output_type": "execute_result"
    }
   ],
   "source": [
    "square(4)"
   ]
  },
  {
   "cell_type": "markdown",
   "id": "ff739eac",
   "metadata": {},
   "source": [
    "**Problem:** Write a cube function to compute cube of a number.\n",
    "\n",
    "```\n",
    ">>> cube(2)\n",
    "8\n",
    ">>> cube(3)\n",
    "27\n",
    "```"
   ]
  },
  {
   "cell_type": "markdown",
   "id": "d2a510fa",
   "metadata": {},
   "source": [
    "**Problem:** Write a function `count_digits` that takes a number as argument and returns the number of digits it has.\n",
    "\n",
    "```\n",
    ">>> count_digits(12345)\n",
    "5\n",
    ">>> count_digits(2**1000)\n",
    "302\n",
    "```"
   ]
  },
  {
   "cell_type": "markdown",
   "id": "41ead6d9",
   "metadata": {},
   "source": [
    "#### `print` vs. `return`"
   ]
  },
  {
   "cell_type": "code",
   "execution_count": 102,
   "id": "b4af7cba",
   "metadata": {},
   "outputs": [],
   "source": [
    "def square1(x):\n",
    "    return x*x\n",
    "\n",
    "def square2(x):\n",
    "    print(x*x)"
   ]
  },
  {
   "cell_type": "code",
   "execution_count": 103,
   "id": "bf337193",
   "metadata": {},
   "outputs": [
    {
     "data": {
      "text/plain": [
       "16"
      ]
     },
     "execution_count": 103,
     "metadata": {},
     "output_type": "execute_result"
    }
   ],
   "source": [
    "square1(4)"
   ]
  },
  {
   "cell_type": "code",
   "execution_count": 104,
   "id": "6b993270",
   "metadata": {},
   "outputs": [
    {
     "name": "stdout",
     "output_type": "stream",
     "text": [
      "16\n"
     ]
    }
   ],
   "source": [
    "square2(4)"
   ]
  },
  {
   "cell_type": "markdown",
   "id": "de1d1f97",
   "metadata": {},
   "source": [
    "What is the difference between these two? Which one is better?"
   ]
  },
  {
   "cell_type": "markdown",
   "id": "f1d2a0c3",
   "metadata": {},
   "source": [
    "Can you suggest some code that works with one, but won't with the other."
   ]
  },
  {
   "cell_type": "markdown",
   "id": "5889a975",
   "metadata": {},
   "source": [
    "Let's try to compute $x^2 + 1$."
   ]
  },
  {
   "cell_type": "code",
   "execution_count": 105,
   "id": "c08ef4bd",
   "metadata": {},
   "outputs": [
    {
     "data": {
      "text/plain": [
       "17"
      ]
     },
     "execution_count": 105,
     "metadata": {},
     "output_type": "execute_result"
    }
   ],
   "source": [
    "square1(4) + 1"
   ]
  },
  {
   "cell_type": "markdown",
   "id": "aa807c0d",
   "metadata": {},
   "source": [
    "It is not possible to compute $x^2+1$ using `square2` because it is just printing the result of $x^2$, but not giving that value back to us to use in other computations."
   ]
  },
  {
   "cell_type": "markdown",
   "id": "afd000da",
   "metadata": {},
   "source": [
    "### Functions are values too!"
   ]
  },
  {
   "cell_type": "code",
   "execution_count": 106,
   "id": "0e05a362",
   "metadata": {},
   "outputs": [],
   "source": [
    "def square(x):\n",
    "    return x*x"
   ]
  },
  {
   "cell_type": "code",
   "execution_count": 107,
   "id": "ba9adbbb",
   "metadata": {},
   "outputs": [
    {
     "data": {
      "text/plain": [
       "16"
      ]
     },
     "execution_count": 107,
     "metadata": {},
     "output_type": "execute_result"
    }
   ],
   "source": [
    "square(4)"
   ]
  },
  {
   "cell_type": "code",
   "execution_count": 108,
   "id": "a389d368",
   "metadata": {},
   "outputs": [
    {
     "data": {
      "text/plain": [
       "<function __main__.square(x)>"
      ]
     },
     "execution_count": 108,
     "metadata": {},
     "output_type": "execute_result"
    }
   ],
   "source": [
    "square"
   ]
  },
  {
   "cell_type": "code",
   "execution_count": 109,
   "id": "02492372",
   "metadata": {},
   "outputs": [],
   "source": [
    "f = square"
   ]
  },
  {
   "cell_type": "code",
   "execution_count": 110,
   "id": "2217898c",
   "metadata": {},
   "outputs": [
    {
     "data": {
      "text/plain": [
       "16"
      ]
     },
     "execution_count": 110,
     "metadata": {},
     "output_type": "execute_result"
    }
   ],
   "source": [
    "f(4)"
   ]
  },
  {
   "cell_type": "code",
   "execution_count": 111,
   "id": "2803ae0f",
   "metadata": {},
   "outputs": [
    {
     "data": {
      "text/plain": [
       "<function __main__.square(x)>"
      ]
     },
     "execution_count": 111,
     "metadata": {},
     "output_type": "execute_result"
    }
   ],
   "source": [
    "f"
   ]
  },
  {
   "cell_type": "code",
   "execution_count": 112,
   "id": "785b904d",
   "metadata": {},
   "outputs": [],
   "source": [
    "x = 40"
   ]
  },
  {
   "cell_type": "code",
   "execution_count": 113,
   "id": "f98e0449",
   "metadata": {},
   "outputs": [],
   "source": [
    "y = x"
   ]
  },
  {
   "cell_type": "code",
   "execution_count": 114,
   "id": "f7f091e6",
   "metadata": {},
   "outputs": [
    {
     "data": {
      "text/plain": [
       "40"
      ]
     },
     "execution_count": 114,
     "metadata": {},
     "output_type": "execute_result"
    }
   ],
   "source": [
    "y"
   ]
  },
  {
   "cell_type": "code",
   "execution_count": 116,
   "id": "9db6e0b6",
   "metadata": {},
   "outputs": [],
   "source": [
    "def square(x):\n",
    "    return x*x\n",
    "\n",
    "# square = make-new-function..."
   ]
  },
  {
   "cell_type": "code",
   "execution_count": 118,
   "id": "23830006",
   "metadata": {},
   "outputs": [],
   "source": [
    "def sum_of_squares(x, y):\n",
    "    return square(x) + square(y)"
   ]
  },
  {
   "cell_type": "code",
   "execution_count": 119,
   "id": "4d7a0739",
   "metadata": {},
   "outputs": [
    {
     "data": {
      "text/plain": [
       "25"
      ]
     },
     "execution_count": 119,
     "metadata": {},
     "output_type": "execute_result"
    }
   ],
   "source": [
    "sum_of_squares(3, 4)"
   ]
  },
  {
   "cell_type": "markdown",
   "id": "28c9188c",
   "metadata": {},
   "source": [
    "What if we want to compute sum of cubes as well?"
   ]
  },
  {
   "cell_type": "code",
   "execution_count": 120,
   "id": "70823bd8",
   "metadata": {},
   "outputs": [],
   "source": [
    "def cube(x):\n",
    "    return x*x*x\n",
    "\n",
    "def sum_of_cubes(x, y):\n",
    "    return cube(x) + cube(y)"
   ]
  },
  {
   "cell_type": "code",
   "execution_count": 121,
   "id": "3b923aae",
   "metadata": {},
   "outputs": [
    {
     "data": {
      "text/plain": [
       "91"
      ]
     },
     "execution_count": 121,
     "metadata": {},
     "output_type": "execute_result"
    }
   ],
   "source": [
    "sum_of_cubes(3, 4)"
   ]
  },
  {
   "cell_type": "markdown",
   "id": "b2e40610",
   "metadata": {},
   "source": [
    "Can generalize `sum_of_squares` and `sum_of_cubes` into a single function?"
   ]
  },
  {
   "cell_type": "code",
   "execution_count": 122,
   "id": "447eeb4d",
   "metadata": {},
   "outputs": [],
   "source": [
    "def sumof(f, x, y):\n",
    "    return f(x) + f(y)"
   ]
  },
  {
   "cell_type": "code",
   "execution_count": 123,
   "id": "b2444567",
   "metadata": {},
   "outputs": [
    {
     "data": {
      "text/plain": [
       "25"
      ]
     },
     "execution_count": 123,
     "metadata": {},
     "output_type": "execute_result"
    }
   ],
   "source": [
    "sumof(square, 3, 4)"
   ]
  },
  {
   "cell_type": "code",
   "execution_count": 124,
   "id": "96fdab40",
   "metadata": {},
   "outputs": [
    {
     "data": {
      "text/plain": [
       "91"
      ]
     },
     "execution_count": 124,
     "metadata": {},
     "output_type": "execute_result"
    }
   ],
   "source": [
    "sumof(cube, 3, 4)"
   ]
  },
  {
   "cell_type": "code",
   "execution_count": 125,
   "id": "ba4dda60",
   "metadata": {},
   "outputs": [
    {
     "data": {
      "text/plain": [
       "11"
      ]
     },
     "execution_count": 125,
     "metadata": {},
     "output_type": "execute_result"
    }
   ],
   "source": [
    "sumof(len, \"hello\", \"python\")"
   ]
  },
  {
   "cell_type": "code",
   "execution_count": 126,
   "id": "f53aec32",
   "metadata": {},
   "outputs": [
    {
     "data": {
      "text/plain": [
       "14"
      ]
     },
     "execution_count": 126,
     "metadata": {},
     "output_type": "execute_result"
    }
   ],
   "source": [
    "sumof(abs, 4, -10)"
   ]
  },
  {
   "cell_type": "markdown",
   "id": "54e7c0a8",
   "metadata": {},
   "source": [
    "The feature of passing functions as arguments is so useful that many built-in functions support that."
   ]
  },
  {
   "cell_type": "code",
   "execution_count": 127,
   "id": "47edb51b",
   "metadata": {},
   "outputs": [
    {
     "data": {
      "text/plain": [
       "4"
      ]
     },
     "execution_count": 127,
     "metadata": {},
     "output_type": "execute_result"
    }
   ],
   "source": [
    "max(3, 4)"
   ]
  },
  {
   "cell_type": "code",
   "execution_count": 128,
   "id": "b5148477",
   "metadata": {},
   "outputs": [
    {
     "data": {
      "text/plain": [
       "5"
      ]
     },
     "execution_count": 128,
     "metadata": {},
     "output_type": "execute_result"
    }
   ],
   "source": [
    "max([3, 5, 4])"
   ]
  },
  {
   "cell_type": "code",
   "execution_count": 129,
   "id": "325f9553",
   "metadata": {},
   "outputs": [
    {
     "data": {
      "text/plain": [
       "'two'"
      ]
     },
     "execution_count": 129,
     "metadata": {},
     "output_type": "execute_result"
    }
   ],
   "source": [
    "max(['one', 'two', 'three', 'four', 'five'])"
   ]
  },
  {
   "cell_type": "markdown",
   "id": "cadd181a",
   "metadata": {},
   "source": [
    "How to find the longest word?"
   ]
  },
  {
   "cell_type": "code",
   "execution_count": 130,
   "id": "9d295ab8",
   "metadata": {},
   "outputs": [
    {
     "data": {
      "text/plain": [
       "'three'"
      ]
     },
     "execution_count": 130,
     "metadata": {},
     "output_type": "execute_result"
    }
   ],
   "source": [
    "max(['one', 'two', 'three', 'four', 'five'], key=len)"
   ]
  },
  {
   "cell_type": "code",
   "execution_count": 131,
   "id": "5241ba7d",
   "metadata": {},
   "outputs": [],
   "source": [
    "def mylen(word):\n",
    "    print(\"mylen\", word)\n",
    "    return len(word)"
   ]
  },
  {
   "cell_type": "code",
   "execution_count": 132,
   "id": "26c1892f",
   "metadata": {},
   "outputs": [
    {
     "name": "stdout",
     "output_type": "stream",
     "text": [
      "mylen one\n",
      "mylen two\n",
      "mylen three\n",
      "mylen four\n",
      "mylen five\n"
     ]
    },
    {
     "data": {
      "text/plain": [
       "'three'"
      ]
     },
     "execution_count": 132,
     "metadata": {},
     "output_type": "execute_result"
    }
   ],
   "source": [
    "max(['one', 'two', 'three', 'four', 'five'], key=mylen)"
   ]
  },
  {
   "cell_type": "code",
   "execution_count": 134,
   "id": "f819b3bf",
   "metadata": {},
   "outputs": [],
   "source": [
    "# records of students with marks\n",
    "records = [\n",
    "    (\"A\", 78),\n",
    "    (\"B\", 91),\n",
    "    (\"C\", 56)\n",
    "] "
   ]
  },
  {
   "cell_type": "markdown",
   "id": "3eddb6a5",
   "metadata": {},
   "source": [
    "How to find the student who got the maximum marks?"
   ]
  },
  {
   "cell_type": "code",
   "execution_count": 136,
   "id": "2490ecf0",
   "metadata": {},
   "outputs": [
    {
     "data": {
      "text/plain": [
       "('B', 91)"
      ]
     },
     "execution_count": 136,
     "metadata": {},
     "output_type": "execute_result"
    }
   ],
   "source": [
    "def get_marks(record):\n",
    "    return record[1]\n",
    "\n",
    "max(records, key=get_marks)"
   ]
  },
  {
   "cell_type": "code",
   "execution_count": 137,
   "id": "ca85f75f",
   "metadata": {},
   "outputs": [
    {
     "data": {
      "text/plain": [
       "'B'"
      ]
     },
     "execution_count": 137,
     "metadata": {},
     "output_type": "execute_result"
    }
   ],
   "source": [
    "max(records, key=get_marks)[0]"
   ]
  },
  {
   "cell_type": "markdown",
   "id": "4132c340",
   "metadata": {},
   "source": [
    "Let's look at another example."
   ]
  },
  {
   "cell_type": "code",
   "execution_count": 139,
   "id": "b4439980",
   "metadata": {},
   "outputs": [],
   "source": [
    "h1 = {\"name\": \"web-0\", \"type\": \"web\", \"loadavg\": 67}\n",
    "h2 = {\"name\": \"web-1\", \"type\": \"web\", \"loadavg\": 78}\n",
    "h3 = {\"name\": \"db-0\", \"type\": \"dv\", \"loadavg\": 42}"
   ]
  },
  {
   "cell_type": "code",
   "execution_count": 140,
   "id": "75c27842",
   "metadata": {},
   "outputs": [],
   "source": [
    "hosts = [h1, h2, h3]"
   ]
  },
  {
   "cell_type": "code",
   "execution_count": 141,
   "id": "18a984fe",
   "metadata": {},
   "outputs": [
    {
     "data": {
      "text/plain": [
       "[{'name': 'web-0', 'type': 'web', 'loadavg': 67},\n",
       " {'name': 'web-1', 'type': 'web', 'loadavg': 78},\n",
       " {'name': 'db-0', 'type': 'dv', 'loadavg': 42}]"
      ]
     },
     "execution_count": 141,
     "metadata": {},
     "output_type": "execute_result"
    }
   ],
   "source": [
    "hosts"
   ]
  },
  {
   "cell_type": "markdown",
   "id": "32d8d46b",
   "metadata": {},
   "source": [
    "Which of these hosts is most heavily loaded?"
   ]
  },
  {
   "cell_type": "code",
   "execution_count": 143,
   "id": "82d469fd",
   "metadata": {},
   "outputs": [
    {
     "data": {
      "text/plain": [
       "{'name': 'web-1', 'type': 'web', 'loadavg': 78}"
      ]
     },
     "execution_count": 143,
     "metadata": {},
     "output_type": "execute_result"
    }
   ],
   "source": [
    "def get_loadavg(host):\n",
    "    return host['loadavg']\n",
    "\n",
    "max(hosts, key=get_loadavg)"
   ]
  },
  {
   "cell_type": "code",
   "execution_count": 144,
   "id": "da1326b7",
   "metadata": {},
   "outputs": [
    {
     "data": {
      "text/plain": [
       "'web-1'"
      ]
     },
     "execution_count": 144,
     "metadata": {},
     "output_type": "execute_result"
    }
   ],
   "source": [
    "max(hosts, key=get_loadavg)['name']"
   ]
  },
  {
   "cell_type": "markdown",
   "id": "ed069848",
   "metadata": {},
   "source": [
    "### Methods"
   ]
  },
  {
   "cell_type": "code",
   "execution_count": 145,
   "id": "0a80e4c9",
   "metadata": {},
   "outputs": [],
   "source": [
    "x = \"Hello\""
   ]
  },
  {
   "cell_type": "code",
   "execution_count": 146,
   "id": "da35e472",
   "metadata": {},
   "outputs": [
    {
     "data": {
      "text/plain": [
       "'HELLO'"
      ]
     },
     "execution_count": 146,
     "metadata": {},
     "output_type": "execute_result"
    }
   ],
   "source": [
    "x.upper()"
   ]
  },
  {
   "cell_type": "markdown",
   "id": "c98438b1",
   "metadata": {},
   "source": [
    "`upper` is a method available to all strings."
   ]
  },
  {
   "cell_type": "code",
   "execution_count": 147,
   "id": "e1d75b2d",
   "metadata": {},
   "outputs": [],
   "source": [
    "y = 1"
   ]
  },
  {
   "cell_type": "code",
   "execution_count": 148,
   "id": "35079e64",
   "metadata": {},
   "outputs": [
    {
     "ename": "AttributeError",
     "evalue": "'int' object has no attribute 'upper'",
     "output_type": "error",
     "traceback": [
      "\u001b[0;31m---------------------------------------------------------------------------\u001b[0m",
      "\u001b[0;31mAttributeError\u001b[0m                            Traceback (most recent call last)",
      "Input \u001b[0;32mIn [148]\u001b[0m, in \u001b[0;36m<module>\u001b[0;34m\u001b[0m\n\u001b[1;32m      1\u001b[0m \u001b[38;5;66;03m# this doesn't work as int don't support upper method\u001b[39;00m\n\u001b[0;32m----> 2\u001b[0m \u001b[43my\u001b[49m\u001b[38;5;241;43m.\u001b[39;49m\u001b[43mupper\u001b[49m()\n",
      "\u001b[0;31mAttributeError\u001b[0m: 'int' object has no attribute 'upper'"
     ]
    }
   ],
   "source": [
    "# this doesn't work as int don't support upper method\n",
    "y.upper()"
   ]
  },
  {
   "cell_type": "code",
   "execution_count": 149,
   "id": "5e5078db",
   "metadata": {},
   "outputs": [
    {
     "data": {
      "text/plain": [
       "'hello'"
      ]
     },
     "execution_count": 149,
     "metadata": {},
     "output_type": "execute_result"
    }
   ],
   "source": [
    "x.lower()"
   ]
  },
  {
   "cell_type": "code",
   "execution_count": 150,
   "id": "6c8877c3",
   "metadata": {},
   "outputs": [
    {
     "data": {
      "text/plain": [
       "2"
      ]
     },
     "execution_count": 150,
     "metadata": {},
     "output_type": "execute_result"
    }
   ],
   "source": [
    "\"mathematics\".count(\"mat\")"
   ]
  },
  {
   "cell_type": "code",
   "execution_count": 151,
   "id": "974b5bcc",
   "metadata": {},
   "outputs": [
    {
     "data": {
      "text/plain": [
       "'ratheratics'"
      ]
     },
     "execution_count": 151,
     "metadata": {},
     "output_type": "execute_result"
    }
   ],
   "source": [
    "\"mathematics\".replace(\"mat\", \"rat\")"
   ]
  },
  {
   "cell_type": "markdown",
   "id": "f4baeaab",
   "metadata": {},
   "source": [
    "**Problem:** Write a function `count_zeros` that counts the number of zeros in the given number.\n",
    "\n",
    "```\n",
    ">>> count_zeros(0)\n",
    "1\n",
    ">>> count_zeros(100)\n",
    "2\n",
    ">>> count_zeros(2030405)\n",
    "3\n",
    "```"
   ]
  },
  {
   "cell_type": "code",
   "execution_count": 155,
   "id": "4b7de1f3",
   "metadata": {},
   "outputs": [],
   "source": [
    "n = 100"
   ]
  },
  {
   "cell_type": "code",
   "execution_count": 156,
   "id": "64cf8c6b",
   "metadata": {},
   "outputs": [
    {
     "ename": "AttributeError",
     "evalue": "'int' object has no attribute 'count'",
     "output_type": "error",
     "traceback": [
      "\u001b[0;31m---------------------------------------------------------------------------\u001b[0m",
      "\u001b[0;31mAttributeError\u001b[0m                            Traceback (most recent call last)",
      "Input \u001b[0;32mIn [156]\u001b[0m, in \u001b[0;36m<module>\u001b[0;34m\u001b[0m\n\u001b[0;32m----> 1\u001b[0m \u001b[43mn\u001b[49m\u001b[38;5;241;43m.\u001b[39;49m\u001b[43mcount\u001b[49m(\u001b[38;5;241m0\u001b[39m)\n",
      "\u001b[0;31mAttributeError\u001b[0m: 'int' object has no attribute 'count'"
     ]
    }
   ],
   "source": [
    "n.count(0)"
   ]
  },
  {
   "cell_type": "code",
   "execution_count": 157,
   "id": "f11a6f2d",
   "metadata": {},
   "outputs": [
    {
     "ename": "TypeError",
     "evalue": "must be str, not int",
     "output_type": "error",
     "traceback": [
      "\u001b[0;31m---------------------------------------------------------------------------\u001b[0m",
      "\u001b[0;31mTypeError\u001b[0m                                 Traceback (most recent call last)",
      "Input \u001b[0;32mIn [157]\u001b[0m, in \u001b[0;36m<module>\u001b[0;34m\u001b[0m\n\u001b[0;32m----> 1\u001b[0m \u001b[38;5;28;43mstr\u001b[39;49m\u001b[43m(\u001b[49m\u001b[43mn\u001b[49m\u001b[43m)\u001b[49m\u001b[38;5;241;43m.\u001b[39;49m\u001b[43mcount\u001b[49m\u001b[43m(\u001b[49m\u001b[38;5;241;43m0\u001b[39;49m\u001b[43m)\u001b[49m\n",
      "\u001b[0;31mTypeError\u001b[0m: must be str, not int"
     ]
    }
   ],
   "source": [
    "str(n).count(0)"
   ]
  },
  {
   "cell_type": "code",
   "execution_count": 158,
   "id": "b9dc002d",
   "metadata": {},
   "outputs": [
    {
     "data": {
      "text/plain": [
       "2"
      ]
     },
     "execution_count": 158,
     "metadata": {},
     "output_type": "execute_result"
    }
   ],
   "source": [
    "str(n).count(\"0\")"
   ]
  },
  {
   "cell_type": "code",
   "execution_count": 159,
   "id": "1046999b",
   "metadata": {},
   "outputs": [],
   "source": [
    "def count_zeros(n):\n",
    "    return str(n).count(\"0\")"
   ]
  },
  {
   "cell_type": "code",
   "execution_count": 160,
   "id": "0fe1448a",
   "metadata": {},
   "outputs": [
    {
     "data": {
      "text/plain": [
       "1"
      ]
     },
     "execution_count": 160,
     "metadata": {},
     "output_type": "execute_result"
    }
   ],
   "source": [
    "count_zeros(0)"
   ]
  },
  {
   "cell_type": "code",
   "execution_count": 161,
   "id": "11607601",
   "metadata": {},
   "outputs": [
    {
     "data": {
      "text/plain": [
       "2"
      ]
     },
     "execution_count": 161,
     "metadata": {},
     "output_type": "execute_result"
    }
   ],
   "source": [
    "count_zeros(100)"
   ]
  },
  {
   "cell_type": "code",
   "execution_count": 162,
   "id": "c2c19775",
   "metadata": {},
   "outputs": [
    {
     "data": {
      "text/plain": [
       "3"
      ]
     },
     "execution_count": 162,
     "metadata": {},
     "output_type": "execute_result"
    }
   ],
   "source": [
    "count_zeros(2030405)"
   ]
  },
  {
   "cell_type": "code",
   "execution_count": 163,
   "id": "3c9e1d38",
   "metadata": {},
   "outputs": [
    {
     "data": {
      "text/plain": [
       "292"
      ]
     },
     "execution_count": 163,
     "metadata": {},
     "output_type": "execute_result"
    }
   ],
   "source": [
    "count_zeros(2**10000)"
   ]
  },
  {
   "cell_type": "code",
   "execution_count": 165,
   "id": "005f5414",
   "metadata": {},
   "outputs": [],
   "source": [
    "def count_zeros(n):\n",
    "    # the extra parenthesis is valid, but required\n",
    "    return (str(n).count(\"0\"))\n",
    "\n",
    "def count_zeros(n):\n",
    "    # this is fine too, but usually, \n",
    "    # single line is easier to read\n",
    "    s = str(n)\n",
    "    return s.count(\"0\")"
   ]
  },
  {
   "cell_type": "markdown",
   "id": "14aba6fd",
   "metadata": {},
   "source": [
    "Let's look at some more intersting methods on strings."
   ]
  },
  {
   "cell_type": "code",
   "execution_count": 166,
   "id": "6e584366",
   "metadata": {},
   "outputs": [],
   "source": [
    "sentence = \"Anything that can go wrong, will go wrong.\""
   ]
  },
  {
   "cell_type": "code",
   "execution_count": 168,
   "id": "d0f64f59",
   "metadata": {},
   "outputs": [
    {
     "data": {
      "text/plain": [
       "['Anything', 'that', 'can', 'go', 'wrong,', 'will', 'go', 'wrong.']"
      ]
     },
     "execution_count": 168,
     "metadata": {},
     "output_type": "execute_result"
    }
   ],
   "source": [
    "sentence.split() # split on any whitespace"
   ]
  },
  {
   "cell_type": "code",
   "execution_count": 169,
   "id": "fda7ddaa",
   "metadata": {},
   "outputs": [
    {
     "data": {
      "text/plain": [
       "['Anything that can go wrong', ' will go wrong.']"
      ]
     },
     "execution_count": 169,
     "metadata": {},
     "output_type": "execute_result"
    }
   ],
   "source": [
    "sentence.split(\",\") # split on comma"
   ]
  },
  {
   "cell_type": "code",
   "execution_count": 170,
   "id": "d794cf9b",
   "metadata": {},
   "outputs": [
    {
     "data": {
      "text/plain": [
       "['Anything that can ', ' wrong, will ', ' wrong.']"
      ]
     },
     "execution_count": 170,
     "metadata": {},
     "output_type": "execute_result"
    }
   ],
   "source": [
    "sentence.split(\"go\") # split on the word go"
   ]
  },
  {
   "cell_type": "markdown",
   "id": "2cd0b385",
   "metadata": {},
   "source": [
    "The `split` method splits a string based on any delimiter. If no delimiter is provided, it uses any whitespace as the delimiter."
   ]
  },
  {
   "cell_type": "markdown",
   "id": "690371eb",
   "metadata": {},
   "source": [
    "What is the reverse of split?"
   ]
  },
  {
   "cell_type": "code",
   "execution_count": 171,
   "id": "fc7f2027",
   "metadata": {},
   "outputs": [
    {
     "data": {
      "text/plain": [
       "'a-b-c'"
      ]
     },
     "execution_count": 171,
     "metadata": {},
     "output_type": "execute_result"
    }
   ],
   "source": [
    "\"-\".join([\"a\", \"b\", \"c\"])"
   ]
  },
  {
   "cell_type": "code",
   "execution_count": 172,
   "id": "e5511dc6",
   "metadata": {},
   "outputs": [
    {
     "data": {
      "text/plain": [
       "'a b c'"
      ]
     },
     "execution_count": 172,
     "metadata": {},
     "output_type": "execute_result"
    }
   ],
   "source": [
    "\" \".join([\"a\", \"b\", \"c\"])"
   ]
  },
  {
   "cell_type": "code",
   "execution_count": 173,
   "id": "791e5b2c",
   "metadata": {},
   "outputs": [
    {
     "data": {
      "text/plain": [
       "'a::b::c'"
      ]
     },
     "execution_count": 173,
     "metadata": {},
     "output_type": "execute_result"
    }
   ],
   "source": [
    "\"::\".join([\"a\", \"b\", \"c\"])"
   ]
  },
  {
   "cell_type": "markdown",
   "id": "2cf7a39d",
   "metadata": {},
   "source": [
    "**Problem:** Write a function `longest_word` that takes a sentence as argument and returns ther longest word from it.\n",
    "\n",
    "```\n",
    ">>> longest_word(\"one two three four five\")\n",
    "'three'\n",
    ">>> longest_word(\"Anything that can go wrong, will go wrong.\")\n",
    "'Anything'\n",
    "```"
   ]
  },
  {
   "cell_type": "code",
   "execution_count": 174,
   "id": "8fa795cb",
   "metadata": {},
   "outputs": [],
   "source": [
    "sentence = \"one two three four five\""
   ]
  },
  {
   "cell_type": "code",
   "execution_count": 175,
   "id": "ca30ca74",
   "metadata": {},
   "outputs": [
    {
     "data": {
      "text/plain": [
       "['one', 'two', 'three', 'four', 'five']"
      ]
     },
     "execution_count": 175,
     "metadata": {},
     "output_type": "execute_result"
    }
   ],
   "source": [
    "sentence.split()"
   ]
  },
  {
   "cell_type": "code",
   "execution_count": 176,
   "id": "be7ec131",
   "metadata": {},
   "outputs": [],
   "source": [
    "words = sentence.split()"
   ]
  },
  {
   "cell_type": "code",
   "execution_count": 177,
   "id": "8fde8d9a",
   "metadata": {},
   "outputs": [
    {
     "data": {
      "text/plain": [
       "['one', 'two', 'three', 'four', 'five']"
      ]
     },
     "execution_count": 177,
     "metadata": {},
     "output_type": "execute_result"
    }
   ],
   "source": [
    "words"
   ]
  },
  {
   "cell_type": "code",
   "execution_count": 178,
   "id": "80230223",
   "metadata": {},
   "outputs": [
    {
     "data": {
      "text/plain": [
       "'three'"
      ]
     },
     "execution_count": 178,
     "metadata": {},
     "output_type": "execute_result"
    }
   ],
   "source": [
    "max(words, key=len)"
   ]
  },
  {
   "cell_type": "code",
   "execution_count": 179,
   "id": "fc390f6c",
   "metadata": {},
   "outputs": [],
   "source": [
    "def longest_word(sentence):\n",
    "    words = sentence.split()    \n",
    "    return max(words, key=len)"
   ]
  },
  {
   "cell_type": "code",
   "execution_count": 180,
   "id": "6f24d740",
   "metadata": {},
   "outputs": [
    {
     "data": {
      "text/plain": [
       "'three'"
      ]
     },
     "execution_count": 180,
     "metadata": {},
     "output_type": "execute_result"
    }
   ],
   "source": [
    "longest_word(\"one two three four five\")"
   ]
  },
  {
   "cell_type": "code",
   "execution_count": 181,
   "id": "0318f125",
   "metadata": {},
   "outputs": [
    {
     "data": {
      "text/plain": [
       "'Anything'"
      ]
     },
     "execution_count": 181,
     "metadata": {},
     "output_type": "execute_result"
    }
   ],
   "source": [
    "longest_word(\"Anything that can go wrong, will go wrong.\")"
   ]
  },
  {
   "cell_type": "code",
   "execution_count": 184,
   "id": "10c46456",
   "metadata": {},
   "outputs": [],
   "source": [
    "def longest_word(sentence):\n",
    "    return max(sentence.split(), key=len)"
   ]
  },
  {
   "cell_type": "code",
   "execution_count": 185,
   "id": "ff30cd65",
   "metadata": {},
   "outputs": [
    {
     "data": {
      "text/plain": [
       "'three'"
      ]
     },
     "execution_count": 185,
     "metadata": {},
     "output_type": "execute_result"
    }
   ],
   "source": [
    "longest_word(\"one two three four five\")"
   ]
  },
  {
   "cell_type": "markdown",
   "id": "411c2482",
   "metadata": {},
   "source": [
    "### Modules"
   ]
  },
  {
   "cell_type": "code",
   "execution_count": 186,
   "id": "4b1e0067",
   "metadata": {},
   "outputs": [],
   "source": [
    "import time"
   ]
  },
  {
   "cell_type": "code",
   "execution_count": 187,
   "id": "10c0099f",
   "metadata": {},
   "outputs": [
    {
     "data": {
      "text/plain": [
       "'Mon Feb  7 12:53:37 2022'"
      ]
     },
     "execution_count": 187,
     "metadata": {},
     "output_type": "execute_result"
    }
   ],
   "source": [
    "time.asctime()"
   ]
  },
  {
   "cell_type": "code",
   "execution_count": 188,
   "id": "32cf7f6e",
   "metadata": {},
   "outputs": [
    {
     "name": "stdout",
     "output_type": "stream",
     "text": [
      "Mon Feb  7 12:54:13 IST 2022\r\n"
     ]
    }
   ],
   "source": [
    "!date"
   ]
  },
  {
   "cell_type": "markdown",
   "id": "ce4d8fda",
   "metadata": {},
   "source": [
    "What does it take to implement the date command using Python?"
   ]
  },
  {
   "cell_type": "code",
   "execution_count": 189,
   "id": "3c7fc5d8",
   "metadata": {},
   "outputs": [
    {
     "name": "stdout",
     "output_type": "stream",
     "text": [
      "Writing date.py\n"
     ]
    }
   ],
   "source": [
    "%%file date.py\n",
    "import time\n",
    "print(time.asctime())"
   ]
  },
  {
   "cell_type": "code",
   "execution_count": 190,
   "id": "29da1a5d",
   "metadata": {},
   "outputs": [
    {
     "name": "stdout",
     "output_type": "stream",
     "text": [
      "Mon Feb  7 12:54:57 2022\r\n"
     ]
    }
   ],
   "source": [
    "!python date.py"
   ]
  },
  {
   "cell_type": "code",
   "execution_count": 191,
   "id": "ecec419e",
   "metadata": {},
   "outputs": [
    {
     "name": "stdout",
     "output_type": "stream",
     "text": [
      "Mon Feb  7 12:55:09 2022\r\n"
     ]
    }
   ],
   "source": [
    "!python date.py"
   ]
  },
  {
   "cell_type": "markdown",
   "id": "ec3155e9",
   "metadata": {},
   "source": [
    "#### The `os` module"
   ]
  },
  {
   "cell_type": "code",
   "execution_count": 193,
   "id": "13cced7d",
   "metadata": {},
   "outputs": [],
   "source": [
    "import os"
   ]
  },
  {
   "cell_type": "code",
   "execution_count": 195,
   "id": "fd08cdc0",
   "metadata": {},
   "outputs": [
    {
     "data": {
      "text/plain": [
       "'/Users/anand/trainings/2022/zeomega-python'"
      ]
     },
     "execution_count": 195,
     "metadata": {},
     "output_type": "execute_result"
    }
   ],
   "source": [
    "# get current #working directory\n",
    "os.getcwd()"
   ]
  },
  {
   "cell_type": "code",
   "execution_count": 196,
   "id": "6b024cda",
   "metadata": {},
   "outputs": [
    {
     "data": {
      "text/plain": [
       "['hello.py',\n",
       " 'Untitled.html',\n",
       " 'index.html',\n",
       " 'Untitled.ipynb',\n",
       " 'Makefile',\n",
       " 'cat.py',\n",
       " 'push',\n",
       " 'notes',\n",
       " 'day1.html',\n",
       " '.ipynb_checkpoints',\n",
       " 'day1.ipynb',\n",
       " 'date.py',\n",
       " 'index.ipynb']"
      ]
     },
     "execution_count": 196,
     "metadata": {},
     "output_type": "execute_result"
    }
   ],
   "source": [
    "# list all files in a directory\n",
    "os.listdir(\".\")"
   ]
  },
  {
   "cell_type": "markdown",
   "id": "fc9218dd",
   "metadata": {},
   "source": [
    "If we want to find size of a file, we can use `os.path.getsize`."
   ]
  },
  {
   "cell_type": "code",
   "execution_count": 197,
   "id": "5e697b71",
   "metadata": {},
   "outputs": [
    {
     "data": {
      "text/plain": [
       "764596"
      ]
     },
     "execution_count": 197,
     "metadata": {},
     "output_type": "execute_result"
    }
   ],
   "source": [
    "os.path.getsize(\"day1.html\")"
   ]
  },
  {
   "cell_type": "code",
   "execution_count": 198,
   "id": "b3d08eb2",
   "metadata": {},
   "outputs": [
    {
     "name": "stdout",
     "output_type": "stream",
     "text": [
      "-rw-r--r--  1 anand  staff  764596 Feb  7 12:53 day1.html\r\n"
     ]
    }
   ],
   "source": [
    "!ls -l day1.html"
   ]
  },
  {
   "cell_type": "markdown",
   "id": "77e55557",
   "metadata": {},
   "source": [
    "how to find the largest file in the current directory?"
   ]
  },
  {
   "cell_type": "code",
   "execution_count": 201,
   "id": "340039e8",
   "metadata": {},
   "outputs": [
    {
     "data": {
      "text/plain": [
       "'day1.html'"
      ]
     },
     "execution_count": 201,
     "metadata": {},
     "output_type": "execute_result"
    }
   ],
   "source": [
    "max(os.listdir(\".\"), key=os.path.getsize)"
   ]
  },
  {
   "cell_type": "code",
   "execution_count": 203,
   "id": "40ba2a1d",
   "metadata": {},
   "outputs": [
    {
     "name": "stdout",
     "output_type": "stream",
     "text": [
      "total 3920\r\n",
      "-rw-r--r--   1 anand  staff  764596 Feb  7 12:53 day1.html\r\n",
      "-rw-r--r--   1 anand  staff  577240 Feb  5 07:40 index.html\r\n",
      "-rw-r--r--   1 anand  staff  575899 Feb  7 09:25 Untitled.html\r\n",
      "-rw-r--r--   1 anand  staff   60081 Feb  7 12:53 day1.ipynb\r\n",
      "-rw-r--r--   1 anand  staff    1751 Feb  5 07:40 index.ipynb\r\n",
      "-rw-r--r--   1 anand  staff    1128 Feb  7 09:25 Untitled.ipynb\r\n",
      "-rw-r--r--   1 anand  staff     495 Feb  5 06:40 Makefile\r\n",
      "drwxr-xr-x  13 anand  staff     416 Feb  7 03:07 \u001b[34mnotes\u001b[m\u001b[m\r\n",
      "-rw-r--r--   1 anand  staff      34 Feb  7 12:54 date.py\r\n",
      "-rw-r--r--   1 anand  staff      32 Feb  7 10:58 cat.py\r\n",
      "-rw-r--r--   1 anand  staff      15 Feb  7 10:14 hello.py\r\n",
      "-rw-r--r--   1 anand  staff       0 Feb  7 12:53 push\r\n"
     ]
    }
   ],
   "source": [
    "!ls -lS"
   ]
  },
  {
   "cell_type": "markdown",
   "id": "f1fbd8dc",
   "metadata": {},
   "source": [
    "#### Reading Command-line arguments"
   ]
  },
  {
   "cell_type": "markdown",
   "id": "580f6958",
   "metadata": {},
   "source": [
    "The `sys` module keeps track of all arguments passed to the program."
   ]
  },
  {
   "cell_type": "code",
   "execution_count": 205,
   "id": "23e7172d",
   "metadata": {},
   "outputs": [
    {
     "name": "stdout",
     "output_type": "stream",
     "text": [
      "Overwriting args.py\n"
     ]
    }
   ],
   "source": [
    "%%file args.py\n",
    "import sys\n",
    "print(sys.argv)"
   ]
  },
  {
   "cell_type": "code",
   "execution_count": 206,
   "id": "0a7f698e",
   "metadata": {},
   "outputs": [
    {
     "name": "stdout",
     "output_type": "stream",
     "text": [
      "['args.py']\r\n"
     ]
    }
   ],
   "source": [
    "!python args.py"
   ]
  },
  {
   "cell_type": "code",
   "execution_count": 207,
   "id": "cfac8747",
   "metadata": {},
   "outputs": [
    {
     "name": "stdout",
     "output_type": "stream",
     "text": [
      "['args.py', 'hello']\r\n"
     ]
    }
   ],
   "source": [
    "!python args.py hello"
   ]
  },
  {
   "cell_type": "code",
   "execution_count": 208,
   "id": "a24d78fb",
   "metadata": {},
   "outputs": [
    {
     "name": "stdout",
     "output_type": "stream",
     "text": [
      "['args.py', 'hello', 'workd']\r\n"
     ]
    }
   ],
   "source": [
    "!python args.py hello workd"
   ]
  },
  {
   "cell_type": "code",
   "execution_count": 209,
   "id": "dd064c28",
   "metadata": {},
   "outputs": [
    {
     "name": "stdout",
     "output_type": "stream",
     "text": [
      "['args.py', '1', '2', '3', '4', '5']\r\n"
     ]
    }
   ],
   "source": [
    "!python args.py 1 2 3 4 5"
   ]
  },
  {
   "cell_type": "markdown",
   "id": "17bcec51",
   "metadata": {},
   "source": [
    "Notice that the arguments are always strings."
   ]
  },
  {
   "cell_type": "markdown",
   "id": "55aa4235",
   "metadata": {},
   "source": [
    "#### Example: echo"
   ]
  },
  {
   "cell_type": "code",
   "execution_count": 212,
   "id": "8e6aa44b",
   "metadata": {},
   "outputs": [
    {
     "name": "stdout",
     "output_type": "stream",
     "text": [
      "hello world\r\n"
     ]
    }
   ],
   "source": [
    "!echo hello world"
   ]
  },
  {
   "cell_type": "markdown",
   "id": "37450747",
   "metadata": {},
   "source": [
    "Let's implement it in Python. For now, we'll print only the first argument."
   ]
  },
  {
   "cell_type": "code",
   "execution_count": 213,
   "id": "7a610282",
   "metadata": {},
   "outputs": [
    {
     "name": "stdout",
     "output_type": "stream",
     "text": [
      "Writing echo.py\n"
     ]
    }
   ],
   "source": [
    "%%file echo.py\n",
    "import sys\n",
    "arg = sys.argv[1]\n",
    "print(arg)"
   ]
  },
  {
   "cell_type": "code",
   "execution_count": 214,
   "id": "3f0af371",
   "metadata": {},
   "outputs": [
    {
     "name": "stdout",
     "output_type": "stream",
     "text": [
      "hello\r\n"
     ]
    }
   ],
   "source": [
    "!python echo.py hello"
   ]
  },
  {
   "cell_type": "code",
   "execution_count": 215,
   "id": "9250978c",
   "metadata": {},
   "outputs": [
    {
     "name": "stdout",
     "output_type": "stream",
     "text": [
      "hello\r\n"
     ]
    }
   ],
   "source": [
    "!python echo.py hello world"
   ]
  },
  {
   "cell_type": "markdown",
   "id": "88de74ee",
   "metadata": {},
   "source": [
    "**Problem:** Write a program `square.py` that takes a number as command-line argument and prints its square.\n",
    "\n",
    "```\n",
    "$ python square.py 2\n",
    "4\n",
    "$ python square.py 5\n",
    "25\n",
    "```"
   ]
  },
  {
   "cell_type": "code",
   "execution_count": 216,
   "id": "4f147c25",
   "metadata": {},
   "outputs": [
    {
     "name": "stdout",
     "output_type": "stream",
     "text": [
      "Writing square.py\n"
     ]
    }
   ],
   "source": [
    "%%file square.py\n",
    "\n",
    "# FIX ME\n",
    "print(0)"
   ]
  },
  {
   "cell_type": "code",
   "execution_count": 217,
   "id": "55ea8125",
   "metadata": {},
   "outputs": [
    {
     "name": "stdout",
     "output_type": "stream",
     "text": [
      "0\r\n"
     ]
    }
   ],
   "source": [
    "!python square.py 2"
   ]
  },
  {
   "cell_type": "markdown",
   "id": "0d291720",
   "metadata": {},
   "source": [
    "## Q & A"
   ]
  },
  {
   "cell_type": "markdown",
   "id": "3378c06b",
   "metadata": {},
   "source": [
    "**imax**\n",
    "\n",
    "Write a function `imax` to compute maximum of given words ignoring the case.\n",
    "\n",
    "```\n",
    ">>> imax(['alice', 'Dave', 'charlie', 'BOB'])\n",
    "'Dave'\n",
    "\n",
    ">>> imax(['Alice', 'dave', 'charlie', 'BOB'])\n",
    "'dave'\n",
    "```"
   ]
  },
  {
   "cell_type": "code",
   "execution_count": 219,
   "id": "8ab22743",
   "metadata": {},
   "outputs": [
    {
     "data": {
      "text/plain": [
       "'charlie'"
      ]
     },
     "execution_count": 219,
     "metadata": {},
     "output_type": "execute_result"
    }
   ],
   "source": [
    "max(['alice', 'Dave', 'charlie', 'BOB'])"
   ]
  },
  {
   "cell_type": "code",
   "execution_count": null,
   "id": "c3f773a3",
   "metadata": {},
   "outputs": [],
   "source": [
    "def ignore_case(word):\n",
    "    ???\n",
    "    \n",
    "    \n",
    "max(['alice', 'Dave', 'charlie', 'BOB'], key=ignore_case)"
   ]
  }
 ],
 "metadata": {
  "kernelspec": {
   "display_name": "Python 3 (ipykernel)",
   "language": "python",
   "name": "python3"
  },
  "language_info": {
   "codemirror_mode": {
    "name": "ipython",
    "version": 3
   },
   "file_extension": ".py",
   "mimetype": "text/x-python",
   "name": "python",
   "nbconvert_exporter": "python",
   "pygments_lexer": "ipython3",
   "version": "3.10.2"
  }
 },
 "nbformat": 4,
 "nbformat_minor": 5
}
