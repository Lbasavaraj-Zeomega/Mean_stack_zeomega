{
 "cells": [
  {
   "cell_type": "markdown",
   "id": "9b6d3306",
   "metadata": {},
   "source": [
    "### Advanced Python Training at ZeOmega - Day 3\n",
    "\n",
    "Feb 07-11, 2022<br>\n",
    "09:30 AM - 01:00 PM\n",
    "\n",
    "[Anand Chitipothu](https://pipal.in/trainers/anand)\n",
    "\n",
    "These notes are available online at https://bit.ly/zeomega-py22\n",
    "\n",
    "© Pipal Academy LLP\n",
    "\n",
    "[Home](.) | [Day 1](day1.html) | [Day 2](day2.html) | **Day 3** | [Day 4](day4.html) | [Day 5](day5.html) \n",
    "\n",
    "[Download this notebook](day3.ipynb)"
   ]
  },
  {
   "cell_type": "markdown",
   "id": "c02e4c7f",
   "metadata": {},
   "source": [
    "## Topics\n",
    "* Writing Custom Modules\n",
    "* Testing Python Programs\n",
    "* String Formatting\n",
    "* Working with Files\n",
    "* Sets & Dictionaries"
   ]
  },
  {
   "cell_type": "markdown",
   "id": "23d7e755",
   "metadata": {},
   "source": [
    "## Writing Custom Modules"
   ]
  },
  {
   "cell_type": "code",
   "execution_count": 3,
   "id": "f14186e6",
   "metadata": {},
   "outputs": [
    {
     "name": "stdout",
     "output_type": "stream",
     "text": [
      "Overwriting mymodule.py\n"
     ]
    }
   ],
   "source": [
    "%%file mymodule.py\n",
    "print(\"BEGIN mymodule\")\n",
    "\n",
    "x = 2\n",
    "\n",
    "def add(a, b):\n",
    "    return a+b\n",
    "\n",
    "print(add(3, 4))\n",
    "print(\"END mymodule\")"
   ]
  },
  {
   "cell_type": "code",
   "execution_count": 4,
   "id": "cb842b29",
   "metadata": {},
   "outputs": [
    {
     "name": "stdout",
     "output_type": "stream",
     "text": [
      "BEGIN mymodule\r\n",
      "7\r\n",
      "END mymodule\r\n"
     ]
    }
   ],
   "source": [
    "!python mymodule.py"
   ]
  },
  {
   "cell_type": "markdown",
   "id": "44da22d7",
   "metadata": {},
   "source": [
    "Let's say we want to reuse the add function written in mymodule."
   ]
  },
  {
   "cell_type": "code",
   "execution_count": 5,
   "id": "dfc4968f",
   "metadata": {},
   "outputs": [
    {
     "name": "stdout",
     "output_type": "stream",
     "text": [
      "Writing a.py\n"
     ]
    }
   ],
   "source": [
    "%%file a.py\n",
    "import mymodule\n",
    "print(mymodule.add(10, 20))"
   ]
  },
  {
   "cell_type": "code",
   "execution_count": 6,
   "id": "978f69d3",
   "metadata": {},
   "outputs": [
    {
     "name": "stdout",
     "output_type": "stream",
     "text": [
      "BEGIN mymodule\r\n",
      "7\r\n",
      "END mymodule\r\n",
      "30\r\n"
     ]
    }
   ],
   "source": [
    "!python a.py"
   ]
  },
  {
   "cell_type": "markdown",
   "id": "13d66eb4",
   "metadata": {},
   "source": [
    "We can do the same without creating a new `a.py` file."
   ]
  },
  {
   "cell_type": "code",
   "execution_count": 8,
   "id": "b9e920e0",
   "metadata": {},
   "outputs": [
    {
     "name": "stdout",
     "output_type": "stream",
     "text": [
      "BEGIN mymodule\r\n",
      "7\r\n",
      "END mymodule\r\n",
      "30\r\n"
     ]
    }
   ],
   "source": [
    "!python -c \"import mymodule; print(mymodule.add(10, 20))\""
   ]
  },
  {
   "cell_type": "markdown",
   "id": "fde4fee6",
   "metadata": {},
   "source": [
    "### The `__name__` magic variable"
   ]
  },
  {
   "cell_type": "code",
   "execution_count": 9,
   "id": "4725186c",
   "metadata": {},
   "outputs": [
    {
     "name": "stdout",
     "output_type": "stream",
     "text": [
      "Writing mymodule2.py\n"
     ]
    }
   ],
   "source": [
    "%%file mymodule2.py\n",
    "x = 2\n",
    "\n",
    "def add(a, b):\n",
    "    return a+b\n",
    "\n",
    "print(add(3, 4))\n",
    "print(__name__)"
   ]
  },
  {
   "cell_type": "code",
   "execution_count": 10,
   "id": "0814f0e2",
   "metadata": {},
   "outputs": [
    {
     "name": "stdout",
     "output_type": "stream",
     "text": [
      "7\r\n",
      "__main__\r\n"
     ]
    }
   ],
   "source": [
    "!python mymodule2.py"
   ]
  },
  {
   "cell_type": "code",
   "execution_count": 12,
   "id": "7fc34451",
   "metadata": {},
   "outputs": [
    {
     "name": "stdout",
     "output_type": "stream",
     "text": [
      "7\r\n",
      "mymodule2\r\n"
     ]
    }
   ],
   "source": [
    "!python -c \"import mymodule2\""
   ]
  },
  {
   "cell_type": "markdown",
   "id": "c0316077",
   "metadata": {},
   "source": [
    "When the file is executed as a script, the value of `__name__` is set to `\"__main__\"`.\n",
    "\n",
    "When the file is imported as a module, the value of `__name__` is set to the module name."
   ]
  },
  {
   "cell_type": "code",
   "execution_count": 15,
   "id": "3f7272af",
   "metadata": {},
   "outputs": [
    {
     "name": "stdout",
     "output_type": "stream",
     "text": [
      "Overwriting mymodule3.py\n"
     ]
    }
   ],
   "source": [
    "%%file mymodule3.py\n",
    "x = 2\n",
    "\n",
    "def add(a, b):\n",
    "    return a+b\n",
    "\n",
    "if __name__ == \"__main__\":\n",
    "    print(\"you are running this file as a script\")\n",
    "    print(add(3, 4))  \n",
    "else:\n",
    "    print(\"you are importing this file as a module\")\n",
    "    "
   ]
  },
  {
   "cell_type": "code",
   "execution_count": 16,
   "id": "eaf8791e",
   "metadata": {},
   "outputs": [
    {
     "name": "stdout",
     "output_type": "stream",
     "text": [
      "you are running this file as a script\r\n",
      "7\r\n"
     ]
    }
   ],
   "source": [
    "!python mymodule3.py"
   ]
  },
  {
   "cell_type": "code",
   "execution_count": 17,
   "id": "a36405a5",
   "metadata": {},
   "outputs": [
    {
     "name": "stdout",
     "output_type": "stream",
     "text": [
      "you are importing this file as a module\r\n"
     ]
    }
   ],
   "source": [
    "!python -c \"import mymodule3\""
   ]
  },
  {
   "cell_type": "code",
   "execution_count": 18,
   "id": "60a9f22e",
   "metadata": {},
   "outputs": [
    {
     "name": "stdout",
     "output_type": "stream",
     "text": [
      "Writing mymodule4.py\n"
     ]
    }
   ],
   "source": [
    "%%file mymodule4.py\n",
    "x = 2\n",
    "\n",
    "def add(a, b):\n",
    "    return a+b\n",
    "\n",
    "if __name__ == \"__main__\":\n",
    "    print(add(3, 4))  \n"
   ]
  },
  {
   "cell_type": "code",
   "execution_count": 19,
   "id": "815923ce",
   "metadata": {},
   "outputs": [
    {
     "name": "stdout",
     "output_type": "stream",
     "text": [
      "7\r\n"
     ]
    }
   ],
   "source": [
    "!python mymodule4.py"
   ]
  },
  {
   "cell_type": "code",
   "execution_count": 21,
   "id": "ff5ea523",
   "metadata": {},
   "outputs": [
    {
     "name": "stdout",
     "output_type": "stream",
     "text": [
      "30\r\n"
     ]
    }
   ],
   "source": [
    "!python -c \"import mymodule4; print(mymodule4.add(10, 20))\""
   ]
  },
  {
   "cell_type": "markdown",
   "id": "45f9f83a",
   "metadata": {},
   "source": [
    "#### Example: Square Module"
   ]
  },
  {
   "cell_type": "markdown",
   "id": "c8319b68",
   "metadata": {},
   "source": [
    "Let's write a square program which can also be used as a module."
   ]
  },
  {
   "cell_type": "code",
   "execution_count": 23,
   "id": "1dea83a3",
   "metadata": {},
   "outputs": [
    {
     "name": "stdout",
     "output_type": "stream",
     "text": [
      "Writing sq.py\n"
     ]
    }
   ],
   "source": [
    "%%file sq.py\n",
    "\n",
    "import sys\n",
    "\n",
    "def square(x):\n",
    "    return x*x\n",
    "\n",
    "def main():\n",
    "    n = int(sys.argv[1])\n",
    "    print(square(n))\n",
    "    \n",
    "if __name__ == \"__main__\":\n",
    "    main()"
   ]
  },
  {
   "cell_type": "code",
   "execution_count": 25,
   "id": "3608c94c",
   "metadata": {},
   "outputs": [
    {
     "name": "stdout",
     "output_type": "stream",
     "text": [
      "25\r\n"
     ]
    }
   ],
   "source": [
    "!python sq.py 5"
   ]
  },
  {
   "cell_type": "code",
   "execution_count": 26,
   "id": "89340d53",
   "metadata": {},
   "outputs": [
    {
     "name": "stdout",
     "output_type": "stream",
     "text": [
      "100\r\n"
     ]
    }
   ],
   "source": [
    "!python -c \"import sq; print(sq.square(10))\""
   ]
  },
  {
   "cell_type": "code",
   "execution_count": 27,
   "id": "d887efe6",
   "metadata": {},
   "outputs": [
    {
     "name": "stdout",
     "output_type": "stream",
     "text": [
      "Writing sum_of_squares.py\n"
     ]
    }
   ],
   "source": [
    "%%file sum_of_squares.py\n",
    "import sq\n",
    "print(sq.square(3) + sq.square(4))"
   ]
  },
  {
   "cell_type": "code",
   "execution_count": 28,
   "id": "d457c5f8",
   "metadata": {},
   "outputs": [
    {
     "name": "stdout",
     "output_type": "stream",
     "text": [
      "25\r\n"
     ]
    }
   ],
   "source": [
    "!python sum_of_squares.py"
   ]
  },
  {
   "cell_type": "markdown",
   "id": "8ca04ca6",
   "metadata": {},
   "source": [
    "### Docstrings"
   ]
  },
  {
   "cell_type": "code",
   "execution_count": 29,
   "id": "18c3c85b",
   "metadata": {},
   "outputs": [
    {
     "name": "stdout",
     "output_type": "stream",
     "text": [
      "Help on built-in function listdir in os:\r\n",
      "\r\n",
      "o\bos\bs.\b.l\bli\bis\bst\btd\bdi\bir\br = listdir(...)\r\n",
      "    listdir(path) -> list_of_strings\r\n",
      "    \r\n",
      "    Return a list containing the names of the entries in the directory.\r\n",
      "    \r\n",
      "        path: path of directory to list\r\n",
      "    \r\n",
      "    The list is in arbitrary order.  It does not include the special\r\n",
      "    entries '.' and '..' even if they are present in the directory.\r\n",
      "\r\n"
     ]
    }
   ],
   "source": [
    "!pydoc os.listdir"
   ]
  },
  {
   "cell_type": "code",
   "execution_count": 30,
   "id": "0f9d502b",
   "metadata": {},
   "outputs": [
    {
     "name": "stdout",
     "output_type": "stream",
     "text": [
      "Help on built-in function listdir in os:\n",
      "\n",
      "os.listdir = listdir(path=None)\n",
      "    Return a list containing the names of the files in the directory.\n",
      "    \n",
      "    path can be specified as either str, bytes, or a path-like object.  If path is bytes,\n",
      "      the filenames returned will also be bytes; in all other circumstances\n",
      "      the filenames returned will be str.\n",
      "    If path is None, uses the path='.'.\n",
      "    On some platforms, path may also be specified as an open file descriptor;\\\n",
      "      the file descriptor must refer to a directory.\n",
      "      If this functionality is unavailable, using it raises NotImplementedError.\n",
      "    \n",
      "    The list is in arbitrary order.  It does not include the special\n",
      "    entries '.' and '..' even if they are present in the directory.\n",
      "\n"
     ]
    }
   ],
   "source": [
    "help(\"os.listdir\")"
   ]
  },
  {
   "cell_type": "code",
   "execution_count": 32,
   "id": "01210b83",
   "metadata": {},
   "outputs": [
    {
     "name": "stdout",
     "output_type": "stream",
     "text": [
      "Help on module sq:\r\n",
      "\r\n",
      "N\bNA\bAM\bME\bE\r\n",
      "    sq\r\n",
      "\r\n",
      "F\bFI\bIL\bLE\bE\r\n",
      "    /Users/anand/trainings/2022/zeomega-python/sq.py\r\n",
      "\r\n",
      "F\bFU\bUN\bNC\bCT\bTI\bIO\bON\bNS\bS\r\n",
      "    m\bma\bai\bin\bn()\r\n",
      "    \r\n",
      "    s\bsq\bqu\bua\bar\bre\be(x)\r\n",
      "\r\n",
      "\r\n"
     ]
    }
   ],
   "source": [
    "!pydoc sq"
   ]
  },
  {
   "cell_type": "code",
   "execution_count": 33,
   "id": "36c813a0",
   "metadata": {},
   "outputs": [
    {
     "name": "stdout",
     "output_type": "stream",
     "text": [
      "Help on function square in sq:\r\n",
      "\r\n",
      "s\bsq\bq.\b.s\bsq\bqu\bua\bar\bre\be = square(x)\r\n",
      "\r\n"
     ]
    }
   ],
   "source": [
    "!pydoc sq.square"
   ]
  },
  {
   "cell_type": "code",
   "execution_count": 36,
   "id": "16b7b1e2",
   "metadata": {},
   "outputs": [
    {
     "name": "stdout",
     "output_type": "stream",
     "text": [
      "Overwriting sq.py\n"
     ]
    }
   ],
   "source": [
    "%%file sq.py\n",
    "\"\"\"\n",
    "The sq module.\n",
    "\n",
    "Provides the square function.\n",
    "\n",
    "USAGE:\n",
    "\n",
    "    $ python sq.py 5 \n",
    "    25\n",
    "\"\"\"\n",
    "import sys\n",
    "\n",
    "def square(x):\n",
    "    \"\"\"Computes the square of a numnber.\n",
    "    \n",
    "        >>> square(4)\n",
    "        16\n",
    "    \"\"\"\n",
    "    return x*x\n",
    "\n",
    "def main():\n",
    "    n = int(sys.argv[1])\n",
    "    print(square(n))\n",
    "    \n",
    "if __name__ == \"__main__\":\n",
    "    main()"
   ]
  },
  {
   "cell_type": "code",
   "execution_count": 38,
   "id": "aae8a562",
   "metadata": {},
   "outputs": [
    {
     "name": "stdout",
     "output_type": "stream",
     "text": [
      "Help on module sq:\r\n",
      "\r\n",
      "N\bNA\bAM\bME\bE\r\n",
      "    sq - The sq module.\r\n",
      "\r\n",
      "F\bFI\bIL\bLE\bE\r\n",
      "    /Users/anand/trainings/2022/zeomega-python/sq.py\r\n",
      "\r\n",
      "D\bDE\bES\bSC\bCR\bRI\bIP\bPT\bTI\bIO\bON\bN\r\n",
      "    Provides the square function.\r\n",
      "    \r\n",
      "    USAGE:\r\n",
      "    \r\n",
      "        $ python sq.py 5 \r\n",
      "        25\r\n",
      "\r\n",
      "F\bFU\bUN\bNC\bCT\bTI\bIO\bON\bNS\bS\r\n",
      "    m\bma\bai\bin\bn()\r\n",
      "    \r\n",
      "    s\bsq\bqu\bua\bar\bre\be(x)\r\n",
      "        Computes the square of a numnber.\r\n",
      "        \r\n",
      "        >>> square(4)\r\n",
      "        16\r\n",
      "\r\n",
      "\r\n"
     ]
    }
   ],
   "source": [
    "!pydoc sq#"
   ]
  },
  {
   "cell_type": "markdown",
   "id": "74884203",
   "metadata": {},
   "source": [
    "**Problem:** Implememnt a `cube` module."
   ]
  },
  {
   "cell_type": "markdown",
   "id": "13f972bd",
   "metadata": {},
   "source": [
    "## Testing Python Programs"
   ]
  },
  {
   "cell_type": "code",
   "execution_count": 42,
   "id": "83327e6d",
   "metadata": {},
   "outputs": [],
   "source": [
    "def square(x):\n",
    "    return x*x"
   ]
  },
  {
   "cell_type": "code",
   "execution_count": 43,
   "id": "a199ec46",
   "metadata": {},
   "outputs": [
    {
     "name": "stdout",
     "output_type": "stream",
     "text": [
      "17\n"
     ]
    }
   ],
   "source": [
    "print(square(4))"
   ]
  },
  {
   "cell_type": "code",
   "execution_count": 45,
   "id": "3fed67c8",
   "metadata": {},
   "outputs": [
    {
     "name": "stdout",
     "output_type": "stream",
     "text": [
      "FAIL\n"
     ]
    }
   ],
   "source": [
    "def square(x):\n",
    "    return x*x+1\n",
    "\n",
    "if square(4) == 16:\n",
    "    print(\"PASS\")\n",
    "else:\n",
    "    print(\"FAIL\")"
   ]
  },
  {
   "cell_type": "code",
   "execution_count": 48,
   "id": "79994a45",
   "metadata": {},
   "outputs": [],
   "source": [
    "def square(x):\n",
    "    return x*x+1\n",
    "\n",
    "def test_square():\n",
    "    assert square(0) == 0\n",
    "    assert square(4) == 16    "
   ]
  },
  {
   "cell_type": "code",
   "execution_count": 49,
   "id": "0de3e588",
   "metadata": {},
   "outputs": [
    {
     "ename": "AssertionError",
     "evalue": "",
     "output_type": "error",
     "traceback": [
      "\u001b[0;31m---------------------------------------------------------------------------\u001b[0m",
      "\u001b[0;31mAssertionError\u001b[0m                            Traceback (most recent call last)",
      "Input \u001b[0;32mIn [49]\u001b[0m, in \u001b[0;36m<module>\u001b[0;34m\u001b[0m\n\u001b[0;32m----> 1\u001b[0m \u001b[43mtest_square\u001b[49m\u001b[43m(\u001b[49m\u001b[43m)\u001b[49m\n",
      "Input \u001b[0;32mIn [48]\u001b[0m, in \u001b[0;36mtest_square\u001b[0;34m()\u001b[0m\n\u001b[1;32m      4\u001b[0m \u001b[38;5;28;01mdef\u001b[39;00m \u001b[38;5;21mtest_square\u001b[39m():\n\u001b[0;32m----> 5\u001b[0m     \u001b[38;5;28;01massert\u001b[39;00m square(\u001b[38;5;241m0\u001b[39m) \u001b[38;5;241m==\u001b[39m \u001b[38;5;241m0\u001b[39m\n\u001b[1;32m      6\u001b[0m     \u001b[38;5;28;01massert\u001b[39;00m square(\u001b[38;5;241m4\u001b[39m) \u001b[38;5;241m==\u001b[39m \u001b[38;5;241m16\u001b[39m\n",
      "\u001b[0;31mAssertionError\u001b[0m: "
     ]
    }
   ],
   "source": [
    "test_square()"
   ]
  },
  {
   "cell_type": "code",
   "execution_count": 59,
   "id": "5b762050",
   "metadata": {},
   "outputs": [
    {
     "name": "stdout",
     "output_type": "stream",
     "text": [
      "Overwriting sq2.py\n"
     ]
    }
   ],
   "source": [
    "%%file sq2.py\n",
    "\n",
    "def square(x):\n",
    "    return x*x\n",
    "\n",
    "def sum_of_squares(x, y):\n",
    "    return square(x) + square(y)\n",
    "\n",
    "def test_square():\n",
    "    assert square(0) == 0\n",
    "    assert square(4) == 16    \n",
    "    \n",
    "def test_sum_of_squares():\n",
    "    assert sum_of_squares(0, 0) == 0\n",
    "    assert sum_of_squares(3, 4) == 24 # fail"
   ]
  },
  {
   "cell_type": "code",
   "execution_count": 60,
   "id": "3e12432c",
   "metadata": {},
   "outputs": [
    {
     "name": "stdout",
     "output_type": "stream",
     "text": [
      "\u001b[1m============================= test session starts ==============================\u001b[0m\n",
      "platform darwin -- Python 3.10.2, pytest-7.0.0, pluggy-1.0.0\n",
      "rootdir: /Users/anand/trainings/2022/zeomega-python\n",
      "plugins: anyio-3.5.0\n",
      "collected 2 items                                                              \u001b[0m\n",
      "\n",
      "sq2.py \u001b[32m.\u001b[0m\u001b[31mF\u001b[0m\u001b[31m                                                                [100%]\u001b[0m\n",
      "\n",
      "=================================== FAILURES ===================================\n",
      "\u001b[31m\u001b[1m_____________________________ test_sum_of_squares ______________________________\u001b[0m\n",
      "\n",
      "    \u001b[94mdef\u001b[39;49;00m \u001b[92mtest_sum_of_squares\u001b[39;49;00m():\n",
      "        \u001b[94massert\u001b[39;49;00m sum_of_squares(\u001b[94m0\u001b[39;49;00m, \u001b[94m0\u001b[39;49;00m) == \u001b[94m0\u001b[39;49;00m\n",
      ">       \u001b[94massert\u001b[39;49;00m sum_of_squares(\u001b[94m3\u001b[39;49;00m, \u001b[94m4\u001b[39;49;00m) == \u001b[94m24\u001b[39;49;00m \u001b[90m# fail\u001b[39;49;00m\n",
      "\u001b[1m\u001b[31mE       assert 25 == 24\u001b[0m\n",
      "\u001b[1m\u001b[31mE        +  where 25 = sum_of_squares(3, 4)\u001b[0m\n",
      "\n",
      "\u001b[1m\u001b[31msq2.py\u001b[0m:14: AssertionError\n",
      "=========================== short test summary info ============================\n",
      "FAILED sq2.py::test_sum_of_squares - assert 25 == 24\n",
      "\u001b[31m========================= \u001b[31m\u001b[1m1 failed\u001b[0m, \u001b[32m1 passed\u001b[0m\u001b[31m in 0.17s\u001b[0m\u001b[31m ==========================\u001b[0m\n"
     ]
    }
   ],
   "source": [
    "!py.test sq2.py"
   ]
  },
  {
   "cell_type": "code",
   "execution_count": 61,
   "id": "2825115d",
   "metadata": {},
   "outputs": [
    {
     "name": "stdout",
     "output_type": "stream",
     "text": [
      "\u001b[1m============================= test session starts ==============================\u001b[0m\n",
      "platform darwin -- Python 3.10.2, pytest-7.0.0, pluggy-1.0.0 -- /Users/anand/.venv/python310/bin/python\n",
      "cachedir: .pytest_cache\n",
      "rootdir: /Users/anand/trainings/2022/zeomega-python\n",
      "plugins: anyio-3.5.0\n",
      "collected 2 items                                                              \u001b[0m\n",
      "\n",
      "sq2.py::test_square \u001b[32mPASSED\u001b[0m\u001b[32m                                               [ 50%]\u001b[0m\n",
      "sq2.py::test_sum_of_squares \u001b[31mFAILED\u001b[0m\u001b[31m                                       [100%]\u001b[0m\n",
      "\n",
      "=================================== FAILURES ===================================\n",
      "\u001b[31m\u001b[1m_____________________________ test_sum_of_squares ______________________________\u001b[0m\n",
      "\n",
      "    \u001b[94mdef\u001b[39;49;00m \u001b[92mtest_sum_of_squares\u001b[39;49;00m():\n",
      "        \u001b[94massert\u001b[39;49;00m sum_of_squares(\u001b[94m0\u001b[39;49;00m, \u001b[94m0\u001b[39;49;00m) == \u001b[94m0\u001b[39;49;00m\n",
      ">       \u001b[94massert\u001b[39;49;00m sum_of_squares(\u001b[94m3\u001b[39;49;00m, \u001b[94m4\u001b[39;49;00m) == \u001b[94m24\u001b[39;49;00m \u001b[90m# fail\u001b[39;49;00m\n",
      "\u001b[1m\u001b[31mE       assert 25 == 24\u001b[0m\n",
      "\u001b[1m\u001b[31mE         +25\u001b[0m\n",
      "\u001b[1m\u001b[31mE         -24\u001b[0m\n",
      "\n",
      "\u001b[1m\u001b[31msq2.py\u001b[0m:14: AssertionError\n",
      "=========================== short test summary info ============================\n",
      "FAILED sq2.py::test_sum_of_squares - assert 25 == 24\n",
      "\u001b[31m========================= \u001b[31m\u001b[1m1 failed\u001b[0m, \u001b[32m1 passed\u001b[0m\u001b[31m in 0.21s\u001b[0m\u001b[31m ==========================\u001b[0m\n"
     ]
    }
   ],
   "source": [
    "!py.test sq2.py -v"
   ]
  },
  {
   "cell_type": "markdown",
   "id": "4dd47cd0",
   "metadata": {},
   "source": [
    "Let's try another example."
   ]
  },
  {
   "cell_type": "code",
   "execution_count": 66,
   "id": "245b73d9",
   "metadata": {},
   "outputs": [
    {
     "name": "stdout",
     "output_type": "stream",
     "text": [
      "Overwriting lastword.py\n"
     ]
    }
   ],
   "source": [
    "%%file lastword.py\n",
    "def get_last_word(sentence):\n",
    "    if not sentence:\n",
    "        return \"\"\n",
    "    return sentence.split()[-1]\n",
    "\n",
    "def test_get_last_word():\n",
    "    assert get_last_word(\"\") == \"\"\n",
    "    assert get_last_word(\"one two three\") == 'three'"
   ]
  },
  {
   "cell_type": "code",
   "execution_count": 67,
   "id": "19c8b316",
   "metadata": {},
   "outputs": [
    {
     "name": "stdout",
     "output_type": "stream",
     "text": [
      "\u001b[1m============================= test session starts ==============================\u001b[0m\n",
      "platform darwin -- Python 3.10.2, pytest-7.0.0, pluggy-1.0.0\n",
      "rootdir: /Users/anand/trainings/2022/zeomega-python\n",
      "plugins: anyio-3.5.0\n",
      "collected 1 item                                                               \u001b[0m\n",
      "\n",
      "lastword.py \u001b[32m.\u001b[0m\u001b[32m                                                            [100%]\u001b[0m\n",
      "\n",
      "\u001b[32m============================== \u001b[32m\u001b[1m1 passed\u001b[0m\u001b[32m in 0.01s\u001b[0m\u001b[32m ===============================\u001b[0m\n"
     ]
    }
   ],
   "source": [
    "!py.test lastword.py"
   ]
  },
  {
   "cell_type": "markdown",
   "id": "51166271",
   "metadata": {},
   "source": [
    "Another common approach people follow is to separate source and test files."
   ]
  },
  {
   "cell_type": "code",
   "execution_count": 68,
   "id": "9431cc54",
   "metadata": {},
   "outputs": [
    {
     "name": "stdout",
     "output_type": "stream",
     "text": [
      "Overwriting sq2.py\n"
     ]
    }
   ],
   "source": [
    "%%file sq2.py\n",
    "\n",
    "def square(x):\n",
    "    return x*x\n",
    "\n",
    "def sum_of_squares(x, y):\n",
    "    return square(x) + square(y)"
   ]
  },
  {
   "cell_type": "code",
   "execution_count": 72,
   "id": "acc95f6f",
   "metadata": {},
   "outputs": [
    {
     "name": "stdout",
     "output_type": "stream",
     "text": [
      "Overwriting test_sq2.py\n"
     ]
    }
   ],
   "source": [
    "%%file test_sq2.py\n",
    "from sq2 import square, sum_of_squares\n",
    "\n",
    "def test_square():\n",
    "    assert square(0) == 0\n",
    "    assert square(4) == 16    \n",
    "    \n",
    "def test_sum_of_squares():\n",
    "    assert sum_of_squares(0, 0) == 0\n",
    "    assert sum_of_squares(3, 4) == 25"
   ]
  },
  {
   "cell_type": "code",
   "execution_count": 73,
   "id": "960046bd",
   "metadata": {},
   "outputs": [
    {
     "name": "stdout",
     "output_type": "stream",
     "text": [
      "\u001b[1m============================= test session starts ==============================\u001b[0m\n",
      "platform darwin -- Python 3.10.2, pytest-7.0.0, pluggy-1.0.0 -- /Users/anand/.venv/python310/bin/python\n",
      "cachedir: .pytest_cache\n",
      "rootdir: /Users/anand/trainings/2022/zeomega-python\n",
      "plugins: anyio-3.5.0\n",
      "collected 2 items                                                              \u001b[0m\n",
      "\n",
      "test_sq2.py::test_square \u001b[32mPASSED\u001b[0m\u001b[32m                                          [ 50%]\u001b[0m\n",
      "test_sq2.py::test_sum_of_squares \u001b[32mPASSED\u001b[0m\u001b[32m                                  [100%]\u001b[0m\n",
      "\n",
      "\u001b[32m============================== \u001b[32m\u001b[1m2 passed\u001b[0m\u001b[32m in 0.02s\u001b[0m\u001b[32m ===============================\u001b[0m\n"
     ]
    }
   ],
   "source": [
    "!pytest test_sq2.py -v"
   ]
  },
  {
   "cell_type": "code",
   "execution_count": 74,
   "id": "8e37a6d6",
   "metadata": {},
   "outputs": [
    {
     "name": "stdout",
     "output_type": "stream",
     "text": [
      "\u001b[1m============================= test session starts ==============================\u001b[0m\r\n",
      "platform darwin -- Python 3.10.2, pytest-7.0.0, pluggy-1.0.0 -- /Users/anand/.venv/python310/bin/python\r\n",
      "cachedir: .pytest_cache\r\n",
      "rootdir: /Users/anand/trainings/2022/zeomega-python\r\n",
      "plugins: anyio-3.5.0\r\n",
      "\u001b[1mcollecting ... \u001b[0m\u001b[1m\r",
      "collected 2 items                                                              \u001b[0m\r\n",
      "\r\n",
      "test_sq2.py::test_square \u001b[32mPASSED\u001b[0m\u001b[32m                                          [ 50%]\u001b[0m\r\n",
      "test_sq2.py::test_sum_of_squares \u001b[32mPASSED\u001b[0m\u001b[32m                                  [100%]\u001b[0m\r\n",
      "\r\n",
      "\u001b[32m============================== \u001b[32m\u001b[1m2 passed\u001b[0m\u001b[32m in 0.03s\u001b[0m\u001b[32m ===============================\u001b[0m\r\n"
     ]
    }
   ],
   "source": [
    "!pytest -v"
   ]
  },
  {
   "cell_type": "markdown",
   "id": "38a68c69",
   "metadata": {},
   "source": [
    "**Problem:** Write a test case for your `cube` module"
   ]
  },
  {
   "cell_type": "markdown",
   "id": "6d5203e8",
   "metadata": {},
   "source": [
    "## String Formatting"
   ]
  },
  {
   "cell_type": "markdown",
   "id": "ba4b2776",
   "metadata": {},
   "source": [
    "There are three different ways to do string formating in Python."
   ]
  },
  {
   "cell_type": "markdown",
   "id": "ab023d2a",
   "metadata": {},
   "source": [
    "1. f-strings\n",
    "2. The `format` method\n",
    "3. The legacy string format using `%`"
   ]
  },
  {
   "cell_type": "markdown",
   "id": "c0c54984",
   "metadata": {},
   "source": [
    "### The f-strings"
   ]
  },
  {
   "cell_type": "code",
   "execution_count": 75,
   "id": "5a401832",
   "metadata": {},
   "outputs": [
    {
     "name": "stdout",
     "output_type": "stream",
     "text": [
      "0: Python\n",
      "1: Python\n",
      "2: Python\n",
      "3: Python\n",
      "4: Python\n"
     ]
    }
   ],
   "source": [
    "name = \"Python\"\n",
    "for i in range(5):\n",
    "    print(str(i) + \": \" + name)"
   ]
  },
  {
   "cell_type": "code",
   "execution_count": 76,
   "id": "4a7c1d4d",
   "metadata": {},
   "outputs": [
    {
     "name": "stdout",
     "output_type": "stream",
     "text": [
      "0: Python\n",
      "1: Python\n",
      "2: Python\n",
      "3: Python\n",
      "4: Python\n"
     ]
    }
   ],
   "source": [
    "name = \"Python\"\n",
    "for i in range(5):\n",
    "    print(f\"{i}: {name}\")"
   ]
  },
  {
   "cell_type": "code",
   "execution_count": 77,
   "id": "3e2177fa",
   "metadata": {},
   "outputs": [
    {
     "name": "stdout",
     "output_type": "stream",
     "text": [
      "1: Python\n",
      "2: Python\n",
      "3: Python\n",
      "4: Python\n",
      "5: Python\n"
     ]
    }
   ],
   "source": [
    "name = \"Python\"\n",
    "for i in range(5):\n",
    "    print(f\"{i+1}: {name}\")"
   ]
  },
  {
   "cell_type": "markdown",
   "id": "d27766c2",
   "metadata": {},
   "source": [
    "### The `format` method"
   ]
  },
  {
   "cell_type": "code",
   "execution_count": 79,
   "id": "533cb753",
   "metadata": {},
   "outputs": [
    {
     "name": "stdout",
     "output_type": "stream",
     "text": [
      "1: Python\n",
      "2: Python\n",
      "3: Python\n",
      "4: Python\n",
      "5: Python\n"
     ]
    }
   ],
   "source": [
    "name = \"Python\"\n",
    "for i in range(5):\n",
    "    print(\"{i}: {name}\".format(i=i+1, name=name))"
   ]
  },
  {
   "cell_type": "code",
   "execution_count": 80,
   "id": "3ebe3c16",
   "metadata": {},
   "outputs": [],
   "source": [
    "i = 0\n",
    "name = \"Python\""
   ]
  },
  {
   "cell_type": "code",
   "execution_count": 83,
   "id": "d567fb8b",
   "metadata": {},
   "outputs": [
    {
     "name": "stdout",
     "output_type": "stream",
     "text": [
      "1: Python\n"
     ]
    }
   ],
   "source": [
    "# passing arguments by name\n",
    "print(\"{i}: {name}\".format(i=i+1, name=name))"
   ]
  },
  {
   "cell_type": "code",
   "execution_count": 82,
   "id": "a517f14f",
   "metadata": {},
   "outputs": [
    {
     "name": "stdout",
     "output_type": "stream",
     "text": [
      "0: Python\n"
     ]
    }
   ],
   "source": [
    "# passing arguments by position\n",
    "print(\"{}: {}\".format(i, name))"
   ]
  },
  {
   "cell_type": "code",
   "execution_count": 84,
   "id": "d768ca25",
   "metadata": {},
   "outputs": [
    {
     "name": "stdout",
     "output_type": "stream",
     "text": [
      "0: Python\n"
     ]
    }
   ],
   "source": [
    "print(\"{0}: {1}\".format(i, name))"
   ]
  },
  {
   "cell_type": "code",
   "execution_count": 85,
   "id": "4874c9be",
   "metadata": {},
   "outputs": [],
   "source": [
    "template = \"\"\"\n",
    "Hello {name},\n",
    "\n",
    "Welcome to the Advanced Python Course. \n",
    "\n",
    "Your username is {username}.\n",
    "\n",
    "\"\"\""
   ]
  },
  {
   "cell_type": "code",
   "execution_count": 87,
   "id": "1ba663e2",
   "metadata": {},
   "outputs": [
    {
     "name": "stdout",
     "output_type": "stream",
     "text": [
      "\n",
      "Hello Anand,\n",
      "\n",
      "Welcome to the Advanced Python Course. \n",
      "\n",
      "Your username is anand.\n",
      "\n",
      "\n"
     ]
    }
   ],
   "source": [
    "msg = template.format(name=\"Anand\", username=\"anand\")\n",
    "print(msg)"
   ]
  },
  {
   "cell_type": "markdown",
   "id": "8cf85bcf",
   "metadata": {},
   "source": [
    "### The legacy string format using `%`"
   ]
  },
  {
   "cell_type": "code",
   "execution_count": 89,
   "id": "1643a220",
   "metadata": {},
   "outputs": [
    {
     "name": "stdout",
     "output_type": "stream",
     "text": [
      "0: Python\n"
     ]
    }
   ],
   "source": [
    "i = 0\n",
    "name = \"Python\"\n",
    "msg = \"%d: %s\" % (i, name)\n",
    "print(msg)"
   ]
  },
  {
   "cell_type": "code",
   "execution_count": 91,
   "id": "5f59dfb0",
   "metadata": {},
   "outputs": [
    {
     "name": "stdout",
     "output_type": "stream",
     "text": [
      "0: Python\n"
     ]
    }
   ],
   "source": [
    "i = 0\n",
    "name = \"Python\"\n",
    "msg = \"%(index)d: %(name)s\" % {\"index\": i, \"name\": name}\n",
    "print(msg)"
   ]
  },
  {
   "cell_type": "markdown",
   "id": "1b7c7bd4",
   "metadata": {},
   "source": [
    "The string formatting is very handy. Let's look at an example."
   ]
  },
  {
   "cell_type": "code",
   "execution_count": 93,
   "id": "5d27e5be",
   "metadata": {},
   "outputs": [],
   "source": [
    "def make_link(url):\n",
    "    return f'<a href=\"{url}\">{url}</a>'"
   ]
  },
  {
   "cell_type": "code",
   "execution_count": 94,
   "id": "e4ac636b",
   "metadata": {},
   "outputs": [],
   "source": [
    "link = make_link(\"https://google.com/\")"
   ]
  },
  {
   "cell_type": "code",
   "execution_count": 95,
   "id": "a7b5d283",
   "metadata": {},
   "outputs": [
    {
     "name": "stdout",
     "output_type": "stream",
     "text": [
      "<a href=\"https://google.com/\">https://google.com/</a>\n"
     ]
    }
   ],
   "source": [
    "print(link)"
   ]
  },
  {
   "cell_type": "markdown",
   "id": "b84df975",
   "metadata": {},
   "source": [
    "## Working with Files"
   ]
  },
  {
   "cell_type": "code",
   "execution_count": 96,
   "id": "6012952a",
   "metadata": {},
   "outputs": [
    {
     "name": "stdout",
     "output_type": "stream",
     "text": [
      "Writing three.txt\n"
     ]
    }
   ],
   "source": [
    "%%file three.txt\n",
    "one\n",
    "two\n",
    "three"
   ]
  },
  {
   "cell_type": "code",
   "execution_count": 100,
   "id": "a2538f46",
   "metadata": {},
   "outputs": [],
   "source": [
    "f = open(\"three.txt\")"
   ]
  },
  {
   "cell_type": "code",
   "execution_count": 101,
   "id": "1a1f0ccf",
   "metadata": {},
   "outputs": [
    {
     "data": {
      "text/plain": [
       "'one\\ntwo\\nthree\\n'"
      ]
     },
     "execution_count": 101,
     "metadata": {},
     "output_type": "execute_result"
    }
   ],
   "source": [
    "f.read() # all the contents of the file"
   ]
  },
  {
   "cell_type": "code",
   "execution_count": 102,
   "id": "547a1718",
   "metadata": {},
   "outputs": [
    {
     "data": {
      "text/plain": [
       "''"
      ]
     },
     "execution_count": 102,
     "metadata": {},
     "output_type": "execute_result"
    }
   ],
   "source": [
    "f.read() "
   ]
  },
  {
   "cell_type": "code",
   "execution_count": 103,
   "id": "1b2379f6",
   "metadata": {},
   "outputs": [
    {
     "name": "stdout",
     "output_type": "stream",
     "text": [
      "one\n",
      "two\n",
      "three\n",
      "\n"
     ]
    }
   ],
   "source": [
    "print(open(\"three.txt\").read())"
   ]
  },
  {
   "cell_type": "markdown",
   "id": "ccccba8e",
   "metadata": {},
   "source": [
    "The other common way to read a file is by reading lines."
   ]
  },
  {
   "cell_type": "code",
   "execution_count": 104,
   "id": "baec3698",
   "metadata": {},
   "outputs": [
    {
     "data": {
      "text/plain": [
       "['one\\n', 'two\\n', 'three\\n']"
      ]
     },
     "execution_count": 104,
     "metadata": {},
     "output_type": "execute_result"
    }
   ],
   "source": [
    "open(\"three.txt\").readlines()"
   ]
  },
  {
   "cell_type": "code",
   "execution_count": 105,
   "id": "ea0b2559",
   "metadata": {},
   "outputs": [
    {
     "name": "stdout",
     "output_type": "stream",
     "text": [
      "one\n",
      "\n",
      "two\n",
      "\n",
      "three\n",
      "\n"
     ]
    }
   ],
   "source": [
    "for line in open(\"three.txt\").readlines():\n",
    "    print(line)"
   ]
  },
  {
   "cell_type": "markdown",
   "id": "5f951d82",
   "metadata": {},
   "source": [
    "There is a new-line character in each line and print is adding one more. We need stop one of these."
   ]
  },
  {
   "cell_type": "code",
   "execution_count": 106,
   "id": "8b0e8e52",
   "metadata": {},
   "outputs": [
    {
     "name": "stdout",
     "output_type": "stream",
     "text": [
      "one\n",
      "two\n",
      "three\n"
     ]
    }
   ],
   "source": [
    "for line in open(\"three.txt\").readlines():\n",
    "    print(line, end=\"\") # ask print to not add a new line"
   ]
  },
  {
   "cell_type": "code",
   "execution_count": 107,
   "id": "374d0b5f",
   "metadata": {},
   "outputs": [
    {
     "name": "stdout",
     "output_type": "stream",
     "text": [
      "one\n",
      "two\n",
      "three\n"
     ]
    }
   ],
   "source": [
    "for line in open(\"three.txt\").readlines():\n",
    "    print(line.strip(\"\\n\")) # remove the newline char from each line"
   ]
  },
  {
   "cell_type": "code",
   "execution_count": 175,
   "id": "c366186e",
   "metadata": {},
   "outputs": [
    {
     "name": "stdout",
     "output_type": "stream",
     "text": [
      "one\n",
      "two\n",
      "three\n"
     ]
    }
   ],
   "source": [
    "# we can just loop over the file object, which goes over the lines \n",
    "for line in open(\"three.txt\"):\n",
    "    print(line.strip(\"\\n\")) # remove the newline char from each line"
   ]
  },
  {
   "cell_type": "markdown",
   "id": "e6d99348",
   "metadata": {},
   "source": [
    "**Problem:** Write a program `cat.py` that takes a filename as command-line argument and prints all the contents of that file.\n",
    "\n",
    "```\n",
    "$ python cat.py three.txt\n",
    "one\n",
    "two\n",
    "three\n",
    "```"
   ]
  },
  {
   "cell_type": "markdown",
   "id": "445926b6",
   "metadata": {},
   "source": [
    "#### Example: word count"
   ]
  },
  {
   "cell_type": "markdown",
   "id": "10f2c3f1",
   "metadata": {},
   "source": [
    "Unix has a word count program, wc."
   ]
  },
  {
   "cell_type": "code",
   "execution_count": 108,
   "id": "1d9f971c",
   "metadata": {},
   "outputs": [
    {
     "name": "stdout",
     "output_type": "stream",
     "text": [
      "Writing numbers.txt\n"
     ]
    }
   ],
   "source": [
    "%%file numbers.txt\n",
    "1 one\n",
    "2 two\n",
    "3 three\n",
    "4 four\n",
    "5 five"
   ]
  },
  {
   "cell_type": "code",
   "execution_count": 109,
   "id": "ba1df471",
   "metadata": {},
   "outputs": [
    {
     "name": "stdout",
     "output_type": "stream",
     "text": [
      "       5      10      34 numbers.txt\r\n"
     ]
    }
   ],
   "source": [
    "!wc numbers.txt"
   ]
  },
  {
   "cell_type": "markdown",
   "id": "29ffe203",
   "metadata": {},
   "source": [
    "What does it take to implement this in Python?"
   ]
  },
  {
   "cell_type": "code",
   "execution_count": 117,
   "id": "fea65d84",
   "metadata": {},
   "outputs": [
    {
     "name": "stdout",
     "output_type": "stream",
     "text": [
      "Overwriting wc.py\n"
     ]
    }
   ],
   "source": [
    "%%file wc.py\n",
    "\"\"\"Implements the wc command of unix.\n",
    "\n",
    "Prints the line count, wordcount, char count and the filename.\n",
    "\n",
    "USAGE:\n",
    "    python wc.py filename\n",
    "\"\"\"\n",
    "import sys\n",
    "\n",
    "def linecount(f):\n",
    "    return len(open(f).readlines())\n",
    "\n",
    "def wordcount(f):\n",
    "    return len(open(f).read().split())\n",
    "\n",
    "def charcount(f):\n",
    "    return len(open(f).read())\n",
    "\n",
    "def main():\n",
    "    f = sys.argv[1]\n",
    "    print(linecount(f), wordcount(f), charcount(f), f)\n",
    "    \n",
    "if __name__ == \"__main__\":\n",
    "    main()"
   ]
  },
  {
   "cell_type": "code",
   "execution_count": 118,
   "id": "5436f64f",
   "metadata": {},
   "outputs": [
    {
     "name": "stdout",
     "output_type": "stream",
     "text": [
      "5 10 34 numbers.txt\r\n"
     ]
    }
   ],
   "source": [
    "!python wc.py numbers.txt"
   ]
  },
  {
   "cell_type": "markdown",
   "id": "8746fc90",
   "metadata": {},
   "source": [
    "**Problem:** Write a program `reverse_lines.py` that prints the lines in a file in the reverse order. The last line will be printed at the beginning etc.\n",
    "\n",
    "```\n",
    "$ python reverse-lines.py number.txt\n",
    "5 five\n",
    "4 four\n",
    "3 three\n",
    "2 two\n",
    "1 one\n",
    "```"
   ]
  },
  {
   "cell_type": "markdown",
   "id": "f81aaf51",
   "metadata": {},
   "source": [
    "**Problem:** Write a program reverse-words.py that prints words in each line in reverse order.\n",
    "\n",
    "```\n",
    "$ python reverse-words.py numbers.txt\n",
    "one 1\n",
    "two 2\n",
    "three 3\n",
    "four 4\n",
    "five 5\n",
    "```"
   ]
  },
  {
   "cell_type": "code",
   "execution_count": 119,
   "id": "59ed4d98",
   "metadata": {},
   "outputs": [
    {
     "name": "stdout",
     "output_type": "stream",
     "text": [
      "Writing five.txt\n"
     ]
    }
   ],
   "source": [
    "%%file five.txt\n",
    "five\n",
    "five four\n",
    "five four three\n",
    "five four three two\n",
    "five four three two one\n",
    "zero"
   ]
  },
  {
   "cell_type": "markdown",
   "id": "3e74eeef",
   "metadata": {},
   "source": [
    "```\n",
    "$ python reverse-words.py numbers.txt\n",
    "five\n",
    "four five\n",
    "three four five\n",
    "two three four five\n",
    "one two three four five\n",
    "zero\n",
    "```"
   ]
  },
  {
   "cell_type": "markdown",
   "id": "2518e532",
   "metadata": {},
   "source": [
    "#### Working with binary files"
   ]
  },
  {
   "cell_type": "code",
   "execution_count": 121,
   "id": "ea60ec9f",
   "metadata": {},
   "outputs": [
    {
     "data": {
      "text/plain": [
       "<_io.TextIOWrapper name='numbers.txt' mode='r' encoding='UTF-8'>"
      ]
     },
     "execution_count": 121,
     "metadata": {},
     "output_type": "execute_result"
    }
   ],
   "source": [
    "open(\"numbers.txt\")"
   ]
  },
  {
   "cell_type": "code",
   "execution_count": 122,
   "id": "6bb6ef29",
   "metadata": {},
   "outputs": [
    {
     "data": {
      "text/plain": [
       "'1 one\\n2 two\\n3 three\\n4 four\\n5 five\\n'"
      ]
     },
     "execution_count": 122,
     "metadata": {},
     "output_type": "execute_result"
    }
   ],
   "source": [
    "open(\"numbers.txt\").read()"
   ]
  },
  {
   "cell_type": "code",
   "execution_count": 123,
   "id": "4f00d983",
   "metadata": {},
   "outputs": [
    {
     "data": {
      "text/plain": [
       "b'1 one\\n2 two\\n3 three\\n4 four\\n5 five\\n'"
      ]
     },
     "execution_count": 123,
     "metadata": {},
     "output_type": "execute_result"
    }
   ],
   "source": [
    "open(\"numbers.txt\", 'rb').read() # gives bytes"
   ]
  },
  {
   "cell_type": "code",
   "execution_count": 124,
   "id": "539b08bf",
   "metadata": {},
   "outputs": [
    {
     "name": "stdout",
     "output_type": "stream",
     "text": [
      "Writing ka.txt\n"
     ]
    }
   ],
   "source": [
    "%%file ka.txt\n",
    "ಅ ಆ ಇ ಈ"
   ]
  },
  {
   "cell_type": "code",
   "execution_count": 125,
   "id": "4ec53a41",
   "metadata": {},
   "outputs": [
    {
     "data": {
      "text/plain": [
       "'ಅ ಆ ಇ ಈ\\n'"
      ]
     },
     "execution_count": 125,
     "metadata": {},
     "output_type": "execute_result"
    }
   ],
   "source": [
    "open(\"ka.txt\").read()"
   ]
  },
  {
   "cell_type": "code",
   "execution_count": 126,
   "id": "7963645e",
   "metadata": {},
   "outputs": [
    {
     "data": {
      "text/plain": [
       "b'\\xe0\\xb2\\x85 \\xe0\\xb2\\x86 \\xe0\\xb2\\x87 \\xe0\\xb2\\x88\\n'"
      ]
     },
     "execution_count": 126,
     "metadata": {},
     "output_type": "execute_result"
    }
   ],
   "source": [
    "open(\"ka.txt\", 'rb').read()"
   ]
  },
  {
   "cell_type": "code",
   "execution_count": 127,
   "id": "c586d3f9",
   "metadata": {},
   "outputs": [
    {
     "name": "stdout",
     "output_type": "stream",
     "text": [
      "--2022-02-09 12:22:51--  https://www.python.org/static/community_logos/python-logo-master-v3-TM-flattened.png\n",
      "Resolving www.python.org (www.python.org)... 151.101.152.223\n",
      "Connecting to www.python.org (www.python.org)|151.101.152.223|:443... connected.\n",
      "HTTP request sent, awaiting response... 200 OK\n",
      "Length: 11155 (11K) [image/png]\n",
      "Saving to: ‘python.png’\n",
      "\n",
      "python.png          100%[===================>]  10.89K  --.-KB/s    in 0.008s  \n",
      "\n",
      "2022-02-09 12:22:52 (1.25 MB/s) - ‘python.png’ saved [11155/11155]\n",
      "\n"
     ]
    }
   ],
   "source": [
    "!wget https://www.python.org/static/community_logos/python-logo-master-v3-TM-flattened.png -O python.png"
   ]
  },
  {
   "cell_type": "code",
   "execution_count": 129,
   "id": "0021fc2d",
   "metadata": {},
   "outputs": [
    {
     "name": "stdout",
     "output_type": "stream",
     "text": [
      "-rw-r--r--  1 anand  staff  11155 Feb  5 03:40 python.png\r\n"
     ]
    }
   ],
   "source": [
    "!ls -l *.png"
   ]
  },
  {
   "cell_type": "code",
   "execution_count": 131,
   "id": "03a7762f",
   "metadata": {},
   "outputs": [],
   "source": [
    "data = open(\"python.png\", 'rb').read()"
   ]
  },
  {
   "cell_type": "code",
   "execution_count": 132,
   "id": "604efef2",
   "metadata": {},
   "outputs": [
    {
     "data": {
      "text/plain": [
       "b'\\x89PNG\\r\\n\\x1a\\n\\x00\\x00\\x00\\rIHDR\\x00\\x00\\x02Y\\x00\\x00\\x00\\xcb\\x08\\x06\\x00\\x00\\x00]\\xc9\\x86&\\x00\\x00\\x00\\x04sBIT\\x08\\x08\\x08\\x08|\\x08d\\x88\\x00\\x00\\x00\\tpHYs\\x00\\x00\\n\\xf0\\x00\\x00\\n\\xf0\\x01B\\xac4\\x98\\x00\\x00\\x00\\x16tEXtCreation Time\\x0006/05/04'"
      ]
     },
     "execution_count": 132,
     "metadata": {},
     "output_type": "execute_result"
    }
   ],
   "source": [
    "data[:100]"
   ]
  },
  {
   "cell_type": "code",
   "execution_count": 133,
   "id": "33c3f922",
   "metadata": {},
   "outputs": [
    {
     "data": {
      "text/plain": [
       "11155"
      ]
     },
     "execution_count": 133,
     "metadata": {},
     "output_type": "execute_result"
    }
   ],
   "source": [
    "len(data)"
   ]
  },
  {
   "cell_type": "markdown",
   "id": "6df1cfae",
   "metadata": {},
   "source": [
    "### Writing Files"
   ]
  },
  {
   "cell_type": "markdown",
   "id": "8a54caf1",
   "metadata": {},
   "source": [
    "Files can be opened in write mode by specifying `\"w\"` or `\"wt\"` as mode. For writing binary files, it will be `\"wb\"`."
   ]
  },
  {
   "cell_type": "code",
   "execution_count": 134,
   "id": "ceed88cd",
   "metadata": {},
   "outputs": [],
   "source": [
    "f = open(\"a.txt\", \"w\")\n",
    "f.write(\"one\\n\")\n",
    "f.write(\"two\\n\")\n",
    "f.close()"
   ]
  },
  {
   "cell_type": "code",
   "execution_count": 135,
   "id": "6cc07f28",
   "metadata": {},
   "outputs": [
    {
     "data": {
      "text/plain": [
       "'one\\ntwo\\n'"
      ]
     },
     "execution_count": 135,
     "metadata": {},
     "output_type": "execute_result"
    }
   ],
   "source": [
    "open(\"a.txt\").read()"
   ]
  },
  {
   "cell_type": "markdown",
   "id": "6664ea71",
   "metadata": {},
   "source": [
    "Whenever we open a file in a write mode, all the contents will be overwritten. "
   ]
  },
  {
   "cell_type": "markdown",
   "id": "8b7a3558",
   "metadata": {},
   "source": [
    "It is important to remember to close the file as the contents may not written to the disk until closed."
   ]
  },
  {
   "cell_type": "code",
   "execution_count": 139,
   "id": "e15b1b95",
   "metadata": {},
   "outputs": [
    {
     "data": {
      "text/plain": [
       "2"
      ]
     },
     "execution_count": 139,
     "metadata": {},
     "output_type": "execute_result"
    }
   ],
   "source": [
    "f = open(\"b.txt\", \"w\")\n",
    "f.write(\"1\\n\")\n",
    "f.write(\"2\\n\")\n",
    "f.write(\"3\\n\")\n",
    "# not closed the file yet"
   ]
  },
  {
   "cell_type": "code",
   "execution_count": 140,
   "id": "a7e72235",
   "metadata": {},
   "outputs": [
    {
     "data": {
      "text/plain": [
       "''"
      ]
     },
     "execution_count": 140,
     "metadata": {},
     "output_type": "execute_result"
    }
   ],
   "source": [
    "open(\"b.txt\").read()"
   ]
  },
  {
   "cell_type": "code",
   "execution_count": 141,
   "id": "f2717889",
   "metadata": {},
   "outputs": [],
   "source": [
    "f.close()"
   ]
  },
  {
   "cell_type": "code",
   "execution_count": 142,
   "id": "7cad9049",
   "metadata": {},
   "outputs": [
    {
     "data": {
      "text/plain": [
       "'1\\n2\\n3\\n'"
      ]
     },
     "execution_count": 142,
     "metadata": {},
     "output_type": "execute_result"
    }
   ],
   "source": [
    "open(\"b.txt\").read()"
   ]
  },
  {
   "cell_type": "markdown",
   "id": "d8ce9f3c",
   "metadata": {},
   "source": [
    "Sometimes we want to append something at the end of a file. In that case, we can open the file in append mode (`\"a\"`)."
   ]
  },
  {
   "cell_type": "code",
   "execution_count": 143,
   "id": "a2c3245d",
   "metadata": {},
   "outputs": [],
   "source": [
    "f = open(\"a.txt\", \"w\")\n",
    "f.write(\"one\\n\")\n",
    "f.write(\"two\\n\")\n",
    "f.close()"
   ]
  },
  {
   "cell_type": "code",
   "execution_count": 144,
   "id": "d174cc3b",
   "metadata": {},
   "outputs": [],
   "source": [
    "f = open(\"a.txt\", \"a\")\n",
    "f.write(\"three\\n\")\n",
    "f.write(\"four\\n\")\n",
    "f.close()"
   ]
  },
  {
   "cell_type": "code",
   "execution_count": 145,
   "id": "01c4775b",
   "metadata": {},
   "outputs": [
    {
     "name": "stdout",
     "output_type": "stream",
     "text": [
      "one\n",
      "two\n",
      "three\n",
      "four\n",
      "\n"
     ]
    }
   ],
   "source": [
    "print(open(\"a.txt\").read())"
   ]
  },
  {
   "cell_type": "markdown",
   "id": "a0a8f35c",
   "metadata": {},
   "source": [
    "#### The `with` statement"
   ]
  },
  {
   "cell_type": "markdown",
   "id": "58dc922d",
   "metadata": {},
   "source": [
    "The `with` statement is handy when writing to files as it takes care of closing the file automatically."
   ]
  },
  {
   "cell_type": "code",
   "execution_count": 146,
   "id": "491aba81",
   "metadata": {},
   "outputs": [],
   "source": [
    "with open(\"a.txt\", \"w\") as f:\n",
    "    f.write(\"one\\n\")\n",
    "    f.write(\"two\\n\")\n",
    "# the file f gets closes automatically"
   ]
  },
  {
   "cell_type": "code",
   "execution_count": 147,
   "id": "0e59a3ff",
   "metadata": {},
   "outputs": [
    {
     "data": {
      "text/plain": [
       "'one\\ntwo\\n'"
      ]
     },
     "execution_count": 147,
     "metadata": {},
     "output_type": "execute_result"
    }
   ],
   "source": [
    "open(\"a.txt\").read()"
   ]
  },
  {
   "cell_type": "code",
   "execution_count": 151,
   "id": "d191759c",
   "metadata": {},
   "outputs": [
    {
     "name": "stdout",
     "output_type": "stream",
     "text": [
      "False\n",
      "True\n"
     ]
    }
   ],
   "source": [
    "with open(\"a.txt\", \"w\") as f:\n",
    "    f.write(\"one\\n\")\n",
    "    f.write(\"two\\n\")\n",
    "    print(f.closed)\n",
    "# the file f gets closes automatically\n",
    "print(f.closed)"
   ]
  },
  {
   "cell_type": "markdown",
   "id": "e4a5eca7",
   "metadata": {},
   "source": [
    "**Problem:** write a program `copyfile.py` to copy contents of one file to another. The program should accept a source file and a destination file as arguments and copy the source to the destination.\n",
    "\n",
    "```\n",
    "$ python copyfile.py a.txt b.txt\n",
    "```\n",
    "\n",
    "Note: Don't call this file `copy.py` as that interfere with a standard library module with the same name.\n"
   ]
  },
  {
   "cell_type": "markdown",
   "id": "c49c3f4c",
   "metadata": {},
   "source": [
    "#### Special files: `stdin`, `stdout` and `stderr` "
   ]
  },
  {
   "cell_type": "markdown",
   "id": "323dfa42",
   "metadata": {},
   "source": [
    "The default print goes to stdout."
   ]
  },
  {
   "cell_type": "code",
   "execution_count": 152,
   "id": "a78388ad",
   "metadata": {},
   "outputs": [
    {
     "name": "stdout",
     "output_type": "stream",
     "text": [
      "hello"
     ]
    },
    {
     "data": {
      "text/plain": [
       "5"
      ]
     },
     "execution_count": 152,
     "metadata": {},
     "output_type": "execute_result"
    }
   ],
   "source": [
    "import sys\n",
    "sys.stdout.write(\"hello\")"
   ]
  },
  {
   "cell_type": "code",
   "execution_count": 153,
   "id": "a14e7032",
   "metadata": {},
   "outputs": [
    {
     "name": "stderr",
     "output_type": "stream",
     "text": [
      "hello"
     ]
    },
    {
     "data": {
      "text/plain": [
       "5"
      ]
     },
     "execution_count": 153,
     "metadata": {},
     "output_type": "execute_result"
    }
   ],
   "source": [
    "sys.stderr.write(\"hello\")"
   ]
  },
  {
   "cell_type": "code",
   "execution_count": 154,
   "id": "baa8ffaa",
   "metadata": {},
   "outputs": [
    {
     "name": "stdout",
     "output_type": "stream",
     "text": [
      "hello\n"
     ]
    }
   ],
   "source": [
    "print(\"hello\", file=sys.stdout) # the default way"
   ]
  },
  {
   "cell_type": "code",
   "execution_count": 155,
   "id": "d4beb621",
   "metadata": {},
   "outputs": [
    {
     "name": "stderr",
     "output_type": "stream",
     "text": [
      "hello\n"
     ]
    }
   ],
   "source": [
    "print(\"hello\", file=sys.stderr)"
   ]
  },
  {
   "cell_type": "code",
   "execution_count": 163,
   "id": "d4e31722",
   "metadata": {},
   "outputs": [
    {
     "name": "stdout",
     "output_type": "stream",
     "text": [
      "Overwriting sort.py\n"
     ]
    }
   ],
   "source": [
    "%%file sort.py\n",
    "import sys\n",
    "lines = sys.stdin.readlines()\n",
    "for line in sorted(lines):\n",
    "    print(line, end=\"\")"
   ]
  },
  {
   "cell_type": "code",
   "execution_count": 164,
   "id": "1924817f",
   "metadata": {},
   "outputs": [
    {
     "name": "stdout",
     "output_type": "stream",
     "text": [
      "Makefile\r\n",
      "Untitled.html\r\n",
      "Untitled.ipynb\r\n",
      "Untitled1.html\r\n",
      "Untitled1.ipynb\r\n",
      "__pycache__\r\n",
      "a.py\r\n",
      "a.txt\r\n",
      "args.py\r\n",
      "args2.py\r\n",
      "b.txt\r\n",
      "cat.py\r\n",
      "date.py\r\n",
      "day1.html\r\n",
      "day1.ipynb\r\n",
      "day2.html\r\n",
      "day2.ipynb\r\n",
      "day3.html\r\n",
      "day3.ipynb\r\n",
      "echo.py\r\n",
      "echo2.py\r\n",
      "files\r\n",
      "five.txt\r\n",
      "hello.py\r\n",
      "index.html\r\n",
      "index.ipynb\r\n",
      "ka.txt\r\n",
      "lastword.py\r\n",
      "ls.py\r\n",
      "mymodule.py\r\n",
      "mymodule2.py\r\n",
      "mymodule3.py\r\n",
      "mymodule4.py\r\n",
      "notes\r\n",
      "numbers.txt\r\n",
      "push\r\n",
      "python.png\r\n",
      "readinput.py\r\n",
      "sort.py\r\n",
      "sq.py\r\n",
      "sq.pyc\r\n",
      "sq2.py\r\n",
      "square.py\r\n",
      "sum_of_squares.py\r\n",
      "test_sq2.py\r\n",
      "three.txt\r\n",
      "wc.py\r\n",
      "working-with-files.html\r\n",
      "working-with-files.ipynb\r\n"
     ]
    }
   ],
   "source": [
    "!ls | python sort.py"
   ]
  },
  {
   "cell_type": "markdown",
   "id": "5372abc9",
   "metadata": {},
   "source": [
    "### Example: Parsing CSV files"
   ]
  },
  {
   "cell_type": "code",
   "execution_count": 165,
   "id": "1177cf95",
   "metadata": {},
   "outputs": [
    {
     "name": "stdout",
     "output_type": "stream",
     "text": [
      "Writing a.csv\n"
     ]
    }
   ],
   "source": [
    "%%file a.csv\n",
    "A1,B1,C1\n",
    "A2,B2,C2\n",
    "A3,B3,C3\n",
    "A4,B4,C4"
   ]
  },
  {
   "cell_type": "code",
   "execution_count": 166,
   "id": "d2cb70d1",
   "metadata": {},
   "outputs": [
    {
     "data": {
      "text/plain": [
       "['A1,B1,C1\\n', 'A2,B2,C2\\n', 'A3,B3,C3\\n', 'A4,B4,C4\\n']"
      ]
     },
     "execution_count": 166,
     "metadata": {},
     "output_type": "execute_result"
    }
   ],
   "source": [
    "open(\"a.csv\").readlines()"
   ]
  },
  {
   "cell_type": "code",
   "execution_count": 168,
   "id": "88fbc558",
   "metadata": {},
   "outputs": [],
   "source": [
    "result = []\n",
    "for line in open(\"a.csv\").readlines():\n",
    "    result.append(line.strip(\"\\n\").split(\",\"))"
   ]
  },
  {
   "cell_type": "code",
   "execution_count": 169,
   "id": "cdd89100",
   "metadata": {},
   "outputs": [
    {
     "data": {
      "text/plain": [
       "[['A1', 'B1', 'C1'],\n",
       " ['A2', 'B2', 'C2'],\n",
       " ['A3', 'B3', 'C3'],\n",
       " ['A4', 'B4', 'C4']]"
      ]
     },
     "execution_count": 169,
     "metadata": {},
     "output_type": "execute_result"
    }
   ],
   "source": [
    "result"
   ]
  },
  {
   "cell_type": "code",
   "execution_count": 170,
   "id": "d76d96b0",
   "metadata": {},
   "outputs": [
    {
     "data": {
      "text/plain": [
       "[['A1', 'B1', 'C1'],\n",
       " ['A2', 'B2', 'C2'],\n",
       " ['A3', 'B3', 'C3'],\n",
       " ['A4', 'B4', 'C4']]"
      ]
     },
     "execution_count": 170,
     "metadata": {},
     "output_type": "execute_result"
    }
   ],
   "source": [
    "# [expr for var in alist]\n",
    "[line.strip(\"\\n\").split(\",\") for line in open(\"a.csv\").readlines()]"
   ]
  },
  {
   "cell_type": "code",
   "execution_count": 171,
   "id": "a552e7d1",
   "metadata": {},
   "outputs": [
    {
     "data": {
      "text/plain": [
       "['A1,B1,C1', 'A2,B2,C2', 'A3,B3,C3', 'A4,B4,C4']"
      ]
     },
     "execution_count": 171,
     "metadata": {},
     "output_type": "execute_result"
    }
   ],
   "source": [
    "[line.strip(\"\\n\") for line in open(\"a.csv\").readlines()]"
   ]
  },
  {
   "cell_type": "code",
   "execution_count": 172,
   "id": "1425ef99",
   "metadata": {},
   "outputs": [
    {
     "data": {
      "text/plain": [
       "[['A1', 'B1', 'C1'],\n",
       " ['A2', 'B2', 'C2'],\n",
       " ['A3', 'B3', 'C3'],\n",
       " ['A4', 'B4', 'C4']]"
      ]
     },
     "execution_count": 172,
     "metadata": {},
     "output_type": "execute_result"
    }
   ],
   "source": [
    "[line.strip(\"\\n\").split(\",\") for line in open(\"a.csv\").readlines()]"
   ]
  },
  {
   "cell_type": "markdown",
   "id": "38783cb9",
   "metadata": {},
   "source": [
    "What if we want to ignore comments and empty lines in the csv file?"
   ]
  },
  {
   "cell_type": "code",
   "execution_count": 173,
   "id": "11fc54d3",
   "metadata": {},
   "outputs": [
    {
     "name": "stdout",
     "output_type": "stream",
     "text": [
      "Writing b.csv\n"
     ]
    }
   ],
   "source": [
    "%%file b.csv\n",
    "# this is the first line\n",
    "A1,B1,C1\n",
    "# second line\n",
    " A2,B2,C2\n",
    "\n",
    "A3,B3,C3\n",
    "A4,B4,C4\n",
    "# THE END"
   ]
  },
  {
   "cell_type": "code",
   "execution_count": 179,
   "id": "8a6f457f",
   "metadata": {},
   "outputs": [
    {
     "data": {
      "text/plain": [
       "[['A1', 'B1', 'C1'],\n",
       " ['A2', 'B2', 'C2'],\n",
       " ['A3', 'B3', 'C3'],\n",
       " ['A4', 'B4', 'C4']]"
      ]
     },
     "execution_count": 179,
     "metadata": {},
     "output_type": "execute_result"
    }
   ],
   "source": [
    "[line.strip(\"\\n\").split(\",\") \n",
    "    for line in open(\"b.csv\")\n",
    "    if not line.startswith(\"#\") and line.strip() != \"\"]"
   ]
  },
  {
   "cell_type": "markdown",
   "id": "6a6c03db",
   "metadata": {},
   "source": [
    "What if we want to support any delimiter?"
   ]
  },
  {
   "cell_type": "code",
   "execution_count": 180,
   "id": "332ee149",
   "metadata": {},
   "outputs": [],
   "source": [
    "def read_csv(filename, delimiter=\",\"):\n",
    "    return [line.strip(\"\\n\").split(delimiter) \n",
    "        for line in open(filename)\n",
    "        if not line.startswith(\"#\") and line.strip() != \"\"]    "
   ]
  },
  {
   "cell_type": "code",
   "execution_count": 181,
   "id": "e8db4d6e",
   "metadata": {},
   "outputs": [
    {
     "data": {
      "text/plain": [
       "[['A1', 'B1', 'C1'],\n",
       " ['A2', 'B2', 'C2'],\n",
       " ['A3', 'B3', 'C3'],\n",
       " ['A4', 'B4', 'C4']]"
      ]
     },
     "execution_count": 181,
     "metadata": {},
     "output_type": "execute_result"
    }
   ],
   "source": [
    "read_csv(\"b.csv\")"
   ]
  },
  {
   "cell_type": "code",
   "execution_count": 184,
   "id": "c67670f1",
   "metadata": {},
   "outputs": [
    {
     "name": "stdout",
     "output_type": "stream",
     "text": [
      "nobody Unprivileged User\n",
      "root System Administrator\n",
      "daemon System Services\n",
      "_uucp Unix to Unix Copy Protocol\n",
      "_taskgated Task Gate Daemon\n",
      "_networkd Network Services\n",
      "_installassistant Install Assistant\n",
      "_lp Printing Services\n",
      "_postfix Postfix Mail Server\n",
      "_scsd Service Configuration Service\n",
      "_ces Certificate Enrollment Service\n",
      "_appstore Mac App Store Service\n",
      "_mcxalr MCX AppLaunch\n",
      "_appleevents AppleEvents Daemon\n",
      "_geod Geo Services Daemon\n",
      "_devdocs Developer Documentation\n",
      "_sandbox Seatbelt\n",
      "_mdnsresponder mDNSResponder\n",
      "_ard Apple Remote Desktop\n",
      "_www World Wide Web Server\n",
      "_eppc Apple Events User\n",
      "_cvs CVS Server\n",
      "_svn SVN Server\n",
      "_mysql MySQL Server\n",
      "_sshd sshd Privilege separation\n",
      "_qtss QuickTime Streaming Server\n",
      "_cyrus Cyrus Administrator\n",
      "_mailman Mailman List Server\n",
      "_appserver Application Server\n",
      "_clamav ClamAV Daemon\n",
      "_amavisd AMaViS Daemon\n",
      "_jabber Jabber XMPP Server\n",
      "_appowner Application Owner\n",
      "_windowserver WindowServer\n",
      "_spotlight Spotlight\n",
      "_tokend Token Daemon\n",
      "_securityagent SecurityAgent\n",
      "_calendar Calendar\n",
      "_teamsserver TeamsServer\n",
      "_update_sharing Update Sharing\n",
      "_installer Installer\n",
      "_atsserver ATS Server\n",
      "_ftp FTP Daemon\n",
      "_unknown Unknown User\n",
      "_softwareupdate Software Update Service\n",
      "_coreaudiod Core Audio Daemon\n",
      "_screensaver Screensaver\n",
      "_locationd Location Daemon\n",
      "_trustevaluationagent Trust Evaluation Agent\n",
      "_timezone AutoTimeZoneDaemon\n",
      "_lda Local Delivery Agent\n",
      "_cvmsroot CVMS Root\n",
      "_usbmuxd iPhone OS Device Helper\n",
      "_dovecot Dovecot Administrator\n",
      "_dpaudio DP Audio\n",
      "_postgres PostgreSQL Server\n",
      "_krbtgt Kerberos Ticket Granting Ticket\n",
      "_kadmin_admin Kerberos Admin Service\n",
      "_kadmin_changepw Kerberos Change Password Service\n",
      "_devicemgr Device Management Server\n",
      "_webauthserver Web Auth Server\n",
      "_netbios NetBIOS\n",
      "_warmd Warm Daemon\n",
      "_dovenull Dovecot Authentication\n",
      "_netstatistics Network Statistics Daemon\n",
      "_avbdeviced Ethernet AVB Device Daemon\n",
      "_krb_krbtgt Open Directory Kerberos Ticket Granting Ticket\n",
      "_krb_kadmin Open Directory Kerberos Admin Service\n",
      "_krb_changepw Open Directory Kerberos Change Password Service\n",
      "_krb_kerberos Open Directory Kerberos\n",
      "_krb_anonymous Open Directory Kerberos Anonymous\n",
      "_assetcache Asset Cache Service\n",
      "_coremediaiod Core Media IO Daemon\n",
      "_launchservicesd _launchservicesd\n",
      "_iconservices IconServices\n",
      "_distnote DistNote\n",
      "_nsurlsessiond NSURLSession Daemon\n",
      "_displaypolicyd Display Policy Daemon\n",
      "_astris Astris Services\n",
      "_krbfast Kerberos FAST Account\n",
      "_gamecontrollerd Game Controller Daemon\n",
      "_mbsetupuser Setup User\n",
      "_ondemand On Demand Resource Daemon\n",
      "_xserverdocs macOS Server Documents Service\n",
      "_wwwproxy WWW Proxy\n",
      "_mobileasset MobileAsset User\n",
      "_findmydevice Find My Device Daemon\n",
      "_datadetectors DataDetectors\n",
      "_captiveagent captiveagent\n",
      "_ctkd ctkd Account\n",
      "_applepay applepay Account\n",
      "_hidd HID Service User\n",
      "_cmiodalassistants CoreMedia IO Assistants User\n",
      "_analyticsd Analytics Daemon\n",
      "_fpsd FPS Daemon\n",
      "_timed Time Sync Daemon\n",
      "_nearbyd Proximity and Ranging Daemon\n",
      "_reportmemoryexception ReportMemoryException\n",
      "_driverkit DriverKit\n",
      "_diskimagesiod DiskImages IO Daemon\n",
      "_logd Log Daemon\n",
      "_appinstalld App Install Daemon\n",
      "_installcoordinationd Install Coordination Daemon\n",
      "_demod Demo Daemon\n",
      "_rmd Remote Management Daemon\n",
      "_fud Firmware Update Daemon\n",
      "_knowledgegraphd Knowledge Graph Daemon\n",
      "_coreml CoreML Services\n",
      "_oahd OAH Daemon\n"
     ]
    }
   ],
   "source": [
    "users = read_csv(\"/etc/passwd\", delimiter=\":\")\n",
    "\n",
    "for user in users:\n",
    "    print(user[0], user[4])"
   ]
  },
  {
   "cell_type": "markdown",
   "id": "5b53c7bc",
   "metadata": {},
   "source": [
    "**Q:** Can you explain how to read/write binary data once again?"
   ]
  },
  {
   "cell_type": "code",
   "execution_count": 186,
   "id": "e0c9b9b5",
   "metadata": {},
   "outputs": [],
   "source": [
    "text = '\\u0c05\\u0c06\\u0c07\\u0c08'"
   ]
  },
  {
   "cell_type": "code",
   "execution_count": 188,
   "id": "ffcf2982",
   "metadata": {},
   "outputs": [
    {
     "data": {
      "text/plain": [
       "b'\\\\u0c05\\\\u0c06\\\\u0c07\\\\u0c08\\xe0\\xb0\\x85\\xe0\\xb0\\x86\\xe0\\xb0\\x87\\xe0\\xb0\\x88'"
      ]
     },
     "execution_count": 188,
     "metadata": {},
     "output_type": "execute_result"
    }
   ],
   "source": [
    "text.encode('utf-8')"
   ]
  },
  {
   "cell_type": "code",
   "execution_count": 189,
   "id": "53dde83d",
   "metadata": {},
   "outputs": [],
   "source": [
    "data = text.encode('utf-8')"
   ]
  },
  {
   "cell_type": "code",
   "execution_count": 190,
   "id": "03f70806",
   "metadata": {},
   "outputs": [
    {
     "data": {
      "text/plain": [
       "b'\\xe0\\xb0\\x85\\xe0\\xb0\\x86\\xe0\\xb0\\x87\\xe0\\xb0\\x88'"
      ]
     },
     "execution_count": 190,
     "metadata": {},
     "output_type": "execute_result"
    }
   ],
   "source": [
    "data"
   ]
  },
  {
   "cell_type": "code",
   "execution_count": 195,
   "id": "f765de15",
   "metadata": {},
   "outputs": [],
   "source": [
    "data2 = b'\\xe0\\xe0'"
   ]
  },
  {
   "cell_type": "code",
   "execution_count": 196,
   "id": "cca4f27d",
   "metadata": {},
   "outputs": [],
   "source": [
    "with open(\"2bytes.data\", \"wb\") as f:\n",
    "    f.write(data2)"
   ]
  },
  {
   "cell_type": "code",
   "execution_count": 197,
   "id": "676828ad",
   "metadata": {},
   "outputs": [
    {
     "name": "stdout",
     "output_type": "stream",
     "text": [
      "-rw-r--r--  1 anand  staff  2 Feb  9 16:18 2bytes.data\r\n"
     ]
    }
   ],
   "source": [
    "!ls -l 2bytes.data"
   ]
  },
  {
   "cell_type": "code",
   "execution_count": 198,
   "id": "63660ca9",
   "metadata": {},
   "outputs": [
    {
     "ename": "UnicodeDecodeError",
     "evalue": "'utf-8' codec can't decode byte 0xe0 in position 0: invalid continuation byte",
     "output_type": "error",
     "traceback": [
      "\u001b[0;31m---------------------------------------------------------------------------\u001b[0m",
      "\u001b[0;31mUnicodeDecodeError\u001b[0m                        Traceback (most recent call last)",
      "Input \u001b[0;32mIn [198]\u001b[0m, in \u001b[0;36m<module>\u001b[0;34m\u001b[0m\n\u001b[1;32m      1\u001b[0m \u001b[38;5;66;03m# opening it in textmode will fail\u001b[39;00m\n\u001b[0;32m----> 2\u001b[0m \u001b[38;5;28;43mopen\u001b[39;49m\u001b[43m(\u001b[49m\u001b[38;5;124;43m\"\u001b[39;49m\u001b[38;5;124;43m2bytes.data\u001b[39;49m\u001b[38;5;124;43m\"\u001b[39;49m\u001b[43m)\u001b[49m\u001b[38;5;241;43m.\u001b[39;49m\u001b[43mread\u001b[49m\u001b[43m(\u001b[49m\u001b[43m)\u001b[49m\n",
      "File \u001b[0;32m~/.pyenv/versions/3.10.2/lib/python3.10/codecs.py:322\u001b[0m, in \u001b[0;36mBufferedIncrementalDecoder.decode\u001b[0;34m(self, input, final)\u001b[0m\n\u001b[1;32m    319\u001b[0m \u001b[38;5;28;01mdef\u001b[39;00m \u001b[38;5;21mdecode\u001b[39m(\u001b[38;5;28mself\u001b[39m, \u001b[38;5;28minput\u001b[39m, final\u001b[38;5;241m=\u001b[39m\u001b[38;5;28;01mFalse\u001b[39;00m):\n\u001b[1;32m    320\u001b[0m     \u001b[38;5;66;03m# decode input (taking the buffer into account)\u001b[39;00m\n\u001b[1;32m    321\u001b[0m     data \u001b[38;5;241m=\u001b[39m \u001b[38;5;28mself\u001b[39m\u001b[38;5;241m.\u001b[39mbuffer \u001b[38;5;241m+\u001b[39m \u001b[38;5;28minput\u001b[39m\n\u001b[0;32m--> 322\u001b[0m     (result, consumed) \u001b[38;5;241m=\u001b[39m \u001b[38;5;28;43mself\u001b[39;49m\u001b[38;5;241;43m.\u001b[39;49m\u001b[43m_buffer_decode\u001b[49m\u001b[43m(\u001b[49m\u001b[43mdata\u001b[49m\u001b[43m,\u001b[49m\u001b[43m \u001b[49m\u001b[38;5;28;43mself\u001b[39;49m\u001b[38;5;241;43m.\u001b[39;49m\u001b[43merrors\u001b[49m\u001b[43m,\u001b[49m\u001b[43m \u001b[49m\u001b[43mfinal\u001b[49m\u001b[43m)\u001b[49m\n\u001b[1;32m    323\u001b[0m     \u001b[38;5;66;03m# keep undecoded input until the next call\u001b[39;00m\n\u001b[1;32m    324\u001b[0m     \u001b[38;5;28mself\u001b[39m\u001b[38;5;241m.\u001b[39mbuffer \u001b[38;5;241m=\u001b[39m data[consumed:]\n",
      "\u001b[0;31mUnicodeDecodeError\u001b[0m: 'utf-8' codec can't decode byte 0xe0 in position 0: invalid continuation byte"
     ]
    }
   ],
   "source": [
    "# opening it in textmode will fail\n",
    "open(\"2bytes.data\").read()"
   ]
  },
  {
   "cell_type": "markdown",
   "id": "b5aff5d4",
   "metadata": {},
   "source": [
    "## Dictionaries"
   ]
  },
  {
   "cell_type": "code",
   "execution_count": 199,
   "id": "11002b5f",
   "metadata": {},
   "outputs": [],
   "source": [
    "d = {\"x\": 1, \"y\": 2, \"z\": 3}"
   ]
  },
  {
   "cell_type": "code",
   "execution_count": 200,
   "id": "45a89c54",
   "metadata": {},
   "outputs": [
    {
     "data": {
      "text/plain": [
       "1"
      ]
     },
     "execution_count": 200,
     "metadata": {},
     "output_type": "execute_result"
    }
   ],
   "source": [
    "d[\"x\"]"
   ]
  },
  {
   "cell_type": "code",
   "execution_count": 201,
   "id": "326858a6",
   "metadata": {},
   "outputs": [],
   "source": [
    "d['x'] = 11"
   ]
  },
  {
   "cell_type": "code",
   "execution_count": 202,
   "id": "96caba8f",
   "metadata": {},
   "outputs": [
    {
     "data": {
      "text/plain": [
       "{'x': 11, 'y': 2, 'z': 3}"
      ]
     },
     "execution_count": 202,
     "metadata": {},
     "output_type": "execute_result"
    }
   ],
   "source": [
    "d"
   ]
  },
  {
   "cell_type": "markdown",
   "id": "e613691a",
   "metadata": {},
   "source": [
    "From Python 3.7 onwards, dictionaries maintain their insertion order, before that dictionaries were unordered."
   ]
  },
  {
   "cell_type": "markdown",
   "id": "720c146c",
   "metadata": {},
   "source": [
    "How to use dictionaries?"
   ]
  },
  {
   "cell_type": "markdown",
   "id": "bfa5602e",
   "metadata": {},
   "source": [
    "1. as a record\n",
    "2. as a database/lookup-table"
   ]
  },
  {
   "cell_type": "code",
   "execution_count": 203,
   "id": "9c3887f0",
   "metadata": {},
   "outputs": [],
   "source": [
    "# as a record\n",
    "person = {\n",
    "    \"name\": \"Alice\",\n",
    "    \"email\": \"alice@example.com\",\n",
    "    \"phone\": 1234\n",
    "}"
   ]
  },
  {
   "cell_type": "markdown",
   "id": "1b1c9e57",
   "metadata": {},
   "source": [
    "when using dictionary as a record, we know all the possible keys."
   ]
  },
  {
   "cell_type": "code",
   "execution_count": 204,
   "id": "fc0cecb3",
   "metadata": {},
   "outputs": [],
   "source": [
    "# as a lookup-table\n",
    "phone_numbers = {\n",
    "    \"alice\": 1234,\n",
    "    \"bob\": 2345\n",
    "}"
   ]
  },
  {
   "cell_type": "markdown",
   "id": "44b09825",
   "metadata": {},
   "source": [
    "when using dictionary as a lookup table, the keys are not known upfront."
   ]
  },
  {
   "cell_type": "markdown",
   "id": "a25e693e",
   "metadata": {},
   "source": [
    "## common operations on dictionries"
   ]
  },
  {
   "cell_type": "code",
   "execution_count": 205,
   "id": "4aea263d",
   "metadata": {},
   "outputs": [
    {
     "data": {
      "text/plain": [
       "1234"
      ]
     },
     "execution_count": 205,
     "metadata": {},
     "output_type": "execute_result"
    }
   ],
   "source": [
    "phone_numbers[\"alice\"]"
   ]
  },
  {
   "cell_type": "code",
   "execution_count": 206,
   "id": "293bd84c",
   "metadata": {},
   "outputs": [
    {
     "data": {
      "text/plain": [
       "True"
      ]
     },
     "execution_count": 206,
     "metadata": {},
     "output_type": "execute_result"
    }
   ],
   "source": [
    "\"alice\" in phone_numbers"
   ]
  },
  {
   "cell_type": "code",
   "execution_count": 207,
   "id": "9d693fcc",
   "metadata": {},
   "outputs": [
    {
     "data": {
      "text/plain": [
       "False"
      ]
     },
     "execution_count": 207,
     "metadata": {},
     "output_type": "execute_result"
    }
   ],
   "source": [
    "\"dave\" in phone_numbers"
   ]
  },
  {
   "cell_type": "code",
   "execution_count": 208,
   "id": "d8773878",
   "metadata": {},
   "outputs": [
    {
     "data": {
      "text/plain": [
       "True"
      ]
     },
     "execution_count": 208,
     "metadata": {},
     "output_type": "execute_result"
    }
   ],
   "source": [
    "\"dave\" not in phone_numbers"
   ]
  },
  {
   "cell_type": "markdown",
   "id": "879fff08",
   "metadata": {},
   "source": [
    "There are some handy methods. "
   ]
  },
  {
   "cell_type": "markdown",
   "id": "6e1cc2be",
   "metadata": {},
   "source": [
    "**`get`**"
   ]
  },
  {
   "cell_type": "code",
   "execution_count": 210,
   "id": "76cd2921",
   "metadata": {},
   "outputs": [],
   "source": [
    "name = \"dave\""
   ]
  },
  {
   "cell_type": "code",
   "execution_count": 211,
   "id": "5370ac1e",
   "metadata": {},
   "outputs": [
    {
     "data": {
      "text/plain": [
       "'-'"
      ]
     },
     "execution_count": 211,
     "metadata": {},
     "output_type": "execute_result"
    }
   ],
   "source": [
    "phone_numbers.get(name, \"-\")"
   ]
  },
  {
   "cell_type": "code",
   "execution_count": 212,
   "id": "7d41a68b",
   "metadata": {},
   "outputs": [
    {
     "data": {
      "text/plain": [
       "1234"
      ]
     },
     "execution_count": 212,
     "metadata": {},
     "output_type": "execute_result"
    }
   ],
   "source": [
    "phone_numbers.get(\"alice\", \"-\")"
   ]
  },
  {
   "cell_type": "markdown",
   "id": "982ea29b",
   "metadata": {},
   "source": [
    "If the key is present in the dictioany, it gives that value, if not it returns the second argument. "
   ]
  },
  {
   "cell_type": "markdown",
   "id": "c46193bf",
   "metadata": {},
   "source": [
    "**`setdefault`**"
   ]
  },
  {
   "cell_type": "markdown",
   "id": "6d06d311",
   "metadata": {},
   "source": [
    "The `setdefault` works like `get`, but also adds an entry when the key is missing."
   ]
  },
  {
   "cell_type": "code",
   "execution_count": 213,
   "id": "50032991",
   "metadata": {},
   "outputs": [],
   "source": [
    "d = {\"x\": 1, \"y\": 2}"
   ]
  },
  {
   "cell_type": "code",
   "execution_count": 214,
   "id": "39e49d23",
   "metadata": {},
   "outputs": [
    {
     "data": {
      "text/plain": [
       "0"
      ]
     },
     "execution_count": 214,
     "metadata": {},
     "output_type": "execute_result"
    }
   ],
   "source": [
    "d.get(\"z\", 0)"
   ]
  },
  {
   "cell_type": "code",
   "execution_count": 215,
   "id": "a43c5369",
   "metadata": {},
   "outputs": [
    {
     "data": {
      "text/plain": [
       "{'x': 1, 'y': 2}"
      ]
     },
     "execution_count": 215,
     "metadata": {},
     "output_type": "execute_result"
    }
   ],
   "source": [
    "d"
   ]
  },
  {
   "cell_type": "code",
   "execution_count": 216,
   "id": "f1b3fc5e",
   "metadata": {},
   "outputs": [
    {
     "data": {
      "text/plain": [
       "0"
      ]
     },
     "execution_count": 216,
     "metadata": {},
     "output_type": "execute_result"
    }
   ],
   "source": [
    "d.setdefault(\"z\", 0)"
   ]
  },
  {
   "cell_type": "code",
   "execution_count": 217,
   "id": "b4487fe8",
   "metadata": {},
   "outputs": [
    {
     "data": {
      "text/plain": [
       "{'x': 1, 'y': 2, 'z': 0}"
      ]
     },
     "execution_count": 217,
     "metadata": {},
     "output_type": "execute_result"
    }
   ],
   "source": [
    "d"
   ]
  },
  {
   "cell_type": "markdown",
   "id": "78d649d4",
   "metadata": {},
   "source": [
    "**`update`**"
   ]
  },
  {
   "cell_type": "code",
   "execution_count": 218,
   "id": "02358cfd",
   "metadata": {},
   "outputs": [],
   "source": [
    "d1 = {\"x\": 1, \"y\": 2}\n",
    "d2 = {\"x\": 11, \"z\": 33}"
   ]
  },
  {
   "cell_type": "code",
   "execution_count": 219,
   "id": "50eb816b",
   "metadata": {},
   "outputs": [],
   "source": [
    "d1.update(d2)"
   ]
  },
  {
   "cell_type": "code",
   "execution_count": 220,
   "id": "7e15eb38",
   "metadata": {},
   "outputs": [
    {
     "data": {
      "text/plain": [
       "{'x': 11, 'y': 2, 'z': 33}"
      ]
     },
     "execution_count": 220,
     "metadata": {},
     "output_type": "execute_result"
    }
   ],
   "source": [
    "d1"
   ]
  },
  {
   "cell_type": "markdown",
   "id": "35dd6291",
   "metadata": {},
   "source": [
    "### Iterating over dictionaries"
   ]
  },
  {
   "cell_type": "code",
   "execution_count": 221,
   "id": "2f3a508b",
   "metadata": {},
   "outputs": [],
   "source": [
    "d = {\"x\": 1, \"y\": 2, \"z\": 3}"
   ]
  },
  {
   "cell_type": "code",
   "execution_count": 222,
   "id": "1dc9d13b",
   "metadata": {},
   "outputs": [
    {
     "data": {
      "text/plain": [
       "dict_keys(['x', 'y', 'z'])"
      ]
     },
     "execution_count": 222,
     "metadata": {},
     "output_type": "execute_result"
    }
   ],
   "source": [
    "d.keys()"
   ]
  },
  {
   "cell_type": "code",
   "execution_count": 223,
   "id": "38ac8692",
   "metadata": {},
   "outputs": [
    {
     "data": {
      "text/plain": [
       "dict_values([1, 2, 3])"
      ]
     },
     "execution_count": 223,
     "metadata": {},
     "output_type": "execute_result"
    }
   ],
   "source": [
    "d.values()"
   ]
  },
  {
   "cell_type": "code",
   "execution_count": 224,
   "id": "b94a05bb",
   "metadata": {},
   "outputs": [
    {
     "data": {
      "text/plain": [
       "dict_items([('x', 1), ('y', 2), ('z', 3)])"
      ]
     },
     "execution_count": 224,
     "metadata": {},
     "output_type": "execute_result"
    }
   ],
   "source": [
    "d.items()"
   ]
  },
  {
   "cell_type": "markdown",
   "id": "5e34a13a",
   "metadata": {},
   "source": [
    "Iterating over the keys:"
   ]
  },
  {
   "cell_type": "code",
   "execution_count": 225,
   "id": "37ab2019",
   "metadata": {},
   "outputs": [
    {
     "name": "stdout",
     "output_type": "stream",
     "text": [
      "x\n",
      "y\n",
      "z\n"
     ]
    }
   ],
   "source": [
    "for k in d.keys():\n",
    "    print(k)"
   ]
  },
  {
   "cell_type": "code",
   "execution_count": 226,
   "id": "67168db4",
   "metadata": {},
   "outputs": [
    {
     "name": "stdout",
     "output_type": "stream",
     "text": [
      "x\n",
      "y\n",
      "z\n"
     ]
    }
   ],
   "source": [
    "for k in d: # iterating over a dictionary goes over its keys\n",
    "    print(k)"
   ]
  },
  {
   "cell_type": "code",
   "execution_count": 227,
   "id": "62d9e956",
   "metadata": {},
   "outputs": [
    {
     "name": "stdout",
     "output_type": "stream",
     "text": [
      "x 1\n",
      "y 2\n",
      "z 3\n"
     ]
    }
   ],
   "source": [
    "for k in d:\n",
    "    print(k, d[k])"
   ]
  },
  {
   "cell_type": "markdown",
   "id": "18310f47",
   "metadata": {},
   "source": [
    "Iterate over values:"
   ]
  },
  {
   "cell_type": "code",
   "execution_count": 228,
   "id": "cb1b824e",
   "metadata": {},
   "outputs": [
    {
     "name": "stdout",
     "output_type": "stream",
     "text": [
      "1\n",
      "2\n",
      "3\n"
     ]
    }
   ],
   "source": [
    "for v in d.values():\n",
    "    print(v)"
   ]
  },
  {
   "cell_type": "markdown",
   "id": "fcd986cc",
   "metadata": {},
   "source": [
    "Iterate over the key-value pairs:"
   ]
  },
  {
   "cell_type": "code",
   "execution_count": 229,
   "id": "2d5fe7e4",
   "metadata": {},
   "outputs": [
    {
     "name": "stdout",
     "output_type": "stream",
     "text": [
      "x 1\n",
      "y 2\n",
      "z 3\n"
     ]
    }
   ],
   "source": [
    "for k, v in d.items():\n",
    "    print(k, v)"
   ]
  },
  {
   "cell_type": "markdown",
   "id": "5c291b60",
   "metadata": {},
   "source": [
    "#### Example: Marks of a student"
   ]
  },
  {
   "cell_type": "code",
   "execution_count": 230,
   "id": "175c80a2",
   "metadata": {},
   "outputs": [],
   "source": [
    "marks = {\n",
    "    \"english\": 89,\n",
    "    \"maths\": 87,\n",
    "    \"science\": 45\n",
    "}"
   ]
  },
  {
   "cell_type": "code",
   "execution_count": 231,
   "id": "77e4bbd8",
   "metadata": {},
   "outputs": [
    {
     "data": {
      "text/plain": [
       "{'english': 89, 'maths': 87, 'science': 45}"
      ]
     },
     "execution_count": 231,
     "metadata": {},
     "output_type": "execute_result"
    }
   ],
   "source": [
    "marks"
   ]
  },
  {
   "cell_type": "code",
   "execution_count": 232,
   "id": "557d7b5d",
   "metadata": {},
   "outputs": [
    {
     "name": "stdout",
     "output_type": "stream",
     "text": [
      "english 89\n",
      "maths 87\n",
      "science 45\n"
     ]
    }
   ],
   "source": [
    "for subject, score in marks.items():\n",
    "    print(subject, score)"
   ]
  },
  {
   "cell_type": "code",
   "execution_count": 233,
   "id": "4b923797",
   "metadata": {},
   "outputs": [
    {
     "data": {
      "text/plain": [
       "221"
      ]
     },
     "execution_count": 233,
     "metadata": {},
     "output_type": "execute_result"
    }
   ],
   "source": [
    "sum(marks.values())"
   ]
  },
  {
   "cell_type": "code",
   "execution_count": 234,
   "id": "c2811986",
   "metadata": {},
   "outputs": [
    {
     "name": "stdout",
     "output_type": "stream",
     "text": [
      "english 89\n",
      "maths 87\n",
      "science 45\n",
      "-----\n",
      "Total 221\n"
     ]
    }
   ],
   "source": [
    "for subject, score in marks.items():\n",
    "    print(subject, score)\n",
    "print(\"-----\")\n",
    "print(\"Total\", sum(marks.values()))"
   ]
  },
  {
   "cell_type": "markdown",
   "id": "d48cc79e",
   "metadata": {},
   "source": [
    "A small puzzle now. \n",
    "\n",
    "In which subject the student got the highest marks?"
   ]
  },
  {
   "cell_type": "code",
   "execution_count": 235,
   "id": "7715d515",
   "metadata": {},
   "outputs": [
    {
     "data": {
      "text/plain": [
       "{'english': 89, 'maths': 87, 'science': 45}"
      ]
     },
     "execution_count": 235,
     "metadata": {},
     "output_type": "execute_result"
    }
   ],
   "source": [
    "marks"
   ]
  },
  {
   "cell_type": "code",
   "execution_count": 236,
   "id": "a07b3121",
   "metadata": {},
   "outputs": [
    {
     "data": {
      "text/plain": [
       "89"
      ]
     },
     "execution_count": 236,
     "metadata": {},
     "output_type": "execute_result"
    }
   ],
   "source": [
    "max(marks.values())"
   ]
  },
  {
   "cell_type": "code",
   "execution_count": 237,
   "id": "c41f016a",
   "metadata": {},
   "outputs": [
    {
     "data": {
      "text/plain": [
       "dict_values([89, 87, 45])"
      ]
     },
     "execution_count": 237,
     "metadata": {},
     "output_type": "execute_result"
    }
   ],
   "source": [
    "marks.values()"
   ]
  },
  {
   "cell_type": "code",
   "execution_count": 238,
   "id": "d862d562",
   "metadata": {},
   "outputs": [
    {
     "data": {
      "text/plain": [
       "'science'"
      ]
     },
     "execution_count": 238,
     "metadata": {},
     "output_type": "execute_result"
    }
   ],
   "source": [
    "max(marks.keys())"
   ]
  },
  {
   "cell_type": "code",
   "execution_count": 239,
   "id": "b6f5d8f1",
   "metadata": {},
   "outputs": [
    {
     "data": {
      "text/plain": [
       "dict_keys(['english', 'maths', 'science'])"
      ]
     },
     "execution_count": 239,
     "metadata": {},
     "output_type": "execute_result"
    }
   ],
   "source": [
    "marks.keys()"
   ]
  },
  {
   "cell_type": "code",
   "execution_count": 243,
   "id": "35dbfc1e",
   "metadata": {},
   "outputs": [
    {
     "data": {
      "text/plain": [
       "'english'"
      ]
     },
     "execution_count": 243,
     "metadata": {},
     "output_type": "execute_result"
    }
   ],
   "source": [
    "def get_score(subject):\n",
    "    return marks[subject]\n",
    "\n",
    "max(marks.keys(), key=get_score)"
   ]
  },
  {
   "cell_type": "code",
   "execution_count": 244,
   "id": "600ed3fb",
   "metadata": {},
   "outputs": [
    {
     "data": {
      "text/plain": [
       "{'english': 89, 'maths': 87, 'science': 45}"
      ]
     },
     "execution_count": 244,
     "metadata": {},
     "output_type": "execute_result"
    }
   ],
   "source": [
    "marks"
   ]
  },
  {
   "cell_type": "code",
   "execution_count": 242,
   "id": "051c9699",
   "metadata": {},
   "outputs": [
    {
     "data": {
      "text/plain": [
       "87"
      ]
     },
     "execution_count": 242,
     "metadata": {},
     "output_type": "execute_result"
    }
   ],
   "source": [
    "marks['maths']"
   ]
  },
  {
   "cell_type": "markdown",
   "id": "30f04104",
   "metadata": {},
   "source": [
    "#### Example: Word Frequency"
   ]
  },
  {
   "cell_type": "markdown",
   "id": "fd72bf19",
   "metadata": {},
   "source": [
    "Write a program to compute the frequency of words in a file."
   ]
  },
  {
   "cell_type": "code",
   "execution_count": 245,
   "id": "4cfe2d0d",
   "metadata": {},
   "outputs": [
    {
     "name": "stdout",
     "output_type": "stream",
     "text": [
      "Writing words.txt\n"
     ]
    }
   ],
   "source": [
    "%%file words.txt\n",
    "five\n",
    "five four\n",
    "five four three\n",
    "five four three two\n",
    "five four three two one\n",
    "zero\n",
    "ten zero"
   ]
  },
  {
   "cell_type": "code",
   "execution_count": 255,
   "id": "e3f7ff57",
   "metadata": {},
   "outputs": [
    {
     "name": "stdout",
     "output_type": "stream",
     "text": [
      "Overwriting wordfreq.py\n"
     ]
    }
   ],
   "source": [
    "%%file wordfreq.py\n",
    "\"\"\"Program to compute frequency of words in the given file.\n",
    "\n",
    "USAGE: python wordfreq.py words.txt\n",
    "\"\"\"\n",
    "import sys\n",
    "\n",
    "def read_words(filename):\n",
    "    \"\"\"Reads and returns all words in the given filename as a list.\n",
    "    \"\"\"\n",
    "    return open(filename).read().split()\n",
    "\n",
    "def wordfreq(words):\n",
    "    \"\"\"Takes a list of words as argument and computes \n",
    "    frquency of each unique word in those words as a dictionary.\n",
    "    \n",
    "        >>> wordfreq([])\n",
    "        {}\n",
    "        >>> wordfreq(['a', 'b', a'])\n",
    "        {\"a\": 2, \"b\": 1}\n",
    "    \"\"\"\n",
    "    freq = {}\n",
    "    for w in words:\n",
    "#         if w in freq:\n",
    "#             freq[w] = freq[w] + 1\n",
    "#         else:\n",
    "#             freq[w] = 1  \n",
    "        freq[w] = freq.get(w, 0) + 1\n",
    "    return freq\n",
    "\n",
    "def print_freq(freq):\n",
    "    \"\"\"Prints frequency of words in a nice readable format.\n",
    "    \"\"\"\n",
    "    # FIXME\n",
    "    print(freq)\n",
    "\n",
    "def main():\n",
    "    filename = sys.argv[1]\n",
    "    words = read_words(filename)\n",
    "    freq = wordfreq(words)\n",
    "    print_freq(freq)\n",
    "    \n",
    "if __name__ == \"__main__\":\n",
    "    main()"
   ]
  },
  {
   "cell_type": "code",
   "execution_count": 256,
   "id": "f3fa7fd4",
   "metadata": {},
   "outputs": [
    {
     "name": "stdout",
     "output_type": "stream",
     "text": [
      "{'five': 5, 'four': 4, 'three': 3, 'two': 2, 'one': 1, 'zero': 2, 'ten': 1}\r\n"
     ]
    }
   ],
   "source": [
    "!python wordfreq.py words.txt"
   ]
  },
  {
   "cell_type": "code",
   "execution_count": 253,
   "id": "bc511db3",
   "metadata": {},
   "outputs": [],
   "source": [
    "!touch empty.txt"
   ]
  },
  {
   "cell_type": "code",
   "execution_count": 254,
   "id": "138bbf14",
   "metadata": {},
   "outputs": [
    {
     "name": "stdout",
     "output_type": "stream",
     "text": [
      "{}\r\n"
     ]
    }
   ],
   "source": [
    "!python wordfreq.py empty.txt"
   ]
  },
  {
   "cell_type": "markdown",
   "id": "e229afee",
   "metadata": {},
   "source": [
    "**Problem:** Improve the above program to print the frequency one word per line, as shown below. It doesn't matter which order they appear.\n",
    "\n",
    "```\n",
    "$ python wordfreq.py words.txt\n",
    "zero 2\n",
    "five 5\n",
    "four 4\n",
    "three 3\n",
    "two 2\n",
    "one 1\n",
    "ten 1\n",
    "```"
   ]
  },
  {
   "cell_type": "markdown",
   "id": "47decaa3",
   "metadata": {},
   "source": [
    "**Problem:** Improve the above program further to print the words sorted by their count, with most frequenct word on the top.\n",
    "\n",
    "```\n",
    "$ python wordfreq.py words.txt\n",
    "five 5\n",
    "four 4\n",
    "three 3\n",
    "two 2\n",
    "zero 2\n",
    "one 1\n",
    "ten 1\n",
    "```"
   ]
  },
  {
   "cell_type": "code",
   "execution_count": null,
   "id": "68aece87",
   "metadata": {},
   "outputs": [],
   "source": []
  }
 ],
 "metadata": {
  "kernelspec": {
   "display_name": "Python 3 (ipykernel)",
   "language": "python",
   "name": "python3"
  },
  "language_info": {
   "codemirror_mode": {
    "name": "ipython",
    "version": 3
   },
   "file_extension": ".py",
   "mimetype": "text/x-python",
   "name": "python",
   "nbconvert_exporter": "python",
   "pygments_lexer": "ipython3",
   "version": "3.10.2"
  }
 },
 "nbformat": 4,
 "nbformat_minor": 5
}
