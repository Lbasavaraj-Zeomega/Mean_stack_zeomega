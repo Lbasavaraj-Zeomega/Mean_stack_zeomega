{
 "cells": [
  {
   "cell_type": "markdown",
   "id": "88422e6a",
   "metadata": {},
   "source": [
    "### Advanced Python Training at ZeOmega - Day 4\n",
    "\n",
    "Feb 07-11, 2022<br>\n",
    "09:30 AM - 01:00 PM\n",
    "\n",
    "[Anand Chitipothu](https://pipal.in/trainers/anand)\n",
    "\n",
    "These notes are available online at https://bit.ly/zeomega-py22\n",
    "\n",
    "© Pipal Academy LLP\n",
    "\n",
    "[Home](.) | [Day 1](day1.html) | [Day 2](day2.html) | [Day 3](day3.html) | **Day 4** | [Day 5](day5.html) \n",
    "\n",
    "[Download this notebook](day4.ipynb)"
   ]
  },
  {
   "cell_type": "markdown",
   "id": "26ec61bf",
   "metadata": {},
   "source": [
    "## Dictionaries (Contd...)"
   ]
  },
  {
   "cell_type": "markdown",
   "id": "38d41541",
   "metadata": {},
   "source": [
    "**Problem:** Improve the above program to print the frequency one word per line, as shown below. It doesn't matter which order they appear.\n",
    "\n",
    "```\n",
    "$ python wordfreq.py words.txt\n",
    "zero 2\n",
    "five 5\n",
    "four 4\n",
    "three 3\n",
    "two 2\n",
    "one 1\n",
    "ten 1\n",
    "```\n",
    "\n",
    "**Problem:** Improve the above program further to print the words sorted by their count, with most frequent word on the top.\n",
    "\n",
    "```\n",
    "$ python wordfreq.py words.txt\n",
    "five 5\n",
    "four 4\n",
    "three 3\n",
    "two 2\n",
    "zero 2\n",
    "one 1\n",
    "ten 1\n",
    "```"
   ]
  },
  {
   "cell_type": "code",
   "execution_count": 1,
   "id": "b7cca371",
   "metadata": {},
   "outputs": [],
   "source": [
    "from wordfreq import wordfreq"
   ]
  },
  {
   "cell_type": "code",
   "execution_count": 11,
   "id": "4bfb3d26",
   "metadata": {},
   "outputs": [],
   "source": [
    "words_1k = [str(i) for i in range(1000)]\n",
    "words_10k = [str(i) for i in range(10000)]\n",
    "words_100k = [str(i) for i in range(100000)]\n",
    "words_1m = [str(i) for i in range(1000000)]"
   ]
  },
  {
   "cell_type": "code",
   "execution_count": 13,
   "id": "36ca9929",
   "metadata": {},
   "outputs": [
    {
     "name": "stdout",
     "output_type": "stream",
     "text": [
      "178 µs ± 1.62 µs per loop (mean ± std. dev. of 7 runs, 10,000 loops each)\n"
     ]
    }
   ],
   "source": [
    "%timeit x = wordfreq(words_1k)"
   ]
  },
  {
   "cell_type": "code",
   "execution_count": 14,
   "id": "e3d5b789",
   "metadata": {},
   "outputs": [
    {
     "name": "stdout",
     "output_type": "stream",
     "text": [
      "1.9 ms ± 101 µs per loop (mean ± std. dev. of 7 runs, 100 loops each)\n"
     ]
    }
   ],
   "source": [
    "%timeit x = wordfreq(words_10k)"
   ]
  },
  {
   "cell_type": "code",
   "execution_count": 15,
   "id": "41b210dc",
   "metadata": {},
   "outputs": [
    {
     "name": "stdout",
     "output_type": "stream",
     "text": [
      "24.8 ms ± 714 µs per loop (mean ± std. dev. of 7 runs, 10 loops each)\n"
     ]
    }
   ],
   "source": [
    "%timeit x = wordfreq(words_100k)"
   ]
  },
  {
   "cell_type": "code",
   "execution_count": 16,
   "id": "f4b15825",
   "metadata": {},
   "outputs": [
    {
     "name": "stdout",
     "output_type": "stream",
     "text": [
      "354 ms ± 7.13 ms per loop (mean ± std. dev. of 7 runs, 1 loop each)\n"
     ]
    }
   ],
   "source": [
    "%timeit x = wordfreq(words_1m)"
   ]
  },
  {
   "cell_type": "code",
   "execution_count": 18,
   "id": "a38eec3c",
   "metadata": {},
   "outputs": [
    {
     "name": "stdout",
     "output_type": "stream",
     "text": [
      "Overwriting words_count.py\n"
     ]
    }
   ],
   "source": [
    "%%file words_count.py\n",
    "# word count program by pbhuvan\n",
    "# import sys\n",
    "# a = sys.argv[1]\n",
    "# b = open(a,'r').read().split()\n",
    "def word_count(b):\n",
    "    li1,li2=[],[]\n",
    "    for i in b:\n",
    "        if i not in li1:\n",
    "            li1.append(i)\n",
    "            li2.append(b.count(i))\n",
    "# for i in range(len(li1)):\n",
    "#     print(li1[i],li2[i])\n"
   ]
  },
  {
   "cell_type": "code",
   "execution_count": 19,
   "id": "ac5e6725",
   "metadata": {},
   "outputs": [],
   "source": [
    "from words_count import word_count"
   ]
  },
  {
   "cell_type": "code",
   "execution_count": 21,
   "id": "80ff41c9",
   "metadata": {},
   "outputs": [
    {
     "name": "stdout",
     "output_type": "stream",
     "text": [
      "177 µs ± 1.35 µs per loop (mean ± std. dev. of 7 runs, 10,000 loops each)\n",
      "31.1 ms ± 212 µs per loop (mean ± std. dev. of 7 runs, 10 loops each)\n"
     ]
    }
   ],
   "source": [
    "%timeit x = wordfreq(words_1k)\n",
    "%timeit x = word_count(words_1k)"
   ]
  },
  {
   "cell_type": "code",
   "execution_count": 22,
   "id": "fb1574e5",
   "metadata": {},
   "outputs": [
    {
     "name": "stdout",
     "output_type": "stream",
     "text": [
      "1.84 ms ± 5.09 µs per loop (mean ± std. dev. of 7 runs, 1,000 loops each)\n",
      "3.16 s ± 35.1 ms per loop (mean ± std. dev. of 7 runs, 1 loop each)\n"
     ]
    }
   ],
   "source": [
    "%timeit x = wordfreq(words_10k)\n",
    "%timeit x = word_count(words_10k)"
   ]
  },
  {
   "cell_type": "code",
   "execution_count": 23,
   "id": "4325d290",
   "metadata": {},
   "outputs": [
    {
     "name": "stdout",
     "output_type": "stream",
     "text": [
      "12.5 s ± 680 ms per loop (mean ± std. dev. of 7 runs, 1 loop each)\n"
     ]
    }
   ],
   "source": [
    "%timeit x = word_count(words_100k[:20000])"
   ]
  },
  {
   "cell_type": "code",
   "execution_count": 36,
   "id": "dc1cd520",
   "metadata": {},
   "outputs": [
    {
     "name": "stdout",
     "output_type": "stream",
     "text": [
      "Overwriting wordfreq.py\n"
     ]
    }
   ],
   "source": [
    "%%file wordfreq.py\n",
    "\"\"\"Program to compute frequency of words in the given file.\n",
    "\n",
    "USAGE: python wordfreq.py words.txt\n",
    "\"\"\"\n",
    "import sys\n",
    "\n",
    "def read_words(filename):\n",
    "    \"\"\"Reads and returns all words in the given filename as a list.\n",
    "    \"\"\"\n",
    "    return open(filename).read().split()\n",
    "\n",
    "def wordfreq(words):\n",
    "    \"\"\"Takes a list of words as argument and computes \n",
    "    frquency of each unique word in those words as a dictionary.\n",
    "    \n",
    "        >>> wordfreq([])\n",
    "        {}\n",
    "        >>> wordfreq(['a', 'b', a'])\n",
    "        {\"a\": 2, \"b\": 1}\n",
    "    \"\"\"\n",
    "    freq = {}\n",
    "    for w in words:\n",
    "#         if w in freq:\n",
    "#             freq[w] = freq[w] + 1\n",
    "#         else:\n",
    "#             freq[w] = 1  \n",
    "        freq[w] = freq.get(w, 0) + 1\n",
    "    return freq\n",
    "\n",
    "def print_freq(freq):\n",
    "    \"\"\"Prints frequency of words in a nice readable format.\n",
    "    \"\"\"    \n",
    "    items = sorted(\n",
    "        freq.items(), \n",
    "        key=lambda item: item[1], \n",
    "        reverse=True)\n",
    "      \n",
    "    for w, count in items:\n",
    "        print(w, count)\n",
    "\n",
    "def main():\n",
    "    filename = sys.argv[1]\n",
    "    words = read_words(filename)\n",
    "    freq = wordfreq(words)\n",
    "    print_freq(freq)\n",
    "    \n",
    "if __name__ == \"__main__\":\n",
    "    main()"
   ]
  },
  {
   "cell_type": "code",
   "execution_count": 37,
   "id": "2a259332",
   "metadata": {},
   "outputs": [
    {
     "name": "stdout",
     "output_type": "stream",
     "text": [
      "five 5\r\n",
      "four 4\r\n",
      "three 3\r\n",
      "two 2\r\n",
      "zero 2\r\n",
      "one 1\r\n",
      "ten 1\r\n"
     ]
    }
   ],
   "source": [
    "!python wordfreq.py words.txt"
   ]
  },
  {
   "cell_type": "code",
   "execution_count": 38,
   "id": "a488b11e",
   "metadata": {},
   "outputs": [],
   "source": [
    "sq = lambda x: x*x"
   ]
  },
  {
   "cell_type": "code",
   "execution_count": 39,
   "id": "318798e5",
   "metadata": {},
   "outputs": [
    {
     "data": {
      "text/plain": [
       "16"
      ]
     },
     "execution_count": 39,
     "metadata": {},
     "output_type": "execute_result"
    }
   ],
   "source": [
    "sq(4)"
   ]
  },
  {
   "cell_type": "code",
   "execution_count": 40,
   "id": "8bd996ff",
   "metadata": {},
   "outputs": [
    {
     "data": {
      "text/plain": [
       "16"
      ]
     },
     "execution_count": 40,
     "metadata": {},
     "output_type": "execute_result"
    }
   ],
   "source": [
    "(lambda x: x*x)(4)"
   ]
  },
  {
   "cell_type": "markdown",
   "id": "c6505b8c",
   "metadata": {},
   "source": [
    "### Dictionary Comprehensions"
   ]
  },
  {
   "cell_type": "code",
   "execution_count": 42,
   "id": "724ee966",
   "metadata": {},
   "outputs": [],
   "source": [
    "words = [\"alice\", \"bob\", \"charlie\", \"dave\"]"
   ]
  },
  {
   "cell_type": "code",
   "execution_count": 43,
   "id": "e0d72a6f",
   "metadata": {},
   "outputs": [
    {
     "data": {
      "text/plain": [
       "[5, 3, 7, 4]"
      ]
     },
     "execution_count": 43,
     "metadata": {},
     "output_type": "execute_result"
    }
   ],
   "source": [
    "[len(w) for w in words]"
   ]
  },
  {
   "cell_type": "code",
   "execution_count": 44,
   "id": "1c7b3c28",
   "metadata": {},
   "outputs": [
    {
     "data": {
      "text/plain": [
       "{'alice': 5, 'bob': 3, 'charlie': 7, 'dave': 4}"
      ]
     },
     "execution_count": 44,
     "metadata": {},
     "output_type": "execute_result"
    }
   ],
   "source": [
    "{w: len(w) for w in words}"
   ]
  },
  {
   "cell_type": "markdown",
   "id": "4fafb7fb",
   "metadata": {},
   "source": [
    "For example, we want to make a look up table for file sizes."
   ]
  },
  {
   "cell_type": "code",
   "execution_count": 45,
   "id": "ac2f997f",
   "metadata": {},
   "outputs": [],
   "source": [
    "import os"
   ]
  },
  {
   "cell_type": "code",
   "execution_count": 46,
   "id": "5a25ad45",
   "metadata": {},
   "outputs": [
    {
     "data": {
      "text/plain": [
       "{'hello.py': 15,\n",
       " 'empty.txt': 0,\n",
       " 'working-with-files.html': 576494,\n",
       " 'a.csv': 36,\n",
       " 'day4.html': 600656,\n",
       " 'wordfreq.py': 1117,\n",
       " 'readinput.py': 55,\n",
       " 'Untitled.html': 575899,\n",
       " 'sum_of_squares.py': 45,\n",
       " 'b.csv': 86,\n",
       " 'wc.py': 445,\n",
       " 'Untitled1.ipynb': 589,\n",
       " 'numbers.txt': 34,\n",
       " 'index.html': 577240,\n",
       " 'ka.txt': 16,\n",
       " 'python.png': 11155,\n",
       " 'test_sq2.py': 223,\n",
       " '.pytest_cache': 192,\n",
       " 'Untitled.ipynb': 1128,\n",
       " 'Makefile': 495,\n",
       " 'cat.py': 32,\n",
       " 'a.py': 44,\n",
       " 'sort.py': 92,\n",
       " 'sq.pyc': 643,\n",
       " 'day2.html': 834826,\n",
       " 'three.txt': 14,\n",
       " 'day3.html': 836631,\n",
       " 'Untitled1.html': 574876,\n",
       " 'sq2.py': 91,\n",
       " 'sq.py': 323,\n",
       " 'Untitled2.ipynb': 72,\n",
       " 'mymodule4.py': 88,\n",
       " '__pycache__': 416,\n",
       " 'ls.py': 73,\n",
       " 'echo2.py': 54,\n",
       " 'b.txt': 6,\n",
       " 'push': 0,\n",
       " 'day2.ipynb': 82836,\n",
       " '2bytes.data': 2,\n",
       " 'Untitled2.html': 574343,\n",
       " 'notes': 416,\n",
       " 'mymodule3.py': 203,\n",
       " 'a.txt': 8,\n",
       " 'mymodule2.py': 71,\n",
       " 'lastword.py': 215,\n",
       " 'day1.html': 799312,\n",
       " 'day4.ipynb': 9375,\n",
       " 'args.py': 27,\n",
       " 'files': 128,\n",
       " 'mymodule.py': 102,\n",
       " '.ipynb_checkpoints': 320,\n",
       " 'day3.ipynb': 90931,\n",
       " 'words.txt': 89,\n",
       " 'words_count.py': 290,\n",
       " 'square.py': 19,\n",
       " 'day1.ipynb': 71390,\n",
       " 'echo.py': 40,\n",
       " 'date.py': 34,\n",
       " 'working-with-files.ipynb': 993,\n",
       " 'five.txt': 80,\n",
       " 'index.ipynb': 1751,\n",
       " 'args2.py': 269}"
      ]
     },
     "execution_count": 46,
     "metadata": {},
     "output_type": "execute_result"
    }
   ],
   "source": [
    "{f: os.path.getsize(f) for f in os.listdir(\".\")}"
   ]
  },
  {
   "cell_type": "markdown",
   "id": "438ac593",
   "metadata": {},
   "source": [
    "**Problem:** Write a function `invertdict` to interchange the keys and values in a dictionary. For simplicity, assume the values are also unique.\n",
    "\n",
    "```\n",
    ">>> invertdict({\"x\": 1, \"y\": 2, \"z\": 3})\n",
    "{1: \"x\", 2: \"y\", 3: \"z\"}\n",
    "```\n",
    "\n",
    "Write this in a file invertdict.py and write some test cases to verify that. "
   ]
  },
  {
   "cell_type": "code",
   "execution_count": 47,
   "id": "eef419f0",
   "metadata": {},
   "outputs": [
    {
     "name": "stdout",
     "output_type": "stream",
     "text": [
      "Writing invertdict.py\n"
     ]
    }
   ],
   "source": [
    "%%file invertdict.py\n",
    "\n",
    "def invertdict(d):\n",
    "    pass\n",
    "\n",
    "def test_empty():\n",
    "    assert invertdict({}) == {}"
   ]
  },
  {
   "cell_type": "code",
   "execution_count": 49,
   "id": "76e13e73",
   "metadata": {},
   "outputs": [
    {
     "name": "stdout",
     "output_type": "stream",
     "text": [
      "\u001b[1m============================= test session starts ==============================\u001b[0m\n",
      "platform darwin -- Python 3.10.2, pytest-7.0.0, pluggy-1.0.0\n",
      "rootdir: /Users/anand/trainings/2022/zeomega-python\n",
      "plugins: anyio-3.5.0\n",
      "collected 1 item                                                               \u001b[0m\n",
      "\n",
      "invertdict.py \u001b[31mF\u001b[0m\u001b[31m                                                          [100%]\u001b[0m\n",
      "\n",
      "=================================== FAILURES ===================================\n",
      "\u001b[31m\u001b[1m__________________________________ test_empty __________________________________\u001b[0m\n",
      "\n",
      "    \u001b[94mdef\u001b[39;49;00m \u001b[92mtest_empty\u001b[39;49;00m():\n",
      ">       \u001b[94massert\u001b[39;49;00m invertdict({}) == {}\n",
      "\u001b[1m\u001b[31mE       assert None == {}\u001b[0m\n",
      "\u001b[1m\u001b[31mE        +  where None = invertdict({})\u001b[0m\n",
      "\n",
      "\u001b[1m\u001b[31minvertdict.py\u001b[0m:6: AssertionError\n",
      "=========================== short test summary info ============================\n",
      "FAILED invertdict.py::test_empty - assert None == {}\n",
      "\u001b[31m============================== \u001b[31m\u001b[1m1 failed\u001b[0m\u001b[31m in 0.14s\u001b[0m\u001b[31m ===============================\u001b[0m\n"
     ]
    }
   ],
   "source": [
    "!py.test invertdict.py"
   ]
  },
  {
   "cell_type": "markdown",
   "id": "12f92dfd",
   "metadata": {},
   "source": [
    "## Sets"
   ]
  },
  {
   "cell_type": "code",
   "execution_count": 50,
   "id": "b0557732",
   "metadata": {},
   "outputs": [],
   "source": [
    "x = {1, 2, 3}"
   ]
  },
  {
   "cell_type": "code",
   "execution_count": 51,
   "id": "22f970ea",
   "metadata": {},
   "outputs": [
    {
     "data": {
      "text/plain": [
       "{1, 2, 3}"
      ]
     },
     "execution_count": 51,
     "metadata": {},
     "output_type": "execute_result"
    }
   ],
   "source": [
    "{1, 2, 3, 1}"
   ]
  },
  {
   "cell_type": "markdown",
   "id": "9dd90a38",
   "metadata": {},
   "source": [
    "Set always has unique values."
   ]
  },
  {
   "cell_type": "markdown",
   "id": "0645eddd",
   "metadata": {},
   "source": [
    "How to find unique elements in a list?"
   ]
  },
  {
   "cell_type": "code",
   "execution_count": 56,
   "id": "e4ea1d95",
   "metadata": {},
   "outputs": [],
   "source": [
    "names = [\"a\", \"b\", \"c\", \"a\"]"
   ]
  },
  {
   "cell_type": "code",
   "execution_count": 60,
   "id": "a8fe2274",
   "metadata": {},
   "outputs": [],
   "source": [
    "def unique(values):\n",
    "    d = []\n",
    "    for v in values:\n",
    "        if v not in d:\n",
    "            d.append(v)\n",
    "    return d"
   ]
  },
  {
   "cell_type": "code",
   "execution_count": 61,
   "id": "acc544ed",
   "metadata": {},
   "outputs": [
    {
     "data": {
      "text/plain": [
       "['a', 'b', 'c']"
      ]
     },
     "execution_count": 61,
     "metadata": {},
     "output_type": "execute_result"
    }
   ],
   "source": [
    "unique(names)"
   ]
  },
  {
   "cell_type": "code",
   "execution_count": 62,
   "id": "172b17f8",
   "metadata": {},
   "outputs": [
    {
     "data": {
      "text/plain": [
       "[0, 1, 2, 3, 4, 5, 6, 7, 8, 9]"
      ]
     },
     "execution_count": 62,
     "metadata": {},
     "output_type": "execute_result"
    }
   ],
   "source": [
    "unique(range(10))"
   ]
  },
  {
   "cell_type": "code",
   "execution_count": 64,
   "id": "ec2dfb28",
   "metadata": {},
   "outputs": [
    {
     "name": "stdout",
     "output_type": "stream",
     "text": [
      "89.5 µs ± 1.08 µs per loop (mean ± std. dev. of 7 runs, 10,000 loops each)\n"
     ]
    }
   ],
   "source": [
    "%timeit unique(range(100))"
   ]
  },
  {
   "cell_type": "code",
   "execution_count": 67,
   "id": "3119a58b",
   "metadata": {},
   "outputs": [
    {
     "name": "stdout",
     "output_type": "stream",
     "text": [
      "7.77 ms ± 52 µs per loop (mean ± std. dev. of 7 runs, 100 loops each)\n"
     ]
    }
   ],
   "source": [
    "%timeit unique(range(1000))"
   ]
  },
  {
   "cell_type": "code",
   "execution_count": 68,
   "id": "e32bcb63",
   "metadata": {},
   "outputs": [
    {
     "name": "stdout",
     "output_type": "stream",
     "text": [
      "764 ms ± 5.14 ms per loop (mean ± std. dev. of 7 runs, 1 loop each)\n"
     ]
    }
   ],
   "source": [
    "%timeit unique(range(10000))"
   ]
  },
  {
   "cell_type": "code",
   "execution_count": 71,
   "id": "61e9dc6d",
   "metadata": {},
   "outputs": [],
   "source": [
    "def unique(values):\n",
    "    d = set()\n",
    "    for v in values:\n",
    "        if v not in d:\n",
    "            d.add(v)\n",
    "    return d"
   ]
  },
  {
   "cell_type": "code",
   "execution_count": 72,
   "id": "5ce76a10",
   "metadata": {},
   "outputs": [
    {
     "name": "stdout",
     "output_type": "stream",
     "text": [
      "1.31 ms ± 21.7 µs per loop (mean ± std. dev. of 7 runs, 1,000 loops each)\n"
     ]
    }
   ],
   "source": [
    "%timeit unique(range(10000))"
   ]
  },
  {
   "cell_type": "code",
   "execution_count": 73,
   "id": "15c0318e",
   "metadata": {},
   "outputs": [
    {
     "name": "stdout",
     "output_type": "stream",
     "text": [
      "14.8 ms ± 283 µs per loop (mean ± std. dev. of 7 runs, 100 loops each)\n"
     ]
    }
   ],
   "source": [
    "%timeit unique(range(100000))"
   ]
  },
  {
   "cell_type": "code",
   "execution_count": 76,
   "id": "fcd9c19e",
   "metadata": {},
   "outputs": [],
   "source": [
    "def unique(values):\n",
    "    return list(set(values))"
   ]
  },
  {
   "cell_type": "code",
   "execution_count": 77,
   "id": "4a9f46b5",
   "metadata": {},
   "outputs": [
    {
     "data": {
      "text/plain": [
       "['a', 'b', 'c']"
      ]
     },
     "execution_count": 77,
     "metadata": {},
     "output_type": "execute_result"
    }
   ],
   "source": [
    "unique(['a', 'b', 'c', 'a'])"
   ]
  },
  {
   "cell_type": "markdown",
   "id": "2137f690",
   "metadata": {},
   "source": [
    "## Understanding Python execution environment"
   ]
  },
  {
   "cell_type": "code",
   "execution_count": 78,
   "id": "21afc59c",
   "metadata": {},
   "outputs": [],
   "source": [
    "x = 1"
   ]
  },
  {
   "cell_type": "code",
   "execution_count": 85,
   "id": "26008bfb",
   "metadata": {},
   "outputs": [
    {
     "name": "stdout",
     "output_type": "stream",
     "text": [
      "Overwriting variables.py\n"
     ]
    }
   ],
   "source": [
    "%%file variables.py\n",
    "\n",
    "x = 1\n",
    "name = \"python\"\n",
    "\n",
    "g = globals()\n",
    "print(g)\n",
    "\n",
    "g['x'] = 2\n",
    "g['z'] = 10\n",
    "print(x)\n",
    "print(z)"
   ]
  },
  {
   "cell_type": "code",
   "execution_count": 86,
   "id": "59f10463",
   "metadata": {},
   "outputs": [
    {
     "name": "stdout",
     "output_type": "stream",
     "text": [
      "{'__name__': '__main__', '__doc__': None, '__package__': None, '__loader__': <_frozen_importlib_external.SourceFileLoader object at 0x1075113c0>, '__spec__': None, '__annotations__': {}, '__builtins__': <module 'builtins' (built-in)>, '__file__': '/Users/anand/trainings/2022/zeomega-python/variables.py', '__cached__': None, 'x': 1, 'name': 'python', 'g': {...}}\r\n",
      "2\r\n",
      "10\r\n"
     ]
    }
   ],
   "source": [
    "!python variables.py"
   ]
  },
  {
   "cell_type": "code",
   "execution_count": 87,
   "id": "714531dc",
   "metadata": {},
   "outputs": [
    {
     "name": "stdout",
     "output_type": "stream",
     "text": [
      "BEGIN mymodule\n",
      "7\n",
      "END mymodule\n"
     ]
    }
   ],
   "source": [
    "import mymodule"
   ]
  },
  {
   "cell_type": "code",
   "execution_count": 88,
   "id": "23611609",
   "metadata": {},
   "outputs": [
    {
     "data": {
      "text/plain": [
       "2"
      ]
     },
     "execution_count": 88,
     "metadata": {},
     "output_type": "execute_result"
    }
   ],
   "source": [
    "mymodule.x"
   ]
  },
  {
   "cell_type": "code",
   "execution_count": 89,
   "id": "185e11ca",
   "metadata": {},
   "outputs": [
    {
     "data": {
      "text/plain": [
       "7"
      ]
     },
     "execution_count": 89,
     "metadata": {},
     "output_type": "execute_result"
    }
   ],
   "source": [
    "mymodule.add(3, 4)"
   ]
  },
  {
   "cell_type": "code",
   "execution_count": 91,
   "id": "6687e661",
   "metadata": {},
   "outputs": [
    {
     "data": {
      "text/plain": [
       "dict_keys(['__name__', '__doc__', '__package__', '__loader__', '__spec__', '__file__', '__cached__', '__builtins__', 'x', 'add'])"
      ]
     },
     "execution_count": 91,
     "metadata": {},
     "output_type": "execute_result"
    }
   ],
   "source": [
    "mymodule.__dict__.keys()"
   ]
  },
  {
   "cell_type": "code",
   "execution_count": 92,
   "id": "aaaf1024",
   "metadata": {},
   "outputs": [
    {
     "data": {
      "text/plain": [
       "2"
      ]
     },
     "execution_count": 92,
     "metadata": {},
     "output_type": "execute_result"
    }
   ],
   "source": [
    "mymodule.__dict__['x']"
   ]
  },
  {
   "cell_type": "code",
   "execution_count": 93,
   "id": "a6b5618c",
   "metadata": {},
   "outputs": [],
   "source": [
    "mymodule.__dict__['x'] = 22"
   ]
  },
  {
   "cell_type": "code",
   "execution_count": 94,
   "id": "0a4f9833",
   "metadata": {},
   "outputs": [
    {
     "data": {
      "text/plain": [
       "22"
      ]
     },
     "execution_count": 94,
     "metadata": {},
     "output_type": "execute_result"
    }
   ],
   "source": [
    "mymodule.x"
   ]
  },
  {
   "cell_type": "markdown",
   "id": "c6860469",
   "metadata": {},
   "source": [
    "## Writing Beautiful Code"
   ]
  },
  {
   "cell_type": "markdown",
   "id": "ed958d46",
   "metadata": {},
   "source": [
    "<https://speakerdeck.com/anandology/writing-beautiful-code-europython-2017>"
   ]
  },
  {
   "cell_type": "markdown",
   "id": "f9ba4a13",
   "metadata": {},
   "source": [
    "## Classes"
   ]
  },
  {
   "cell_type": "code",
   "execution_count": 95,
   "id": "ff8b6f0a",
   "metadata": {},
   "outputs": [],
   "source": [
    "name = \"Hello\""
   ]
  },
  {
   "cell_type": "code",
   "execution_count": 96,
   "id": "fb3befac",
   "metadata": {},
   "outputs": [
    {
     "data": {
      "text/plain": [
       "'HELLO'"
      ]
     },
     "execution_count": 96,
     "metadata": {},
     "output_type": "execute_result"
    }
   ],
   "source": [
    "name.upper()"
   ]
  },
  {
   "cell_type": "code",
   "execution_count": 97,
   "id": "26200e07",
   "metadata": {},
   "outputs": [
    {
     "data": {
      "text/plain": [
       "str"
      ]
     },
     "execution_count": 97,
     "metadata": {},
     "output_type": "execute_result"
    }
   ],
   "source": [
    "type(name)"
   ]
  },
  {
   "cell_type": "markdown",
   "id": "be2be991",
   "metadata": {},
   "source": [
    "Here, `name` is an object of type `str`, or `name` is an instance of `str`."
   ]
  },
  {
   "cell_type": "markdown",
   "id": "6031e7ad",
   "metadata": {},
   "source": [
    "Classes allows us to pack the behavior along with the object."
   ]
  },
  {
   "cell_type": "code",
   "execution_count": 99,
   "id": "b97f5856",
   "metadata": {},
   "outputs": [
    {
     "data": {
      "text/plain": [
       "['__add__',\n",
       " '__class__',\n",
       " '__contains__',\n",
       " '__delattr__',\n",
       " '__dir__',\n",
       " '__doc__',\n",
       " '__eq__',\n",
       " '__format__',\n",
       " '__ge__',\n",
       " '__getattribute__',\n",
       " '__getitem__',\n",
       " '__getnewargs__',\n",
       " '__gt__',\n",
       " '__hash__',\n",
       " '__init__',\n",
       " '__init_subclass__',\n",
       " '__iter__',\n",
       " '__le__',\n",
       " '__len__',\n",
       " '__lt__',\n",
       " '__mod__',\n",
       " '__mul__',\n",
       " '__ne__',\n",
       " '__new__',\n",
       " '__reduce__',\n",
       " '__reduce_ex__',\n",
       " '__repr__',\n",
       " '__rmod__',\n",
       " '__rmul__',\n",
       " '__setattr__',\n",
       " '__sizeof__',\n",
       " '__str__',\n",
       " '__subclasshook__',\n",
       " 'capitalize',\n",
       " 'casefold',\n",
       " 'center',\n",
       " 'count',\n",
       " 'encode',\n",
       " 'endswith',\n",
       " 'expandtabs',\n",
       " 'find',\n",
       " 'format',\n",
       " 'format_map',\n",
       " 'index',\n",
       " 'isalnum',\n",
       " 'isalpha',\n",
       " 'isascii',\n",
       " 'isdecimal',\n",
       " 'isdigit',\n",
       " 'isidentifier',\n",
       " 'islower',\n",
       " 'isnumeric',\n",
       " 'isprintable',\n",
       " 'isspace',\n",
       " 'istitle',\n",
       " 'isupper',\n",
       " 'join',\n",
       " 'ljust',\n",
       " 'lower',\n",
       " 'lstrip',\n",
       " 'maketrans',\n",
       " 'partition',\n",
       " 'removeprefix',\n",
       " 'removesuffix',\n",
       " 'replace',\n",
       " 'rfind',\n",
       " 'rindex',\n",
       " 'rjust',\n",
       " 'rpartition',\n",
       " 'rsplit',\n",
       " 'rstrip',\n",
       " 'split',\n",
       " 'splitlines',\n",
       " 'startswith',\n",
       " 'strip',\n",
       " 'swapcase',\n",
       " 'title',\n",
       " 'translate',\n",
       " 'upper',\n",
       " 'zfill']"
      ]
     },
     "execution_count": 99,
     "metadata": {},
     "output_type": "execute_result"
    }
   ],
   "source": [
    "dir(name)"
   ]
  },
  {
   "cell_type": "code",
   "execution_count": 100,
   "id": "d89e8732",
   "metadata": {},
   "outputs": [],
   "source": [
    "import datetime"
   ]
  },
  {
   "cell_type": "code",
   "execution_count": 101,
   "id": "536d4cca",
   "metadata": {},
   "outputs": [],
   "source": [
    "d = datetime.date(2020, 10, 20)"
   ]
  },
  {
   "cell_type": "code",
   "execution_count": 102,
   "id": "dfc6ba19",
   "metadata": {},
   "outputs": [
    {
     "data": {
      "text/plain": [
       "datetime.date(2020, 10, 20)"
      ]
     },
     "execution_count": 102,
     "metadata": {},
     "output_type": "execute_result"
    }
   ],
   "source": [
    "d"
   ]
  },
  {
   "cell_type": "code",
   "execution_count": 104,
   "id": "101e9195",
   "metadata": {},
   "outputs": [
    {
     "data": {
      "text/plain": [
       "'2020-10-20'"
      ]
     },
     "execution_count": 104,
     "metadata": {},
     "output_type": "execute_result"
    }
   ],
   "source": [
    "d.strftime(\"%Y-%m-%d\")"
   ]
  },
  {
   "cell_type": "markdown",
   "id": "53b1ca9d",
   "metadata": {},
   "source": [
    "The date is made of three properties. The year, month and day. \n",
    "Instead of keeeping track of all these three values, we get one unified date. "
   ]
  },
  {
   "cell_type": "code",
   "execution_count": 107,
   "id": "aa4e6ba1",
   "metadata": {},
   "outputs": [
    {
     "name": "stdout",
     "output_type": "stream",
     "text": [
      "2020-10-20\n"
     ]
    }
   ],
   "source": [
    "def print_date(y, m, d):\n",
    "    print(f\"{y}-{m}-{d}\")\n",
    "    \n",
    "print_date(2020, 10, 20)"
   ]
  },
  {
   "cell_type": "code",
   "execution_count": 108,
   "id": "acc28c83",
   "metadata": {},
   "outputs": [
    {
     "name": "stdout",
     "output_type": "stream",
     "text": [
      "2020-10-20\n"
     ]
    }
   ],
   "source": [
    "def print_date(date):\n",
    "    print(f\"{date.year}-{date.month}-{date.day}\")\n",
    "    \n",
    "date = datetime.date(2020, 10, 20)\n",
    "print_date(date)    "
   ]
  },
  {
   "cell_type": "markdown",
   "id": "a71ba334",
   "metadata": {},
   "source": [
    "### Syntax of writing classes"
   ]
  },
  {
   "cell_type": "code",
   "execution_count": 127,
   "id": "47e6195e",
   "metadata": {},
   "outputs": [],
   "source": [
    "class Point:\n",
    "    def __init__(self, x, y):\n",
    "        print(\"Point.__init__\")\n",
    "        self.x = x\n",
    "        self.y = y\n",
    "        \n",
    "    def getx(self):\n",
    "        return self.x"
   ]
  },
  {
   "cell_type": "code",
   "execution_count": 128,
   "id": "e3eb6f9c",
   "metadata": {},
   "outputs": [
    {
     "name": "stdout",
     "output_type": "stream",
     "text": [
      "Point.__init__\n"
     ]
    }
   ],
   "source": [
    "p1 = Point(3, 4)"
   ]
  },
  {
   "cell_type": "code",
   "execution_count": 129,
   "id": "82d377f7",
   "metadata": {},
   "outputs": [
    {
     "data": {
      "text/plain": [
       "3"
      ]
     },
     "execution_count": 129,
     "metadata": {},
     "output_type": "execute_result"
    }
   ],
   "source": [
    "p1.x"
   ]
  },
  {
   "cell_type": "code",
   "execution_count": 130,
   "id": "3fe68cb2",
   "metadata": {},
   "outputs": [
    {
     "data": {
      "text/plain": [
       "4"
      ]
     },
     "execution_count": 130,
     "metadata": {},
     "output_type": "execute_result"
    }
   ],
   "source": [
    "p1.y"
   ]
  },
  {
   "cell_type": "markdown",
   "id": "cf73364e",
   "metadata": {},
   "source": [
    "Calling `Point(3, 4)` creates a new instance of Point. To do this it does the following steps:\n",
    "    \n",
    "* creates an empty object of type Point\n",
    "* initializes it by calling the `__init__` method\n",
    "* returns back the object"
   ]
  },
  {
   "cell_type": "code",
   "execution_count": 131,
   "id": "7de21780",
   "metadata": {},
   "outputs": [
    {
     "data": {
      "text/plain": [
       "{'x': 3, 'y': 4}"
      ]
     },
     "execution_count": 131,
     "metadata": {},
     "output_type": "execute_result"
    }
   ],
   "source": [
    "p1.__dict__"
   ]
  },
  {
   "cell_type": "code",
   "execution_count": 132,
   "id": "2c54416a",
   "metadata": {},
   "outputs": [
    {
     "data": {
      "text/plain": [
       "3"
      ]
     },
     "execution_count": 132,
     "metadata": {},
     "output_type": "execute_result"
    }
   ],
   "source": [
    "p1.x"
   ]
  },
  {
   "cell_type": "code",
   "execution_count": 133,
   "id": "5bdc8c6f",
   "metadata": {},
   "outputs": [
    {
     "data": {
      "text/plain": [
       "3"
      ]
     },
     "execution_count": 133,
     "metadata": {},
     "output_type": "execute_result"
    }
   ],
   "source": [
    "p1.__dict__['x'] # p1.x"
   ]
  },
  {
   "cell_type": "code",
   "execution_count": 134,
   "id": "44881313",
   "metadata": {},
   "outputs": [],
   "source": [
    "p1.__dict__['x'] = 33   # p1.x = 33"
   ]
  },
  {
   "cell_type": "code",
   "execution_count": 135,
   "id": "5c5b8efa",
   "metadata": {},
   "outputs": [
    {
     "data": {
      "text/plain": [
       "33"
      ]
     },
     "execution_count": 135,
     "metadata": {},
     "output_type": "execute_result"
    }
   ],
   "source": [
    "p1.x"
   ]
  },
  {
   "cell_type": "code",
   "execution_count": 136,
   "id": "2437720c",
   "metadata": {},
   "outputs": [
    {
     "data": {
      "text/plain": [
       "33"
      ]
     },
     "execution_count": 136,
     "metadata": {},
     "output_type": "execute_result"
    }
   ],
   "source": [
    "p1.getx()"
   ]
  },
  {
   "cell_type": "code",
   "execution_count": 137,
   "id": "48739ffd",
   "metadata": {},
   "outputs": [
    {
     "data": {
      "text/plain": [
       "__main__.Point"
      ]
     },
     "execution_count": 137,
     "metadata": {},
     "output_type": "execute_result"
    }
   ],
   "source": [
    "Point"
   ]
  },
  {
   "cell_type": "code",
   "execution_count": 138,
   "id": "5658bbcd",
   "metadata": {},
   "outputs": [
    {
     "data": {
      "text/plain": [
       "mappingproxy({'__module__': '__main__',\n",
       "              '__init__': <function __main__.Point.__init__(self, x, y)>,\n",
       "              'getx': <function __main__.Point.getx(self)>,\n",
       "              '__dict__': <attribute '__dict__' of 'Point' objects>,\n",
       "              '__weakref__': <attribute '__weakref__' of 'Point' objects>,\n",
       "              '__doc__': None})"
      ]
     },
     "execution_count": 138,
     "metadata": {},
     "output_type": "execute_result"
    }
   ],
   "source": [
    "Point.__dict__"
   ]
  },
  {
   "cell_type": "code",
   "execution_count": 139,
   "id": "e70d0a4a",
   "metadata": {},
   "outputs": [
    {
     "data": {
      "text/plain": [
       "<function __main__.Point.getx(self)>"
      ]
     },
     "execution_count": 139,
     "metadata": {},
     "output_type": "execute_result"
    }
   ],
   "source": [
    "Point.getx"
   ]
  },
  {
   "cell_type": "code",
   "execution_count": 141,
   "id": "4275f753",
   "metadata": {},
   "outputs": [
    {
     "data": {
      "text/plain": [
       "33"
      ]
     },
     "execution_count": 141,
     "metadata": {},
     "output_type": "execute_result"
    }
   ],
   "source": [
    "Point.getx(p1) # p1.getx()"
   ]
  },
  {
   "cell_type": "code",
   "execution_count": 142,
   "id": "8a4e5dd9",
   "metadata": {},
   "outputs": [],
   "source": [
    "def gety(p):\n",
    "    return p.y"
   ]
  },
  {
   "cell_type": "code",
   "execution_count": 143,
   "id": "9012f278",
   "metadata": {},
   "outputs": [
    {
     "data": {
      "text/plain": [
       "4"
      ]
     },
     "execution_count": 143,
     "metadata": {},
     "output_type": "execute_result"
    }
   ],
   "source": [
    "gety(p1)"
   ]
  },
  {
   "cell_type": "code",
   "execution_count": 144,
   "id": "92b8d0ea",
   "metadata": {},
   "outputs": [],
   "source": [
    "Point.gety = gety"
   ]
  },
  {
   "cell_type": "code",
   "execution_count": 145,
   "id": "ff1a0b7e",
   "metadata": {},
   "outputs": [
    {
     "data": {
      "text/plain": [
       "4"
      ]
     },
     "execution_count": 145,
     "metadata": {},
     "output_type": "execute_result"
    }
   ],
   "source": [
    "Point.gety(p1)"
   ]
  },
  {
   "cell_type": "code",
   "execution_count": 147,
   "id": "2e23a5cd",
   "metadata": {},
   "outputs": [
    {
     "data": {
      "text/plain": [
       "4"
      ]
     },
     "execution_count": 147,
     "metadata": {},
     "output_type": "execute_result"
    }
   ],
   "source": [
    "p1.gety() # Point.gety(p1)"
   ]
  },
  {
   "cell_type": "code",
   "execution_count": 148,
   "id": "c511ce90",
   "metadata": {},
   "outputs": [],
   "source": [
    "class Point2:\n",
    "    def __init__(p, x, y):\n",
    "        print(\"Point.__init__\")\n",
    "        p.x = x\n",
    "        p.y = y\n",
    "        \n",
    "    def getx(p):\n",
    "        return p.x"
   ]
  },
  {
   "cell_type": "code",
   "execution_count": 149,
   "id": "d1c0a197",
   "metadata": {},
   "outputs": [
    {
     "name": "stdout",
     "output_type": "stream",
     "text": [
      "Point.__init__\n"
     ]
    }
   ],
   "source": [
    "p2 = Point2(10, 20)"
   ]
  },
  {
   "cell_type": "code",
   "execution_count": 150,
   "id": "0170f147",
   "metadata": {},
   "outputs": [
    {
     "data": {
      "text/plain": [
       "10"
      ]
     },
     "execution_count": 150,
     "metadata": {},
     "output_type": "execute_result"
    }
   ],
   "source": [
    "p2.getx()"
   ]
  },
  {
   "cell_type": "markdown",
   "id": "11c99963",
   "metadata": {},
   "source": [
    "The argument to a method is named `self` by convention. It is possible to call it something else, but it is not usually recommended."
   ]
  },
  {
   "cell_type": "markdown",
   "id": "a169e7d3",
   "metadata": {},
   "source": [
    "**Q:** Can we have another init function in a class?"
   ]
  },
  {
   "cell_type": "code",
   "execution_count": 152,
   "id": "c49f7a46",
   "metadata": {},
   "outputs": [],
   "source": [
    "class Point3:\n",
    "    def init(self, x, y):\n",
    "        self.x = x\n",
    "        self.y = y\n",
    "        \n",
    "    def getx(self):\n",
    "        return self.x"
   ]
  },
  {
   "cell_type": "code",
   "execution_count": 153,
   "id": "ef732e95",
   "metadata": {},
   "outputs": [],
   "source": [
    "p3 = Point3() # no __init__ defined, so can't pass any arguments"
   ]
  },
  {
   "cell_type": "code",
   "execution_count": 154,
   "id": "280cb8ed",
   "metadata": {},
   "outputs": [],
   "source": [
    "p3.init(10, 20)"
   ]
  },
  {
   "cell_type": "code",
   "execution_count": 155,
   "id": "6d4cf7ad",
   "metadata": {},
   "outputs": [
    {
     "data": {
      "text/plain": [
       "10"
      ]
     },
     "execution_count": 155,
     "metadata": {},
     "output_type": "execute_result"
    }
   ],
   "source": [
    "p3.x"
   ]
  },
  {
   "cell_type": "code",
   "execution_count": 156,
   "id": "8c9748a9",
   "metadata": {},
   "outputs": [
    {
     "data": {
      "text/plain": [
       "20"
      ]
     },
     "execution_count": 156,
     "metadata": {},
     "output_type": "execute_result"
    }
   ],
   "source": [
    "p3.y"
   ]
  },
  {
   "cell_type": "code",
   "execution_count": 157,
   "id": "40ddd41c",
   "metadata": {},
   "outputs": [
    {
     "data": {
      "text/plain": [
       "<__main__.Point at 0x113dce350>"
      ]
     },
     "execution_count": 157,
     "metadata": {},
     "output_type": "execute_result"
    }
   ],
   "source": [
    "p1"
   ]
  },
  {
   "cell_type": "markdown",
   "id": "97403a84",
   "metadata": {},
   "source": [
    "#### The `__str__` and `__repr__`"
   ]
  },
  {
   "cell_type": "markdown",
   "id": "7d062dcf",
   "metadata": {},
   "source": [
    "The `__str__` method is used to convert an object into a string."
   ]
  },
  {
   "cell_type": "code",
   "execution_count": 162,
   "id": "dd6bde86",
   "metadata": {},
   "outputs": [],
   "source": [
    "class Point:\n",
    "    def __init__(self, x, y):\n",
    "        print(\"Point.__init__\")\n",
    "        self.x = x\n",
    "        self.y = y\n",
    "        \n",
    "    def __str__(self):\n",
    "        return f\"({self.x}, {self.y})\"\n",
    "        \n",
    "    def getx(self):\n",
    "        return self.x"
   ]
  },
  {
   "cell_type": "code",
   "execution_count": 163,
   "id": "745c7985",
   "metadata": {},
   "outputs": [
    {
     "name": "stdout",
     "output_type": "stream",
     "text": [
      "Point.__init__\n"
     ]
    }
   ],
   "source": [
    "p = Point(4, 5)"
   ]
  },
  {
   "cell_type": "code",
   "execution_count": 164,
   "id": "4745949c",
   "metadata": {},
   "outputs": [
    {
     "name": "stdout",
     "output_type": "stream",
     "text": [
      "(4, 5)\n"
     ]
    }
   ],
   "source": [
    "print(p)"
   ]
  },
  {
   "cell_type": "code",
   "execution_count": 165,
   "id": "e54ffad5",
   "metadata": {},
   "outputs": [
    {
     "name": "stdout",
     "output_type": "stream",
     "text": [
      "I've a created a point (4, 5)\n"
     ]
    }
   ],
   "source": [
    "print(\"I've a created a point\", p)"
   ]
  },
  {
   "cell_type": "markdown",
   "id": "c456dc35",
   "metadata": {},
   "source": [
    "The need for `repr`:"
   ]
  },
  {
   "cell_type": "code",
   "execution_count": 166,
   "id": "a7fbb674",
   "metadata": {},
   "outputs": [
    {
     "name": "stdout",
     "output_type": "stream",
     "text": [
      "1 1\n"
     ]
    }
   ],
   "source": [
    "print(1, \"1\")"
   ]
  },
  {
   "cell_type": "code",
   "execution_count": 168,
   "id": "695fe4c4",
   "metadata": {},
   "outputs": [
    {
     "data": {
      "text/plain": [
       "[1, '1']"
      ]
     },
     "execution_count": 168,
     "metadata": {},
     "output_type": "execute_result"
    }
   ],
   "source": [
    "[1, \"1\"] # what is printed now is repr of each element"
   ]
  },
  {
   "cell_type": "markdown",
   "id": "e0f026f7",
   "metadata": {},
   "source": [
    "The `repr` may be same as str or it could be different. Typically repr includes hints about the type of the value. "
   ]
  },
  {
   "cell_type": "code",
   "execution_count": 170,
   "id": "7a5930c2",
   "metadata": {},
   "outputs": [
    {
     "name": "stdout",
     "output_type": "stream",
     "text": [
      "(4, 5)\n"
     ]
    }
   ],
   "source": [
    "print(p)"
   ]
  },
  {
   "cell_type": "code",
   "execution_count": 171,
   "id": "5cdde815",
   "metadata": {},
   "outputs": [
    {
     "data": {
      "text/plain": [
       "[1, (2, 3), <__main__.Point at 0x113ffdb40>]"
      ]
     },
     "execution_count": 171,
     "metadata": {},
     "output_type": "execute_result"
    }
   ],
   "source": [
    "[1, (2, 3), p]"
   ]
  },
  {
   "cell_type": "code",
   "execution_count": 181,
   "id": "2c6d3d04",
   "metadata": {},
   "outputs": [],
   "source": [
    "class Point:\n",
    "    def __init__(self, x, y):\n",
    "        self.x = x\n",
    "        self.y = y\n",
    "        \n",
    "    def __str__(self):\n",
    "        return f\"({self.x}, {self.y})\"\n",
    "\n",
    "    def __repr__(self):\n",
    "        return f\"<Point({self.x}, {self.y})>\"\n",
    "#         return f\"Point({self.x}, {self.y})\"\n",
    "        \n",
    "    def getx(self):\n",
    "        return self.x"
   ]
  },
  {
   "cell_type": "code",
   "execution_count": 182,
   "id": "a010dd57",
   "metadata": {},
   "outputs": [],
   "source": [
    "p = Point(4, 5)"
   ]
  },
  {
   "cell_type": "code",
   "execution_count": 183,
   "id": "2e284677",
   "metadata": {},
   "outputs": [
    {
     "data": {
      "text/plain": [
       "[1, (2, 3), <Point(4, 5)>]"
      ]
     },
     "execution_count": 183,
     "metadata": {},
     "output_type": "execute_result"
    }
   ],
   "source": [
    "[1, (2, 3), p]"
   ]
  },
  {
   "cell_type": "markdown",
   "id": "f9c6639b",
   "metadata": {},
   "source": [
    "If we define only `__repr__` and skip `__str__`, it will use `__repr__` for str."
   ]
  },
  {
   "cell_type": "markdown",
   "id": "f9c56059",
   "metadata": {},
   "source": [
    "### More methods"
   ]
  },
  {
   "cell_type": "code",
   "execution_count": 191,
   "id": "55adf48c",
   "metadata": {},
   "outputs": [],
   "source": [
    "class Point:\n",
    "    def __init__(self, x, y):\n",
    "        self.x = x\n",
    "        self.y = y\n",
    "        \n",
    "    def add(self, p):\n",
    "        \"\"\"Adds a point to another.\n",
    "        \n",
    "            >>> p1 = Point(1, 2)\n",
    "            >>> p2 = Point(10, 20)\n",
    "            >>> p1.add(p2)\n",
    "            <Point(11, 22)>\n",
    "        \"\"\"\n",
    "        x = self.x + p.x\n",
    "        y = self.y + p.y\n",
    "        return Point(x, y)\n",
    "        \n",
    "    def __str__(self):\n",
    "        return f\"({self.x}, {self.y})\"\n",
    "\n",
    "    def __repr__(self):\n",
    "        return f\"<Point({self.x}, {self.y})>\"\n"
   ]
  },
  {
   "cell_type": "code",
   "execution_count": 192,
   "id": "3b807017",
   "metadata": {},
   "outputs": [],
   "source": [
    "p1 = Point(1, 2)\n",
    "p2 = Point(3, 4)\n",
    "p3 = Point(5, 6)"
   ]
  },
  {
   "cell_type": "markdown",
   "id": "6f6fb14d",
   "metadata": {},
   "source": [
    "How to add all these three points?"
   ]
  },
  {
   "cell_type": "code",
   "execution_count": 193,
   "id": "05aea26b",
   "metadata": {},
   "outputs": [],
   "source": [
    "p12 = p1.add(p2)"
   ]
  },
  {
   "cell_type": "code",
   "execution_count": 194,
   "id": "49468c35",
   "metadata": {},
   "outputs": [
    {
     "data": {
      "text/plain": [
       "<Point(4, 6)>"
      ]
     },
     "execution_count": 194,
     "metadata": {},
     "output_type": "execute_result"
    }
   ],
   "source": [
    "p12"
   ]
  },
  {
   "cell_type": "code",
   "execution_count": 195,
   "id": "0f97c252",
   "metadata": {},
   "outputs": [
    {
     "data": {
      "text/plain": [
       "<Point(9, 12)>"
      ]
     },
     "execution_count": 195,
     "metadata": {},
     "output_type": "execute_result"
    }
   ],
   "source": [
    "p1.add(p2).add(p3)"
   ]
  },
  {
   "cell_type": "markdown",
   "id": "516f5ac6",
   "metadata": {},
   "source": [
    "**Problem:** Add a method `double` to the `Point` class. It should return a new point with both x and y coordinates doubled.\n",
    "\n",
    "```\n",
    ">>> p = Point(2, 3)\n",
    ">>> p2 = p.double()\n",
    ">>> p2\n",
    "<Point(4, 6)>\n",
    ">>> p.double().double()\n",
    "<Point(8, 12)>\n",
    "```"
   ]
  },
  {
   "cell_type": "markdown",
   "id": "6027d44e",
   "metadata": {},
   "source": [
    "### Example: Timer"
   ]
  },
  {
   "cell_type": "code",
   "execution_count": 196,
   "id": "68ebb015",
   "metadata": {},
   "outputs": [],
   "source": [
    "import time"
   ]
  },
  {
   "cell_type": "code",
   "execution_count": 197,
   "id": "6c278cc1",
   "metadata": {},
   "outputs": [
    {
     "data": {
      "text/plain": [
       "1644489361.8273559"
      ]
     },
     "execution_count": 197,
     "metadata": {},
     "output_type": "execute_result"
    }
   ],
   "source": [
    "time.time()"
   ]
  },
  {
   "cell_type": "code",
   "execution_count": 202,
   "id": "eb479007",
   "metadata": {},
   "outputs": [],
   "source": [
    "def unique(values):\n",
    "    d = []\n",
    "    for v in values:\n",
    "        if v not in d:\n",
    "            d.append(v)\n",
    "    return d"
   ]
  },
  {
   "cell_type": "code",
   "execution_count": 205,
   "id": "775908b7",
   "metadata": {},
   "outputs": [
    {
     "name": "stdout",
     "output_type": "stream",
     "text": [
      "Time taken: 0.764 seconds\n"
     ]
    }
   ],
   "source": [
    "t0 = time.time()\n",
    "unique(range(10000))\n",
    "t1 = time.time()\n",
    "dt = t1-t0\n",
    "print(f\"Time taken: {dt:0.3f} seconds\")"
   ]
  },
  {
   "cell_type": "code",
   "execution_count": 206,
   "id": "d0a26e4a",
   "metadata": {},
   "outputs": [
    {
     "name": "stdout",
     "output_type": "stream",
     "text": [
      "Time taken: 3.102 seconds\n"
     ]
    }
   ],
   "source": [
    "t0 = time.time()\n",
    "unique(range(20000))\n",
    "t1 = time.time()\n",
    "dt = t1-t0\n",
    "print(f\"Time taken: {dt:0.3f} seconds\")"
   ]
  },
  {
   "cell_type": "markdown",
   "id": "727ebc77",
   "metadata": {},
   "source": [
    "One way to avoid the details time and difference etc. is to move it to a class.\n",
    "\n",
    "```\n",
    "t = Timer()\n",
    "t.start()\n",
    "do_something()\n",
    "t.stop()\n",
    "t.diplay()\n",
    "```"
   ]
  },
  {
   "cell_type": "code",
   "execution_count": 213,
   "id": "f20576b0",
   "metadata": {},
   "outputs": [],
   "source": [
    "import time\n",
    "\n",
    "class Timer:\n",
    "    def start(self):\n",
    "        self.t0 = time.time()\n",
    "\n",
    "    def stop(self):\n",
    "        self.t1 = time.time()\n",
    "    \n",
    "    def get_time_taken(self):\n",
    "        return self.t1-self.t0\n",
    "    \n",
    "    def display(self):\n",
    "        dt = self.get_time_taken()\n",
    "        print(f\"Time taken: {dt:0.3f} seconds\")"
   ]
  },
  {
   "cell_type": "code",
   "execution_count": 212,
   "id": "647acb49",
   "metadata": {},
   "outputs": [
    {
     "name": "stdout",
     "output_type": "stream",
     "text": [
      "Time taken: 3.113 seconds\n"
     ]
    }
   ],
   "source": [
    "t = Timer()\n",
    "t.start()\n",
    "unique(range(20000))\n",
    "t.stop()\n",
    "t.display()"
   ]
  },
  {
   "cell_type": "markdown",
   "id": "30ad247f",
   "metadata": {},
   "source": [
    "## Class Inheritance"
   ]
  },
  {
   "cell_type": "code",
   "execution_count": 214,
   "id": "62064ce5",
   "metadata": {},
   "outputs": [
    {
     "name": "stdout",
     "output_type": "stream",
     "text": [
      "Overwriting three.txt\n"
     ]
    }
   ],
   "source": [
    "%%file three.txt\n",
    "One\n",
    "Two\n",
    "Three"
   ]
  },
  {
   "cell_type": "code",
   "execution_count": 218,
   "id": "8c69373a",
   "metadata": {},
   "outputs": [],
   "source": [
    "class Formatter:\n",
    "    def format_text(self, text):\n",
    "        \"\"\"Method to format text.\"\n",
    "        \n",
    "        Subclasses can override this method to specify\n",
    "        how to format given text.\n",
    "        \"\"\"\n",
    "        return text\n",
    "\n",
    "    def format_file(self, filename):\n",
    "        text = open(filename).read()\n",
    "        return self.format_text(text)"
   ]
  },
  {
   "cell_type": "code",
   "execution_count": 219,
   "id": "12d513fe",
   "metadata": {},
   "outputs": [
    {
     "data": {
      "text/plain": [
       "'Hello'"
      ]
     },
     "execution_count": 219,
     "metadata": {},
     "output_type": "execute_result"
    }
   ],
   "source": [
    "f = Formatter()\n",
    "f.format_text(\"Hello\")"
   ]
  },
  {
   "cell_type": "code",
   "execution_count": 220,
   "id": "3b734591",
   "metadata": {},
   "outputs": [
    {
     "name": "stdout",
     "output_type": "stream",
     "text": [
      "One\n",
      "Two\n",
      "Three\n",
      "\n"
     ]
    }
   ],
   "source": [
    "print(f.format_file(\"three.txt\"))"
   ]
  },
  {
   "cell_type": "code",
   "execution_count": 221,
   "id": "5d211b6a",
   "metadata": {},
   "outputs": [],
   "source": [
    "class UpperCaseFormatter(Formatter):\n",
    "    def format_text(self, text):\n",
    "        return text.upper()"
   ]
  },
  {
   "cell_type": "code",
   "execution_count": 222,
   "id": "d8fd7f59",
   "metadata": {},
   "outputs": [],
   "source": [
    "f = UpperCaseFormatter()"
   ]
  },
  {
   "cell_type": "code",
   "execution_count": 224,
   "id": "e01277f5",
   "metadata": {},
   "outputs": [
    {
     "name": "stdout",
     "output_type": "stream",
     "text": [
      "HELLO\n"
     ]
    }
   ],
   "source": [
    "print(f.format_text(\"Hello\"))"
   ]
  },
  {
   "cell_type": "code",
   "execution_count": 225,
   "id": "34099b54",
   "metadata": {},
   "outputs": [
    {
     "name": "stdout",
     "output_type": "stream",
     "text": [
      "ONE\n",
      "TWO\n",
      "THREE\n",
      "\n"
     ]
    }
   ],
   "source": [
    "print(f.format_file(\"three.txt\"))"
   ]
  },
  {
   "cell_type": "markdown",
   "id": "f9fb8cfa",
   "metadata": {},
   "source": [
    "**Problem:** Implement `LowerCaseFormatter`.\n",
    "    \n",
    "```\n",
    ">>> f = LowerCaseFormatter()\n",
    ">>> f.format_text(\"Hello\")\n",
    "'hello'\n",
    ">>> print(f.format_file(\"three.txt\"))\n",
    "one\n",
    "two\n",
    "three\n",
    "\n",
    "```"
   ]
  },
  {
   "cell_type": "code",
   "execution_count": 227,
   "id": "5f218f34",
   "metadata": {},
   "outputs": [],
   "source": [
    "class LineFormatter(Formatter):\n",
    "    def format_text(self, text):\n",
    "        lines = text.splitlines()\n",
    "        lines = [self.format_line(line) for line in lines]\n",
    "        return \"\\n\".join(lines)\n",
    "    \n",
    "    def format_line(self, line):\n",
    "        \"\"\"Format a line.\n",
    "        \n",
    "        The subclasses can specify how to format a line.\n",
    "        \"\"\"\n",
    "        return line"
   ]
  },
  {
   "cell_type": "code",
   "execution_count": 231,
   "id": "f237fc46",
   "metadata": {},
   "outputs": [],
   "source": [
    "class PrefixFormatter(LineFormatter):\n",
    "    def __init__(self, prefix):\n",
    "        self.prefix = prefix\n",
    "        \n",
    "    def format_line(self, line):\n",
    "        return self.prefix + line"
   ]
  },
  {
   "cell_type": "code",
   "execution_count": 232,
   "id": "c9335d06",
   "metadata": {},
   "outputs": [],
   "source": [
    "f = PrefixFormatter(\"[INFO] \")"
   ]
  },
  {
   "cell_type": "code",
   "execution_count": 233,
   "id": "3e33e959",
   "metadata": {},
   "outputs": [
    {
     "data": {
      "text/plain": [
       "'[INFO] Hello'"
      ]
     },
     "execution_count": 233,
     "metadata": {},
     "output_type": "execute_result"
    }
   ],
   "source": [
    "f.format_line(\"Hello\")"
   ]
  },
  {
   "cell_type": "code",
   "execution_count": 234,
   "id": "8fe98be3",
   "metadata": {},
   "outputs": [
    {
     "data": {
      "text/plain": [
       "'[INFO] Hello'"
      ]
     },
     "execution_count": 234,
     "metadata": {},
     "output_type": "execute_result"
    }
   ],
   "source": [
    "f.format_text(\"Hello\")"
   ]
  },
  {
   "cell_type": "code",
   "execution_count": 236,
   "id": "4d8d2e4e",
   "metadata": {},
   "outputs": [
    {
     "name": "stdout",
     "output_type": "stream",
     "text": [
      "[INFO] 1\n",
      "[INFO] 2\n",
      "[INFO] 3\n"
     ]
    }
   ],
   "source": [
    "print(f.format_text(\"1\\n2\\n3\"))"
   ]
  },
  {
   "cell_type": "code",
   "execution_count": 237,
   "id": "51190f00",
   "metadata": {},
   "outputs": [
    {
     "name": "stdout",
     "output_type": "stream",
     "text": [
      "[INFO] One\n",
      "[INFO] Two\n",
      "[INFO] Three\n"
     ]
    }
   ],
   "source": [
    "print(f.format_file(\"three.txt\"))"
   ]
  },
  {
   "cell_type": "markdown",
   "id": "5eaa737c",
   "metadata": {},
   "source": [
    "Problem: Implement a `LineNumberFormatter` class.\n",
    "\n",
    "\n",
    "```\n",
    ">>> f = LineNumberFormatter()\n",
    ">>> print(f.format_line(\"a\"))\n",
    "1: a\n",
    "\n",
    ">>> f = LineNumberFormatter()\n",
    ">>> print(f.format_text(\"a\\nb\\nc\"))\n",
    "1: a\n",
    "2: b\n",
    "3: c\n",
    "\n",
    ">>> f = LineNumberFormatter()\n",
    ">>> print(f.format_file(\"three.txt\"))\n",
    "1: One\n",
    "2: Two\n",
    "3: Three\n",
    "```"
   ]
  },
  {
   "cell_type": "markdown",
   "id": "e3b8f46d",
   "metadata": {},
   "source": [
    "### Exception Handling"
   ]
  },
  {
   "cell_type": "code",
   "execution_count": 238,
   "id": "1cc8fa97",
   "metadata": {},
   "outputs": [
    {
     "ename": "NameError",
     "evalue": "name 'no_such_variable' is not defined",
     "output_type": "error",
     "traceback": [
      "\u001b[0;31m---------------------------------------------------------------------------\u001b[0m",
      "\u001b[0;31mNameError\u001b[0m                                 Traceback (most recent call last)",
      "Input \u001b[0;32mIn [238]\u001b[0m, in \u001b[0;36m<module>\u001b[0;34m\u001b[0m\n\u001b[0;32m----> 1\u001b[0m \u001b[43mno_such_variable\u001b[49m\n",
      "\u001b[0;31mNameError\u001b[0m: name 'no_such_variable' is not defined"
     ]
    }
   ],
   "source": [
    "no_such_variable"
   ]
  },
  {
   "cell_type": "code",
   "execution_count": 239,
   "id": "51297277",
   "metadata": {},
   "outputs": [
    {
     "ename": "ValueError",
     "evalue": "invalid literal for int() with base 10: 'bad-number'",
     "output_type": "error",
     "traceback": [
      "\u001b[0;31m---------------------------------------------------------------------------\u001b[0m",
      "\u001b[0;31mValueError\u001b[0m                                Traceback (most recent call last)",
      "Input \u001b[0;32mIn [239]\u001b[0m, in \u001b[0;36m<module>\u001b[0;34m\u001b[0m\n\u001b[0;32m----> 1\u001b[0m \u001b[38;5;28;43mint\u001b[39;49m\u001b[43m(\u001b[49m\u001b[38;5;124;43m\"\u001b[39;49m\u001b[38;5;124;43mbad-number\u001b[39;49m\u001b[38;5;124;43m\"\u001b[39;49m\u001b[43m)\u001b[49m\n",
      "\u001b[0;31mValueError\u001b[0m: invalid literal for int() with base 10: 'bad-number'"
     ]
    }
   ],
   "source": [
    "int(\"bad-number\")"
   ]
  },
  {
   "cell_type": "code",
   "execution_count": 240,
   "id": "f9dfc42c",
   "metadata": {},
   "outputs": [
    {
     "ename": "FileNotFoundError",
     "evalue": "[Errno 2] No such file or directory: 'no-file'",
     "output_type": "error",
     "traceback": [
      "\u001b[0;31m---------------------------------------------------------------------------\u001b[0m",
      "\u001b[0;31mFileNotFoundError\u001b[0m                         Traceback (most recent call last)",
      "Input \u001b[0;32mIn [240]\u001b[0m, in \u001b[0;36m<module>\u001b[0;34m\u001b[0m\n\u001b[0;32m----> 1\u001b[0m \u001b[38;5;28;43mopen\u001b[39;49m\u001b[43m(\u001b[49m\u001b[38;5;124;43m\"\u001b[39;49m\u001b[38;5;124;43mno-file\u001b[39;49m\u001b[38;5;124;43m\"\u001b[39;49m\u001b[43m)\u001b[49m\n",
      "\u001b[0;31mFileNotFoundError\u001b[0m: [Errno 2] No such file or directory: 'no-file'"
     ]
    }
   ],
   "source": [
    "open(\"no-file\")"
   ]
  },
  {
   "cell_type": "code",
   "execution_count": 244,
   "id": "e60edbd5",
   "metadata": {},
   "outputs": [],
   "source": [
    "def toint(strvalue):\n",
    "    try:\n",
    "        return int(strvalue)\n",
    "    except ValueError:\n",
    "        print(\"Bad number:\", strvalue)\n",
    "        return 0"
   ]
  },
  {
   "cell_type": "code",
   "execution_count": 245,
   "id": "ea985ce8",
   "metadata": {},
   "outputs": [
    {
     "data": {
      "text/plain": [
       "50"
      ]
     },
     "execution_count": 245,
     "metadata": {},
     "output_type": "execute_result"
    }
   ],
   "source": [
    "toint('50')"
   ]
  },
  {
   "cell_type": "code",
   "execution_count": 246,
   "id": "22c9eabe",
   "metadata": {},
   "outputs": [
    {
     "name": "stdout",
     "output_type": "stream",
     "text": [
      "Bad number: 5a\n"
     ]
    },
    {
     "data": {
      "text/plain": [
       "0"
      ]
     },
     "execution_count": 246,
     "metadata": {},
     "output_type": "execute_result"
    }
   ],
   "source": [
    "toint('5a')"
   ]
  },
  {
   "cell_type": "code",
   "execution_count": 247,
   "id": "093929fc",
   "metadata": {},
   "outputs": [
    {
     "name": "stdout",
     "output_type": "stream",
     "text": [
      "Bad number: 5a\n"
     ]
    },
    {
     "data": {
      "text/plain": [
       "1"
      ]
     },
     "execution_count": 247,
     "metadata": {},
     "output_type": "execute_result"
    }
   ],
   "source": [
    "1 + toint('5a')"
   ]
  },
  {
   "cell_type": "code",
   "execution_count": 248,
   "id": "42a16cab",
   "metadata": {},
   "outputs": [],
   "source": [
    "def f():\n",
    "    # comment 1\n",
    "    # comment 2    \n",
    "    g()\n",
    "    \n",
    "def g():\n",
    "    h()\n",
    "    \n",
    "def h():\n",
    "    open(\"bad-file\")"
   ]
  },
  {
   "cell_type": "code",
   "execution_count": 250,
   "id": "d8b7af58",
   "metadata": {},
   "outputs": [
    {
     "ename": "FileNotFoundError",
     "evalue": "[Errno 2] No such file or directory: 'bad-file'",
     "output_type": "error",
     "traceback": [
      "\u001b[0;31m---------------------------------------------------------------------------\u001b[0m",
      "\u001b[0;31mFileNotFoundError\u001b[0m                         Traceback (most recent call last)",
      "Input \u001b[0;32mIn [250]\u001b[0m, in \u001b[0;36m<module>\u001b[0;34m\u001b[0m\n\u001b[0;32m----> 1\u001b[0m \u001b[43mf\u001b[49m\u001b[43m(\u001b[49m\u001b[43m)\u001b[49m\n",
      "Input \u001b[0;32mIn [248]\u001b[0m, in \u001b[0;36mf\u001b[0;34m()\u001b[0m\n\u001b[1;32m      1\u001b[0m \u001b[38;5;28;01mdef\u001b[39;00m \u001b[38;5;21mf\u001b[39m():\n\u001b[1;32m      2\u001b[0m     \u001b[38;5;66;03m# comment 1\u001b[39;00m\n\u001b[1;32m      3\u001b[0m     \u001b[38;5;66;03m# comment 2    \u001b[39;00m\n\u001b[0;32m----> 4\u001b[0m     \u001b[43mg\u001b[49m\u001b[43m(\u001b[49m\u001b[43m)\u001b[49m\n",
      "Input \u001b[0;32mIn [248]\u001b[0m, in \u001b[0;36mg\u001b[0;34m()\u001b[0m\n\u001b[1;32m      6\u001b[0m \u001b[38;5;28;01mdef\u001b[39;00m \u001b[38;5;21mg\u001b[39m():\n\u001b[0;32m----> 7\u001b[0m     \u001b[43mh\u001b[49m\u001b[43m(\u001b[49m\u001b[43m)\u001b[49m\n",
      "Input \u001b[0;32mIn [248]\u001b[0m, in \u001b[0;36mh\u001b[0;34m()\u001b[0m\n\u001b[1;32m      9\u001b[0m \u001b[38;5;28;01mdef\u001b[39;00m \u001b[38;5;21mh\u001b[39m():\n\u001b[0;32m---> 10\u001b[0m     \u001b[38;5;28;43mopen\u001b[39;49m\u001b[43m(\u001b[49m\u001b[38;5;124;43m\"\u001b[39;49m\u001b[38;5;124;43mbad-file\u001b[39;49m\u001b[38;5;124;43m\"\u001b[39;49m\u001b[43m)\u001b[49m\n",
      "\u001b[0;31mFileNotFoundError\u001b[0m: [Errno 2] No such file or directory: 'bad-file'"
     ]
    }
   ],
   "source": [
    "f()"
   ]
  },
  {
   "cell_type": "code",
   "execution_count": 253,
   "id": "299ef1a7",
   "metadata": {},
   "outputs": [
    {
     "name": "stdout",
     "output_type": "stream",
     "text": [
      "Bad value a\n",
      "in finally\n"
     ]
    }
   ],
   "source": [
    "value = 'a'\n",
    "try:\n",
    "    int(value)\n",
    "except ValueError:\n",
    "    print(\"Bad value\", value)\n",
    "else:\n",
    "    print(\"in else\")\n",
    "finally:\n",
    "    print(\"in finally\")    "
   ]
  },
  {
   "cell_type": "markdown",
   "id": "67a5f33f",
   "metadata": {},
   "source": [
    "#### Raising Exceptions"
   ]
  },
  {
   "cell_type": "code",
   "execution_count": 258,
   "id": "5b4c18c8",
   "metadata": {},
   "outputs": [],
   "source": [
    "class BankError(Exception):\n",
    "    pass\n",
    "\n",
    "def deposit(amount):\n",
    "    if amount % 100 != 0:\n",
    "        raise BankError(\"The deposit amount must be in multiples of 100\")\n",
    "    print(\"deposited!\")"
   ]
  },
  {
   "cell_type": "code",
   "execution_count": 259,
   "id": "e11c35d3",
   "metadata": {},
   "outputs": [
    {
     "name": "stdout",
     "output_type": "stream",
     "text": [
      "deposited!\n"
     ]
    }
   ],
   "source": [
    "deposit(200)"
   ]
  },
  {
   "cell_type": "code",
   "execution_count": 260,
   "id": "9e6126a1",
   "metadata": {},
   "outputs": [
    {
     "ename": "BankError",
     "evalue": "The deposit amount must be in multiples of 100",
     "output_type": "error",
     "traceback": [
      "\u001b[0;31m---------------------------------------------------------------------------\u001b[0m",
      "\u001b[0;31mBankError\u001b[0m                                 Traceback (most recent call last)",
      "Input \u001b[0;32mIn [260]\u001b[0m, in \u001b[0;36m<module>\u001b[0;34m\u001b[0m\n\u001b[0;32m----> 1\u001b[0m \u001b[43mdeposit\u001b[49m\u001b[43m(\u001b[49m\u001b[38;5;241;43m42\u001b[39;49m\u001b[43m)\u001b[49m\n",
      "Input \u001b[0;32mIn [258]\u001b[0m, in \u001b[0;36mdeposit\u001b[0;34m(amount)\u001b[0m\n\u001b[1;32m      4\u001b[0m \u001b[38;5;28;01mdef\u001b[39;00m \u001b[38;5;21mdeposit\u001b[39m(amount):\n\u001b[1;32m      5\u001b[0m     \u001b[38;5;28;01mif\u001b[39;00m amount \u001b[38;5;241m%\u001b[39m \u001b[38;5;241m100\u001b[39m \u001b[38;5;241m!=\u001b[39m \u001b[38;5;241m0\u001b[39m:\n\u001b[0;32m----> 6\u001b[0m         \u001b[38;5;28;01mraise\u001b[39;00m BankError(\u001b[38;5;124m\"\u001b[39m\u001b[38;5;124mThe deposit amount must be in multiples of 100\u001b[39m\u001b[38;5;124m\"\u001b[39m)\n\u001b[1;32m      7\u001b[0m     \u001b[38;5;28mprint\u001b[39m(\u001b[38;5;124m\"\u001b[39m\u001b[38;5;124mdeposited!\u001b[39m\u001b[38;5;124m\"\u001b[39m)\n",
      "\u001b[0;31mBankError\u001b[0m: The deposit amount must be in multiples of 100"
     ]
    }
   ],
   "source": [
    "deposit(42)"
   ]
  },
  {
   "cell_type": "code",
   "execution_count": null,
   "id": "7f33bbc6",
   "metadata": {},
   "outputs": [],
   "source": []
  }
 ],
 "metadata": {
  "kernelspec": {
   "display_name": "Python 3 (ipykernel)",
   "language": "python",
   "name": "python3"
  },
  "language_info": {
   "codemirror_mode": {
    "name": "ipython",
    "version": 3
   },
   "file_extension": ".py",
   "mimetype": "text/x-python",
   "name": "python",
   "nbconvert_exporter": "python",
   "pygments_lexer": "ipython3",
   "version": "3.10.2"
  }
 },
 "nbformat": 4,
 "nbformat_minor": 5
}
